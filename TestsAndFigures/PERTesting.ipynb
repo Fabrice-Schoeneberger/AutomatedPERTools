{
 "cells": [
  {
   "cell_type": "markdown",
   "metadata": {},
   "source": [
    "# Testing PER functionality\n",
    "This notebook tests the PER functionality using a simple example and a random Pauli noise model. This demsonstrates how the noise scaling procedure described can be used to carry out virtual zero-noise extrapolation for the measuring an observable after running an arbitrary circuit. The results show good agreement with the expected value even though the noise is measured at $[.8,1, 4]$, which are a significant distance from the zero-noise limit. The error in the expectation value is improved from 17% to .002% for one of the expectation values measured. Readout errors are not simulated, the SPAM reduction method does not contribute to this value. This agreement was reached at only 1000 samples from the QPD representation of the noise inverse, with a modest zero-noise overhead of 1.39. Readout errors are not simulated, the noise model is perfectly known, and there is no additional error from twirling, so this represents an ideal picture of the PER functionality."
   ]
  },
  {
   "cell_type": "code",
   "execution_count": 1,
   "metadata": {},
   "outputs": [],
   "source": [
    "from qiskit import QuantumCircuit, Aer\n",
    "from matplotlib import pyplot as plt\n",
    "import sys\n",
    "from itertools import product\n",
    "from qiskit.quantum_info import pauli_basis, Pauli, PTM\n",
    "from qiskit.providers.aer.noise import NoiseModel, pauli_error\n",
    "from qiskit.providers.fake_provider import FakeVigoV2\n",
    "from random import random, choices\n",
    "from scipy.optimize import nnls\n",
    "import numpy as np\n",
    "\n",
    "sys.path.append(\"../pauli_lindblad_per\")\n",
    "from per.perexperiment import PERExperiment\n",
    "from framework.percircuit import PERCircuit\n",
    "from tomography.noisedataframe import NoiseDataFrame\n",
    "from framework.noisemodel import NoiseModel as PauliNoiseModel\n",
    "from primitives.circuit import QiskitCircuit\n",
    "from primitives.pauli import QiskitPauli\n",
    "\n",
    "plt.style.use(\"ggplot\")\n",
    "import matplotlib"
   ]
  },
  {
   "cell_type": "markdown",
   "metadata": {},
   "source": [
    "## Mitigated expectation value\n",
    "This creates an example quantum circuit to mitigate. This example only uses one distinct type of layer for simplicity. The $RZ(\\frac{\\pi}{4})$ gates are chosen to demonstrate how the twirling can be performed even when there are non clifford gates in the circuit. The final measurements in the $X$ basis are not included in the circuit, as these are incorporated separately into the mitigation scheme."
   ]
  },
  {
   "cell_type": "code",
   "execution_count": 2,
   "metadata": {},
   "outputs": [
    {
     "data": {
      "text/html": [
       "<pre style=\"word-wrap: normal;white-space: pre;background: #fff0;line-height: 1.1;font-family: &quot;Courier New&quot;,Courier,monospace\">     ┌───┐┌─────────┐     ┌─────────┐     ┌─────────┐     ┌─────────┐     \n",
       "q_0: ┤ H ├┤ Rz(π/4) ├──■──┤ Rz(π/4) ├──■──┤ Rz(π/4) ├──■──┤ Rz(π/4) ├──■──\n",
       "     ├───┤└─────────┘┌─┴─┐└─────────┘┌─┴─┐└─────────┘┌─┴─┐└─────────┘┌─┴─┐\n",
       "q_1: ┤ H ├───────────┤ X ├───────────┤ X ├───────────┤ X ├───────────┤ X ├\n",
       "     └───┘           └───┘           └───┘           └───┘           └───┘</pre>"
      ],
      "text/plain": [
       "     ┌───┐┌─────────┐     ┌─────────┐     ┌─────────┐     ┌─────────┐     \n",
       "q_0: ┤ H ├┤ Rz(π/4) ├──■──┤ Rz(π/4) ├──■──┤ Rz(π/4) ├──■──┤ Rz(π/4) ├──■──\n",
       "     ├───┤└─────────┘┌─┴─┐└─────────┘┌─┴─┐└─────────┘┌─┴─┐└─────────┘┌─┴─┐\n",
       "q_1: ┤ H ├───────────┤ X ├───────────┤ X ├───────────┤ X ├───────────┤ X ├\n",
       "     └───┘           └───┘           └───┘           └───┘           └───┘"
      ]
     },
     "execution_count": 2,
     "metadata": {},
     "output_type": "execute_result"
    }
   ],
   "source": [
    "qc = QuantumCircuit(2)\n",
    "qc.h(0)\n",
    "qc.h(1)\n",
    "qc.rz(np.pi/4,0)\n",
    "qc.cx(0,1)\n",
    "qc.rz(np.pi/4,0)\n",
    "qc.cx(0,1)\n",
    "qc.rz(np.pi/4,0)\n",
    "qc.cx(0,1)\n",
    "qc.rz(np.pi/4,0)\n",
    "qc.cx(0,1)\n",
    "qc.draw()"
   ]
  },
  {
   "cell_type": "markdown",
   "metadata": {},
   "source": [
    "### Break circuit into layers\n",
    "The circuit is wrapped in a `QiskitCircuit` object, which is an interface used to interact with different circuit representations, such as the qiskit `QuantumCircuit`. The `PERCircuit` object takes care of breaking up the circuit into layers looking like single-qubit layers followed by layers of self-adjoint two-qubit clifford gates with disjoint supports. Although this is part of the private interface, it is illustrated below:"
   ]
  },
  {
   "cell_type": "code",
   "execution_count": 3,
   "metadata": {},
   "outputs": [
    {
     "data": {
      "text/html": [
       "<pre style=\"word-wrap: normal;white-space: pre;background: #fff0;line-height: 1.1;font-family: &quot;Courier New&quot;,Courier,monospace\">     ┌───┐┌─────────┐      ░ ┌─────────┐      ░ ┌─────────┐      ░ ┌─────────┐»\n",
       "q_0: ┤ H ├┤ Rz(π/4) ├──■───░─┤ Rz(π/4) ├──■───░─┤ Rz(π/4) ├──■───░─┤ Rz(π/4) ├»\n",
       "     ├───┤└─────────┘┌─┴─┐ ░ └─────────┘┌─┴─┐ ░ └─────────┘┌─┴─┐ ░ └─────────┘»\n",
       "q_1: ┤ H ├───────────┤ X ├─░────────────┤ X ├─░────────────┤ X ├─░────────────»\n",
       "     └───┘           └───┘ ░            └───┘ ░            └───┘ ░            »\n",
       "«           ░ \n",
       "«q_0: ──■───░─\n",
       "«     ┌─┴─┐ ░ \n",
       "«q_1: ┤ X ├─░─\n",
       "«     └───┘ ░ </pre>"
      ],
      "text/plain": [
       "     ┌───┐┌─────────┐      ░ ┌─────────┐      ░ ┌─────────┐      ░ ┌─────────┐»\n",
       "q_0: ┤ H ├┤ Rz(π/4) ├──■───░─┤ Rz(π/4) ├──■───░─┤ Rz(π/4) ├──■───░─┤ Rz(π/4) ├»\n",
       "     ├───┤└─────────┘┌─┴─┐ ░ └─────────┘┌─┴─┐ ░ └─────────┘┌─┴─┐ ░ └─────────┘»\n",
       "q_1: ┤ H ├───────────┤ X ├─░────────────┤ X ├─░────────────┤ X ├─░────────────»\n",
       "     └───┘           └───┘ ░            └───┘ ░            └───┘ ░            »\n",
       "«           ░ \n",
       "«q_0: ──■───░─\n",
       "«     ┌─┴─┐ ░ \n",
       "«q_1: ┤ X ├─░─\n",
       "«     └───┘ ░ "
      ]
     },
     "execution_count": 3,
     "metadata": {},
     "output_type": "execute_result"
    }
   ],
   "source": [
    "circ = QiskitCircuit(qc)\n",
    "percirc = PERCircuit(circ)\n",
    "\n",
    "drawer = QiskitCircuit(qc).copy_empty()\n",
    "for l in percirc._layers:\n",
    "    drawer.compose(l.single_layer)\n",
    "    drawer.compose(l.cliff_layer)\n",
    "    drawer.barrier()\n",
    "\n",
    "drawer.qc.draw()"
   ]
  },
  {
   "cell_type": "markdown",
   "metadata": {},
   "source": [
    "## Create Noise Model\n",
    "The simulated noise mosel is a random Pauli noise model, used to test the ability of PER to handle arbitrary twirled noise channels. Random Pauli operators are chosen to define the channel, and then the transfer matrix is used to extract the fidelities. Then, the generated error model is processed through the non-negative least squares algorithm to get the ideal noise coefficients."
   ]
  },
  {
   "cell_type": "code",
   "execution_count": 4,
   "metadata": {},
   "outputs": [],
   "source": [
    "num = 4  #number of errors\n",
    "errorops = choices(pauli_basis(2, pauli_list = True), k=num) #choose random pauli errors\n",
    "errorprobs = [random()*.1/num for op in errorops] #assign random probabilities\n",
    "\n",
    "#create normalized error model\n",
    "twoqubit_error = pauli_error([(op, p) for op,p in zip(errorops, errorprobs)]+[(Pauli(\"II\"), 1-sum(errorprobs))])\n",
    "noise_model = NoiseModel()\n",
    "\n",
    "#add error model to two-qubit gates.\n",
    "noise_model.add_all_qubit_quantum_error(twoqubit_error, ['cx','cz'])\n",
    "\n",
    "#Get transfer matrix to find fidelities\n",
    "real_errors = {}\n",
    "transfer_matrix = PTM(twoqubit_error.to_quantumchannel()).data\n",
    "for i,pauli in enumerate(pauli_basis(2, pauli_list = True)):\n",
    "    real_errors[pauli] = transfer_matrix[i][i]\n",
    "\n",
    "#Define the symplectic inner product, get model terms, and generate matrix\n",
    "sprod = lambda a,b: int(not a.commutes(b))\n",
    "model_terms = [QiskitPauli(\"\".join(s)) for s in product(\"IXYZ\", repeat = 2)]\n",
    "m1 = [[sprod(a,b) for a in model_terms] for b in model_terms]\n",
    " \n",
    "#Use least squares algorithm to determine simulated model coefficients from chosen fidelities\n",
    "coeffs, rnorm = nnls(m1, -.5*np.log([real_errors[term.pauli].real for term in model_terms]))"
   ]
  },
  {
   "cell_type": "code",
   "execution_count": 5,
   "metadata": {},
   "outputs": [],
   "source": [
    "#Create a noise model to represent the simulated errors.\n",
    "#This would usually be collected through tomography\n",
    "circuit_layer = percirc._layers[0].cliff_layer\n",
    "nm = PauliNoiseModel(percirc._layers[0].cliff_layer, model_terms[1:], coeffs[1:])\n",
    "\n",
    "#Create ideal readout model with no readout errors\n",
    "single_weights = [QiskitPauli(\"I\"+\"\".join(s)) for s in product(\"XYZ\")] \\\n",
    "    +[QiskitPauli(\"\".join(s)+\"I\") for s in product(\"XYZ\")]\n",
    "\n",
    "#Set up noise model for PER as a NoiseDataFrame\n",
    "readout_model = {p: 1.0 for p in single_weights}\n",
    "noisedataframe = NoiseDataFrame([nm], readout_model)"
   ]
  },
  {
   "cell_type": "code",
   "execution_count": 6,
   "metadata": {},
   "outputs": [],
   "source": [
    "#define a noisy executor\n",
    "def executor(circuits):\n",
    "    return Aer.get_backend(\"qasm_simulator\").run(circuits, noise_model = noise_model, shots = 500).result().get_counts()"
   ]
  },
  {
   "cell_type": "markdown",
   "metadata": {},
   "source": [
    "## Ideal and noisy expectation values\n",
    "In order to measure the effect of mitigation, the ideal expectation values of several operators and the expectations of these operators with no mitigation are simulated here:"
   ]
  },
  {
   "cell_type": "code",
   "execution_count": 7,
   "metadata": {},
   "outputs": [
    {
     "name": "stdout",
     "output_type": "stream",
     "text": [
      "Ideal reasult: {'01': 1024}\n",
      "IX: -1.0\n",
      "XI: 1.0\n"
     ]
    }
   ],
   "source": [
    "meas_circ = qc.copy()\n",
    "meas_circ.h(0)\n",
    "meas_circ.h(1)\n",
    "meas_circ.measure_all()\n",
    "counts = Aer.get_backend(\"qasm_simulator\").run(meas_circ).result().get_counts()\n",
    "shots = sum(counts.values())\n",
    "print(\"Ideal reasult:\", counts)\n",
    "print(\"IX:\", (counts.get('10',0)+counts.get('11',0)-counts.get('00',0)-counts.get('01',0))/shots)\n",
    "print(\"XI:\", (counts.get('01',0)+counts.get('11',0)-counts.get('00',0)-counts.get('10',0))/shots)"
   ]
  },
  {
   "cell_type": "code",
   "execution_count": 22,
   "metadata": {},
   "outputs": [
    {
     "name": "stdout",
     "output_type": "stream",
     "text": [
      "Noisy result: {'00': 29, '01': 448, '10': 11, '11': 12}\n",
      "IX: -0.84\n",
      "XI: 0.908\n"
     ]
    }
   ],
   "source": [
    "noisy_counts = executor(meas_circ)\n",
    "shots = sum(noisy_counts.values())\n",
    "print(\"Noisy result:\", noisy_counts)\n",
    "print(\"IX:\", (noisy_counts.get('00',0)+noisy_counts.get('10',0)-noisy_counts.get('01',0)-noisy_counts.get('11',0))/shots)\n",
    "print(\"XI:\", (noisy_counts.get('00',0)+noisy_counts.get('01',0)-noisy_counts.get('10',0)-noisy_counts.get('11',0))/shots)"
   ]
  },
  {
   "cell_type": "markdown",
   "metadata": {},
   "source": [
    "## Run error mitigation\n",
    "As demonstrated in the tutorial notebook, the error mitigation can be run in several steps:\n",
    "* Create experiment\n",
    "* Generate circuits\n",
    "* Pass to noisy executor\n",
    "* Analyze results\n",
    "    "
   ]
  },
  {
   "cell_type": "code",
   "execution_count": 9,
   "metadata": {},
   "outputs": [
    {
     "name": "stdout",
     "output_type": "stream",
     "text": [
      "1.3932335517637886\n"
     ]
    }
   ],
   "source": [
    "#Create experiment\n",
    "perexp = PERExperiment([qc], [0,1], noisedataframe, FakeVigoV2())\n",
    "\n",
    "#Generate circuits by sampling from twirl + noise inverse\n",
    "perexp.generate(expectations = [\"IX\",\"XI\"], samples = 1000, noise_strengths = [.8,1,4])\n",
    "\n",
    "#run the circuits with the noisy executor\n",
    "perexp.run(executor)\n",
    "\n",
    "#analyze and extract results\n",
    "circuit_results = perexp.analyze()\n",
    "\n",
    "#print total circuit overhead of circuit 1 with no noise\n",
    "print(perexp.get_overhead(0, 0))"
   ]
  },
  {
   "cell_type": "markdown",
   "metadata": {},
   "source": [
    "## Plot expectation values"
   ]
  },
  {
   "cell_type": "code",
   "execution_count": 13,
   "metadata": {},
   "outputs": [
    {
     "name": "stdout",
     "output_type": "stream",
     "text": [
      "Error-Mitigated Expectation: -0.9982563165317633\n"
     ]
    },
    {
     "data": {
      "image/png": "[encoded data removed]",
      "text/plain": [
       "<Figure size 432x288 with 1 Axes>"
      ]
     },
     "metadata": {},
     "output_type": "display_data"
    }
   ],
   "source": [
    "result, = circuit_results\n",
    "IX = result.get_result(\"IX\")\n",
    "ax = IX.plot()\n",
    "plt.title(\"Expectation of IX vs noise strength\")\n",
    "plt.xlabel(\"Noise strength (dimensionless)\")\n",
    "plt.ylabel(\"Expectation value\")\n",
    "print(\"Error-Mitigated Expectation:\",IX.expectation)"
   ]
  },
  {
   "cell_type": "code",
   "execution_count": 14,
   "metadata": {},
   "outputs": [
    {
     "name": "stdout",
     "output_type": "stream",
     "text": [
      "Error-Mitigated Expectation: 0.9930947609238502\n"
     ]
    },
    {
     "data": {
      "image/png": "[encoded data removed]",
      "text/plain": [
       "<Figure size 432x288 with 1 Axes>"
      ]
     },
     "metadata": {},
     "output_type": "display_data"
    }
   ],
   "source": [
    "XI = result.get_result(\"XI\")\n",
    "XI.plot()\n",
    "print(\"Error-Mitigated Expectation:\",XI.expectation)"
   ]
  },
  {
   "cell_type": "code",
   "execution_count": 25,
   "metadata": {},
   "outputs": [
    {
     "name": "stdout",
     "output_type": "stream",
     "text": [
      "IX:\n",
      "ideal result: -1.0\n",
      "noisy result: -0.84\n",
      "Error-Mitigated Expectation: -0.9982563165317633\n",
      "\n",
      "XI:\n",
      "ideal result: 1.0\n",
      "noisy result: 0.908\n",
      "Error-Mitigated Expectation: 0.9930947609238502\n"
     ]
    }
   ],
   "source": [
    "print(\"IX:\")\n",
    "print(\"ideal result:\", (counts.get('10',0)+counts.get('11',0)-counts.get('00',0)-counts.get('01',0))/sum(counts.values()))\n",
    "print(\"noisy result:\", (noisy_counts.get('00',0)+noisy_counts.get('10',0)-noisy_counts.get('01',0)-noisy_counts.get('11',0))/sum(noisy_counts.values()))\n",
    "print(\"Error-Mitigated Expectation:\",IX.expectation)\n",
    "print()\n",
    "print(\"XI:\")\n",
    "print(\"ideal result:\", (counts.get('01',0)+counts.get('11',0)-counts.get('00',0)-counts.get('10',0))/sum(counts.values()))\n",
    "print(\"noisy result:\", (noisy_counts.get('01',0)+noisy_counts.get('00',0)-noisy_counts.get('10',0)-noisy_counts.get('11',0))/sum(noisy_counts.values()))\n",
    "print(\"Error-Mitigated Expectation:\",XI.expectation)"
   ]
  }
 ],
 "metadata": {
  "kernelspec": {
   "display_name": "Python 3.10.4 ('qiskit_env')",
   "language": "python",
   "name": "python3"
  },
  "language_info": {
   "codemirror_mode": {
    "name": "ipython",
    "version": 3
   },
   "file_extension": ".py",
   "mimetype": "text/x-python",
   "name": "python",
   "nbconvert_exporter": "python",
   "pygments_lexer": "ipython3",
   "version": "3.10.4"
  },
  "orig_nbformat": 4,
  "vscode": {
   "interpreter": {
    "hash": "d4803144e0ca2433cbbdbc82809c7bf0c6dd86d5d16291a48205e2d911513c87"
   }
  }
 },
 "nbformat": 4,
 "nbformat_minor": 2
}
