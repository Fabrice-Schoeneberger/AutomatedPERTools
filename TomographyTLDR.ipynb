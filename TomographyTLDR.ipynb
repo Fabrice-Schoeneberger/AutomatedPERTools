{
 "cells": [
  {
   "cell_type": "code",
   "execution_count": 28,
   "metadata": {},
   "outputs": [
    {
     "name": "stdout",
     "output_type": "stream",
     "text": [
      "[0.89258163 0.25078571] [[ 0.0024665  -0.01151035]\n",
      " [-0.01151035  0.08057244]]\n"
     ]
    },
    {
     "data": {
      "text/plain": [
       "<ErrorbarContainer object of 3 artists>"
      ]
     },
     "execution_count": 28,
     "metadata": {},
     "output_type": "execute_result"
    },
    {
     "data": {
      "image/png": "[encoded data removed]",
      "text/plain": [
       "<Figure size 640x480 with 1 Axes>"
      ]
     },
     "metadata": {},
     "output_type": "display_data"
    }
   ],
   "source": [
    "import numpy as np\n",
    "from matplotlib import pyplot as plt\n",
    "from scipy.optimize import curve_fit\n",
    "\n",
    "\n",
    "\n",
    "y = [1,4.0505,8.198]\n",
    "x= [1,2,3]\n",
    "\n",
    "quatfit = lambda x,a,b: a*x**2 +b\n",
    "popt, pcov = curve_fit(\n",
    "    quatfit, x, \n",
    "    y\n",
    "    )\n",
    "print(popt, pcov)\n",
    "plt.plot(x, y, 'o')\n",
    "xlong = np.linspace(0,np.max(x))\n",
    "plt.plot(xlong, [popt[0]*x**2+popt[1] for x in xlong])\n",
    "plt.errorbar(x, [popt[0]*x**2+popt[1] for x in x], [[pcov[0][1]*x**2+popt[1] for x in x],[pcov[0][0]*x**2+popt[1] for x in x]], fmt='o', capsize=5)"
   ]
  },
  {
   "cell_type": "code",
   "execution_count": 38,
   "metadata": {},
   "outputs": [
    {
     "name": "stdout",
     "output_type": "stream",
     "text": [
      "{5: [4, 'a5', 'b']}\n"
     ]
    }
   ],
   "source": [
    "legend = {5: [4]}\n",
    "if legend.get(5,[]) == []:\n",
    "    legend[5] = [\"a\"+str(5)]\n",
    "else:\n",
    "    legend[5] += [\"a\"+str(5)]\n",
    "legend[5] += \"b\"\n",
    "print(legend)"
   ]
  },
  {
   "cell_type": "code",
   "execution_count": 9,
   "metadata": {},
   "outputs": [
    {
     "name": "stdout",
     "output_type": "stream",
     "text": [
      "[[1, 2], [3, 1]]\n"
     ]
    }
   ],
   "source": [
    "a = [[1,2],[3,1],[4,2],[5,6]]\n",
    "b = [i for i in a if 1 in i]\n",
    "print(b)"
   ]
  },
  {
   "cell_type": "code",
   "execution_count": 6,
   "metadata": {},
   "outputs": [],
   "source": [
    "def empty_log(file_path):\n",
    "    with open(file_path, 'w'):\n",
    "        pass\n",
    "#empty_log(\"/home/fabrice/Dokumente/Masterarbeit/AutomatedPERTools/tutorial_notebooks/pauli_lindblad_per/experiment.log\")\n",
    "empty_log(\"tutorial_notebooks\\\\pauli_lindblad_per\\\\experiment.log\")"
   ]
  },
  {
   "cell_type": "code",
   "execution_count": 14,
   "metadata": {},
   "outputs": [
    {
     "name": "stdout",
     "output_type": "stream",
     "text": [
      "2024-07-08 22:42:04,156 Could not load 'ibm_backend': No module named 'qiskit.primitives.containers'\n",
      "2024-07-08 22:42:04,163 Could not load 'ibm_dynamic_circuits': No module named 'qiskit.primitives.containers'\n",
      "2024-07-08 22:42:04,186 Could not load 'ibm_backend': No module named 'qiskit.primitives.containers'\n",
      "2024-07-08 22:42:04,193 Could not load 'ibm_dynamic_circuits': No module named 'qiskit.primitives.containers'\n",
      "2024-07-08 22:42:04,220 Could not load 'ibm_backend': No module named 'qiskit.primitives.containers'\n",
      "2024-07-08 22:42:04,227 Could not load 'ibm_dynamic_circuits': No module named 'qiskit.primitives.containers'\n",
      "2024-07-08 22:42:04,257 Could not load 'ibm_backend': No module named 'qiskit.primitives.containers'\n",
      "2024-07-08 22:42:04,264 Could not load 'ibm_dynamic_circuits': No module named 'qiskit.primitives.containers'\n",
      "2024-07-08 22:42:04,300 Could not load 'ibm_backend': No module named 'qiskit.primitives.containers'\n",
      "2024-07-08 22:42:04,308 Could not load 'ibm_dynamic_circuits': No module named 'qiskit.primitives.containers'\n",
      "2024-07-08 22:42:04,350 Could not load 'ibm_backend': No module named 'qiskit.primitives.containers'\n",
      "2024-07-08 22:42:04,357 Could not load 'ibm_dynamic_circuits': No module named 'qiskit.primitives.containers'\n",
      "2024-07-08 22:42:04,403 Could not load 'ibm_backend': No module named 'qiskit.primitives.containers'\n",
      "2024-07-08 22:42:04,409 Could not load 'ibm_dynamic_circuits': No module named 'qiskit.primitives.containers'\n",
      "2024-07-08 22:42:04,460 Could not load 'ibm_backend': No module named 'qiskit.primitives.containers'\n",
      "2024-07-08 22:42:04,468 Could not load 'ibm_dynamic_circuits': No module named 'qiskit.primitives.containers'\n",
      "2024-07-08 22:42:04,527 Could not load 'ibm_backend': No module named 'qiskit.primitives.containers'\n",
      "2024-07-08 22:42:04,534 Could not load 'ibm_dynamic_circuits': No module named 'qiskit.primitives.containers'\n",
      "2024-07-08 22:42:04,600 Could not load 'ibm_backend': No module named 'qiskit.primitives.containers'\n",
      "2024-07-08 22:42:04,607 Could not load 'ibm_dynamic_circuits': No module named 'qiskit.primitives.containers'\n",
      "2024-07-08 22:42:04,676 Could not load 'ibm_backend': No module named 'qiskit.primitives.containers'\n",
      "2024-07-08 22:42:04,683 Could not load 'ibm_dynamic_circuits': No module named 'qiskit.primitives.containers'\n",
      "2024-07-08 22:42:04,757 Could not load 'ibm_backend': No module named 'qiskit.primitives.containers'\n",
      "2024-07-08 22:42:04,767 Could not load 'ibm_dynamic_circuits': No module named 'qiskit.primitives.containers'\n",
      "2024-07-08 22:42:04,846 Could not load 'ibm_backend': No module named 'qiskit.primitives.containers'\n",
      "2024-07-08 22:42:04,853 Could not load 'ibm_dynamic_circuits': No module named 'qiskit.primitives.containers'\n",
      "2024-07-08 22:42:04,980 Could not load 'ibm_backend': No module named 'qiskit.primitives.containers'\n",
      "2024-07-08 22:42:04,987 Could not load 'ibm_dynamic_circuits': No module named 'qiskit.primitives.containers'\n",
      "2024-07-08 22:42:05,910 Generated layer profile with 2 layers:\n",
      "2024-07-08 22:42:05,910 [\"('cx', (Qubit(QuantumRegister(5, 'q'), 2), Qubit(QuantumRegister(5, 'q'), 1)))\", \"('cx', (Qubit(QuantumRegister(5, 'q'), 3), Qubit(QuantumRegister(5, 'q'), 4)))\"]\n",
      "2024-07-08 22:42:05,910 [\"('cx', (Qubit(QuantumRegister(5, 'q'), 1), Qubit(QuantumRegister(5, 'q'), 3)))\"]\n",
      "2024-07-08 22:42:05,910 [[3, 4], [4, 3], [3, 1], [1, 3], [1, 2], [2, 1], [0, 1], [1, 0]]\n",
      "2024-07-08 22:42:05,910 <rustworkx.PyDiGraph object at 0x0000027356C23100>\n",
      "2024-07-08 22:42:05,911 Created pauli bases\n",
      "2024-07-08 22:42:05,911 ['XXXXI', 'YXXYI', 'ZXXZI', 'XYYXI', 'YYYYI', 'ZYYZI', 'XZZXI', 'YZZYI', 'ZZZZI']\n",
      "2024-07-08 22:42:05,911 Created model with the following terms:\n",
      "2024-07-08 22:42:05,911 {'IIXII', 'IIIXX', 'XXIII', 'YYIII', 'IXIXI', 'ZIIII', 'ZZIII', 'IYIYI', 'IIIYI', 'IIIIY', 'IYIXI', 'YXIII', 'IXIII', 'XZIII', 'XYIII', 'IXIYI', 'IIYZI', 'IZIII', 'XIIII', 'IIZYI', 'IZIZI', 'IYIZI', 'IIIXY', 'IIYII', 'IIXXI', 'IIIYX', 'IIYXI', 'ZXIII', 'IIIYZ', 'IIXZI', 'IIIZI', 'IIIZZ', 'IZIYI', 'IIIIZ', 'IIXYI', 'IIIZX', 'IIYYI', 'IIIXI', 'IIIIX', 'IIIYY', 'YIIII', 'YZIII', 'IIZZI', 'IIIZY', 'IIZXI', 'IXIZI', 'ZYIII', 'IYIII', 'IZIXI', 'IIZII', 'IIIXZ'}\n",
      "2024-07-08 22:42:05,911 51\n",
      "2024-07-08 22:42:05,932 {IIXII: IIXXI, IIIXX: IIIXX, XXIII: IXIII, YYIII: ZXIII, IXIXI: XXIXI, ZIIII: ZZIII, ZZIII: ZIIII, IYIYI: XYZYI, IIIYI: IIZYI, IIIIY: IIIIY, IYIXI: XYIXI, YXIII: ZYIII, IXIII: XXIII, XZIII: XZIII, XYIII: IYIII, IXIYI: XXZYI, IIYZI: IIXYI, IZIII: IZIII, XIIII: XIIII, IIZYI: IIIYI, IZIZI: IZZZI, IYIZI: XYZZI, IIIXY: IIIXY, IIYII: IIYXI, IIXXI: IIXII, IIIYX: IIZYX, IIYXI: IIYII, ZXIII: YYIII, IIIYZ: IIZYZ, IIXZI: IIYYI, IIIZI: IIZZI, IIIZZ: IIZZZ, IZIYI: IZZYI, IIIIZ: IIIIZ, IIXYI: IIYZI, IIIZX: IIZZX, IIYYI: IIXZI, IIIXI: IIIXI, IIIIX: IIIIX, IIIYY: IIZYY, YIIII: YZIII, YZIII: YIIII, IIZZI: IIIZI, IIIZY: IIZZY, IIZXI: IIZXI, IXIZI: XXZZI, ZYIII: YXIII, IYIII: XYIII, IZIXI: IZIXI, IIZII: IIZII, IIIXZ: IIIXZ}\n",
      "2024-07-08 22:42:05,951 {IIXII: IIXII, IIIXX: IXIXX, XXIII: XXIII, YYIII: YYIZI, IXIXI: IIIXI, ZIIII: ZIIII, ZZIII: ZZIZI, IYIYI: IZIXI, IIIYI: IXIYI, IIIIY: IIIIY, IYIXI: IZIYI, YXIII: YXIII, IXIII: IXIII, XZIII: XZIZI, XYIII: XYIZI, IXIYI: IIIYI, IIYZI: IIYZI, IZIII: IZIZI, XIIII: XIIII, IIZYI: IXZYI, IZIZI: IZIII, IYIZI: IYIII, IIIXY: IXIXY, IIYII: IIYII, IIXXI: IXXXI, IIIYX: IXIYX, IIYXI: IXYXI, ZXIII: ZXIII, IIIYZ: IXIYZ, IIXZI: IIXZI, IIIZI: IIIZI, IIIZZ: IIIZZ, IZIYI: IYIXI, IIIIZ: IIIIZ, IIXYI: IXXYI, IIIZX: IIIZX, IIYYI: IXYYI, IIIXI: IXIXI, IIIIX: IIIIX, IIIYY: IXIYY, YIIII: YIIII, YZIII: YZIZI, IIZZI: IIZZI, IIIZY: IIIZY, IIZXI: IXZXI, IXIZI: IXIZI, ZYIII: ZYIZI, IYIII: IYIZI, IZIXI: IYIYI, IIZII: IIZII, IIIXZ: IXIXZ}\n"
     ]
    }
   ],
   "source": [
    "def print_log_file(file_path):\n",
    "    try:\n",
    "        with open(file_path, 'r') as file:\n",
    "            for line in file:\n",
    "                print(line, end='')\n",
    "    except FileNotFoundError:\n",
    "        print(f\"Error: The file '{file_path}' was not found.\")\n",
    "    except Exception as e:\n",
    "        print(f\"An error occurred: {e}\")\n",
    "    #empty_log()\n",
    "#print_log_file(\"/home/fabrice/Dokumente/Masterarbeit/AutomatedPERTools/tutorial_notebooks/pauli_lindblad_per/experiment.log\")\n",
    "print_log_file(\"tutorial_notebooks\\\\pauli_lindblad_per\\\\experiment.log\")"
   ]
  },
  {
   "cell_type": "markdown",
   "metadata": {},
   "source": [
    "### Determination of measurement bases\n",
    "Find the 9 Bases in which we need to measure\n",
    "\n",
    "### Generate the Sparse Model\n",
    "For 2 qubits: Fill in the Pauli I's.\n",
    "For more then 3: ???\n",
    "\n",
    ".evolve(layer) applies the layer to the pauli and gives back the result\n",
    "nophase just removes a - and i\n",
    "\n",
    "### Generate circuit instances for learning\n",
    "Set prep Basis\n",
    "\n",
    "repeat:\n",
    "- Twirl\n",
    "- cnot gate\n",
    "\n",
    "Twirl end\n",
    "\n",
    "Use meas Basis\n",
    "\n",
    "### Get expectation value from single instance\n",
    "Just calculates the expectation value $\\in$ [1,-1]\n",
    "\n",
    "### Test Noise model here:\n",
    "Make it so a Random Pauli gate is performed after every \"cx\" or \"cz\" gate, and make it so that the \"II\" gate has the, by far, highest chance\n",
    "\n",
    "'real_errors' saves the diagonal elements of the transfere matrix, as those are the only ones left after twirling.\n",
    "\n",
    "## Example tomography procedure\n",
    "### Collect data\n",
    "- Generate Circut at different depths\n",
    "- Simulate the circut 'samples' times\n",
    "- Get average over all samples\n",
    "- fit the resulte to the depths with the assumtion that overall fidelity is = (fa^+*fa)^n\n",
    "- take answere at n=2 and have fa^+\\*fa = sqrt((fa^+\\*fa)^n)\n"
   ]
  },
  {
   "cell_type": "markdown",
   "metadata": {},
   "source": [
    "## Full Procedure\n",
    "- Degeneracy: Sometimes we have G and G^+ in the same pool. We don't need both\n",
    "- Why the compose here\n",
    "- Pairs are used for single basis because they can not be combined with anything else. Everything else can be made with deductions between the measurements but not these as they are their own conjugate. So we need to measure the f's seperatly!"
   ]
  }
 ],
 "metadata": {
  "kernelspec": {
   "display_name": ".venv",
   "language": "python",
   "name": "python3"
  },
  "language_info": {
   "codemirror_mode": {
    "name": "ipython",
    "version": 3
   },
   "file_extension": ".py",
   "mimetype": "text/x-python",
   "name": "python",
   "nbconvert_exporter": "python",
   "pygments_lexer": "ipython3",
   "version": "3.10.10"
  }
 },
 "nbformat": 4,
 "nbformat_minor": 2
}
