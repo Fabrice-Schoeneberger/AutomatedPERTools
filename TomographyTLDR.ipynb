{
 "cells": [
  {
   "cell_type": "markdown",
   "metadata": {},
   "source": [
    "### Determination of measurement bases\n",
    "Find the 9 Bases in which we need to measure\n",
    "\n",
    "### Generate the Sparse Model\n",
    "For 2 qubits: Fill in the Pauli I's.\n",
    "For more then 3: ???\n",
    "\n",
    ".evolve(layer) applies the layer to the pauli and gives back the result\n",
    "nophase just removes a - and i\n",
    "\n",
    "### Generate circuit instances for learning\n",
    "Set prep Basis\n",
    "\n",
    "repeat:\n",
    "- Twirl\n",
    "- cnot gate\n",
    "\n",
    "Twirl end\n",
    "\n",
    "Use meas Basis\n",
    "\n",
    "### Get expectation value from single instance\n",
    "Just calculates the expectation value $\\in$ [1,-1]\n",
    "\n",
    "### Test Noise model here:\n",
    "Make it so a Random Pauli gate is performed after every \"cx\" or \"cz\" gate, and make it so that the \"II\" gate has the, by far, highest chance\n",
    "\n",
    "'real_errors' saves the diagonal elements of the transfere matrix, as those are the only ones left after twirling.\n",
    "\n",
    "## Example tomography procedure\n",
    "### Collect data\n",
    "- Generate Circut at different depths\n",
    "- Simulate the circut 'samples' times\n",
    "- Get average over all samples\n",
    "- fit the resulte to the depths with the assumtion that overall fidelity is = (fa^+*fa)^n\n",
    "- take answere at n=2 and have fa^+\\*fa = sqrt((fa^+\\*fa)^n)\n"
   ]
  },
  {
   "cell_type": "markdown",
   "metadata": {},
   "source": [
    "## Full Procedure\n",
    "- Degeneracy: Sometimes we have G and G^+ in the same pool. We don't need both\n",
    "- Why the compose here\n",
    "- Pairs are used for single basis because they can not be combined with anything else. Everything else can be made with deductions between the measurements but not these as they are their own conjugate. So we need to measure the f's seperatly!"
   ]
  }
 ],
 "metadata": {
  "language_info": {
   "name": "python"
  }
 },
 "nbformat": 4,
 "nbformat_minor": 2
}
