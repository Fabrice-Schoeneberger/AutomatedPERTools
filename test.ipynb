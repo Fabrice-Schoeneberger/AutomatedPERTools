{
 "cells": [
  {
   "cell_type": "code",
   "execution_count": 469,
   "metadata": {},
   "outputs": [],
   "source": [
    "import qiskit_aer.noise as noise\n",
    "from qiskit.providers.aer.noise import NoiseModel\n",
    "from qiskit import QuantumCircuit, Aer, execute\n",
    "from qiskit.providers.aer.noise import NoiseModel, depolarizing_error\n",
    "import qiskit.providers.fake_provider as fake_provider # FakeMelbourneV2, FakeCasablancaV2, FakeVigoV2, FakeLagosV2, FakeGuadalupeV2, FakeGuadalupe, FakeGeneva\n",
    "# Zugriff auf die Variablen\n",
    "backend = fake_provider.FakeVigoV2()\n",
    "\n",
    "noise_model = NoiseModel.from_backend(backend)\n",
    "#print(noise_model)\n",
    "#print(noise_model.noise_instructions)\n",
    "#print(noise_model._default_quantum_errors)\n",
    "#print(noise_model._local_quantum_errors)\n",
    "for key in noise_model._local_quantum_errors:\n",
    "    #print(key)\n",
    "    pass\n",
    "#for key in noise_model._local_quantum_errors:\n",
    "key = 'x'\n",
    "for key2 in noise_model._local_quantum_errors[key]:\n",
    "    #print(key, key2, noise_model._local_quantum_errors[key][key2])\n",
    "    pass\n",
    "    #print(key, noise_model._local_quantum_errors[key][(0,)])\n",
    "    pass\n",
    "    #print(\"test\")"
   ]
  },
  {
   "cell_type": "code",
   "execution_count": 470,
   "metadata": {},
   "outputs": [],
   "source": [
    "import random\n",
    "for i in range(100000):\n",
    "    if random.random() < 1/100000:\n",
    "        print(\"Hello\")"
   ]
  },
  {
   "cell_type": "code",
   "execution_count": 471,
   "metadata": {},
   "outputs": [
    {
     "name": "stdout",
     "output_type": "stream",
     "text": [
      "make trotter\n",
      "Qubits set to  {0, 1, 2, 3}\n"
     ]
    },
    {
     "name": "stderr",
     "output_type": "stream",
     "text": [
      "C:\\Users\\fabri\\AppData\\Local\\Temp\\ipykernel_4240\\1203451751.py:51: DeprecationWarning: Back-references to from Bit instances to their containing Registers have been deprecated. Instead, inspect Registers to find their contained Bits.\n",
      "  used_qubits.add(bit.index) #and save those\n"
     ]
    },
    {
     "data": {
      "text/html": [
       "<pre style=\"word-wrap: normal;white-space: pre;background: #fff0;line-height: 1.1;font-family: &quot;Courier New&quot;,Courier,monospace\">     ┌─────────┐                                            \n",
       "q_0: ┤ Rx(0.8) ├──■────────────────■────────────────────────\n",
       "     ├─────────┤┌─┴─┐┌──────────┐┌─┴─┐                      \n",
       "q_1: ┤ Rx(0.8) ├┤ X ├┤ Rz(0.12) ├┤ X ├──■────────────────■──\n",
       "     ├─────────┤└───┘└──────────┘└───┘┌─┴─┐┌──────────┐┌─┴─┐\n",
       "q_2: ┤ Rx(0.8) ├──■────────────────■──┤ X ├┤ Rz(0.12) ├┤ X ├\n",
       "     ├─────────┤┌─┴─┐┌──────────┐┌─┴─┐└───┘└──────────┘└───┘\n",
       "q_3: ┤ Rx(0.8) ├┤ X ├┤ Rz(0.12) ├┤ X ├──────────────────────\n",
       "     └─────────┘└───┘└──────────┘└───┘                      </pre>"
      ],
      "text/plain": [
       "     ┌─────────┐                                            \n",
       "q_0: ┤ Rx(0.8) ├──■────────────────■────────────────────────\n",
       "     ├─────────┤┌─┴─┐┌──────────┐┌─┴─┐                      \n",
       "q_1: ┤ Rx(0.8) ├┤ X ├┤ Rz(0.12) ├┤ X ├──■────────────────■──\n",
       "     ├─────────┤└───┘└──────────┘└───┘┌─┴─┐┌──────────┐┌─┴─┐\n",
       "q_2: ┤ Rx(0.8) ├──■────────────────■──┤ X ├┤ Rz(0.12) ├┤ X ├\n",
       "     ├─────────┤┌─┴─┐┌──────────┐┌─┴─┐└───┘└──────────┘└───┘\n",
       "q_3: ┤ Rx(0.8) ├┤ X ├┤ Rz(0.12) ├┤ X ├──────────────────────\n",
       "     └─────────┘└───┘└──────────┘└───┘                      "
      ]
     },
     "execution_count": 471,
     "metadata": {},
     "output_type": "execute_result"
    }
   ],
   "source": [
    "from qiskit import QuantumCircuit, Aer, transpile\n",
    "from qiskit.providers.fake_provider import FakeMelbourneV2, FakeVigoV2\n",
    "from matplotlib import pyplot as plt\n",
    "import os\n",
    "import sys\n",
    "import numpy as np\n",
    "\n",
    "sys.path.append(\"pauli_lindblad_per\")\n",
    "\n",
    "from tomography.experiment import SparsePauliTomographyExperiment as tomography\n",
    "from primitives.pauli import QiskitPauli\n",
    "\n",
    "plt.style.use(\"ggplot\")\n",
    "\n",
    "backend = FakeVigoV2()\n",
    "\n",
    "# %%\n",
    "qubits= [0,1,2,3]\n",
    "print(\"make trotter\")\n",
    "def trotterLayer(h,J,dt,n):\n",
    "    trotterLayer = QuantumCircuit(4)\n",
    "    trotterLayer.rx(dt*4*h, qubits)\n",
    "    trotterLayer.cx(*zip(*[(qubits[2*i], qubits[2*i+1]) for i in range(n)]))\n",
    "    trotterLayer.rz(-4*J*dt, [qubits[2*i+1] for i in range(n)])\n",
    "    trotterLayer.cx(*zip(*[(qubits[2*i], qubits[2*i+1]) for i in range(n)]))\n",
    "    trotterLayer.cx(*zip(*[(qubits[2*i+1], qubits[2*i+2]) for i in range(n-1)]))\n",
    "    trotterLayer.rz(-4*J*dt, [qubits[2*i+2] for i in range(n-1)])\n",
    "    trotterLayer.cx(*zip(*[(qubits[2*i+1], qubits[2*i+2]) for i in range(n-1)]))\n",
    "    return trotterLayer\n",
    "\n",
    "h = 1\n",
    "J = -.15\n",
    "dt = .2\n",
    "n = 2\n",
    "\n",
    "def maketrotterCircuit(s):\n",
    "    tL = trotterLayer(h, J, dt, n)\n",
    "    trotterCircuit = QuantumCircuit(4)\n",
    "    for i in range(s):\n",
    "        trotterCircuit = trotterCircuit.compose(tL)\n",
    "        trotterCircuit.barrier()\n",
    "\n",
    "    #transpiled = transpile(trotterCircuit, backend)\n",
    "    return tL\n",
    "\n",
    "circuits = [maketrotterCircuit(i) for i in range(1,2)]\n",
    "used_qubits = set()\n",
    "for circuit in circuits: \n",
    "    for c in circuit: #look at the commands\n",
    "        for bit in c.qubits: #record which qubits they use\n",
    "            used_qubits.add(bit.index) #and save those\n",
    "qubits = used_qubits\n",
    "print(\"Qubits set to \", qubits)\n",
    "circuits[0].draw()"
   ]
  },
  {
   "cell_type": "code",
   "execution_count": 472,
   "metadata": {},
   "outputs": [],
   "source": [
    "from primitives.circuit import QiskitCircuit\n",
    "def circuit_to_layers(qc: QiskitCircuit):\n",
    "    layers = []\n",
    "    inst_list = [inst for inst in qc if not inst.ismeas()] \n",
    "\n",
    "    #pop off instructions until inst_list is empty\n",
    "    while inst_list:\n",
    "\n",
    "        circ = qc.copy_empty() #blank circuit to add instructions\n",
    "        layer_qubits = set() #qubits in the support of two-qubit clifford gates\n",
    "\n",
    "        for inst in inst_list.copy(): #iterate through remaining instructions\n",
    "\n",
    "            #check if current instruction overlaps with support of two-qubit gates\n",
    "            #already on layer\n",
    "            if not layer_qubits.intersection(inst.support()):\n",
    "                circ.add_instruction(inst) #add instruction to circuit and pop from list\n",
    "                inst_list.remove(inst)\n",
    "\n",
    "            if inst.weight() == 2:\n",
    "                layer_qubits = layer_qubits.union(inst.support()) #add support to layer\n",
    "\n",
    "        if circ: #append only if not empty\n",
    "            layers.append(circ)\n",
    "\n",
    "    return layers\n",
    "\n",
    "cross_talk_chance = 0.00001\n",
    "def apply_cross_talk(circuit, new_circuits):\n",
    "    import random\n",
    "\n",
    "    if backend.num_qubits != len(circuit.qubits):\n",
    "        circuit = transpile(circuit, backend)\n",
    "\n",
    "    #rebuild the circuit\n",
    "    circ = circuit.copy_empty_like()\n",
    "    # Cut into layer, so you know all 2 qubit gates in one layer are parallel\n",
    "    layers = circuit_to_layers(QiskitCircuit(circuit))\n",
    "    for layer in layers:\n",
    "        # Count up which qubit has the most instructions on it. Assume all instructions take the same time to resolve\n",
    "        qubits = []\n",
    "        for inst in layer:\n",
    "            if inst.weight() == 1:\n",
    "                qubits.append(inst.instruction.qubits)\n",
    "        # Save which qubit is the most gated and also how many gates it has\n",
    "        most_gate_qubit = -1\n",
    "        most_gate_qubit_count = -1\n",
    "        for qubit in set(qubits):\n",
    "            if qubits.count(qubit) > most_gate_qubit_count:\n",
    "                most_gate_qubit_count = qubits.count(qubit)\n",
    "                most_gate_qubit = qubit\n",
    "        # rebuild the circuit\n",
    "        for inst in layer:\n",
    "            inst = inst.instruction\n",
    "            circ.append(inst)\n",
    "            # At every single qubit layer, determined by the most gated qubit, apply a random cnot gate, with chance=cross_talk_chance\n",
    "            if inst.qubits == most_gate_qubit:\n",
    "                for edge in backend.coupling_map: # Every edge has a chance to send noise\n",
    "                    if random.random() < cross_talk_chance: # And every qubit does that individual from one another\n",
    "                        circ.cx(edge[0], edge[1])\n",
    "                    if random.random() < cross_talk_chance: # Order could play a role, but the chance is to low,\n",
    "                        circ.cx(edge[1], edge[0]) # that both hit at the same time, that it is ignored here\n",
    "                        # Another thing to add is: Bydefault, these cnot gates are also noisy themself\n",
    "                        # I consider this an upside, as cross talk noise is also not always the same.\n",
    "        # Multiqubit gates take a longer time to resolve, on average 3 times longer.\n",
    "        # This means, that there are 3 times more chances for a cross talk noise to occure\n",
    "        for edge in backend.coupling_map: \n",
    "            if random.random() < 3*cross_talk_chance: \n",
    "                circ.cx(edge[0], edge[1])\n",
    "            if random.random() < 3*cross_talk_chance: \n",
    "                circ.cx(edge[1], edge[0])\n",
    "    new_circuits.append(circ)"
   ]
  },
  {
   "cell_type": "code",
   "execution_count": 473,
   "metadata": {},
   "outputs": [
    {
     "data": {
      "text/html": [
       "<pre style=\"word-wrap: normal;white-space: pre;background: #fff0;line-height: 1.1;font-family: &quot;Courier New&quot;,Courier,monospace\">                                                                               »\n",
       "ancilla_0 -> 0 ────────────────────────────────────────────────────────────────»\n",
       "               ┌─────────┐┌────┐┌──────────────────────┐┌────┐┌──────────┐┌───┐»\n",
       "      q_1 -> 1 ┤ Rz(π/2) ├┤ √X ├┤ Rz(3.94159265358979) ├┤ √X ├┤ Rz(5π/2) ├┤ X ├»\n",
       "               ├─────────┤├────┤├──────────────────────┤├────┤├──────────┤└─┬─┘»\n",
       "      q_0 -> 2 ┤ Rz(π/2) ├┤ √X ├┤ Rz(3.94159265358979) ├┤ √X ├┤ Rz(5π/2) ├──■──»\n",
       "               ├─────────┤├────┤├──────────────────────┤├────┤├──────────┤     »\n",
       "      q_2 -> 3 ┤ Rz(π/2) ├┤ √X ├┤ Rz(3.94159265358979) ├┤ √X ├┤ Rz(5π/2) ├──■──»\n",
       "               ├─────────┤├────┤├──────────────────────┤├────┤├──────────┤┌─┴─┐»\n",
       "      q_3 -> 4 ┤ Rz(π/2) ├┤ √X ├┤ Rz(3.94159265358979) ├┤ √X ├┤ Rz(5π/2) ├┤ X ├»\n",
       "               └─────────┘└────┘└──────────────────────┘└────┘└──────────┘└───┘»\n",
       "«                                                      \n",
       "«ancilla_0 -> 0 ───────────────────────────────────────\n",
       "«               ┌──────────┐┌───┐                      \n",
       "«      q_1 -> 1 ┤ Rz(0.12) ├┤ X ├──■────────────────■──\n",
       "«               └──────────┘└─┬─┘  │                │  \n",
       "«      q_0 -> 2 ──────────────■────┼────────────────┼──\n",
       "«                                ┌─┴─┐┌──────────┐┌─┴─┐\n",
       "«      q_2 -> 3 ──────────────■──┤ X ├┤ Rz(0.12) ├┤ X ├\n",
       "«               ┌──────────┐┌─┴─┐└───┘└──────────┘└───┘\n",
       "«      q_3 -> 4 ┤ Rz(0.12) ├┤ X ├──────────────────────\n",
       "«               └──────────┘└───┘                      </pre>"
      ],
      "text/plain": [
       "                                                                               »\n",
       "ancilla_0 -> 0 ────────────────────────────────────────────────────────────────»\n",
       "               ┌─────────┐┌────┐┌──────────────────────┐┌────┐┌──────────┐┌───┐»\n",
       "      q_1 -> 1 ┤ Rz(π/2) ├┤ √X ├┤ Rz(3.94159265358979) ├┤ √X ├┤ Rz(5π/2) ├┤ X ├»\n",
       "               ├─────────┤├────┤├──────────────────────┤├────┤├──────────┤└─┬─┘»\n",
       "      q_0 -> 2 ┤ Rz(π/2) ├┤ √X ├┤ Rz(3.94159265358979) ├┤ √X ├┤ Rz(5π/2) ├──■──»\n",
       "               ├─────────┤├────┤├──────────────────────┤├────┤├──────────┤     »\n",
       "      q_2 -> 3 ┤ Rz(π/2) ├┤ √X ├┤ Rz(3.94159265358979) ├┤ √X ├┤ Rz(5π/2) ├──■──»\n",
       "               ├─────────┤├────┤├──────────────────────┤├────┤├──────────┤┌─┴─┐»\n",
       "      q_3 -> 4 ┤ Rz(π/2) ├┤ √X ├┤ Rz(3.94159265358979) ├┤ √X ├┤ Rz(5π/2) ├┤ X ├»\n",
       "               └─────────┘└────┘└──────────────────────┘└────┘└──────────┘└───┘»\n",
       "«                                                      \n",
       "«ancilla_0 -> 0 ───────────────────────────────────────\n",
       "«               ┌──────────┐┌───┐                      \n",
       "«      q_1 -> 1 ┤ Rz(0.12) ├┤ X ├──■────────────────■──\n",
       "«               └──────────┘└─┬─┘  │                │  \n",
       "«      q_0 -> 2 ──────────────■────┼────────────────┼──\n",
       "«                                ┌─┴─┐┌──────────┐┌─┴─┐\n",
       "«      q_2 -> 3 ──────────────■──┤ X ├┤ Rz(0.12) ├┤ X ├\n",
       "«               ┌──────────┐┌─┴─┐└───┘└──────────┘└───┘\n",
       "«      q_3 -> 4 ┤ Rz(0.12) ├┤ X ├──────────────────────\n",
       "«               └──────────┘└───┘                      "
      ]
     },
     "execution_count": 473,
     "metadata": {},
     "output_type": "execute_result"
    }
   ],
   "source": [
    "liste = []\n",
    "qc = circuits[0]\n",
    "qc2 = transpile(qc, backend)\n",
    "qc2.draw()\n"
   ]
  },
  {
   "cell_type": "code",
   "execution_count": 474,
   "metadata": {},
   "outputs": [
    {
     "data": {
      "text/html": [
       "<pre style=\"word-wrap: normal;white-space: pre;background: #fff0;line-height: 1.1;font-family: &quot;Courier New&quot;,Courier,monospace\">                                                                               »\n",
       "ancilla_0 -> 0 ────────────────────────────────────────────────────────────────»\n",
       "               ┌─────────┐┌────┐┌──────────────────────┐┌────┐┌──────────┐┌───┐»\n",
       "      q_1 -> 1 ┤ Rz(π/2) ├┤ √X ├┤ Rz(3.94159265358979) ├┤ √X ├┤ Rz(5π/2) ├┤ X ├»\n",
       "               ├─────────┤├────┤├──────────────────────┤├────┤├──────────┤└─┬─┘»\n",
       "      q_0 -> 2 ┤ Rz(π/2) ├┤ √X ├┤ Rz(3.94159265358979) ├┤ √X ├┤ Rz(5π/2) ├──■──»\n",
       "               ├─────────┤├────┤├──────────────────────┤├────┤├──────────┤     »\n",
       "      q_2 -> 3 ┤ Rz(π/2) ├┤ √X ├┤ Rz(3.94159265358979) ├┤ √X ├┤ Rz(5π/2) ├──■──»\n",
       "               ├─────────┤├────┤├──────────────────────┤├────┤├──────────┤┌─┴─┐»\n",
       "      q_3 -> 4 ┤ Rz(π/2) ├┤ √X ├┤ Rz(3.94159265358979) ├┤ √X ├┤ Rz(5π/2) ├┤ X ├»\n",
       "               └─────────┘└────┘└──────────────────────┘└────┘└──────────┘└───┘»\n",
       "«                                                      \n",
       "«ancilla_0 -> 0 ───────────────────────────────────────\n",
       "«               ┌──────────┐┌───┐                      \n",
       "«      q_1 -> 1 ┤ Rz(0.12) ├┤ X ├──■────────────────■──\n",
       "«               └──────────┘└─┬─┘  │                │  \n",
       "«      q_0 -> 2 ──────────────■────┼────────────────┼──\n",
       "«                                ┌─┴─┐┌──────────┐┌─┴─┐\n",
       "«      q_2 -> 3 ──────────────■──┤ X ├┤ Rz(0.12) ├┤ X ├\n",
       "«               ┌──────────┐┌─┴─┐└───┘└──────────┘└───┘\n",
       "«      q_3 -> 4 ┤ Rz(0.12) ├┤ X ├──────────────────────\n",
       "«               └──────────┘└───┘                      </pre>"
      ],
      "text/plain": [
       "                                                                               »\n",
       "ancilla_0 -> 0 ────────────────────────────────────────────────────────────────»\n",
       "               ┌─────────┐┌────┐┌──────────────────────┐┌────┐┌──────────┐┌───┐»\n",
       "      q_1 -> 1 ┤ Rz(π/2) ├┤ √X ├┤ Rz(3.94159265358979) ├┤ √X ├┤ Rz(5π/2) ├┤ X ├»\n",
       "               ├─────────┤├────┤├──────────────────────┤├────┤├──────────┤└─┬─┘»\n",
       "      q_0 -> 2 ┤ Rz(π/2) ├┤ √X ├┤ Rz(3.94159265358979) ├┤ √X ├┤ Rz(5π/2) ├──■──»\n",
       "               ├─────────┤├────┤├──────────────────────┤├────┤├──────────┤     »\n",
       "      q_2 -> 3 ┤ Rz(π/2) ├┤ √X ├┤ Rz(3.94159265358979) ├┤ √X ├┤ Rz(5π/2) ├──■──»\n",
       "               ├─────────┤├────┤├──────────────────────┤├────┤├──────────┤┌─┴─┐»\n",
       "      q_3 -> 4 ┤ Rz(π/2) ├┤ √X ├┤ Rz(3.94159265358979) ├┤ √X ├┤ Rz(5π/2) ├┤ X ├»\n",
       "               └─────────┘└────┘└──────────────────────┘└────┘└──────────┘└───┘»\n",
       "«                                                      \n",
       "«ancilla_0 -> 0 ───────────────────────────────────────\n",
       "«               ┌──────────┐┌───┐                      \n",
       "«      q_1 -> 1 ┤ Rz(0.12) ├┤ X ├──■────────────────■──\n",
       "«               └──────────┘└─┬─┘  │                │  \n",
       "«      q_0 -> 2 ──────────────■────┼────────────────┼──\n",
       "«                                ┌─┴─┐┌──────────┐┌─┴─┐\n",
       "«      q_2 -> 3 ──────────────■──┤ X ├┤ Rz(0.12) ├┤ X ├\n",
       "«               ┌──────────┐┌─┴─┐└───┘└──────────┘└───┘\n",
       "«      q_3 -> 4 ┤ Rz(0.12) ├┤ X ├──────────────────────\n",
       "«               └──────────┘└───┘                      "
      ]
     },
     "execution_count": 474,
     "metadata": {},
     "output_type": "execute_result"
    },
    {
     "ename": "",
     "evalue": "",
     "output_type": "error",
     "traceback": [
      "\u001b[1;31mThe Kernel crashed while executing code in the current cell or a previous cell. \n",
      "\u001b[1;31mPlease review the code in the cell(s) to identify a possible cause of the failure. \n",
      "\u001b[1;31mClick <a href='https://aka.ms/vscodeJupyterKernelCrash'>here</a> for more info. \n",
      "\u001b[1;31mView Jupyter <a href='command:jupyter.viewOutput'>log</a> for further details."
     ]
    }
   ],
   "source": [
    "apply_cross_talk(qc, liste)\n",
    "liste[0].draw()\n"
   ]
  },
  {
   "cell_type": "code",
   "execution_count": null,
   "metadata": {},
   "outputs": [],
   "source": []
  }
 ],
 "metadata": {
  "kernelspec": {
   "display_name": ".venv",
   "language": "python",
   "name": "python3"
  },
  "language_info": {
   "codemirror_mode": {
    "name": "ipython",
    "version": 3
   },
   "file_extension": ".py",
   "mimetype": "text/x-python",
   "name": "python",
   "nbconvert_exporter": "python",
   "pygments_lexer": "ipython3",
   "version": "3.10.10"
  }
 },
 "nbformat": 4,
 "nbformat_minor": 2
}
