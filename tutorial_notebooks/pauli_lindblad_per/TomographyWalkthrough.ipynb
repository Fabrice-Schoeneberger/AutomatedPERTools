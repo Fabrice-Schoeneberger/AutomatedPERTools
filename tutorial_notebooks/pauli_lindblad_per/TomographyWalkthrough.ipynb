{
 "cells": [
  {
   "cell_type": "markdown",
   "metadata": {},
   "source": [
    "# Learning Procedure Demo Notebook\n",
    "This notebook is a step-by-step illustration of the sparse pauli model learning procedure."
   ]
  },
  {
   "cell_type": "code",
   "execution_count": 61,
   "metadata": {},
   "outputs": [],
   "source": [
    "#Qiskit imports\n",
    "from qiskit import QuantumCircuit, transpile\n",
    "from qiskit.quantum_info import Pauli, pauli_basis, SuperOp, PTM, Operator\n",
    "from qiskit.providers.aer.noise import NoiseModel, pauli_error\n",
    "from qiskit.providers.fake_provider import FakeVigoV2\n",
    "from qiskit.providers.aer import Aer, AerSimulator\n",
    "from random import random\n",
    "\n",
    "#python imports\n",
    "from random import choice, choices\n",
    "from itertools import product, permutations, cycle\n",
    "from scipy.optimize import curve_fit, nnls\n",
    "from matplotlib import pyplot as plt\n",
    "import numpy as np\n",
    "\n",
    "plt.style.use(\"ggplot\")"
   ]
  },
  {
   "cell_type": "markdown",
   "metadata": {},
   "source": [
    "## Setup\n",
    "The procedure takes as input the layer whose associated noise will be learned in the variable `layer`. This layer should include only the noisy gates and context qubits to be benchmarked. The variable `inst_map` stores the indices in order of the layer qubits on the physical hardware. The variable `backend` is required to extract the coupling map."
   ]
  },
  {
   "cell_type": "code",
   "execution_count": 62,
   "metadata": {},
   "outputs": [
    {
     "data": {
      "text/plain": [
       "<qiskit.circuit.instructionset.InstructionSet at 0x758b7da39e10>"
      ]
     },
     "execution_count": 62,
     "metadata": {},
     "output_type": "execute_result"
    }
   ],
   "source": [
    "backend = FakeVigoV2()\n",
    "inst_map = [0,1]\n",
    "n = len(inst_map)\n",
    "layer = QuantumCircuit(n)\n",
    "layer.cx(0,1)"
   ]
  },
  {
   "cell_type": "markdown",
   "metadata": {},
   "source": [
    "## Determination of measurement bases\n",
    "The following cell determines the nine Pauli bases used to make measurements simultaneously. It uses the coupling map from `backend` in conjuction with the procedure described in van den Berg. The output is an array of nine Pauli operators where `inst_map` determines the qubits that correspond to the terms in the Paulis."
   ]
  },
  {
   "cell_type": "code",
   "execution_count": 63,
   "metadata": {},
   "outputs": [
    {
     "name": "stdout",
     "output_type": "stream",
     "text": [
      "0 [['X', 'I'], ['Y', 'I'], ['Z', 'I'], ['X', 'I'], ['Y', 'I'], ['Z', 'I'], ['X', 'I'], ['Y', 'I'], ['Z', 'I']]\n",
      "1 (['X', 'X'], ['X', 'Y'], ['X', 'Z'], ['Y', 'X'], ['Y', 'Y'], ['Y', 'Z'], ['Z', 'X'], ['Z', 'Y'], ['Z', 'Z'])\n",
      "Pauli basis: ['XX', 'XY', 'XZ', 'YX', 'YY', 'YZ', 'ZX', 'ZY', 'ZZ']\n"
     ]
    }
   ],
   "source": [
    "NUM_BASES = 9\n",
    "\n",
    "bases = [['I']*n for i in range(NUM_BASES)]\n",
    "connectivity = backend.coupling_map.graph.subgraph(inst_map)\n",
    "\n",
    "for vertex in range(n):\n",
    "    #copied from Fig. S3 in van den Berg\n",
    "    orderings = {\"XXXYYYZZZ\":\"XYZXYZXYZ\",\n",
    "                        \"XXXYYZZZY\":\"XYZXYZXYZ\",\n",
    "                        \"XXYYYZZZX\":\"XYZXYZXYZ\",\n",
    "                        \"XXZYYZXYZ\":\"XYZXZYZYX\",\n",
    "                        \"XYZXYZXYZ\":\"XYZZXYYZX\"}\n",
    "    \n",
    "    children = connectivity.neighbors(vertex)\n",
    "    predecessors = [c for c in children if c < vertex]\n",
    "\n",
    "    match len(predecessors):\n",
    "        #trivial if no predecessors\n",
    "        case 0:\n",
    "            cycp = cycle(\"XYZ\")\n",
    "            for i,_ in enumerate(bases):\n",
    "                bases[i][vertex] = next(cycp)\n",
    "        #Choose p1:\"XXXYYYZZZ\" and p2:\"XYZXYZXYZ\" if one predecessor\n",
    "        case 1:\n",
    "            pred, = predecessors\n",
    "            #store permutation of indices so that predecessor has X,X,X,Y,Y,Y,Z,Z,Z\n",
    "            _,bases = list(zip(*sorted(zip([p[pred] for p in bases], bases))))\n",
    "            cycp = cycle(\"XYZ\")\n",
    "            for i,_ in enumerate(bases):\n",
    "                bases[i][vertex] = next(cycp)\n",
    "        case 2:\n",
    "            pred0,pred1 = predecessors\n",
    "            _,bases = list(zip(*sorted(zip([p[pred0] for p in bases], bases))))\n",
    "            #list out string with permuted values of predecessor 2\n",
    "            substr = [p[pred0] for p in bases]\n",
    "            #match predecessor two with a permutation of example_orderings\n",
    "            reordering = \"\"\n",
    "            for perm in permutations(\"XYZ\"):\n",
    "                substr = \"\".join([\"XYZ\"[perm.index(p)] for p in substr])\n",
    "                if substr in orderings:\n",
    "                    current = orderings[substr] \n",
    "                    for i,p in enumerate(current):\n",
    "                        bases[i][vertex] = p\n",
    "                    break\n",
    "        case _: #processor needs to have connectivity so that there are <= 2 predecessors\n",
    "            raise Exception(\"Three or more predecessors encountered\")\n",
    "    print(len(predecessors), bases)\n",
    "\n",
    "print(\"Pauli basis:\", [\"\".join(b) for b in bases])\n",
    "bases = [Pauli(\"\".join(string[::-1])) for string in bases]"
   ]
  },
  {
   "cell_type": "markdown",
   "metadata": {},
   "source": [
    "## Generate the Sparse Model\n",
    "This next cell again uses the coupling map from `backend` to find the pauli terms in the sparse model. A set is used because the coupling map is bidirectional."
   ]
  },
  {
   "cell_type": "code",
   "execution_count": 64,
   "metadata": {},
   "outputs": [
    {
     "name": "stdout",
     "output_type": "stream",
     "text": [
      "Model terms: ['IX', 'YI', 'IZ', 'ZX', 'YY', 'ZI', 'ZY', 'YX', 'XY', 'ZZ', 'XX', 'IY', 'YZ', 'XI', 'XZ']\n"
     ]
    }
   ],
   "source": [
    "model_terms = set()\n",
    "identity = Pauli(\"I\"*n)\n",
    "#get all weight-two paulis on with suport on nieghboring qubits\n",
    "for q1,q2 in connectivity.edge_list():\n",
    "        for p1, p2 in pauli_basis(2):\n",
    "            pauli = identity.copy()\n",
    "            pauli[q1] = p1\n",
    "            pauli[q2] = p2\n",
    "            model_terms.add(pauli)\n",
    "\n",
    "model_terms.remove(identity)\n",
    "model_terms = list(model_terms)\n",
    "print(\"Model terms:\", [m.to_label()[::-1] for m in model_terms])"
   ]
  },
  {
   "cell_type": "markdown",
   "metadata": {},
   "source": [
    "The simulator refuses to simulate Pauli instructions that include a global phase, even though there is no clear reason for this. The `nophase` method is used to remove the phase from an operator. The `conjugate` method returns the conjugation of an Pauli operator by the layer."
   ]
  },
  {
   "cell_type": "code",
   "execution_count": 65,
   "metadata": {},
   "outputs": [],
   "source": [
    "#remove the phase from a Pauli\n",
    "def nophase(pauli):\n",
    "    return Pauli((pauli.z, pauli.x))\n",
    "\n",
    "def conjugate(pauli):\n",
    "    return nophase(pauli.evolve(layer))"
   ]
  },
  {
   "cell_type": "markdown",
   "metadata": {},
   "source": [
    "## Generate circuit instances for learning\n",
    "The following method performs the following function:\n",
    "* Compose $B_a$ gates to prepare Pauli operator $P_a$\n",
    "* Add $n$ layers of twirl and repetitions of noisy layer\n",
    "* Invert the pauli frame, and compose $B_b^\\dagger$ and readout gates into last layer\n",
    "\n",
    "The method takes as input the preparation and measurement bases (which can be different for the single measurements), the number of repetitions of the noisy layer, and an optional `transpiled` variable to help with debugging."
   ]
  },
  {
   "cell_type": "code",
   "execution_count": 115,
   "metadata": {},
   "outputs": [],
   "source": [
    "def instance( \n",
    "    prep_basis : Pauli, \n",
    "    meas_basis : Pauli, \n",
    "    noise_repetitions : int, \n",
    "    transpiled=True):\n",
    "\n",
    "    circ = QuantumCircuit(n) #storing the final circuit\n",
    "\n",
    "    #get preparation ops from desired basis \n",
    "    def prep(basis, qubit, qc):\n",
    "        if basis.equiv(Pauli(\"X\")):\n",
    "            qc.h(qubit) \n",
    "        elif basis.equiv(Pauli(\"Y\")):\n",
    "            qc.h(qubit)\n",
    "            qc.s(qubit)\n",
    "\n",
    "    #apply operators to a quantum circuit to measure in desired pauli basis\n",
    "    def meas(basis, qubit, qc):\n",
    "        if basis.equiv(Pauli(\"X\")):\n",
    "            qc.h(qubit)\n",
    "        elif basis.equiv(Pauli(\"Y\")):\n",
    "            qc.sdg(qubit)\n",
    "            qc.h(qubit)\n",
    "\n",
    "\n",
    "    pauli_frame = Pauli(\"I\"*n)\n",
    "\n",
    "    #apply the prep and twirling operators to the circuit\n",
    "    for q,b in enumerate(prep_basis):\n",
    "        prep(b,q,circ)\n",
    "\n",
    "    circ.barrier()\n",
    "\n",
    "    #apply repetitions of noise, including basis-change gates when needed\n",
    "    for i in range(noise_repetitions):\n",
    "\n",
    "        twirl = Pauli(\"\".join(choices(\"IXYZ\", k=n)))\n",
    "        pauli_frame = pauli_frame.compose(twirl)\n",
    "        pauli_frame = conjugate(pauli_frame) \n",
    "\n",
    "        for i,p in enumerate(twirl):\n",
    "            circ.append(p, [i])\n",
    "\n",
    "        circ = circ.compose(layer)\n",
    "        circ.barrier()\n",
    "\n",
    "    #choose sstring of bit flips for readout twirling\n",
    "    rostring = \"\".join(choices(['I','X'], k=n))\n",
    "    for i,p in enumerate(pauli_frame):\n",
    "        circ.append(p, [i])\n",
    "    circ.barrier()\n",
    "    for q,(b,r) in enumerate(zip(meas_basis, rostring)):\n",
    "        meas(b, q, circ)\n",
    "        if r == \"X\":\n",
    "            circ.x(q)\n",
    "\n",
    "    circ.measure_all()\n",
    "\n",
    "    if transpiled:\n",
    "        circ = transpile(circ, backend, inst_map=inst_map, optimization_level = 1)\n",
    "\n",
    "    circ.metadata = {\n",
    "        \"prep_basis\":prep_basis,\n",
    "            \"meas_basis\":meas_basis, \n",
    "            \"depth\":noise_repetitions, \n",
    "            \"rostring\":rostring[::-1],\n",
    "            }\n",
    "\n",
    "    return circ "
   ]
  },
  {
   "cell_type": "code",
   "execution_count": 148,
   "metadata": {},
   "outputs": [
    {
     "data": {
      "text/html": [
       "<pre style=\"word-wrap: normal;white-space: pre;background: #fff0;line-height: 1.1;font-family: &quot;Courier New&quot;,Courier,monospace\">              ░ ┌───┐      ░ ┌───┐      ░ ┌───┐ ░ ┌───┐      ░ ┌─┐   \n",
       "   q_0: ──────░─┤ Z ├──■───░─┤ Z ├──■───░─┤ I ├─░─┤ X ├──────░─┤M├───\n",
       "        ┌───┐ ░ ├───┤┌─┴─┐ ░ ├───┤┌─┴─┐ ░ ├───┤ ░ ├───┤┌───┐ ░ └╥┘┌─┐\n",
       "   q_1: ┤ H ├─░─┤ Y ├┤ X ├─░─┤ I ├┤ X ├─░─┤ Y ├─░─┤ H ├┤ X ├─░──╫─┤M├\n",
       "        └───┘ ░ └───┘└───┘ ░ └───┘└───┘ ░ └───┘ ░ └───┘└───┘ ░  ║ └╥┘\n",
       "meas: 2/════════════════════════════════════════════════════════╩══╩═\n",
       "                                                                0  1 </pre>"
      ],
      "text/plain": [
       "              ░ ┌───┐      ░ ┌───┐      ░ ┌───┐ ░ ┌───┐      ░ ┌─┐   \n",
       "   q_0: ──────░─┤ Z ├──■───░─┤ Z ├──■───░─┤ I ├─░─┤ X ├──────░─┤M├───\n",
       "        ┌───┐ ░ ├───┤┌─┴─┐ ░ ├───┤┌─┴─┐ ░ ├───┤ ░ ├───┤┌───┐ ░ └╥┘┌─┐\n",
       "   q_1: ┤ H ├─░─┤ Y ├┤ X ├─░─┤ I ├┤ X ├─░─┤ Y ├─░─┤ H ├┤ X ├─░──╫─┤M├\n",
       "        └───┘ ░ └───┘└───┘ ░ └───┘└───┘ ░ └───┘ ░ └───┘└───┘ ░  ║ └╥┘\n",
       "meas: 2/════════════════════════════════════════════════════════╩══╩═\n",
       "                                                                0  1 "
      ]
     },
     "execution_count": 148,
     "metadata": {},
     "output_type": "execute_result"
    }
   ],
   "source": [
    "instance(Pauli(\"XZ\"), Pauli(\"XZ\"),2,transpiled=False).draw()"
   ]
  },
  {
   "cell_type": "markdown",
   "metadata": {},
   "source": [
    "### Get expectation value from single instance\n",
    "\n",
    "The following method is used to parse a `Counts` object. The readout result is flipped by the readout twirling, the specific choice of which is recovered from the circuit metadata. Then the overlap with the Pauli being measured in the computational basis is computed."
   ]
  },
  {
   "cell_type": "code",
   "execution_count": 150,
   "metadata": {},
   "outputs": [],
   "source": [
    "def get_expectation(pauli, **metadata):\n",
    "        estimator = 0\n",
    "        counts = metadata['counts']\n",
    "        rostring = metadata['rostring']\n",
    "        #compute locations of non-idetity terms (reversed indexing)\n",
    "        pz = list(reversed([{Pauli(\"I\"):'0'}.get(p,'1') for p in pauli]))\n",
    "        #compute estimator\n",
    "        for key in counts.keys():\n",
    "            #untwirl the readout\n",
    "            ro_untwirled = [{'0':'1','1':'0'}[bit] if flip==\"X\" else bit for bit,flip in zip(key,rostring)]\n",
    "            #compute the overlap in the computational basis\n",
    "            sgn = sum([{('1','1'):1}.get((pauli_bit, key_bit), 0) for pauli_bit, key_bit in zip(pz, ro_untwirled)])\n",
    "            #update estimator\n",
    "            estimator += (-1)**sgn*counts[key]\n",
    "\n",
    "        return estimator/sum(counts.values())"
   ]
  },
  {
   "cell_type": "markdown",
   "metadata": {},
   "source": [
    "### Test noise model generation\n",
    "A test noise model is used to compare the efficacy of the procedure against known values. This is done by randomly choosing values for different pauli operators to create a random pauli noise model. A better way to do this would be to incorporate a non-pauli channel so that the twirl can be tested, but the diagonalization of the twirl can also be verified on the non-Pauli noise model of the simulator."
   ]
  },
  {
   "cell_type": "code",
   "execution_count": 151,
   "metadata": {},
   "outputs": [],
   "source": [
    "sim = Aer.get_backend('qasm_simulator') #initialize simulator"
   ]
  },
  {
   "cell_type": "markdown",
   "metadata": {},
   "source": [
    "The noise model needs to have the biggest discrepancy possible between different fidelities. This could be accomplished by adjusting the fidelities directly, but since the model is random, this way works as well. `num` determines the number of different errors that are simulated. There was no motivation for choosing the value `.1.` to multiply the error probability other than creating errors that seemed physically realistic.\n",
    "\n",
    "In the actual procedure, the noise of dressed cycles will be learned, which includes the twirl. Here, there is no single-qubit noise simulated, because in the simulation it introduces a significant amount of SPAM noise, specifically state preparation noise, and it is hard to make accurate predictions about the result. "
   ]
  },
  {
   "cell_type": "code",
   "execution_count": 156,
   "metadata": {},
   "outputs": [
    {
     "data": {
      "text/plain": [
       "Text(0, 0.5, '10 x (1-f)')"
      ]
     },
     "execution_count": 156,
     "metadata": {},
     "output_type": "execute_result"
    },
    {
     "data": {
      "image/png": "[encoded data removed]",
      "text/plain": [
       "<Figure size 640x480 with 1 Axes>"
      ]
     },
     "metadata": {},
     "output_type": "display_data"
    }
   ],
   "source": [
    "num = 4  #number of errors\n",
    "errorops = choices(pauli_basis(2), k=num) #choose random pauli errors\n",
    "errorprobs = [random()*.1/num for op in errorops] #assign random probabilities\n",
    "#create normalized error model\n",
    "twoqubit_error = pauli_error([(op, p) for op,p in zip(errorops, errorprobs)]+[(Pauli(\"II\"), 1-sum(errorprobs))])\n",
    "noise_model = NoiseModel()\n",
    "#add error model to two-qubit gates.\n",
    "noise_model.add_all_qubit_quantum_error(twoqubit_error, ['cx','cz'])\n",
    "\n",
    "real_errors = {}\n",
    "transfer_matrix = PTM(twoqubit_error.to_quantumchannel()).data\n",
    "for i,pauli in enumerate(pauli_basis(2)):\n",
    "    real_errors[pauli] = transfer_matrix[i][i]\n",
    "    plt.bar(pauli.to_label(), 10*(1-transfer_matrix[i][i]).real, color=\"tab:blue\")\n",
    "\n",
    "plt.title(\"Random Pauli Fidelitites\")\n",
    "plt.xlabel(\"Pauli\")\n",
    "plt.ylabel(\"10 x (1-f)\")"
   ]
  },
  {
   "cell_type": "markdown",
   "metadata": {},
   "source": [
    "## Example tomography procedure\n",
    "The next few cells give an example of tomography of a single fidelity using the methods above.\n",
    "\n",
    "### Collect data"
   ]
  },
  {
   "cell_type": "code",
   "execution_count": 24,
   "metadata": {},
   "outputs": [
    {
     "name": "stdout",
     "output_type": "stream",
     "text": [
      "depth: 2 samples: 27\r"
     ]
    },
    {
     "name": "stdout",
     "output_type": "stream",
     "text": [
      "depth: 32 samples: 32\r"
     ]
    }
   ],
   "source": [
    "depths = [0,2,4,8,16,32] #levels of noise repetition\n",
    "results = []\n",
    "samples = 32 #number of samples to take from twirl\n",
    "shots = 250\n",
    "pauli = Pauli(\"YY\") #pauli pair to measure\n",
    "for d in depths:\n",
    "    result = 0\n",
    "    for t in range(samples):\n",
    "        circ = instance(pauli, pauli,d,transpiled=False) #generate instance\n",
    "        counts = sim.run(circ, shots = shots, noise_model = noise_model).result().get_counts() #get counts\n",
    "        result += get_expectation(pauli, counts = counts, rostring = circ.metadata['rostring']) #compute expectation\n",
    "        print(\"depth:\", d,\"samples:\",t+1, end='\\r')\n",
    "    results.append(result/samples)"
   ]
  },
  {
   "cell_type": "markdown",
   "metadata": {},
   "source": [
    "### Perform fit"
   ]
  },
  {
   "cell_type": "code",
   "execution_count": 25,
   "metadata": {},
   "outputs": [
    {
     "name": "stdout",
     "output_type": "stream",
     "text": [
      "measured pair: 0.9617331262784858 ideal pair: 0.9599981724116164\n"
     ]
    }
   ],
   "source": [
    "expfit = lambda x,a,b: a*np.exp(-b*x)\n",
    "popt, pcov = curve_fit(expfit, depths, results, p0=[.9,.01])\n",
    "print(\"measured pair:\",np.exp(-popt[1]), \"ideal pair:\", np.sqrt(real_errors[pauli]*real_errors[conjugate(pauli)]).real)"
   ]
  },
  {
   "cell_type": "markdown",
   "metadata": {},
   "source": [
    "### Graph result"
   ]
  },
  {
   "cell_type": "code",
   "execution_count": 26,
   "metadata": {},
   "outputs": [
    {
     "data": {
      "text/plain": [
       "Text(0.5, 0, 'Noise repetitions')"
      ]
     },
     "execution_count": 26,
     "metadata": {},
     "output_type": "execute_result"
    },
    {
     "data": {
      "image/png": "[encoded data removed]",
      "text/plain": [
       "<Figure size 640x480 with 1 Axes>"
      ]
     },
     "metadata": {},
     "output_type": "display_data"
    }
   ],
   "source": [
    "xrange = np.linspace(0,np.max(depths),100)\n",
    "plt.plot(xrange,[expfit(x,*popt) for x in xrange])\n",
    "plt.plot(depths,results, \"X\")\n",
    "plt.title(\"Fidelity of \"+pauli.to_label()+\",\"+conjugate(pauli).to_label()+ \" pair\")\n",
    "plt.ylabel(\"Fidelity\")\n",
    "plt.xlabel(\"Noise repetitions\")"
   ]
  },
  {
   "cell_type": "markdown",
   "metadata": {},
   "source": [
    "## Full Procedure\n",
    "The code below shows how all of the measurements can be carried out together and the results processed to obtain the noise model.\n",
    "\n",
    "### Simultanous single measurements\n",
    "First, there is a degeneracy in the model. The intuition for this is a degeneracy is created if a pair appears twice. This causes $M$ to have two duplicate columns, which results in a non-invertible matrix. A pair appears twice whenever a pauli and its pair are non-equal and both appear in the sparse model.\n",
    "\n",
    "The degeneracy-lifting measurements can be made with only six different basis. This is becuase terms with support on disjoint gates don't affect eachother, and therefore can be measured simultaneously. There are two single-weight Paulis on each gate which are stablized by the Clifford, leaving four single-weight Pauli terms that require measurements. In addition, there are two weight-two Pauli terms requiring degeneracy lifting. This is where I ran into issues with choosing the single-qubit gates, but these two extra measurements do not affect the complexity of the procedure or theoretically the accuracy of the result either unless more than two points are used for the exponential fit."
   ]
  },
  {
   "cell_type": "code",
   "execution_count": 27,
   "metadata": {},
   "outputs": [
    {
     "name": "stdout",
     "output_type": "stream",
     "text": [
      "bases for singles:  [Pauli('XX'), Pauli('YY'), Pauli('ZZ'), Pauli('YZ'), Pauli('YX'), Pauli('IY')]\n"
     ]
    }
   ],
   "source": [
    "def weight(pauli):\n",
    "    return len([p for p in pauli if not p==Pauli(\"I\")])\n",
    "\n",
    "#return True if Paulis differ by \"I\"s only\n",
    "def disjoint(pauli1, pauli2):\n",
    "    return all([p1==p2 or (p1 == Pauli(\"I\") or p2 == Pauli(\"I\")) for p1,p2 in zip(pauli1, pauli2)])\n",
    "\n",
    "#return True if pauli requires a degeracy lifting measurement based on the conditions described above\n",
    "def is_single(pauli):\n",
    "    pair = conjugate(pauli)\n",
    "    return (pauli in model_terms and pair in model_terms) and pauli != pair\n",
    "\n",
    "#find disjoint operators that can be measured simultaneously to find six bases\n",
    "pairs = set([frozenset([p,conjugate(p)]) for p in model_terms if is_single(p)])\n",
    "single_bases = []\n",
    "for p1,p2 in pairs:\n",
    "    for i,pauli in enumerate(single_bases):\n",
    "        if disjoint(pauli, p1) and disjoint(pauli, p2):\n",
    "            single_bases[i] = nophase(pauli.compose(p2))\n",
    "            break\n",
    "    else:\n",
    "        single_bases.append(p2)\n",
    "\n",
    "print(\"bases for singles: \",single_bases)"
   ]
  },
  {
   "cell_type": "markdown",
   "metadata": {},
   "source": [
    "### Generate circuits\n",
    "This cell generates the required number of samples at different depths using the nine pauli bases and the single degeneracy-lifting measurements in the six bases computed above."
   ]
  },
  {
   "cell_type": "code",
   "execution_count": 28,
   "metadata": {},
   "outputs": [
    {
     "name": "stdout",
     "output_type": "stream",
     "text": [
      "2 / 2940\r"
     ]
    },
    {
     "name": "stderr",
     "output_type": "stream",
     "text": [
      "/tmp/ipykernel_39410/3403730762.py:58: DeprecationWarning: Passing in a list of arguments for inst_map is deprecated and will no longer work starting in the 0.25.0 release.\n",
      "  circ = transpile(circ, backend, inst_map=inst_map, optimization_level = 1)\n"
     ]
    },
    {
     "name": "stdout",
     "output_type": "stream",
     "text": [
      "2940 / 2940\r"
     ]
    }
   ],
   "source": [
    "SINGLE = 1\n",
    "circuits = []\n",
    "depths = [2,4,8,16,32]\n",
    "samples = [32]*len(depths)\n",
    "single_samples = 250\n",
    "total = len(bases)*sum(samples)+len(single_bases)*single_samples\n",
    "\n",
    "j=0\n",
    "for basis, (d,s) in product(bases, zip(depths,samples)):\n",
    "    for i in range(s):\n",
    "        circ = instance(basis, basis, d)\n",
    "        circ.metadata[\"type\"] = \"double\"\n",
    "        circuits.append(circ)\n",
    "\n",
    "        j+=1\n",
    "        print(j,\"/\",total, end='\\r')\n",
    "\n",
    "for basis, s in product(single_bases, range(single_samples)):\n",
    "    circ = instance(conjugate(basis),basis,SINGLE)\n",
    "    circ.metadata[\"type\"] = \"single\"\n",
    "    circuits.append(circ)\n",
    "\n",
    "    j+=1\n",
    "    print(j,\"/\",total, end='\\r')"
   ]
  },
  {
   "cell_type": "markdown",
   "metadata": {},
   "source": [
    "### Get results\n",
    "Once the circuits are generated, they can be submitted as an array in no particular order directly to the processor"
   ]
  },
  {
   "cell_type": "code",
   "execution_count": 29,
   "metadata": {},
   "outputs": [],
   "source": [
    "results = sim.run(circuits, shots=1000, noise_model = noise_model).result().get_counts()"
   ]
  },
  {
   "cell_type": "markdown",
   "metadata": {},
   "source": [
    "## Analysis\n",
    "The cells below show the anlysis of the data obtained from a run of the procedure.\n",
    "\n",
    "The `sim_meas` method below determines how many model terms can be measured simultaneously given a basis."
   ]
  },
  {
   "cell_type": "code",
   "execution_count": 30,
   "metadata": {},
   "outputs": [],
   "source": [
    "#Shows whether two pauli operators can be measured simultaneously\n",
    "def simultaneous(pauli1, pauli2):\n",
    "    return all([p1==p2 or p2 == Pauli(\"I\") for p1,p2 in zip(pauli1, pauli2)])\n",
    "\n",
    "#Gives a list of all terms in the model that can be measured simultaneously with pauli\n",
    "def sim_meas(pauli):\n",
    "    return [term for term in model_terms if simultaneous(pauli, term)]\n",
    "\n",
    "#Gives a list of all terms, in the sparse model or not, that can be measured simultaneously\n",
    "#This is used to overdeteremine the model, but since it grows as 2^n, this method can always be\n",
    "#replaced with sim_meas\n",
    "def all_sim_meas(pauli):\n",
    "    return [Pauli(\"\".join(p)) for p in product(*zip(pauli.to_label(), \"I\"*n))]\n",
    "#all_sim_meas = sim_meas"
   ]
  },
  {
   "cell_type": "markdown",
   "metadata": {},
   "source": [
    "Sort the run data into singles and doubles measurements, becuase each require slightly different analysis procedures."
   ]
  },
  {
   "cell_type": "code",
   "execution_count": 31,
   "metadata": {},
   "outputs": [],
   "source": [
    "#Sort into single and double measurements\n",
    "for res,circ in zip(results, circuits):\n",
    "    circ.metadata[\"counts\"] = res\n",
    "\n",
    "singles = []\n",
    "doubles = []\n",
    "for circ in circuits:\n",
    "    datum = circ.metadata\n",
    "    type = datum[\"type\"]\n",
    "    datum.pop(\"type\")\n",
    "    if type == \"single\":\n",
    "        singles.append(datum)\n",
    "    elif type == \"double\":\n",
    "        doubles.append(datum)"
   ]
  },
  {
   "cell_type": "markdown",
   "metadata": {},
   "source": [
    "Restructure data into `basis_dict` as a dictionary whose keys are model terms containing the expectation value taken at each depth, the preparation and measurement basis, and the total number of measurements that were made (included because single-weight are measured with multiple bases)"
   ]
  },
  {
   "cell_type": "code",
   "execution_count": 32,
   "metadata": {},
   "outputs": [],
   "source": [
    "#reorder by measurement basis\n",
    "basis_dict = {}\n",
    "#improve execution time by storing runs of all_sim_meas for each basis\n",
    "sim_measurements = {}\n",
    "for datum in doubles:\n",
    "    #get run data\n",
    "    basis = datum['prep_basis']\n",
    "    depth = datum['depth']\n",
    "    #find simultaneous measurements\n",
    "    if not basis in sim_measurements:\n",
    "        sim_measurements[basis] = all_sim_meas(basis)\n",
    "    #aggregate expectation value data for each simultaneous measurement\n",
    "    for pauli in sim_measurements[basis]:\n",
    "        expectation = get_expectation(pauli, **datum)\n",
    "        #set up dictionary\n",
    "        if not pauli in basis_dict:\n",
    "            basis_dict[pauli] = {\"expectation\":[0 for d in depths], \"total\":[0 for d in depths]}\n",
    "        #add expectation value to result at depth\n",
    "        basis_dict[pauli][\"expectation\"][depths.index(depth)] += expectation\n",
    "        basis_dict[pauli][\"total\"][depths.index(depth)] += 1"
   ]
  },
  {
   "cell_type": "markdown",
   "metadata": {},
   "source": [
    "Use curve-fits to determine all fidelity pairs and extract SPAM coefficients from the intercepts of the fits."
   ]
  },
  {
   "cell_type": "code",
   "execution_count": 33,
   "metadata": {},
   "outputs": [],
   "source": [
    "expfit = lambda x,a,b : a*np.exp(x*-b)\n",
    "#for each of the simultaneous measurements\n",
    "for key in basis_dict.keys():\n",
    "    for i,d in enumerate(depths):\n",
    "        #divide by total\n",
    "        basis_dict[key][\"expectation\"][i] /= basis_dict[key][\"total\"][i]\n",
    "    #try finding exponential fit, default to ideal if no fit found\n",
    "    try:\n",
    "        popt, pcov = curve_fit(expfit, depths, basis_dict[key][\"expectation\"], p0=[.9,.01])\n",
    "    except:\n",
    "        popt = 1,0\n",
    "\n",
    "    #store fidelity and SPAM coefficients\n",
    "    basis_dict[key][\"fidelity\"] = expfit(1,1,popt[1])\n",
    "    basis_dict[key][\"SPAM\"] = popt[0]\n",
    "\n",
    "    #record whether measurement appears as a pair or as a single fidelity\n",
    "    if key != conjugate(key):\n",
    "        basis_dict[key][\"type\"] = \"pair\"\n",
    "    else:\n",
    "        basis_dict[key][\"type\"] = \"single\""
   ]
  },
  {
   "cell_type": "markdown",
   "metadata": {},
   "source": [
    "Aggregate the results of the simultanous single measurements to lift the degeneracy in the model"
   ]
  },
  {
   "cell_type": "code",
   "execution_count": 34,
   "metadata": {},
   "outputs": [],
   "source": [
    "singles_dict = {} #store results of single measurements\n",
    "sim_measurements = {}\n",
    "for datum in singles:\n",
    "    meas_basis = datum['meas_basis']\n",
    "    prep_basis = datum['prep_basis']\n",
    "    #find terms that can be measured simultaneously\n",
    "    if not meas_basis in sim_measurements:\n",
    "        sim_measurements[meas_basis] = []\n",
    "        for term in model_terms:\n",
    "            if simultaneous(meas_basis, term) and simultaneous(prep_basis, conjugate(term)) and is_single(term):\n",
    "                sim_measurements[meas_basis].append(term)\n",
    "    #aggregate data together\n",
    "    for meas in sim_measurements[meas_basis]:\n",
    "        if meas not in singles_dict:\n",
    "            singles_dict[meas] = 0\n",
    "        expectation = get_expectation(meas, **datum)\n",
    "        #the measurement basis SPAM coefficients are closer because the readout noise, combined\n",
    "        #with the noise from the last layer, is greater than the state preparation noise\n",
    "        fidelity = np.min([1.0,np.abs(expectation)/basis_dict[meas][\"SPAM\"]])\n",
    "        singles_dict[meas] += fidelity/single_samples\n",
    "\n",
    "#add singles data to basis_dict\n",
    "for key in singles_dict.keys():\n",
    "    basis_dict[key]['fidelity'] = singles_dict[key]\n",
    "    basis_dict[key]['type'] = \"single\""
   ]
  },
  {
   "cell_type": "markdown",
   "metadata": {},
   "source": [
    "## Results"
   ]
  },
  {
   "cell_type": "code",
   "execution_count": 35,
   "metadata": {},
   "outputs": [],
   "source": [
    "#graph a subset of the measured expectation values and plot fits\n",
    "def graph(*paulis):\n",
    "    colcy = cycle([\"tab:blue\", \"tab:orange\", \"tab:green\", \"tab:red\", \"tab:purple\", \"tab:cyan\", \"tab:brown\", \"tab:pink\", \"tab:gray\", \"tab:olive\"])\n",
    "    for p in paulis:\n",
    "        c = next(colcy)\n",
    "        data = basis_dict[p]['expectation']\n",
    "        popt, pcov = curve_fit(expfit, depths, data, p0=[.9,.01])\n",
    "        xrange = np.linspace(0,np.max(depths))\n",
    "        plt.plot(xrange, [expfit(x, *popt) for x in xrange], color=c)\n",
    "        plt.plot(depths, data, color = c, marker=\"o\", linestyle = 'None')\n",
    "    plt.title(\"Expectation vs Depth\")\n",
    "    plt.xlabel(\"Depth\")\n",
    "    plt.ylabel(\"Fidelity\")\n",
    "\n",
    "#display the measured fidelities plotted against the ideal fidelitites\n",
    "def display(*paulis):\n",
    "    ax = np.arange(len(paulis))\n",
    "    fidelities = []\n",
    "    fidelities_calculated = []\n",
    "    for p in paulis:\n",
    "        fid = basis_dict[p]['fidelity']\n",
    "        if(basis_dict[p]['type'] == 'pair'):\n",
    "            pair = conjugate(p)\n",
    "            fid = fid**2/basis_dict[pair]['fidelity']\n",
    "        fidelities.append(fid)\n",
    "        fidelities_calculated.append(real_errors[p])\n",
    "    plt.bar(ax+.2, [10*(1-f) for f in fidelities], .4,color='tab:blue')\n",
    "    plt.bar(ax-.2, [10*(1-f) for f in fidelities_calculated],.4, color='tab:green')\n",
    "    plt.xticks(ax, paulis)\n",
    "    plt.title(\"Measured vs Actual Fidelitites\")\n",
    "    plt.xlabel(\"Term\")\n",
    "    plt.ylabel(\"10 x (1-f)\")\n",
    "    plt.legend([\"Measured\", \"Ideal\"])"
   ]
  },
  {
   "cell_type": "code",
   "execution_count": 36,
   "metadata": {},
   "outputs": [
    {
     "name": "stderr",
     "output_type": "stream",
     "text": [
      "/home/users/fabricesch/Documents/AutomatedPERTools/AutomatedPERTools-workfile/.venv/lib/python3.11/site-packages/matplotlib/cbook.py:1762: ComplexWarning: Casting complex values to real discards the imaginary part\n",
      "  return math.isfinite(val)\n",
      "/home/users/fabricesch/Documents/AutomatedPERTools/AutomatedPERTools-workfile/.venv/lib/python3.11/site-packages/matplotlib/transforms.py:767: ComplexWarning: Casting complex values to real discards the imaginary part\n",
      "  points = np.asarray(points, float)\n",
      "/home/users/fabricesch/Documents/AutomatedPERTools/AutomatedPERTools-workfile/.venv/lib/python3.11/site-packages/matplotlib/transforms.py:767: ComplexWarning: Casting complex values to real discards the imaginary part\n",
      "  points = np.asarray(points, float)\n"
     ]
    },
    {
     "data": {
      "image/png": "[encoded data removed]",
      "text/plain": [
       "<Figure size 640x480 with 1 Axes>"
      ]
     },
     "metadata": {},
     "output_type": "display_data"
    }
   ],
   "source": [
    "display(*model_terms)"
   ]
  },
  {
   "cell_type": "markdown",
   "metadata": {},
   "source": [
    "### Learn model terms\n",
    "The lists $F_1$ and $F_2$ can be constructed in the following way: First, $F_1$ is chosen to be $F$, the set of sparse model terms. The list $F_2$ is chosen to be the same as $F_1$ if the single fidelity is known, and changes to the conjugate fidelity if a pair is known."
   ]
  },
  {
   "cell_type": "code",
   "execution_count": 37,
   "metadata": {},
   "outputs": [],
   "source": [
    "f1 = []\n",
    "f2 = []\n",
    "fidelities = []\n",
    "for key in model_terms:\n",
    "    f1.append(key)\n",
    "    fidelities.append(basis_dict[key]['fidelity'])\n",
    "    if basis_dict[key][\"type\"] == \"pair\":\n",
    "        pair = conjugate(key)\n",
    "        f2.append(pair)\n",
    "    else:\n",
    "        f2.append(key)"
   ]
  },
  {
   "cell_type": "markdown",
   "metadata": {},
   "source": [
    "Construct the matrices $M_1$ and $M_2$"
   ]
  },
  {
   "cell_type": "code",
   "execution_count": 38,
   "metadata": {},
   "outputs": [],
   "source": [
    "sprod = lambda a,b: int(a.anticommutes(b))\n",
    "M1 = [[sprod(a,b) for a in model_terms] for b in f1]\n",
    "M2 = [[sprod(a,b) for a in model_terms] for b in f2]"
   ]
  },
  {
   "cell_type": "markdown",
   "metadata": {},
   "source": [
    "The matrix should be full rank"
   ]
  },
  {
   "cell_type": "code",
   "execution_count": 39,
   "metadata": {},
   "outputs": [
    {
     "data": {
      "text/plain": [
       "True"
      ]
     },
     "execution_count": 39,
     "metadata": {},
     "output_type": "execute_result"
    }
   ],
   "source": [
    "np.linalg.matrix_rank(np.add(M1,M2)) == len(model_terms)"
   ]
  },
  {
   "cell_type": "markdown",
   "metadata": {},
   "source": [
    "Since the vector of fidelitites $\\vec f$ is either $f_a$ or $\\sqrt{f_a'f_a}$, the equation for calculating the model terms is\n",
    "$$\n",
    "(M_1+M_2)\\vec \\lambda+\\log(\\vec f) = 0\n",
    "$$\n",
    "The equation for calculating the model terms using single fidelities is the same as the original:\n",
    "$$\n",
    "M\\vec \\lambda + \\frac{1}{2}\\log(\\vec f) = 0\n",
    "$$"
   ]
  },
  {
   "cell_type": "code",
   "execution_count": 40,
   "metadata": {},
   "outputs": [
    {
     "name": "stderr",
     "output_type": "stream",
     "text": [
      "/home/users/fabricesch/Documents/AutomatedPERTools/AutomatedPERTools-workfile/.venv/lib/python3.11/site-packages/scipy/optimize/_nnls.py:120: ComplexWarning: Casting complex values to real discards the imaginary part\n",
      "  w = Atb.copy().astype(np.float64)  # x=0. Skip (-AtA @ x) term\n",
      "/home/users/fabricesch/Documents/AutomatedPERTools/AutomatedPERTools-workfile/.venv/lib/python3.11/site-packages/scipy/optimize/_nnls.py:137: ComplexWarning: Casting complex values to real discards the imaginary part\n",
      "  s[P] = solve(AtA[np.ix_(P, P)], Atb[P], assume_a='sym', check_finite=False)\n",
      "/home/users/fabricesch/Documents/AutomatedPERTools/AutomatedPERTools-workfile/.venv/lib/python3.11/site-packages/scipy/optimize/_nnls.py:155: ComplexWarning: Casting complex values to real discards the imaginary part\n",
      "  w[:] = Atb - AtA @ x\n",
      "/home/users/fabricesch/Documents/AutomatedPERTools/AutomatedPERTools-workfile/.venv/lib/python3.11/site-packages/scipy/optimize/_nnls.py:137: ComplexWarning: Casting complex values to real discards the imaginary part\n",
      "  s[P] = solve(AtA[np.ix_(P, P)], Atb[P], assume_a='sym', check_finite=False)\n",
      "/home/users/fabricesch/Documents/AutomatedPERTools/AutomatedPERTools-workfile/.venv/lib/python3.11/site-packages/scipy/optimize/_nnls.py:155: ComplexWarning: Casting complex values to real discards the imaginary part\n",
      "  w[:] = Atb - AtA @ x\n",
      "/home/users/fabricesch/Documents/AutomatedPERTools/AutomatedPERTools-workfile/.venv/lib/python3.11/site-packages/scipy/optimize/_nnls.py:137: ComplexWarning: Casting complex values to real discards the imaginary part\n",
      "  s[P] = solve(AtA[np.ix_(P, P)], Atb[P], assume_a='sym', check_finite=False)\n",
      "/home/users/fabricesch/Documents/AutomatedPERTools/AutomatedPERTools-workfile/.venv/lib/python3.11/site-packages/scipy/optimize/_nnls.py:155: ComplexWarning: Casting complex values to real discards the imaginary part\n",
      "  w[:] = Atb - AtA @ x\n",
      "/home/users/fabricesch/Documents/AutomatedPERTools/AutomatedPERTools-workfile/.venv/lib/python3.11/site-packages/scipy/optimize/_nnls.py:137: ComplexWarning: Casting complex values to real discards the imaginary part\n",
      "  s[P] = solve(AtA[np.ix_(P, P)], Atb[P], assume_a='sym', check_finite=False)\n",
      "/home/users/fabricesch/Documents/AutomatedPERTools/AutomatedPERTools-workfile/.venv/lib/python3.11/site-packages/scipy/optimize/_nnls.py:155: ComplexWarning: Casting complex values to real discards the imaginary part\n",
      "  w[:] = Atb - AtA @ x\n"
     ]
    }
   ],
   "source": [
    "coeffs,rnorm = nnls(np.add(M1,M2), -np.log(fidelities))\n",
    "real_coeffs, real_rnorm = nnls(M1, -.5*np.log([real_errors[term] for term in f1]))"
   ]
  },
  {
   "cell_type": "markdown",
   "metadata": {},
   "source": [
    "One thing to note is that the graph in van den Berg et Al. doesn't plot the actual coefficients vs ideal coefficients, but simply the goodness of fit using nnls"
   ]
  },
  {
   "cell_type": "code",
   "execution_count": 41,
   "metadata": {},
   "outputs": [
    {
     "data": {
      "text/plain": [
       "Text(0, 0.5, 'Coefficient')"
      ]
     },
     "execution_count": 41,
     "metadata": {},
     "output_type": "execute_result"
    },
    {
     "data": {
      "image/png": "[encoded data removed]",
      "text/plain": [
       "<Figure size 640x480 with 1 Axes>"
      ]
     },
     "metadata": {},
     "output_type": "display_data"
    }
   ],
   "source": [
    "ax = np.arange(len(model_terms))\n",
    "plt.bar(ax+.2, coeffs, .4, color='tab:blue')\n",
    "plt.bar(ax-.2, real_coeffs, .4, color='tab:green')\n",
    "plt.xticks(ax, model_terms);\n",
    "plt.title(\"Computed vs Measured Model Terms\")\n",
    "plt.xlabel(\"Term\")\n",
    "plt.ylabel(\"Coefficient\")"
   ]
  }
 ],
 "metadata": {
  "kernelspec": {
   "display_name": "Python 3.10.4 ('qiskit_env')",
   "language": "python",
   "name": "python3"
  },
  "language_info": {
   "codemirror_mode": {
    "name": "ipython",
    "version": 3
   },
   "file_extension": ".py",
   "mimetype": "text/x-python",
   "name": "python",
   "nbconvert_exporter": "python",
   "pygments_lexer": "ipython3",
   "version": "3.11.8"
  },
  "orig_nbformat": 4,
  "vscode": {
   "interpreter": {
    "hash": "d4803144e0ca2433cbbdbc82809c7bf0c6dd86d5d16291a48205e2d911513c87"
   }
  }
 },
 "nbformat": 4,
 "nbformat_minor": 2
}
