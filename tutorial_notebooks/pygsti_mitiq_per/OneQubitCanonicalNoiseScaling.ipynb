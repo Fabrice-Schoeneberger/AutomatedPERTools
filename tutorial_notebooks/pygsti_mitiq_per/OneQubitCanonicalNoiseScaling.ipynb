{
 "cells": [
  {
   "cell_type": "markdown",
   "id": "0e991293",
   "metadata": {},
   "source": [
    "# One Qubit PER\n",
    "In [Extending quantum probabilistic error cancellation through noise scaling](https://arxiv.org/abs/2108.02237) by Mari et. Al, a method of transforming a QPD representation of gates to produce a noise-scaled gate is set forth. This notebook uses `mitiq` to implement this method for general QPD representations and carries it out on a measurement of $Z$ after the circuit $X\\ket{0}$."
   ]
  },
  {
   "cell_type": "code",
   "execution_count": 104,
   "id": "f1dd5d11",
   "metadata": {},
   "outputs": [],
   "source": [
    "#helper libraries\n",
    "import numpy as np\n",
    "import matplotlib.pyplot as plt\n",
    "from copy import deepcopy\n",
    "from numpy.random import random, permutation\n",
    "\n",
    "#operator info\n",
    "from qiskit.quantum_info import Pauli, SuperOp, Kraus, Operator, pauli_basis\n",
    "from qiskit import QuantumCircuit, Aer, execute \n",
    "from qiskit.providers.aer.noise import kraus_error, NoiseModel\n",
    "\n",
    "#Mitiq\n",
    "from mitiq.pec.types import OperationRepresentation, NoisyOperation\n",
    "from mitiq.pec import execute_with_pec\n",
    "\n",
    "plt.style.use(\"ggplot\")"
   ]
  },
  {
   "cell_type": "markdown",
   "id": "34a3e670",
   "metadata": {},
   "source": [
    "## Create noise model\n",
    "\n",
    "Here we use a Pauli noise model because it is easier to simulate than the arbitrary model obtained from Gate Set Tomography, but once the QPD representation is obtained, the rest of the process here can be applied. We choose the overhead $\\gamma$ to be the same as the QPD representation obtained from gate set tomography for comparison."
   ]
  },
  {
   "cell_type": "code",
   "execution_count": 132,
   "id": "5c3b83be",
   "metadata": {},
   "outputs": [],
   "source": [
    "overhead = 1.73 #overhead from GST (noisy Rz version)\n",
    "\n",
    "#choose random coefficients, enforcing the desired overhead\n",
    "c1 = np.log(overhead)/2*random()\n",
    "c2 = (np.log(overhead)/2-c1)*random()\n",
    "c3 = .5*np.log(overhead)-c1-c2\n",
    "coeffs = list(permutation([c1, c2, c3]))"
   ]
  },
  {
   "cell_type": "code",
   "execution_count": 133,
   "id": "43d49cfa",
   "metadata": {
    "scrolled": false
   },
   "outputs": [],
   "source": [
    "n = 1 #number of qubits\n",
    "F = pauli_basis(1, pauli_list = True) #weight-1 Paulis\n",
    "T = [Pauli(\"X\"), Pauli(\"Y\"), Pauli(\"Z\")] #labels for coefficients"
   ]
  },
  {
   "cell_type": "markdown",
   "id": "68dbe4ff",
   "metadata": {},
   "source": [
    "The following cell leverages the product form of this error model $\\Lambda(\\cdot) = \\prod_{k \\in \\mathcal{T}}\\frac{1}{2}(1+e^{-2\\lambda_k})\\mathcal{I}(\\cdot)+\\frac{1}{2}(1-e^{-2\\lambda_k})\\mathcal{P}_k(\\cdot)$ to generate a superoperator representation of the error channel, which will be used later to construct the noisy simulator and specify the noisy pauli gates that can be applied."
   ]
  },
  {
   "cell_type": "code",
   "execution_count": 134,
   "id": "b29cb003",
   "metadata": {},
   "outputs": [],
   "source": [
    "channel = SuperOp(np.identity(4)) #Start with identity map\n",
    "\n",
    "#compute above product\n",
    "for i,lmbdak in enumerate(coeffs):\n",
    "    op = .5*SuperOp(T[i])*(1-np.exp(-2*lmbdak))+.5*(1+np.exp(-2*lmbdak))*np.identity(4);\n",
    "    channel = channel.compose(op);\n",
    "\n",
    "noise_model = NoiseModel() #create noise model from error channel\n",
    "noise_model.add_all_qubit_quantum_error(channel, ['id', 'x','y','z']) #add noise to all gates\n",
    "basis_gates = noise_model.basis_gates"
   ]
  },
  {
   "cell_type": "markdown",
   "id": "7a8c2948",
   "metadata": {},
   "source": [
    "The inverse of this channel can be computed by taking the Walsh-hadamard transformation of the inverses of the fidelities:"
   ]
  },
  {
   "cell_type": "code",
   "execution_count": 136,
   "id": "b6f5722d",
   "metadata": {},
   "outputs": [],
   "source": [
    "def s_prod(j, k): #symplectic inner product\n",
    "    return {True:0,False:1}[F[j].compose(F[k]) == F[k].compose(F[j])]\n",
    "\n",
    "M = [[s_prod(j,k) for k in range(len(F))] for j in range(len(F))] #Use a matrix to express as system of linear equations\n",
    "\n",
    "f = np.exp(np.multiply(-2.0, np.dot(M,[0]+coeffs))) #find ideal fidelities\n",
    "        \n",
    "def WHtransform(k): #Walsh-Hadamard transform with inverse fidelities\n",
    "    return 1/4**n*np.sum([(-1)**s_prod(k,j)*1/f[j] for j in range(len(F))])\n",
    "    \n",
    "pauli_coeffs = [WHtransform(k) for k in range(len(F))] #get coefficients"
   ]
  },
  {
   "cell_type": "markdown",
   "id": "d608a45e",
   "metadata": {},
   "source": [
    "Now we have a representation of the inverse of the noise channel written as a QPD of Pauli operators. We can multiply this inverse by the gate we want to mitigate to get the QPD representation of the gate we want to mitigate"
   ]
  },
  {
   "cell_type": "code",
   "execution_count": 147,
   "id": "6bb72b56",
   "metadata": {},
   "outputs": [
    {
     "name": "stdout",
     "output_type": "stream",
     "text": [
      "q_0: ───X─── = 1.356*(q_0: ───X───)-0.327*(q_0: ───I───)-0.006*(q_0: ───Z───)-0.023*(q_0: ───Y───)\n"
     ]
    }
   ],
   "source": [
    "gate_to_mitigate = Pauli('X') #the gate to be turned into a QPD\n",
    "noisy_ops = [SuperOp(P).compose(channel) for P in F] #Noisy operator base are all paulis with added noise\n",
    "\n",
    "rep_dict = {}\n",
    "for (coeff,P,noisy_op) in zip(pauli_coeffs,F,noisy_ops):\n",
    "    qc = QuantumCircuit(1) #ideal quantum circuit representing noisy op\n",
    "    P = Pauli(gate_to_mitigate.compose(P).to_label()[-1]) #hack to get rid of global phase, breaks without this\n",
    "    qc.append(P.to_instruction(),[0]) #insert the pauli into the ideal circuit\n",
    "    rep_dict[NoisyOperation(qc, noisy_op.data)] = coeff\n",
    "\n",
    "ideal = QuantumCircuit(1)\n",
    "ideal.append(gate_to_mitigate,[0])\n",
    "op_rep = OperationRepresentation(ideal, rep_dict)\n",
    "print(op_rep) #print the operator representation"
   ]
  },
  {
   "cell_type": "markdown",
   "id": "e0e12ffe",
   "metadata": {},
   "source": [
    "The canonical noise scaling is carried out by a method with takes an `OperationRepresentation` and returns a noise-scaled version. The PEC distribution in `op_rep` can be broken into negative and positive volumes, which are both TPCP channels, multiplied by corresponding negative and positive overheads:\n",
    "$$\n",
    "\\lambda^+ \\Phi^+-\\lambda^-\\Phi^-\n",
    "$$\n",
    "To convert this to the noise-scaled representation, all of the negative coefficients are scaled by $(1-\\xi)$ and the positive coefficients are scaled by $\\frac{\\gamma^+-\\xi\\gamma^-}{\\gamma^+}$, resulting in the noise-scaled distribution\n",
    "$$\n",
    "(\\gamma^+-\\lambda \\gamma^-)\\Phi^+-(1-\\lambda)\\gamma^- \\Phi^-\n",
    "$$"
   ]
  },
  {
   "cell_type": "code",
   "execution_count": 148,
   "id": "2b788415",
   "metadata": {},
   "outputs": [],
   "source": [
    "#convert PEC rep to PER rep\n",
    "def get_canonical_noise_scaled_rep(op_rep : OperationRepresentation,\n",
    "                                   lmbda) -> OperationRepresentation:\n",
    "    #copy data from previous rep\n",
    "    noisy_ops = op_rep.noisy_operations\n",
    "    coeffs = list(op_rep.coeffs)\n",
    "    ideal_program = op_rep.ideal\n",
    "\n",
    "    #define terms\n",
    "    gammaminus = .5*(op_rep.norm-1)\n",
    "    gammaplus = .5*(op_rep.norm+1)\n",
    "\n",
    "    #scale coefficients accordingly\n",
    "    for (i,coeff) in enumerate(coeffs):\n",
    "        if coeff < 0:\n",
    "            coeffs[i] = coeff*(1-lmbda)\n",
    "        else:\n",
    "            coeffs[i] = coeff/gammaplus*(gammaplus-lmbda*gammaminus)\n",
    "    \n",
    "    #construct and return new representation\n",
    "    scaled_rep_dict = dict(zip(noisy_ops, coeffs))\n",
    "    return OperationRepresentation(ideal_program, scaled_rep_dict)"
   ]
  },
  {
   "cell_type": "markdown",
   "id": "1a76d61b",
   "metadata": {},
   "source": [
    "Get the unmitigated expectation value of the ideal circuit"
   ]
  },
  {
   "cell_type": "code",
   "execution_count": 149,
   "id": "06ca8276",
   "metadata": {},
   "outputs": [
    {
     "name": "stdout",
     "output_type": "stream",
     "text": [
      "-0.602\n"
     ]
    }
   ],
   "source": [
    "test_shots = 10000\n",
    "backend = Aer.get_backend('qasm_simulator')\n",
    "circ = ideal.copy()\n",
    "circ.measure_all()\n",
    "counts = execute(circ, backend, noise_model = noise_model, basis_gates = basis_gates, shots=test_shots).result().get_counts()\n",
    "unmitigated_value = (counts.get('0', 0)-counts.get('1',0))/test_shots\n",
    "print(unmitigated_value)\n"
   ]
  },
  {
   "cell_type": "markdown",
   "id": "486da718",
   "metadata": {},
   "source": [
    "Define a function to act as the `Executor` passed to the `execute_with_pec`. This function is a substitute for a routine to find the expectation value of a circuit on a noisy quantum backend."
   ]
  },
  {
   "cell_type": "code",
   "execution_count": 141,
   "id": "ac4f35ef",
   "metadata": {},
   "outputs": [],
   "source": [
    "shots = 200\n",
    "def noisy_executor(circ):\n",
    "    qc = circ.copy()\n",
    "    qc.measure_all()\n",
    "    counts = execute(qc, backend, noise_model = noise_model, basis_gates = basis_gates, optimization_level = 0, shots=shots).result().get_counts()\n",
    "    return (counts.get('0', 0)-counts.get('1',0))/shots"
   ]
  },
  {
   "cell_type": "markdown",
   "id": "f8e86987",
   "metadata": {},
   "source": [
    "Test if PEC is working before running full scan, value should be close to $-1$ within two digits of precision."
   ]
  },
  {
   "cell_type": "markdown",
   "id": "31c5b508",
   "metadata": {},
   "source": [
    "## Find estimator for different values of $\\lambda$"
   ]
  },
  {
   "cell_type": "code",
   "execution_count": 143,
   "id": "e956e7d0",
   "metadata": {},
   "outputs": [],
   "source": [
    "lmbdas = [0, .5, 1, 1.5, 2]\n",
    "mitigated_values = []\n",
    "samples = 250\n",
    "#Run the procedure for each lambda\n",
    "mitigated_values = []\n",
    "pec_errors = []\n",
    "for lmbda in lmbdas:\n",
    "    result, metadata = execute_with_pec(ideal, noisy_executor, representations=[get_canonical_noise_scaled_rep(op_rep, lmbda)], num_samples = samples, full_output=True)\n",
    "    err = metadata[\"pec_error\"]\n",
    "    pec_errors.append(err)\n",
    "    mitigated_values.append(result)"
   ]
  },
  {
   "cell_type": "code",
   "execution_count": 144,
   "id": "c762552e",
   "metadata": {},
   "outputs": [],
   "source": [
    "from scipy.optimize import curve_fit\n",
    "linear = lambda x,a,b: a*x+b\n",
    "popt, pcov = curve_fit(linear, lmbdas, mitigated_values)"
   ]
  },
  {
   "cell_type": "code",
   "execution_count": 151,
   "id": "630ac028",
   "metadata": {},
   "outputs": [
    {
     "data": {
      "text/plain": [
       "<matplotlib.legend.Legend at 0x7f73581293d0>"
      ]
     },
     "execution_count": 151,
     "metadata": {},
     "output_type": "execute_result"
    },
    {
     "data": {
      "image/png": "[encoded data removed]",
      "text/plain": [
       "<Figure size 432x288 with 1 Axes>"
      ]
     },
     "metadata": {},
     "output_type": "display_data"
    }
   ],
   "source": [
    "plt.figure(figsize=(6,4))\n",
    "xrange = np.linspace(0, max(lmbdas), 100)\n",
    "mv = plt.errorbar(lmbdas, mitigated_values,pec_errors, capsize=5, capthick=1, linestyle = \"None\", marker = \"o\")\n",
    "lfit, = plt.plot(np.linspace(0,max(lmbdas), 30), [linear(x, *popt) for x in np.linspace(0, max(lmbdas), 30)], linestyle=\"--\", color=\"tab:blue\")\n",
    "plt.xlabel(r\"$\\xi$\", fontsize = 16)\n",
    "plt.ylabel(r\"$\\langle Z \\rangle$\", fontsize = 16)\n",
    "plt.tick_params(axis= \"both\", labelsize = 12)\n",
    "exact = plt.scatter(0, -1, marker = \"*\", color = \"black\", zorder = 10, s=100)\n",
    "plt.legend([mv, lfit, exact], [r'$\\langle Z \\rangle$ with PER','linear fit', \"Noiseless\"], loc=\"lower right\", fontsize = 12)"
   ]
  },
  {
   "cell_type": "code",
   "execution_count": 150,
   "id": "cd600460",
   "metadata": {},
   "outputs": [
    {
     "data": {
      "text/plain": [
       "-1.0112246381549075"
      ]
     },
     "execution_count": 150,
     "metadata": {},
     "output_type": "execute_result"
    }
   ],
   "source": [
    "popt[1]"
   ]
  }
 ],
 "metadata": {
  "kernelspec": {
   "display_name": "Python 3 (ipykernel)",
   "language": "python",
   "name": "python3"
  },
  "language_info": {
   "codemirror_mode": {
    "name": "ipython",
    "version": 3
   },
   "file_extension": ".py",
   "mimetype": "text/x-python",
   "name": "python",
   "nbconvert_exporter": "python",
   "pygments_lexer": "ipython3",
   "version": "3.8.13"
  },
  "vscode": {
   "interpreter": {
    "hash": "c7c859f551ac771d7ec7b66508341cbf372a533465b4e32d787c7352e7a7fb68"
   }
  }
 },
 "nbformat": 4,
 "nbformat_minor": 5
}
