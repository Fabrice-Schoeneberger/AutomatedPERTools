{
 "cells": [
  {
   "cell_type": "markdown",
   "metadata": {},
   "source": [
    "# GST on Rigetti Backends with PyGSTi\n",
    "The purpose of this notebook is to use the data collected from a GST experiment that has been read into the `rigetti_first_run` directory and perform GST on it, then use Mitiq's algorithm to produce a QPD representation of the resultant noisy gates for use in PER.\n",
    "\n",
    "The original code for the GST analysis in PyGSTi can be found here:[UnitaryFundDemoNotebook1.ipynb\n",
    "](https://zenodo.org/record/5715199#.Yr_TOUjMLJF). "
   ]
  },
  {
   "cell_type": "code",
   "execution_count": 40,
   "metadata": {},
   "outputs": [],
   "source": [
    "#PyGSTi tools\n",
    "import pygsti\n",
    "from pygsti.modelpacks import smq1Q_XZ\n",
    "from pygsti.data.dataset import DataSet\n",
    "\n",
    "#Mitiq tools\n",
    "from mitiq.pec import NoisyOperation, NoisyBasis, OperationRepresentation, execute_with_pec\n",
    "from mitiq.pec.representations.optimal import find_optimal_representation\n",
    "\n",
    "#Qiskit imports\n",
    "from qiskit import QuantumCircuit\n",
    "from qiskit.quantum_info import SuperOp, PTM \n",
    "from qiskit.circuit.library import RZGate, SXGate  \n",
    "from qiskit import transpile\n",
    "from qiskit.providers.aer.noise import NoiseModel, QuantumError\n",
    "from qiskit import execute, Aer\n",
    "\n",
    "#Helper libraries\n",
    "import numpy as np\n",
    "from itertools import product\n",
    "import matplotlib.pyplot as plt\n",
    "\n",
    "#make numpy matrices easier to read\n",
    "np.set_printoptions(precision=6, suppress=True)\n",
    "plt.style.use(\"ggplot\")"
   ]
  },
  {
   "cell_type": "markdown",
   "metadata": {},
   "source": [
    "## Read data from experiment\n",
    "This data was written by the `get_gst_data.ipynb` file."
   ]
  },
  {
   "cell_type": "code",
   "execution_count": 2,
   "metadata": {},
   "outputs": [],
   "source": [
    "data = pygsti.io.read_data_from_dir('experiment_data/rigetti_first_run')"
   ]
  },
  {
   "cell_type": "markdown",
   "metadata": {},
   "source": [
    "## Run GST on the data"
   ]
  },
  {
   "cell_type": "code",
   "execution_count": 13,
   "metadata": {},
   "outputs": [
    {
     "name": "stdout",
     "output_type": "stream",
     "text": [
      "-- Std Practice:  Iter 1 of 3  (TP) --: \n",
      "  --- Iterative GST: [##################################################] 100.0%  550 circuits ---\n",
      "  Iterative GST Total Time: 1.5s\n",
      "-- Std Practice:  Iter 2 of 3  (CPTP) --: \n",
      "  --- Iterative GST: [##################################################] 100.0%  550 circuits ---\n",
      "  Iterative GST Total Time: 11.4s\n",
      "-- Std Practice:  Iter 3 of 3  (Target) --: \n"
     ]
    }
   ],
   "source": [
    "gst_protocol = pygsti.protocols.StandardGST('TP,CPTP,Target')\n",
    "results = gst_protocol.run(data)"
   ]
  },
  {
   "cell_type": "markdown",
   "metadata": {},
   "source": [
    "## Constrain to TPCP and gauge-optimize\n",
    "The estimates_final_model is an `ExplicitOpModel` type, which carries the preps, measurements, and operations as Pauli-transfer matrices. The documentation refers to this as the 'pauli-product' basis. The `qiskit.quantum_info` tools can be used to convert these into superoperators, which is the form mitiq uses to describe quantum channels."
   ]
  },
  {
   "cell_type": "markdown",
   "metadata": {},
   "source": [
    "## Re-run GST experiment with fixed Rz"
   ]
  },
  {
   "cell_type": "markdown",
   "metadata": {},
   "source": [
    "In this subsection we impose that RZ  must be equal to the ideal operation. On most superconducting platforms, the Rz gate is virtualized, so it incurs no extra noise or execution time. This is convenient for PEC, because choosing a guage in which the Rz gate is noiseless allows arbitrary Z-rotations to be performed, since the ideal gate has a QPD representation containing only itself.\n",
    "\n",
    "This is procedure is adapted from page 3 of https://arxiv.org/abs/2002.12476.\n",
    "The main difference is that, instead of starting from a default initial model, we take the model the we obtained in the previous section, we fix RZ, and we use it as the initial condition for a new GST estimation.\n",
    "\n",
    "(Literally applying procedure of page 3 of https://arxiv.org/abs/2002.12476 produce a final result but doesn't seem to make sense since all operators look like ideal gates)."
   ]
  },
  {
   "cell_type": "code",
   "execution_count": 14,
   "metadata": {},
   "outputs": [],
   "source": [
    "# Define ideal RZ operation\n",
    "target_mdl = smq1Q_XZ.target_model()\n",
    "rz_matrix = target_mdl[('Gzpi2',0)].to_dense()\n",
    "dense_rz = pygsti.modelmembers.operations.DenseOperator(rz_matrix, evotype=\"default\")"
   ]
  },
  {
   "cell_type": "code",
   "execution_count": 15,
   "metadata": {},
   "outputs": [],
   "source": [
    "cptp_estimate = results.estimates['CPTP']\n",
    "initial_model = cptp_estimate.models['stdgaugeopt']\n",
    "initial_model[('Gzpi2',0)] = dense_rz"
   ]
  },
  {
   "cell_type": "code",
   "execution_count": 16,
   "metadata": {
    "scrolled": true
   },
   "outputs": [
    {
     "name": "stdout",
     "output_type": "stream",
     "text": [
      "--- Iterative GST: Iter 1 of 6  52 circuits ---: \n",
      "  MatrixLayout: 1 processors divided into 1 x 1 (= 1) grid along circuit and parameter directions.\n",
      "     1 atoms, parameter block size limits (None,)\n",
      "  *** Distributing 1 atoms to 1 atom-processing groups (1 cores) ***\n",
      "      More atom-processors than hosts: each host gets ~1 atom-processors\n",
      "      Atom-processors already occupy a single node, dividing atom-processor into 1 param-processors.\n",
      "  *** Divided 1-host atom-processor (~1 procs) into 1 param-processing groups ***\n",
      "  --- chi2 GST ---\n",
      "  Sum of Chi^2 = 106.368 (52 data params - 36 (approx) model params = expected mean of 16; p-value = 2.22045e-15)\n",
      "  Completed in 1.3s\n",
      "  Iteration 1 took 1.3s\n",
      "  \n",
      "--- Iterative GST: Iter 2 of 6  96 circuits ---: \n",
      "  MatrixLayout: 1 processors divided into 1 x 1 (= 1) grid along circuit and parameter directions.\n",
      "     1 atoms, parameter block size limits (None,)\n",
      "  *** Distributing 1 atoms to 1 atom-processing groups (1 cores) ***\n",
      "      More atom-processors than hosts: each host gets ~1 atom-processors\n",
      "      Atom-processors already occupy a single node, dividing atom-processor into 1 param-processors.\n",
      "  *** Divided 1-host atom-processor (~1 procs) into 1 param-processing groups ***\n",
      "  --- chi2 GST ---\n",
      "  Sum of Chi^2 = 263.49 (96 data params - 36 (approx) model params = expected mean of 60; p-value = 0)\n",
      "  Completed in 0.9s\n",
      "  Iteration 2 took 0.9s\n",
      "  \n",
      "--- Iterative GST: Iter 3 of 6  177 circuits ---: \n",
      "  MatrixLayout: 1 processors divided into 1 x 1 (= 1) grid along circuit and parameter directions.\n",
      "     1 atoms, parameter block size limits (None,)\n",
      "  *** Distributing 1 atoms to 1 atom-processing groups (1 cores) ***\n",
      "      More atom-processors than hosts: each host gets ~1 atom-processors\n",
      "      Atom-processors already occupy a single node, dividing atom-processor into 1 param-processors.\n",
      "  *** Divided 1-host atom-processor (~1 procs) into 1 param-processing groups ***\n",
      "  --- chi2 GST ---\n",
      "  Sum of Chi^2 = 555.113 (177 data params - 36 (approx) model params = expected mean of 141; p-value = 0)\n",
      "  Completed in 2.7s\n",
      "  Iteration 3 took 2.7s\n",
      "  \n",
      "--- Iterative GST: Iter 4 of 6  292 circuits ---: \n",
      "  MatrixLayout: 1 processors divided into 1 x 1 (= 1) grid along circuit and parameter directions.\n",
      "     1 atoms, parameter block size limits (None,)\n",
      "  *** Distributing 1 atoms to 1 atom-processing groups (1 cores) ***\n",
      "      More atom-processors than hosts: each host gets ~1 atom-processors\n",
      "      Atom-processors already occupy a single node, dividing atom-processor into 1 param-processors.\n",
      "  *** Divided 1-host atom-processor (~1 procs) into 1 param-processing groups ***\n",
      "  --- chi2 GST ---\n",
      "  Sum of Chi^2 = 1395.09 (292 data params - 36 (approx) model params = expected mean of 256; p-value = 0)\n",
      "  Completed in 1.3s\n",
      "  Iteration 4 took 1.4s\n",
      "  \n",
      "--- Iterative GST: Iter 5 of 6  421 circuits ---: \n",
      "  MatrixLayout: 1 processors divided into 1 x 1 (= 1) grid along circuit and parameter directions.\n",
      "     1 atoms, parameter block size limits (None,)\n",
      "  *** Distributing 1 atoms to 1 atom-processing groups (1 cores) ***\n",
      "      More atom-processors than hosts: each host gets ~1 atom-processors\n",
      "      Atom-processors already occupy a single node, dividing atom-processor into 1 param-processors.\n",
      "  *** Divided 1-host atom-processor (~1 procs) into 1 param-processing groups ***\n",
      "  --- chi2 GST ---\n",
      "  Sum of Chi^2 = 2867.18 (421 data params - 36 (approx) model params = expected mean of 385; p-value = 0)\n",
      "  Completed in 1.0s\n",
      "  Iteration 5 took 1.1s\n",
      "  \n",
      "--- Iterative GST: Iter 6 of 6  550 circuits ---: \n",
      "  MatrixLayout: 1 processors divided into 1 x 1 (= 1) grid along circuit and parameter directions.\n",
      "     1 atoms, parameter block size limits (None,)\n",
      "  *** Distributing 1 atoms to 1 atom-processing groups (1 cores) ***\n",
      "      More atom-processors than hosts: each host gets ~1 atom-processors\n",
      "      Atom-processors already occupy a single node, dividing atom-processor into 1 param-processors.\n",
      "  *** Divided 1-host atom-processor (~1 procs) into 1 param-processing groups ***\n",
      "  --- chi2 GST ---\n",
      "  Sum of Chi^2 = 4199.43 (550 data params - 36 (approx) model params = expected mean of 514; p-value = 0)\n",
      "  Completed in 1.3s\n",
      "  Iteration 6 took 1.4s\n",
      "  \n",
      "  Last iteration:\n",
      "  --- dlogl GST ---\n",
      "  2*Delta(log(L)) = 4145.12 (550 data params - 36 (approx) model params = expected mean of 514; p-value = 0)\n",
      "  Completed in 0.5s\n",
      "  Final optimization took 0.5s\n",
      "  \n",
      "Iterative GST Total Time: 9.5s\n"
     ]
    }
   ],
   "source": [
    "# Run GST (on existing data)\n",
    "results = pygsti.protocols.GST(initial_model, gaugeopt_suite=None).run(data)"
   ]
  },
  {
   "cell_type": "code",
   "execution_count": 17,
   "metadata": {},
   "outputs": [],
   "source": [
    "new_model = results.estimates['GateSetTomography'].models['final iteration estimate']"
   ]
  },
  {
   "cell_type": "code",
   "execution_count": 18,
   "metadata": {},
   "outputs": [],
   "source": [
    "# Convert operator transfer matrix to superoperator\n",
    "superop_rep_x = SuperOp(PTM(new_model.operations[('Gxpi2',0)].to_dense()))\n",
    "superop_rep_z = SuperOp(PTM(new_model.operations[('Gzpi2',0)].to_dense()))\n",
    "superops = [superop_rep_x, superop_rep_z]"
   ]
  },
  {
   "cell_type": "code",
   "execution_count": 21,
   "metadata": {},
   "outputs": [
    {
     "name": "stdout",
     "output_type": "stream",
     "text": [
      "SuperOp([[ 0.505+0.j   , -0.029-0.487j, -0.029+0.487j,  0.489+0.j   ],\n",
      "         [-0.03 -0.49j ,  0.5  -0.059j,  0.489+0.001j,  0.036+0.486j],\n",
      "         [-0.03 +0.49j ,  0.489-0.001j,  0.5  +0.059j,  0.036-0.486j],\n",
      "         [ 0.495+0.j   ,  0.029+0.487j,  0.029-0.487j,  0.511+0.j   ]],\n",
      "        input_dims=(2,), output_dims=(2,))\n",
      "SuperOp([[1.+0.j, 0.+0.j, 0.+0.j, 0.+0.j],\n",
      "         [0.+0.j, 0.+1.j, 0.+0.j, 0.+0.j],\n",
      "         [0.+0.j, 0.+0.j, 0.-1.j, 0.+0.j],\n",
      "         [0.+0.j, 0.+0.j, 0.+0.j, 1.+0.j]],\n",
      "        input_dims=(2,), output_dims=(2,))\n"
     ]
    }
   ],
   "source": [
    "print(superop_rep_x)\n",
    "print(superop_rep_z)"
   ]
  },
  {
   "cell_type": "code",
   "execution_count": 19,
   "metadata": {},
   "outputs": [
    {
     "data": {
      "text/plain": [
       "True"
      ]
     },
     "execution_count": 19,
     "metadata": {},
     "output_type": "execute_result"
    }
   ],
   "source": [
    "superop_rep_x.is_cptp()"
   ]
  },
  {
   "cell_type": "markdown",
   "metadata": {},
   "source": [
    "## Creating a QPD Representation\n",
    "In this section, we go through a process for creating a QPD representation of an ideal `SX` gate in terms of noisy implementable operations as a Mitiq `OperationRepresentation` object for use in PER."
   ]
  },
  {
   "cell_type": "code",
   "execution_count": 23,
   "metadata": {},
   "outputs": [],
   "source": [
    "#Create a list of ideal gates as labels for the noisy ones\n",
    "ideal_gates = [SXGate(), RZGate(np.pi/2)]"
   ]
  },
  {
   "cell_type": "markdown",
   "metadata": {},
   "source": [
    "### Create a noisy basis\n",
    "In order to create a NoisyBasis, we iterate through the possible sequences of noisy gates up to a certain length."
   ]
  },
  {
   "cell_type": "code",
   "execution_count": 24,
   "metadata": {},
   "outputs": [],
   "source": [
    "def get_gate_sequences(n):\n",
    "    NoisyOperations = []\n",
    "\n",
    "    for string in product(zip(superops,ideal_gates), repeat=n): #combine the noisy and ideal ops and iterate through words\n",
    "        qc = QuantumCircuit(1)\n",
    "        superop = SuperOp(np.identity(4)) #start at the identity op\n",
    "\n",
    "        for (noisy_op, ideal_op) in string: #iterate through all the pairs in string\n",
    "            qc.append(ideal_op,[0]) #add the ideal op to circuit\n",
    "            superop = superop.compose(noisy_op) #compose the noisy op for total channel\n",
    "\n",
    "        NoisyOperations.append(NoisyOperation(qc, superop.data)) #Instatiate NoisyOperation and add to array\n",
    "    \n",
    "    return NoisyOperations.copy()\n",
    "\n",
    "NoisyOperations = []\n",
    "N = 4\n",
    "\n",
    "for i in range(N): #do this for all n <= N\n",
    "    NoisyOperations = np.concatenate((NoisyOperations, get_gate_sequences(i+1)))\n",
    "\n",
    "#combine into basis object\n",
    "noisy_basis = NoisyBasis(*NoisyOperations)"
   ]
  },
  {
   "cell_type": "code",
   "execution_count": 33,
   "metadata": {},
   "outputs": [
    {
     "name": "stdout",
     "output_type": "stream",
     "text": [
      "q_0: ───X^0.5─── = 0.277*(q_0: ───Rz(0.5π)───X^0.5───X^0.5───Rz(0.5π)───)-0.112*(q_0: ───X^0.5───X^0.5───X^0.5───X^0.5───)-0.372*(q_0: ───Rz(0.5π)───X^0.5───Rz(0.5π)───Rz(0.5π)───)-0.008*(q_0: ───Rz(0.5π)───Rz(0.5π)───Rz(0.5π)───X^0.5───)+0.048*(q_0: ───Rz(0.5π)───)+0.010*(q_0: ───X^0.5───Rz(0.5π)───Rz(0.5π)───Rz(0.5π)───)+0.005*(q_0: ───Rz(0.5π)───X^0.5───X^0.5───)-0.314*(q_0: ───X^0.5───X^0.5───X^0.5───)+0.717*(q_0: ───X^0.5───)+0.389*(q_0: ───X^0.5───X^0.5───Rz(0.5π)───X^0.5───)+0.024*(q_0: ───Rz(0.5π)───X^0.5───Rz(0.5π)───X^0.5───)-0.030*(q_0: ───Rz(0.5π)───Rz(0.5π)───X^0.5───)+0.364*(q_0: ───Rz(0.5π)───Rz(0.5π)───Rz(0.5π)───Rz(0.5π)───)\n",
      "Overhead:  2.670075902263854\n"
     ]
    }
   ],
   "source": [
    "optimal_circuit = QuantumCircuit(1)\n",
    "optimal_circuit.rx(-np.pi/2, 0) #Mitiq uses the opposite sign convention for the rotation gates, \n",
    "#so the correct value needs to be patched in afterward\n",
    "\n",
    "#Use the Mitiq find_optimal_representation algorithms to get the QPD representation of an ideal\n",
    "#gate in terms of noisy gates\n",
    "optimal_rep = find_optimal_representation(optimal_circuit, noisy_basis, tol=.0001)\n",
    "\n",
    "#Correct the sign of the rotation and create an OperationRepresentation for this gate\n",
    "optimal_circuit = QuantumCircuit(1)\n",
    "optimal_circuit.sx(0)\n",
    "optimal_rep = OperationRepresentation(optimal_circuit,optimal_rep.basis_expansion)\n",
    "\n",
    "print(optimal_rep)\n",
    "print(\"Overhead: \", optimal_rep.norm) #hopefully close to 1"
   ]
  },
  {
   "cell_type": "markdown",
   "metadata": {},
   "source": [
    "### Testing the QPD representation\n",
    "In order to check if the correct superoperator is reproduced, we can compute the value of the above sum explicitly and compare it to the ideal gate:"
   ]
  },
  {
   "cell_type": "code",
   "execution_count": 30,
   "metadata": {},
   "outputs": [
    {
     "name": "stdout",
     "output_type": "stream",
     "text": [
      "Approximated superoperator\n",
      "[[ 0.5-0.j   0. -0.5j  0. +0.5j  0.5+0.j ]\n",
      " [ 0. -0.5j  0.5-0.j   0.5+0.j   0. +0.5j]\n",
      " [ 0. +0.5j  0.5-0.j   0.5+0.j   0. -0.5j]\n",
      " [ 0.5+0.j  -0. +0.5j -0. -0.5j  0.5-0.j ]]\n",
      "------------------------------\n",
      "Ideal superoperator\n",
      "[[0.5+0.j  0. -0.5j 0. +0.5j 0.5+0.j ]\n",
      " [0. -0.5j 0.5+0.j  0.5+0.j  0. +0.5j]\n",
      " [0. +0.5j 0.5+0.j  0.5+0.j  0. -0.5j]\n",
      " [0.5+0.j  0. +0.5j 0. -0.5j 0.5+0.j ]]\n"
     ]
    }
   ],
   "source": [
    "matrices = [m.channel_matrix for m in optimal_rep.noisy_operations]\n",
    "mat = sum(m*coeff for (m,coeff) in zip(matrices, optimal_rep.coeffs))\n",
    "print(\"Approximated superoperator\")\n",
    "print(mat)\n",
    "print('------------------------------')\n",
    "print(\"Ideal superoperator\")\n",
    "ideal_mat = SuperOp(SXGate()).data #It clearly matches RX(pi/2), but I don't know why\n",
    "print(ideal_mat)"
   ]
  },
  {
   "cell_type": "markdown",
   "metadata": {},
   "source": [
    "## Apply PER\n",
    "In order to apply PER, we define a method which accepts as input an OperationRepresentation and returns another OperationRepresentation that has been scaled according to [canonical noise scaling](https://arxiv.org/abs/2108.02237). The representation can be defined as the following: \n",
    "\n",
    "## Canonical Noise Scaling\n",
    "\n",
    "Canonical noise scaling involves separating the distribution into the negative and positive volumes by the sign of the coefficients. Given a QPD representation of a unitary $\\mathcal{U}$ in terms of noisy gates $\\mathcal{O}_\\alpha\\in \\mathcal{I}$,\n",
    "$$\n",
    "\\mathcal{U} = \\sum_{\\alpha} \\eta_\\alpha \\mathcal{O}_\\alpha\n",
    "$$\n",
    "the indices $\\alpha$ corresponding to negative and positive coefficients can be separated into two sets:\n",
    "$$\n",
    "D^{\\pm} = \\{\\alpha \\ | \\ \\eta_\\alpha \\gtrless 0\\}\n",
    "$$\n",
    "Then the gates corresponding to each set can be used to construct a TPCP operator:\n",
    "$$\n",
    "\\Phi^{\\pm} = \\frac{1}{\\gamma^{\\pm}}\\sum_{\\alpha \\in D^{\\pm}}|\\eta_\\alpha| \\mathcal{O}_\\alpha\n",
    "$$\n",
    "Where the overhead is selected so that the operator is trace-preserving:\n",
    "$$\n",
    "\\gamma^{\\pm} = \\sum_{\\alpha \\in D^{\\pm}}|\\eta_\\alpha|\n",
    "$$\n",
    "Then $\\mathcal{U}$ can be written in terms of these channels:\n",
    "$$\n",
    "\\mathcal{U} = \\gamma^+ \\Phi^+ - \\gamma^- \\Phi^-\n",
    "$$\n",
    "A noisy gate $\\mathcal{U}^\\lambda$ can be parameterized as\n",
    "$$\n",
    "\\mathcal{U}^\\lambda = (\\gamma^+-\\lambda \\gamma^-)\\Phi^+-(1-\\lambda)\\gamma^-\\Phi^-\n",
    "$$\n",
    "This has the convenient property that at $\\lambda = 0$ it reduces to the ideal QPD, at $\\lambda = 1$ it reduces to $\\Phi^+$ representing around hardware noise level, and at $\\lambda = \\frac{\\gamma^+}{\\gamma^-}$ it reduces to $\\Phi^-$, representing the greatest level of noise.\n",
    "\n",
    "Lastly, the overheads $\\gamma^+$ and $\\gamma^-$ can be computed in terms of $\\gamma$, using the equations\n",
    "$$\n",
    "\\gamma^+-\\gamma^- = 1\\\\\n",
    "\\gamma^+ + \\gamma^- = \\gamma\n",
    "$$\n",
    "Which hold when $\\lambda < 1$. Adding and subtracting these yields\n",
    "$$\n",
    "\\gamma^+ = \\frac{\\gamma+1}{2}\\\\\n",
    "\\gamma^- = \\frac{\\gamma-1}{2}\n",
    "$$"
   ]
  },
  {
   "cell_type": "code",
   "execution_count": 37,
   "metadata": {},
   "outputs": [],
   "source": [
    "#convert PEC rep to PER rep\n",
    "def get_canonical_noise_scaled_rep(op_rep : OperationRepresentation,\n",
    "                                   lmbda) -> OperationRepresentation:\n",
    "    #copy data from previous rep\n",
    "    noisy_ops = op_rep.noisy_operations\n",
    "    coeffs = list(op_rep.coeffs)\n",
    "    ideal_program = op_rep.ideal\n",
    "\n",
    "    #define terms\n",
    "    gammaminus = .5*(op_rep.norm-1)\n",
    "    gammaplus = .5*(op_rep.norm+1)\n",
    "\n",
    "    #scale coefficients accordingly\n",
    "    for (i,coeff) in enumerate(coeffs):\n",
    "        if coeff < 0:\n",
    "            coeffs[i] = coeff*(1-lmbda)\n",
    "        else:\n",
    "            coeffs[i] = coeff/gammaplus*(gammaplus-lmbda*gammaminus)\n",
    "    \n",
    "    #construct and return new representation\n",
    "    scaled_rep_dict = dict(zip(noisy_ops, coeffs))\n",
    "    return OperationRepresentation(ideal_program, scaled_rep_dict)"
   ]
  },
  {
   "cell_type": "code",
   "execution_count": 59,
   "metadata": {},
   "outputs": [
    {
     "name": "stdout",
     "output_type": "stream",
     "text": [
      "0.0005289151265869001\n",
      "0.21548142091782624\n",
      "0.5383517292371217\n",
      "1.0764693273160775\n"
     ]
    }
   ],
   "source": [
    "lmbdas = [0,.2,.5,1]\n",
    "superops_per = []\n",
    "for lmbda in lmbdas:\n",
    "    op_rep  = get_canonical_noise_scaled_rep(optimal_rep, lmbda)\n",
    "    matrices = [m.channel_matrix for m in op_rep.noisy_operations]\n",
    "    mat = sum(m*coeff for (m,coeff) in zip(matrices, op_rep.coeffs))\n",
    "    superops_per.append(mat)\n",
    "    print(np.linalg.norm(mat-SuperOp(SXGate()).data))"
   ]
  },
  {
   "cell_type": "code",
   "execution_count": 61,
   "metadata": {},
   "outputs": [
    {
     "data": {
      "text/plain": [
       "array([[ 0.4999  -0.j    ,  0.0001  -0.4999j,  0.0001  +0.4999j,\n",
       "         0.4999  +0.j    ],\n",
       "       [ 0.0001  -0.5001j,  0.4999  -0.0001j,  0.499901+0.0001j,\n",
       "         0.0001  +0.4999j],\n",
       "       [ 0.0001  +0.5001j,  0.499901-0.0001j,  0.4999  +0.0001j,\n",
       "         0.0001  -0.4999j],\n",
       "       [ 0.5001  +0.j    , -0.0001  +0.4999j, -0.0001  -0.4999j,\n",
       "         0.5001  -0.j    ]])"
      ]
     },
     "execution_count": 61,
     "metadata": {},
     "output_type": "execute_result"
    }
   ],
   "source": [
    "superops_per[0]"
   ]
  },
  {
   "cell_type": "code",
   "execution_count": 62,
   "metadata": {},
   "outputs": [
    {
     "data": {
      "text/plain": [
       "array([[ 0.525766-0.j      ,  0.091944-0.189491j,  0.091944+0.189491j,\n",
       "         0.471613+0.j      ],\n",
       "       [ 0.00261 -0.101892j,  0.390019-0.092393j,  0.352336+0.100312j,\n",
       "         0.001549+0.103534j],\n",
       "       [ 0.00261 +0.101892j,  0.352336-0.100312j,  0.390019+0.092393j,\n",
       "         0.001549-0.103534j],\n",
       "       [ 0.474234+0.j      , -0.091944+0.189491j, -0.091944-0.189491j,\n",
       "         0.528387-0.j      ]])"
      ]
     },
     "execution_count": 62,
     "metadata": {},
     "output_type": "execute_result"
    }
   ],
   "source": [
    "superops_per[3]"
   ]
  },
  {
   "cell_type": "markdown",
   "metadata": {},
   "source": [
    "## Visualizing overhead scaling\n",
    "Overhead scaling is exponential in the circuit depth. This means that PEC and PER are ultimately unscalable. However, for practical purposes, PER can offer an advantage by incorporating information from noise levels with no overhead or a drastically reduced overhead. The following graph shows how the overhead scales with more layers for different noise strength values."
   ]
  },
  {
   "cell_type": "code",
   "execution_count": 66,
   "metadata": {},
   "outputs": [
    {
     "data": {
      "text/plain": [
       "<matplotlib.legend.Legend at 0x7f7156395460>"
      ]
     },
     "execution_count": 66,
     "metadata": {},
     "output_type": "execute_result"
    },
    {
     "data": {
      "image/png": "[encoded data removed]",
      "text/plain": [
       "<Figure size 432x288 with 1 Axes>"
      ]
     },
     "metadata": {},
     "output_type": "display_data"
    }
   ],
   "source": [
    "ax = np.arange(9)\n",
    "plt.figure(figsize=(6,4))\n",
    "gamma = optimal_rep.norm\n",
    "lmbdas = [.8,.5,.2,0]\n",
    "for lmbda in lmbdas:\n",
    "    plt.plot(ax, [(gamma-lmbda*(gamma-1))**n for n in ax])\n",
    "\n",
    "plt.xlabel(r\"$l_{tot}$\", fontsize = 16)\n",
    "plt.ylabel(r\"$\\gamma$\", fontsize = 16)\n",
    "plt.tick_params(axis= \"both\", labelsize = 12)\n",
    "plt.legend([r\"$\\xi = $\" + str(lmbda) for lmbda in lmbdas])"
   ]
  }
 ],
 "metadata": {
  "kernelspec": {
   "display_name": "Python 3.8.13",
   "language": "python",
   "name": "python3"
  },
  "language_info": {
   "codemirror_mode": {
    "name": "ipython",
    "version": 3
   },
   "file_extension": ".py",
   "mimetype": "text/x-python",
   "name": "python",
   "nbconvert_exporter": "python",
   "pygments_lexer": "ipython3",
   "version": "3.8.13"
  },
  "vscode": {
   "interpreter": {
    "hash": "c7c859f551ac771d7ec7b66508341cbf372a533465b4e32d787c7352e7a7fb68"
   }
  }
 },
 "nbformat": 4,
 "nbformat_minor": 4
}
