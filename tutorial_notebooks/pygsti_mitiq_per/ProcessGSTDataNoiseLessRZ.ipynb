{
 "cells": [
  {
   "cell_type": "markdown",
   "metadata": {},
   "source": [
    "# GST on Rigetti Backends with PyGSTi\n",
    "The purpose of this notebook is to use the data collected from a GST experiment that has been read into the `rigetti_first_run` directory and perform GST on it. \n",
    "\n",
    "This code was mostly taken from the tutorial notebook [UnitaryFundDemoNotebook1.ipynb\n",
    "](https://zenodo.org/record/5715199#.Yr_TOUjMLJF). "
   ]
  },
  {
   "cell_type": "code",
   "execution_count": 2,
   "metadata": {},
   "outputs": [],
   "source": [
    "#PyGSTi tools\n",
    "import pygsti\n",
    "from pygsti.modelpacks import smq1Q_XZ\n",
    "from pygsti.data.dataset import DataSet\n",
    "\n",
    "#Rigetti tools\n",
    "from mitiq.pec import NoisyOperation, NoisyBasis, OperationRepresentation, execute_with_pec\n",
    "from mitiq.pec.representations.optimal import find_optimal_representation\n",
    "\n",
    "#Qiskit imports\n",
    "from qiskit import QuantumCircuit\n",
    "from qiskit.quantum_info import SuperOp, Kraus, Operator, PTM \n",
    "from qiskit.circuit.library import RZGate, SXGate\n",
    "from qiskit import transpile\n",
    "from qiskit.providers.aer.noise import NoiseModel, QuantumError\n",
    "from qiskit import execute, Aer\n",
    "\n",
    "#Helper libraries\n",
    "import numpy as np\n",
    "from itertools import product\n",
    "import matplotlib.pyplot as plt\n",
    "\n",
    "#make numpy matrices easier to read\n",
    "np.set_printoptions(precision=3, suppress=True)\n",
    "plt.style.use(\"ggplot\")"
   ]
  },
  {
   "cell_type": "markdown",
   "metadata": {},
   "source": [
    "## Read data from experiment\n",
    "This data was written by the `get_gst_data.ipynb` file."
   ]
  },
  {
   "cell_type": "code",
   "execution_count": 3,
   "metadata": {},
   "outputs": [],
   "source": [
    "data = pygsti.io.read_data_from_dir('experiment_data/rigetti_first_run')"
   ]
  },
  {
   "cell_type": "markdown",
   "metadata": {},
   "source": [
    "## Run GST on the data"
   ]
  },
  {
   "cell_type": "code",
   "execution_count": 4,
   "metadata": {},
   "outputs": [
    {
     "name": "stdout",
     "output_type": "stream",
     "text": [
      "-- Std Practice:  Iter 1 of 3  (TP) --: \n",
      "  --- Iterative GST: [##################################################] 100.0%  550 circuits ---\n",
      "  Iterative GST Total Time: 2.1s\n",
      "-- Std Practice:  Iter 2 of 3  (CPTP) --: \n",
      "  --- Iterative GST: [##################################################] 100.0%  550 circuits ---\n",
      "  Iterative GST Total Time: 16.3s\n",
      "-- Std Practice:  Iter 3 of 3  (Target) --: \n"
     ]
    }
   ],
   "source": [
    "gst_protocol = pygsti.protocols.StandardGST('TP,CPTP,Target')\n",
    "results = gst_protocol.run(data)"
   ]
  },
  {
   "cell_type": "markdown",
   "metadata": {},
   "source": [
    "## Constrain to TPCP and gauge-optimize\n",
    "The estimates_final_model is an `ExplicitOpModel` type, which carries the preps, measurements, and operations as Pauli-transfer matrices. The documentation refers to this as the 'pauli-product' basis. The `forest_benchmarking` tools can be used to convert these into superoperators, which is the form mitiq uses to describe quantum channels."
   ]
  },
  {
   "cell_type": "markdown",
   "metadata": {},
   "source": [
    "## Re-run GST experiment with fixed Rz"
   ]
  },
  {
   "cell_type": "markdown",
   "metadata": {},
   "source": [
    "In this subsection we impose that RZ  must be equal to the ideal operation.\n",
    "\n",
    "This is procedure is adapted from page 3 of https://arxiv.org/abs/2002.12476.\n",
    "The main difference is that, instead of starting from a default initial model, we take the model the we obtained in the previous section, we fix RZ, and we use it as the initial condition for a new GST estimation.\n",
    "\n",
    "(Literally applying procedure of page 3 of https://arxiv.org/abs/2002.12476 produce a final result but doesn't seem to make sense since all operators look like ideal gates)."
   ]
  },
  {
   "cell_type": "code",
   "execution_count": 6,
   "metadata": {},
   "outputs": [],
   "source": [
    "# Define ideal RZ operation\n",
    "target_mdl = smq1Q_XZ.target_model()\n",
    "rz_matrix = target_mdl[('Gzpi2',0)].to_dense()\n",
    "dense_rz = pygsti.modelmembers.operations.DenseOperator(rz_matrix, evotype=\"default\")"
   ]
  },
  {
   "cell_type": "code",
   "execution_count": 7,
   "metadata": {},
   "outputs": [],
   "source": [
    "cptp_estimate = results.estimates['CPTP']\n",
    "initial_model = cptp_estimate.models['stdgaugeopt']\n",
    "initial_model[('Gzpi2',0)] = dense_rz"
   ]
  },
  {
   "cell_type": "code",
   "execution_count": 8,
   "metadata": {
    "scrolled": true
   },
   "outputs": [
    {
     "name": "stdout",
     "output_type": "stream",
     "text": [
      "--- Iterative GST: Iter 1 of 6  52 circuits ---: \n",
      "  MatrixLayout: 1 processors divided into 1 x 1 (= 1) grid along circuit and parameter directions.\n",
      "     1 atoms, parameter block size limits (None,)\n",
      "  *** Distributing 1 atoms to 1 atom-processing groups (1 cores) ***\n",
      "      More atom-processors than hosts: each host gets ~1 atom-processors\n",
      "      Atom-processors already occupy a single node, dividing atom-processor into 1 param-processors.\n",
      "  *** Divided 1-host atom-processor (~1 procs) into 1 param-processing groups ***\n",
      "  --- chi2 GST ---\n",
      "  Sum of Chi^2 = 106.368 (52 data params - 36 (approx) model params = expected mean of 16; p-value = 2.22045e-15)\n",
      "  Completed in 2.3s\n",
      "  Iteration 1 took 2.3s\n",
      "  \n",
      "--- Iterative GST: Iter 2 of 6  96 circuits ---: \n",
      "  MatrixLayout: 1 processors divided into 1 x 1 (= 1) grid along circuit and parameter directions.\n",
      "     1 atoms, parameter block size limits (None,)\n",
      "  *** Distributing 1 atoms to 1 atom-processing groups (1 cores) ***\n",
      "      More atom-processors than hosts: each host gets ~1 atom-processors\n",
      "      Atom-processors already occupy a single node, dividing atom-processor into 1 param-processors.\n",
      "  *** Divided 1-host atom-processor (~1 procs) into 1 param-processing groups ***\n",
      "  --- chi2 GST ---\n",
      "  Sum of Chi^2 = 263.49 (96 data params - 36 (approx) model params = expected mean of 60; p-value = 0)\n",
      "  Completed in 1.5s\n",
      "  Iteration 2 took 1.5s\n",
      "  \n",
      "--- Iterative GST: Iter 3 of 6  177 circuits ---: \n",
      "  MatrixLayout: 1 processors divided into 1 x 1 (= 1) grid along circuit and parameter directions.\n",
      "     1 atoms, parameter block size limits (None,)\n",
      "  *** Distributing 1 atoms to 1 atom-processing groups (1 cores) ***\n",
      "      More atom-processors than hosts: each host gets ~1 atom-processors\n",
      "      Atom-processors already occupy a single node, dividing atom-processor into 1 param-processors.\n",
      "  *** Divided 1-host atom-processor (~1 procs) into 1 param-processing groups ***\n",
      "  --- chi2 GST ---\n",
      "  Sum of Chi^2 = 555.113 (177 data params - 36 (approx) model params = expected mean of 141; p-value = 0)\n",
      "  Completed in 4.3s\n",
      "  Iteration 3 took 4.3s\n",
      "  \n",
      "--- Iterative GST: Iter 4 of 6  292 circuits ---: \n",
      "  MatrixLayout: 1 processors divided into 1 x 1 (= 1) grid along circuit and parameter directions.\n",
      "     1 atoms, parameter block size limits (None,)\n",
      "  *** Distributing 1 atoms to 1 atom-processing groups (1 cores) ***\n",
      "      More atom-processors than hosts: each host gets ~1 atom-processors\n",
      "      Atom-processors already occupy a single node, dividing atom-processor into 1 param-processors.\n",
      "  *** Divided 1-host atom-processor (~1 procs) into 1 param-processing groups ***\n",
      "  --- chi2 GST ---\n",
      "  Sum of Chi^2 = 1395.09 (292 data params - 36 (approx) model params = expected mean of 256; p-value = 0)\n",
      "  Completed in 2.3s\n",
      "  Iteration 4 took 2.4s\n",
      "  \n",
      "--- Iterative GST: Iter 5 of 6  421 circuits ---: \n",
      "  MatrixLayout: 1 processors divided into 1 x 1 (= 1) grid along circuit and parameter directions.\n",
      "     1 atoms, parameter block size limits (None,)\n",
      "  *** Distributing 1 atoms to 1 atom-processing groups (1 cores) ***\n",
      "      More atom-processors than hosts: each host gets ~1 atom-processors\n",
      "      Atom-processors already occupy a single node, dividing atom-processor into 1 param-processors.\n",
      "  *** Divided 1-host atom-processor (~1 procs) into 1 param-processing groups ***\n",
      "  --- chi2 GST ---\n",
      "  Sum of Chi^2 = 2867.18 (421 data params - 36 (approx) model params = expected mean of 385; p-value = 0)\n",
      "  Completed in 1.4s\n",
      "  Iteration 5 took 1.6s\n",
      "  \n",
      "--- Iterative GST: Iter 6 of 6  550 circuits ---: \n",
      "  MatrixLayout: 1 processors divided into 1 x 1 (= 1) grid along circuit and parameter directions.\n",
      "     1 atoms, parameter block size limits (None,)\n",
      "  *** Distributing 1 atoms to 1 atom-processing groups (1 cores) ***\n",
      "      More atom-processors than hosts: each host gets ~1 atom-processors\n",
      "      Atom-processors already occupy a single node, dividing atom-processor into 1 param-processors.\n",
      "  *** Divided 1-host atom-processor (~1 procs) into 1 param-processing groups ***\n",
      "  --- chi2 GST ---\n",
      "  Sum of Chi^2 = 4199.43 (550 data params - 36 (approx) model params = expected mean of 514; p-value = 0)\n",
      "  Completed in 1.9s\n",
      "  Iteration 6 took 2.1s\n",
      "  \n",
      "  Last iteration:\n",
      "  --- dlogl GST ---\n",
      "  2*Delta(log(L)) = 4145.12 (550 data params - 36 (approx) model params = expected mean of 514; p-value = 0)\n",
      "  Completed in 1.0s\n",
      "  Final optimization took 1.0s\n",
      "  \n",
      "Iterative GST Total Time: 15.2s\n"
     ]
    }
   ],
   "source": [
    "# Run GST (on existing data)\n",
    "results = pygsti.protocols.GST(initial_model, gaugeopt_suite=None).run(data)"
   ]
  },
  {
   "cell_type": "code",
   "execution_count": 9,
   "metadata": {},
   "outputs": [
    {
     "name": "stdout",
     "output_type": "stream",
     "text": [
      "[[ 1.    -0.     0.     0.   ]\n",
      " [ 0.007  0.989  0.06  -0.066]\n",
      " [-0.004 -0.058  0.012 -0.976]\n",
      " [-0.006 -0.057  0.975  0.015]]\n",
      "[[ 1.  0.  0.  0.]\n",
      " [ 0.  0. -1.  0.]\n",
      " [ 0.  1.  0.  0.]\n",
      " [ 0.  0.  0.  1.]]\n"
     ]
    }
   ],
   "source": [
    "new_model = results.estimates['GateSetTomography'].models['final iteration estimate']\n",
    "print(new_model.operations[('Gxpi2',0)].to_dense())\n",
    "print(new_model.operations[('Gzpi2',0)].to_dense())"
   ]
  },
  {
   "cell_type": "code",
   "execution_count": 14,
   "metadata": {},
   "outputs": [],
   "source": [
    "# Convert operator transfer matrix to superoperator\n",
    "superop_rep_x = SuperOp(PTM(new_model.operations[('Gxpi2',0)].to_dense()))\n",
    "superop_rep_z = SuperOp(PTM(new_model.operations[('Gzpi2',0)].to_dense()))\n",
    "superops = [superop_rep_x, superop_rep_z]"
   ]
  },
  {
   "cell_type": "code",
   "execution_count": 26,
   "metadata": {},
   "outputs": [],
   "source": [
    "#Create a list of ideal gates as labels for the noisy ones\n",
    "ideal_gates = [SXGate(), RZGate(np.pi/2), IGate()]"
   ]
  },
  {
   "cell_type": "code",
   "execution_count": 27,
   "metadata": {},
   "outputs": [],
   "source": [
    "def get_gate_sequences(n):\n",
    "    NoisyOperations = []\n",
    "\n",
    "    for string in product(zip(superops,ideal_gates), repeat=n): #combine the noisy and ideal ops and iterate through words\n",
    "        qc = QuantumCircuit(1)\n",
    "        superop = SuperOp(np.identity(4)) #start at the identity op\n",
    "\n",
    "        for (noisy_op, ideal_op) in string: #iterate through all the pairs in string\n",
    "            qc.append(ideal_op,[0]) #add the ideal op to circuit\n",
    "            superop = superop.compose(noisy_op) #compose the noisy op for total channel\n",
    "\n",
    "        NoisyOperations.append(NoisyOperation(qc, superop.data)) #Instatiate NoisyOperation and add to array\n",
    "    \n",
    "    return NoisyOperations.copy()\n",
    "\n",
    "NoisyOperations = []\n",
    "N = 4\n",
    "\n",
    "for i in range(N): #do this for all n <= N\n",
    "    NoisyOperations = np.concatenate((NoisyOperations, get_gate_sequences(i+1)))\n",
    "\n",
    "#combine into basis object\n",
    "noisy_basis = NoisyBasis(*NoisyOperations)"
   ]
  },
  {
   "cell_type": "code",
   "execution_count": 28,
   "metadata": {},
   "outputs": [],
   "source": [
    "noisy_basis = NoisyBasis(*NoisyOperations)"
   ]
  },
  {
   "cell_type": "code",
   "execution_count": 29,
   "metadata": {},
   "outputs": [
    {
     "name": "stdout",
     "output_type": "stream",
     "text": [
      "q_0: ───X^0.5─── = -0.112*(q_0: ───X^0.5───X^0.5───X^0.5───X^0.5───)+0.277*(q_0: ───Rz(0.5π)───X^0.5───X^0.5───Rz(0.5π)───)+0.024*(q_0: ───Rz(0.5π)───X^0.5───Rz(0.5π)───X^0.5───)+0.389*(q_0: ───X^0.5───X^0.5───Rz(0.5π)───X^0.5───)+0.717*(q_0: ───X^0.5───)-0.314*(q_0: ───X^0.5───X^0.5───X^0.5───)+0.010*(q_0: ───X^0.5───Rz(0.5π)───Rz(0.5π)───Rz(0.5π)───)+0.364*(q_0: ───Rz(0.5π)───Rz(0.5π)───Rz(0.5π)───Rz(0.5π)───)-0.008*(q_0: ───Rz(0.5π)───Rz(0.5π)───Rz(0.5π)───X^0.5───)-0.372*(q_0: ───Rz(0.5π)───X^0.5───Rz(0.5π)───Rz(0.5π)───)+0.005*(q_0: ───Rz(0.5π)───X^0.5───X^0.5───)+0.048*(q_0: ───Rz(0.5π)───)-0.030*(q_0: ───Rz(0.5π)───Rz(0.5π)───X^0.5───)\n",
      "Overhead:  2.6700759004107626\n"
     ]
    }
   ],
   "source": [
    "optimal_circuit = QuantumCircuit(1)\n",
    "optimal_circuit.append(RXGate(-np.pi/2), [0])\n",
    "\n",
    "#get optimal representation in terms of noisy gates\n",
    "optimal_rep = find_optimal_representation(optimal_circuit, noisy_basis, tol=.0001)\n",
    "\n",
    "optimal_circuit = QuantumCircuit(1)\n",
    "optimal_circuit.sx(0)\n",
    "optimal_rep = OperationRepresentation(optimal_circuit,optimal_rep.basis_expansion)\n",
    "\n",
    "print(optimal_rep)\n",
    "print(\"Overhead: \", optimal_rep.norm) #hopefully close to 1"
   ]
  },
  {
   "cell_type": "code",
   "execution_count": 30,
   "metadata": {},
   "outputs": [
    {
     "name": "stdout",
     "output_type": "stream",
     "text": [
      "Approximated superoperator\n",
      "[[ 0.5-0.j   0. -0.5j  0. +0.5j  0.5+0.j ]\n",
      " [ 0. -0.5j  0.5-0.j   0.5+0.j   0. +0.5j]\n",
      " [ 0. +0.5j  0.5-0.j   0.5+0.j   0. -0.5j]\n",
      " [ 0.5+0.j  -0. +0.5j -0. -0.5j  0.5-0.j ]]\n",
      "------------------------------\n",
      "Ideal superoperator\n",
      "[[0.5+0.j  0. -0.5j 0. +0.5j 0.5+0.j ]\n",
      " [0. -0.5j 0.5+0.j  0.5+0.j  0. +0.5j]\n",
      " [0. +0.5j 0.5+0.j  0.5+0.j  0. -0.5j]\n",
      " [0.5+0.j  0. +0.5j 0. -0.5j 0.5+0.j ]]\n"
     ]
    }
   ],
   "source": [
    "matrices = [m.channel_matrix for m in optimal_rep.noisy_operations]\n",
    "mat = sum(m*coeff for (m,coeff) in zip(matrices, optimal_rep.coeffs))\n",
    "print(\"Approximated superoperator\")\n",
    "print(mat)\n",
    "print('------------------------------')\n",
    "print(\"Ideal superoperator\")\n",
    "ideal_mat = SuperOp(RXGate(np.pi/2)).data #It clearly matches RX(pi/2), but I don't know why\n",
    "print(ideal_mat)"
   ]
  },
  {
   "cell_type": "code",
   "execution_count": 31,
   "metadata": {},
   "outputs": [],
   "source": [
    "#convert PEC rep to PER rep\n",
    "def get_canonical_noise_scaled_rep(op_rep : OperationRepresentation,\n",
    "                                   lmbda) -> OperationRepresentation:\n",
    "    #copy data from previous rep\n",
    "    noisy_ops = op_rep.noisy_operations\n",
    "    coeffs = list(op_rep.coeffs)\n",
    "    ideal_program = op_rep.ideal\n",
    "\n",
    "    #define terms\n",
    "    gammaminus = .5*(op_rep.norm-1)\n",
    "    gammaplus = .5*(op_rep.norm+1)\n",
    "\n",
    "    #scale coefficients accordingly\n",
    "    for (i,coeff) in enumerate(coeffs):\n",
    "        if coeff < 0:\n",
    "            coeffs[i] = coeff*(1-lmbda)\n",
    "        else:\n",
    "            coeffs[i] = coeff/gammaplus*(gammaplus-lmbda*gammaminus)\n",
    "    \n",
    "    #construct and return new representation\n",
    "    scaled_rep_dict = dict(zip(noisy_ops, coeffs))\n",
    "    return OperationRepresentation(ideal_program, scaled_rep_dict)"
   ]
  },
  {
   "cell_type": "code",
   "execution_count": 32,
   "metadata": {},
   "outputs": [
    {
     "data": {
      "text/html": [
       "<pre style=\"word-wrap: normal;white-space: pre;background: #fff0;line-height: 1.1;font-family: &quot;Courier New&quot;,Courier,monospace\">   ┌────┐┌────┐\n",
       "q: ┤ √X ├┤ √X ├\n",
       "   └────┘└────┘</pre>"
      ],
      "text/plain": [
       "   ┌────┐┌────┐\n",
       "q: ┤ √X ├┤ √X ├\n",
       "   └────┘└────┘"
      ]
     },
     "execution_count": 32,
     "metadata": {},
     "output_type": "execute_result"
    }
   ],
   "source": [
    "qc = QuantumCircuit(1)\n",
    "qc.x(0)\n",
    "\n",
    "qc = transpile(qc, basis_gates = ['rz','sx'])\n",
    "qc.draw()"
   ]
  },
  {
   "cell_type": "code",
   "execution_count": 43,
   "metadata": {},
   "outputs": [],
   "source": [
    "rxnoise = superop_rep_x @ SuperOp(np.linalg.inv(SuperOp(SXGate()).data))"
   ]
  },
  {
   "cell_type": "code",
   "execution_count": 46,
   "metadata": {},
   "outputs": [
    {
     "data": {
      "text/plain": [
       "SuperOp([[ 0.505+0.j   , -0.029-0.487j, -0.029+0.487j,  0.489+0.j   ],\n",
       "         [-0.03 -0.49j ,  0.5  -0.059j,  0.489+0.001j,  0.036+0.486j],\n",
       "         [-0.03 +0.49j ,  0.489-0.001j,  0.5  +0.059j,  0.036-0.486j],\n",
       "         [ 0.495+0.j   ,  0.029+0.487j,  0.029-0.487j,  0.511+0.j   ]],\n",
       "        input_dims=(2,), output_dims=(2,))"
      ]
     },
     "execution_count": 46,
     "metadata": {},
     "output_type": "execute_result"
    }
   ],
   "source": [
    "superop_rep_x"
   ]
  },
  {
   "cell_type": "code",
   "execution_count": 47,
   "metadata": {},
   "outputs": [
    {
     "data": {
      "text/plain": [
       "SuperOp([[ 0.505+0.j   , -0.029-0.487j, -0.029+0.487j,  0.489+0.j   ],\n",
       "         [-0.03 -0.49j ,  0.5  -0.059j,  0.489+0.001j,  0.036+0.486j],\n",
       "         [-0.03 +0.49j ,  0.489-0.001j,  0.5  +0.059j,  0.036-0.486j],\n",
       "         [ 0.495+0.j   ,  0.029+0.487j,  0.029-0.487j,  0.511+0.j   ]],\n",
       "        input_dims=(2,), output_dims=(2,))"
      ]
     },
     "execution_count": 47,
     "metadata": {},
     "output_type": "execute_result"
    }
   ],
   "source": [
    "rxnoise @ SuperOp(SXGate())"
   ]
  },
  {
   "cell_type": "code",
   "execution_count": 49,
   "metadata": {},
   "outputs": [],
   "source": [
    "noisemodel = NoiseModel()\n",
    "rxerror = QuantumError(rxnoise)\n",
    "noisemodel.add_all_qubit_quantum_error(rxerror, instructions=['sx'])"
   ]
  },
  {
   "cell_type": "code",
   "execution_count": 71,
   "metadata": {},
   "outputs": [],
   "source": [
    "shots = 1000\n",
    "def noisy_executor(circ):\n",
    "    qc = circ.copy()\n",
    "    backend = Aer.get_backend('qasm_simulator')\n",
    "    qc.measure_all()\n",
    "    counts = backend.run(qc, noise_model = noisemodel, shots=shots).result().get_counts()\n",
    "    return (counts.get('0', 0)-counts.get('1',0))/shots"
   ]
  },
  {
   "cell_type": "code",
   "execution_count": 72,
   "metadata": {},
   "outputs": [
    {
     "data": {
      "text/plain": [
       "-0.9449124228672575"
      ]
     },
     "execution_count": 72,
     "metadata": {},
     "output_type": "execute_result"
    }
   ],
   "source": [
    "execute_with_pec(qc, noisy_executor, representations=[optimal_rep], num_samples= 5000)"
   ]
  },
  {
   "cell_type": "code",
   "execution_count": 67,
   "metadata": {},
   "outputs": [
    {
     "data": {
      "text/plain": [
       "-0.964"
      ]
     },
     "execution_count": 67,
     "metadata": {},
     "output_type": "execute_result"
    }
   ],
   "source": [
    "noisy_executor(qc)"
   ]
  },
  {
   "cell_type": "code",
   "execution_count": 208,
   "metadata": {},
   "outputs": [],
   "source": [
    "deltat = .5\n",
    "omega = .1\n",
    "def trotter(T):\n",
    "    qc = QuantumCircuit(1)\n",
    "    N = int(T/deltat)\n",
    "    for n in range(N):\n",
    "        qc.rz(2*deltat*np.cos(n*deltat*omega), 0)\n",
    "        qc.rx(2*deltat*np.sin(n*deltat*omega), 0)\n",
    "    return qc"
   ]
  },
  {
   "cell_type": "code",
   "execution_count": 211,
   "metadata": {},
   "outputs": [],
   "source": [
    "res = []\n",
    "depths = np.linspace(0, 10*np.pi, 30)\n",
    "for i in depths:\n",
    "    qc = trotter(i)\n",
    "    qc.measure_all()\n",
    "    circ = transpile(qc,basis_gates = ['sx','rz'])\n",
    "    results  = backend.run(qc, shots = 1000).result().get_counts()\n",
    "    res.append((results.get('0',0)-results.get('1',0))/sum(results.values()))"
   ]
  },
  {
   "cell_type": "code",
   "execution_count": 212,
   "metadata": {},
   "outputs": [
    {
     "data": {
      "text/plain": [
       "[<matplotlib.lines.Line2D at 0x7fe0237dbd00>]"
      ]
     },
     "execution_count": 212,
     "metadata": {},
     "output_type": "execute_result"
    },
    {
     "data": {
      "image/png": "[encoded data removed]",
      "text/plain": [
       "<Figure size 432x288 with 1 Axes>"
      ]
     },
     "metadata": {},
     "output_type": "display_data"
    }
   ],
   "source": [
    "plt.plot(depths, res)"
   ]
  }
 ],
 "metadata": {
  "kernelspec": {
   "display_name": "Python 3.8.13 ('mitiq')",
   "language": "python",
   "name": "python3"
  },
  "language_info": {
   "codemirror_mode": {
    "name": "ipython",
    "version": 3
   },
   "file_extension": ".py",
   "mimetype": "text/x-python",
   "name": "python",
   "nbconvert_exporter": "python",
   "pygments_lexer": "ipython3",
   "version": "3.8.13"
  },
  "vscode": {
   "interpreter": {
    "hash": "c7c859f551ac771d7ec7b66508341cbf372a533465b4e32d787c7352e7a7fb68"
   }
  }
 },
 "nbformat": 4,
 "nbformat_minor": 4
}
