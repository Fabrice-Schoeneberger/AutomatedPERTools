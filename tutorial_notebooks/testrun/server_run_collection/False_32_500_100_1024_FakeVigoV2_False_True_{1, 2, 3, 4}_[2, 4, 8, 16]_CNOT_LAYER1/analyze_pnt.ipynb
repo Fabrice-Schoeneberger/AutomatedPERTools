{
 "cells": [
  {
   "cell_type": "code",
   "execution_count": 79,
   "metadata": {},
   "outputs": [],
   "source": [
    "import matplotlib.pyplot as plt\n",
    "from matplotlib import pyplot as plt\n",
    "import os\n",
    "import sys\n",
    "import numpy as np\n",
    "from qiskit.quantum_info import pauli_basis, PTM\n",
    "\n",
    "home_folder = os.getcwd()\n",
    "while not home_folder.endswith(\"AutomatedPERTools\"):\n",
    "    home_folder = os.path.dirname(home_folder)\n",
    "sys.path.append(os.path.join(home_folder, \"pauli_lindblad_per\"))\n",
    "import pickle"
   ]
  },
  {
   "cell_type": "code",
   "execution_count": 80,
   "metadata": {},
   "outputs": [],
   "source": [
    "def decipher_name(namebase):\n",
    "    i = 0\n",
    "    dic = dict()\n",
    "    split_namebase = namebase.split(\"_\")\n",
    "    #parser.add_argument('--plusone', '-p', help='Takes Neighboring qubits into account', default=False, action='store_true')\n",
    "    #i, dic[\"tomography_connections\"] = i+1, (split_namebase[i] == \"True\")\n",
    "    #parser.add_argument('--sum', '-s', help='Same as -p and turns sumation on over neighboring qubits', default=False, action='store_true')\n",
    "    i, dic[\"sum_over_lambda\"] = i+1, (split_namebase[i] == \"True\")\n",
    "    if dic[\"sum_over_lambda\"]:\n",
    "        dic[\"tomography_connections\"] = True\n",
    "    #parser.add_argument('--pntsamples', type=int, help='How many samples in PNT? Default: 16', default=16)\n",
    "    i, dic[\"pntsamples\"] = i+1, int(split_namebase[i])\n",
    "    #parser.add_argument('--pntsinglesamples', type=int, help='How many single samples in PNT? Default: 100', default=100)\n",
    "    i, dic[\"pntsinglesamples\"] = i+1, int(split_namebase[i])\n",
    "    #parser.add_argument('--persamples', type=int, help='How many samples in PER? Default: 100', default=100)\n",
    "    i, dic[\"persamples\"] = i+1, int(split_namebase[i])\n",
    "    #parser.add_argument('--shots', type=int, help='How many shots? Default: 1000', default=1000)\n",
    "    i, dic[\"shots\"] = i+1, int(split_namebase[i])\n",
    "    #parser.add_argument('--backend', type=str, help='Which backend to use? Default: FakeVigoV2', default=\"FakeVigoV2\")\n",
    "    import qiskit.providers.fake_provider as fake_provider\n",
    "    backend = fake_provider.FakeVigoV2()\n",
    "    if split_namebase[i] != \"FakeVigoV2\":\n",
    "        method = getattr(fake_provider, split_namebase[i])\n",
    "        backend = method()\n",
    "    dic[\"backend\"] = backend\n",
    "    dic[\"backend_literal\"] = split_namebase[i]\n",
    "    i+=1\n",
    "\n",
    "    #parser.add_argument('--cross', '-c', help='Simulates Cross Talk Noise', default=False, action='store_true')\n",
    "    i, dic[\"do_cross_talk_noise\"] = i+1, (split_namebase[i] == \"True\")\n",
    "    #parser.add_argument('--allqubits', '-a', help='runs over all qubits in the tomography', default=False, action='store_true')\n",
    "    #i, dic[\"allqubits\"] = i+1, (split_namebase[i] == \"True\")\n",
    "    #parser.add_argument('--onlyTomography', help='Only does the tomography and then ends the program', default=False, action='store_true')\n",
    "    i, dic[\"onlyTomography\"] = i+1, (split_namebase[i] == \"True\")\n",
    "\n",
    "    #parser.add_argument('--setqubits', type=int, nargs='+', help='Which qubits to use?: Default: 0123 and transpile')\n",
    "    import ast\n",
    "    i, dic[\"qubits\"]= i+1, ast.literal_eval(split_namebase[i])\n",
    "    if dic[\"qubits\"] !=  [0,1,2,3]:\n",
    "        dic[\"num_qubits\"] = backend.num_qubits    \n",
    "    else:\n",
    "        dic[\"num_qubits\"] = len(dic[\"qubits\"])\n",
    "    #if split_namebase[7] == '[0,1,2,3]' and split_namebase[8] == 'and' and split_namebase[9] == 'transpile':\n",
    "    return dic"
   ]
  },
  {
   "cell_type": "code",
   "execution_count": 81,
   "metadata": {},
   "outputs": [
    {
     "name": "stdout",
     "output_type": "stream",
     "text": [
      "False_32_500_100_1024_FakeVigoV2_False_True_{1, 2, 3, 4}_[2, 4, 8, 16]_CNOT_LAYER1\n"
     ]
    }
   ],
   "source": [
    "\n",
    "print(os.path.basename(os.getcwd()))"
   ]
  },
  {
   "cell_type": "code",
   "execution_count": 82,
   "metadata": {},
   "outputs": [
    {
     "name": "stdout",
     "output_type": "stream",
     "text": [
      "False_32_500_100_1024_FakeVigoV2_False_True_{1, 2, 3, 4}_[2, 4, 8, 16]_CNOT_LAYER1\n"
     ]
    }
   ],
   "source": [
    "# Determine Folders\n",
    "main_folder_path = \"tutorial_notebooks/testrun/server_run_collection\".split('/')\n",
    "main_folder = \"\"\n",
    "for segment in main_folder_path:\n",
    "    main_folder = os.path.join(main_folder, segment)\n",
    "folders = [f for f in os.listdir(os.path.join(home_folder, main_folder)) if os.path.isdir(os.path.join(os.path.join(home_folder, main_folder), f))]\n",
    "filtered_folders = [os.path.basename(os.getcwd())]\n",
    "for folder in filtered_folders:\n",
    "    print(folder)"
   ]
  },
  {
   "cell_type": "code",
   "execution_count": 83,
   "metadata": {},
   "outputs": [
    {
     "name": "stdout",
     "output_type": "stream",
     "text": [
      "/home/fabrice/Dokumente/Masterarbeit/AutomatedPERTools/tutorial_notebooks/testrun/server_run_collection/False_32_500_100_1024_FakeVigoV2_False_True_{1, 2, 3, 4}_[2, 4, 8, 16]_CNOT_LAYER1/coeffs.pickle\n"
     ]
    }
   ],
   "source": [
    "# Load Data\n",
    "coeffs_datas = []\n",
    "infidelities_datas = []\n",
    "for folder in filtered_folders:\n",
    "    print(os.path.join(os.path.join(os.path.join(home_folder, main_folder),folder), \"coeffs.pickle\"))\n",
    "    with open(os.path.join(os.path.join(os.path.join(home_folder, main_folder),folder), \"coeffs.pickle\"), \"rb\") as f:\n",
    "        coeffs = pickle.load(f)\n",
    "    coeffs_datas.append(coeffs)\n",
    "    with open(os.path.join(os.path.join(os.path.join(home_folder, main_folder),folder), \"infidelities.pickle\"), \"rb\") as f:\n",
    "        infidelities = pickle.load(f)\n",
    "        \"\"\" \n",
    "        print(infidelities)\n",
    "        inf2 = []\n",
    "    for inf in infidelities:\n",
    "        tempdic = {}\n",
    "        for temp2 in inf:\n",
    "            for i in temp2:\n",
    "                print(i)\n",
    "                tempdic[i] = temp2[i]\n",
    "        inf2.append(tempdic)\n",
    "    print(coeffs)\n",
    "    print(inf2)\n",
    "    infidelities = inf2\n",
    "    with open(os.path.join(os.path.join(os.path.join(home_folder, main_folder),folder), \"infidelities.pickle\"), \"wb\") as f:\n",
    "        pickle.dump(infidelities, f) \"\"\"\n",
    "    infidelities_datas.append(infidelities)"
   ]
  },
  {
   "cell_type": "code",
   "execution_count": 84,
   "metadata": {},
   "outputs": [],
   "source": [
    "def make_initial_Circuit2(backend):\n",
    "    from qiskit import transpile, QuantumCircuit\n",
    "    circuit = QuantumCircuit(5)\n",
    "    circuit.cx(0,1)\n",
    "    circuit.cx(2,3)\n",
    "    #return [circuit]\n",
    "    return [transpile(circuit, backend)]"
   ]
  },
  {
   "cell_type": "code",
   "execution_count": 85,
   "metadata": {},
   "outputs": [
    {
     "name": "stdout",
     "output_type": "stream",
     "text": [
      "              \n",
      "q_4 -> 0 ─────\n",
      "              \n",
      "q_0 -> 1 ──■──\n",
      "         ┌─┴─┐\n",
      "q_1 -> 2 ┤ X ├\n",
      "         └───┘\n",
      "q_2 -> 3 ──■──\n",
      "         ┌─┴─┐\n",
      "q_3 -> 4 ┤ X ├\n",
      "         └───┘\n"
     ]
    }
   ],
   "source": [
    "with open(os.path.join(os.path.join(os.path.join(home_folder, main_folder),filtered_folders[0]), \"noise_model.pickle\"), \"rb\") as f:\n",
    "    (noise_model, twoqubit_error_template, singlequbit_error_template) = pickle.load(f)\n",
    "#from TrotterExample import get_noise_model, make_initial_Circuit, make_initial_Circuit2\n",
    "#(noise_model, twoqubit_error_template, singlequbit_error_template) = get_noise_model()\n",
    "dic = decipher_name(filtered_folders[0])\n",
    "backend = dic[\"backend\"]\n",
    "circuit = make_initial_Circuit2(backend)[0]\n",
    "print(circuit)"
   ]
  },
  {
   "cell_type": "code",
   "execution_count": 86,
   "metadata": {},
   "outputs": [],
   "source": [
    "def get_index(qc, inst, i=None):\n",
    "    if i:\n",
    "        qubit = inst.qubits[i]\n",
    "        index = -1\n",
    "        for register in qc.qregs:  # Assuming you're using `QuantumCircuit`\n",
    "            if qubit in register:\n",
    "                index = register.index(qubit)\n",
    "                break\n",
    "        return index\n",
    "    else:\n",
    "        qubits = inst.qubits\n",
    "        indexes = []\n",
    "        for qubit in qubits:\n",
    "            index = -1\n",
    "            for register in qc.qregs:  # Assuming you're using `QuantumCircuit`\n",
    "                if qubit in register:\n",
    "                    index = register.index(qubit)\n",
    "                    break\n",
    "            indexes.append(index)\n",
    "        return indexes"
   ]
  },
  {
   "cell_type": "code",
   "execution_count": 87,
   "metadata": {},
   "outputs": [],
   "source": [
    "sys.path.append(os.path.join(os.path.join(home_folder, \"tutorial_notebooks\"),\"testrun\"))\n",
    "from TrotterExample import circuit_to_layers\n",
    "from primitives.circuit import QiskitCircuit\n",
    "\n",
    "layers = circuit_to_layers(QiskitCircuit(circuit))"
   ]
  },
  {
   "cell_type": "code",
   "execution_count": 88,
   "metadata": {},
   "outputs": [],
   "source": [
    "def get_error_for_circuit(circuit, twoqubit_error_template, singlequbit_error_template, backend):\n",
    "    from qiskit.quantum_info import Pauli\n",
    "    def mul_Pauli(pauli1, pauli2):\n",
    "        result = pauli1.compose(pauli2)\n",
    "        nophase = Pauli((result.z, result.x))\n",
    "        return nophase\n",
    "\n",
    "    num_qubits = backend.num_qubits\n",
    "    identity_string = 'I'*num_qubits\n",
    "    error_state = {Pauli(identity_string): 1}\n",
    "    for inst in circuit:\n",
    "        temp_error_state = {}\n",
    "        indexes = get_index(circuit, inst)\n",
    "        if inst.operation.name == \"cx\":\n",
    "            for og_op in error_state:\n",
    "                op = og_op\n",
    "                if og_op[indexes[0]] == 'X' or og_op[indexes[0]] == 'Y':\n",
    "                    temp_op = Pauli(\"\".join(reversed(identity_string[:indexes[1]] + 'X' + identity_string[indexes[1]+1:])))\n",
    "                    op = mul_Pauli(temp_op, op)\n",
    "                if og_op[indexes[1]] == 'Z' or og_op[indexes[1]] == 'Y':\n",
    "                    temp_op = Pauli(\"\".join(reversed(identity_string[:indexes[0]] + 'Z' + identity_string[indexes[0]+1:])))\n",
    "                    op = mul_Pauli(temp_op, op)\n",
    "                temp_error_state[op] = error_state[og_op]\n",
    "            error_state = temp_error_state\n",
    "            temp_error_state = {}\n",
    "        if len(indexes) == 1:\n",
    "            index = indexes[0]\n",
    "            for (op, p) in singlequbit_error_template:\n",
    "                op = Pauli(\"\".join(reversed(identity_string[:index] + str(op)+ identity_string[index+1:])))\n",
    "                for og_op in error_state:\n",
    "                    og_p = error_state[og_op]\n",
    "                    new_op = mul_Pauli(op, og_op)\n",
    "                    temp_error_state[new_op] = temp_error_state.get(new_op, 0) + p*og_p\n",
    "        elif len(indexes) == 2:\n",
    "            for (op, p) in twoqubit_error_template:\n",
    "                temp_string = (identity_string[:indexes[0]] + \"\".join(reversed(str(op)))[0]+ identity_string[indexes[0]+1:])\n",
    "                op = Pauli(\"\".join(reversed(temp_string[:indexes[1]] + \"\".join(reversed(str(op)))[1]+ temp_string[indexes[1]+1:])))\n",
    "                for og_op in error_state:\n",
    "                    og_p = error_state[og_op]\n",
    "                    new_op = mul_Pauli(op, og_op)\n",
    "                    temp_error_state[new_op] = temp_error_state.get(new_op, 0) + p*og_p\n",
    "        else:\n",
    "            if inst.operation.name == 'barrier':\n",
    "                continue\n",
    "            raise Exception(\"Too many qubits\")\n",
    "        error_state = temp_error_state\n",
    "    return [(op, error_state[op]) for op in error_state]"
   ]
  },
  {
   "cell_type": "code",
   "execution_count": 89,
   "metadata": {},
   "outputs": [],
   "source": [
    "def model_terms(layer, *list):\n",
    "    return layer._model_terms(list)"
   ]
  },
  {
   "cell_type": "code",
   "execution_count": 90,
   "metadata": {},
   "outputs": [],
   "source": [
    "def splice_string(string, indexes):\n",
    "    for index in sorted(indexes):\n",
    "        index -= sorted(indexes).index(index)\n",
    "        string = string[:index]+string[index+1:]\n",
    "    return string"
   ]
  },
  {
   "cell_type": "code",
   "execution_count": 91,
   "metadata": {},
   "outputs": [
    {
     "name": "stdout",
     "output_type": "stream",
     "text": [
      "1 0\n",
      "2 1\n",
      "3 1\n",
      "4 3\n",
      "[Pauli('IIIIX'), Pauli('IIIIY'), Pauli('IIIIZ'), Pauli('IIIXI'), Pauli('IIIYI'), Pauli('IIIZI'), Pauli('IIXII'), Pauli('IIYII'), Pauli('IIZII'), Pauli('IXIII'), Pauli('IYIII'), Pauli('IZIII'), Pauli('XIIII'), Pauli('YIIII'), Pauli('ZIIII'), Pauli('IIIXX'), Pauli('IIIXY'), Pauli('IIIXZ'), Pauli('IIIYX'), Pauli('IIIYY'), Pauli('IIIYZ'), Pauli('IIIZX'), Pauli('IIIZY'), Pauli('IIIZZ'), Pauli('IIXXI'), Pauli('IIXYI'), Pauli('IIXZI'), Pauli('IIYXI'), Pauli('IIYYI'), Pauli('IIYZI'), Pauli('IIZXI'), Pauli('IIZYI'), Pauli('IIZZI'), Pauli('IXIXI'), Pauli('IXIYI'), Pauli('IXIZI'), Pauli('IYIXI'), Pauli('IYIYI'), Pauli('IYIZI'), Pauli('IZIXI'), Pauli('IZIYI'), Pauli('IZIZI'), Pauli('XXIII'), Pauli('XYIII'), Pauli('XZIII'), Pauli('YXIII'), Pauli('YYIII'), Pauli('YZIII'), Pauli('ZXIII'), Pauli('ZYIII'), Pauli('ZZIII')]\n"
     ]
    }
   ],
   "source": [
    "choosen_qubits = [0,1,2,3,4]\n",
    "layer_number = 0\n",
    "groups = []\n",
    "used_qubits = len(choosen_qubits)\n",
    "for qubit in choosen_qubits:\n",
    "    groups += [pauli for pauli in pauli_basis(used_qubits) if str(pauli)[::-1][qubit] != 'I' and (splice_string(str(pauli)[::-1], [qubit]) == 'I'*(used_qubits-1))]\n",
    "for qubit1, qubit2 in reversed([i for i in backend.coupling_map]):\n",
    "    if qubit1 > qubit2:\n",
    "        print(qubit1, qubit2)\n",
    "        groups += [pauli for pauli in pauli_basis(used_qubits) if str(pauli)[::-1][choosen_qubits[qubit1]] != 'I' and str(pauli)[::-1][choosen_qubits[qubit2]] != 'I' and (splice_string(str(pauli)[::-1], [choosen_qubits[qubit1], choosen_qubits[qubit2]]) == 'I'*(used_qubits-2))]\n",
    "print(groups)"
   ]
  },
  {
   "cell_type": "code",
   "execution_count": 92,
   "metadata": {},
   "outputs": [
    {
     "data": {
      "text/plain": [
       "[(Pauli('I'), 1)]"
      ]
     },
     "execution_count": 92,
     "metadata": {},
     "output_type": "execute_result"
    }
   ],
   "source": [
    "from qiskit.quantum_info import Pauli\n",
    "singlequbit_error_template = [(Pauli('I'), 1)]\n",
    "singlequbit_error_template"
   ]
  },
  {
   "cell_type": "code",
   "execution_count": 93,
   "metadata": {},
   "outputs": [],
   "source": [
    "def swap_first_two_chars(s):\n",
    "    # If the string has less than 2 characters, return the string as it is\n",
    "    if len(s) < 2:\n",
    "        return s\n",
    "    # Swap the first two characters\n",
    "    return s[1] + s[0] + s[2:]"
   ]
  },
  {
   "cell_type": "code",
   "execution_count": 94,
   "metadata": {},
   "outputs": [
    {
     "name": "stdout",
     "output_type": "stream",
     "text": [
      "{'IXIXI': 0.0025000000000000005, 'IXIII': 0.0475, 'IIIXI': 0.0475, 'IIIII': 0.9025}\n"
     ]
    }
   ],
   "source": [
    "true_error_template = {pauli: error for pauli, error in get_error_for_circuit(circuit, twoqubit_error_template, singlequbit_error_template, backend)}\n",
    "#true_error_template = {swap_first_two_chars(\"\".join(reversed(splice_string(\"\".join(reversed(str(key))), [i for i in range(len(str(key))) if not i in [1,3,5,6]])))):true_error_template[key] for key in true_error_template}\n",
    "true_error_template = {str(key):true_error_template[key] for key in true_error_template}\n",
    "print(true_error_template)"
   ]
  },
  {
   "cell_type": "code",
   "execution_count": 95,
   "metadata": {},
   "outputs": [],
   "source": [
    "#import qiskit.providers.fake_provider as fake_provider\n",
    "#backend = fake_provider.FakeVigoV2()\n",
    "#circuit = make_initial_Circuit([0,1,2,3], 4, backend, 2)[0]\n",
    "#print(circuit)"
   ]
  },
  {
   "cell_type": "code",
   "execution_count": 96,
   "metadata": {},
   "outputs": [
    {
     "name": "stdout",
     "output_type": "stream",
     "text": [
      "{'IXIXI': 0.0025000000000000005, 'IXIII': 0.0475, 'IIIXI': 0.0475, 'IIIII': 0.9025}\n"
     ]
    }
   ],
   "source": [
    "from qiskit.providers.aer.noise import pauli_error\n",
    "#import qiskit.providers.fake_provider as fake_provider\n",
    "#backend = fake_provider.FakeVigoV2()\n",
    "#layers = circuit_to_layers(QiskitCircuit(make_initial_Circuit([0,1,2,3], 4, backend, 2)[0]))\n",
    "#true_error_template = {pauli: error for pauli, error in get_error_for_circuit(layers[layer_number].qc, twoqubit_error_template, singlequbit_error_template, backend)}\n",
    "#true_error_template = {\"\".join(reversed(splice_string(\"\".join(reversed(str(key))), [i for i in range(len(str(key))) if not i in [1,2,3,4]]))):true_error_template[key] for key in true_error_template}\n",
    "print(true_error_template)"
   ]
  },
  {
   "cell_type": "code",
   "execution_count": 97,
   "metadata": {},
   "outputs": [],
   "source": [
    "#true_error = pauli_error(get_error_for_circuit(layers[layer_number].qc, twoqubit_error_template, singlequbit_error_template, backend))"
   ]
  },
  {
   "cell_type": "code",
   "execution_count": 98,
   "metadata": {},
   "outputs": [],
   "source": [
    "# Make error strings\n",
    "twoqubit_error_string = \"\"\n",
    "for temp in twoqubit_error_template:\n",
    "    twoqubit_error_string = twoqubit_error_string + str(temp[0])+\":\" +\"%.7s\"%temp[1]+\"   \"\n",
    "\n",
    "singlequbit_error_string = \"\"\n",
    "for temp in singlequbit_error_template:\n",
    "    singlequbit_error_string = singlequbit_error_string +\" \"+ str(temp[0])+\":\" +\"%.7s\"%temp[1]+\"   \""
   ]
  },
  {
   "cell_type": "code",
   "execution_count": 99,
   "metadata": {},
   "outputs": [],
   "source": [
    "# Make / load transfer matrix\n",
    "transfer_matrix = None\n",
    "for folder in filtered_folders:\n",
    "    if os.path.exists(os.path.join(os.path.join(os.path.join(home_folder, main_folder),folder), \"transfer_matrixes.pickle\")):\n",
    "        with open(os.path.join(os.path.join(os.path.join(home_folder, main_folder),folder), \"transfer_matrixes.pickle\"), \"rb\") as f:\n",
    "            transfer_matrixes = pickle.load(f)\n",
    "            transfer_matrix = transfer_matrixes[layer_number]\n",
    "\n",
    "if transfer_matrix is None:\n",
    "    for folder in filtered_folders:\n",
    "        if os.path.exists(os.path.join(os.path.join(os.path.join(home_folder, main_folder),folder), \"transfer_matrix.pickle\")):\n",
    "            with open(os.path.join(os.path.join(os.path.join(home_folder, main_folder),folder), \"transfer_matrix.pickle\"), \"rb\") as f:\n",
    "                (transfer_matrix, saved_layer_number) = pickle.load(f)\n",
    "                if saved_layer_number != layer_number:\n",
    "                    transfer_matrix = None\n",
    "                    \n",
    "if transfer_matrix is None:\n",
    "    pass\n",
    "    #transfer_matrix = PTM(true_error.to_quantumchannel()).data #Find out more about this\n",
    "    \n",
    "for folder in filtered_folders:\n",
    "    pass\n",
    "    #with open(os.path.join(os.path.join(os.path.join(home_folder, main_folder),folder), \"transfer_matrix.pickle\"), \"wb\") as f:\n",
    "    #    pickle.dump((transfer_matrix, layer_number), f)"
   ]
  },
  {
   "cell_type": "code",
   "execution_count": 100,
   "metadata": {},
   "outputs": [],
   "source": [
    "coe = False\n",
    "infidelities_list = []\n",
    "coeffs_list = []\n",
    "labels = []\n",
    "if not transfer_matrix is None:\n",
    "    stack = {pauli: (1-transfer_matrix[i][i]).real for i,pauli in enumerate(pauli_basis(backend.num_qubits))}\n",
    "    stack = [stack[pauli] for pauli in groups]\n",
    "    infidelities_list.append(stack)\n",
    "coeffs_list.append([true_error_template.get(str(pauli), 0) for pauli in groups])\n",
    "labels.append(\"Real Error\")"
   ]
  },
  {
   "cell_type": "code",
   "execution_count": 101,
   "metadata": {},
   "outputs": [],
   "source": [
    "def swap_last_two_chars(s):\n",
    "    # If the string has less than 2 characters, return the string as it is\n",
    "    if len(s) < 2:\n",
    "        return s\n",
    "    # Swap the last two characters\n",
    "    return s[:-2] + s[-1] + s[-2]"
   ]
  },
  {
   "cell_type": "code",
   "execution_count": 102,
   "metadata": {},
   "outputs": [],
   "source": [
    "failed_folders = 0\n",
    "for array_of_coeffs, array_of_infidelities, folder in zip(coeffs_datas, infidelities_datas, filtered_folders):\n",
    "    cipher = decipher_name(folder)\n",
    "    coeffs = array_of_coeffs[layer_number]\n",
    "    infidelities = array_of_infidelities[layer_number]\n",
    "    #if cipher[\"backend_literal\"] == \"FakeCasablancaV2\":\n",
    "    #    coeffs = array_of_coeffs[1]\n",
    "    #    infidelities = array_of_infidelities[1]\n",
    "    #else:\n",
    "    #    coeffs = array_of_coeffs[layer_number]\n",
    "    #    infidelities = array_of_infidelities[layer_number]\n",
    "    #if cipher[\"backend_literal\"] == \"FakeMelbourneV2\" or cipher[\"backend_literal\"] == \"FakeCasablancaV2\":\n",
    "    #    coeffs = {swap_last_two_chars(\"\".join(reversed(splice_string(\"\".join(reversed(str(key))), [i for i in range(len(str(key))) if not i in decipher_name(folder)[\"qubits\"]])))):coeffs[key] for key in coeffs}\n",
    "    #    infidelities = {swap_last_two_chars(\"\".join(reversed(splice_string(\"\".join(reversed(str(key))), [i for i in range(len(str(key))) if not i in decipher_name(folder)[\"qubits\"]])))):infidelities[key] for key in infidelities}\n",
    "    #else:\n",
    "    #    coeffs = {\"\".join(reversed(splice_string(\"\".join(reversed(str(key))), [i for i in range(len(str(key))) if not i in decipher_name(folder)[\"qubits\"]]))):coeffs[key] for key in coeffs}\n",
    "    #    infidelities = {\"\".join(reversed(splice_string(\"\".join(reversed(str(key))), [i for i in range(len(str(key))) if not i in decipher_name(folder)[\"qubits\"]]))):infidelities[key] for key in infidelities}\n",
    "    coeffs = {str(key):coeffs[key] for key in coeffs}\n",
    "    infidelities = {str(key):infidelities[key] for key in infidelities}\n",
    "    try:\n",
    "        coeffs_list.append([coeffs.get(str(key),0) for key in groups])\n",
    "        #print([coeffs[str(key)] for key in groups])\n",
    "        infidelities_list.append([infidelities.get(str(key),0) for key in groups])\n",
    "    except Exception as e:\n",
    "        failed_folders += 1\n",
    "        print(e)\n",
    "        print(\"Failed Folders:\", failed_folders)\n",
    "        continue\n",
    "    labels.append(cipher[\"backend_literal\"])\n",
    "    #print(\"tomography_connections\", cipher[\"tomography_connections\"])\n",
    "    #print(\"allqubits\", cipher[\"allqubits\"])\n"
   ]
  },
  {
   "cell_type": "code",
   "execution_count": 103,
   "metadata": {},
   "outputs": [
    {
     "name": "stdout",
     "output_type": "stream",
     "text": [
      "2\n"
     ]
    },
    {
     "data": {
      "image/png": "[encoded data removed]",
      "text/plain": [
       "<Figure size 1600x600 with 1 Axes>"
      ]
     },
     "metadata": {},
     "output_type": "display_data"
    }
   ],
   "source": [
    "#print([len(item) for item in infidelities_list])\n",
    "fig, ax = plt.subplots(figsize=(16, 6))\n",
    "x = np.arange(len(groups))  # Label locations\n",
    "width = 0.9 / (len(filtered_folders)+1-failed_folders)  # Width of the bars, adjusted for the number of datasets\n",
    "\n",
    "\n",
    "# Create the bar plot\n",
    "\n",
    "# Add labels, title, and custom x-axis tick labels\n",
    "ax.set_xlabel('Modelterm')\n",
    "ax.set_xticks(x)\n",
    "ax.set_xticklabels([str(f).replace('I', '') for f in groups], rotation=0)\n",
    "\n",
    "# Plotting bars for each folder's data dynamically\n",
    "maxvalue = 0\n",
    "for i in range(len(filtered_folders)+1-failed_folders):\n",
    "    if coe:\n",
    "        ax.bar(x + (i - (len(filtered_folders)-failed_folders)/2) * width, coeffs_list[i], width, label=labels[i])\n",
    "        maxvalue = max([maxvalue, max(coeffs_list[i])])\n",
    "    else:\n",
    "        ax.bar(x + (i - (len(filtered_folders)-failed_folders)/2) * width, infidelities_list[i], width, label=labels[i])\n",
    "        maxvalue = max([maxvalue, max(infidelities_list[i])])\n",
    "print((len(filtered_folders)+1-failed_folders))\n",
    "# Add legend\n",
    "ax.legend()\n",
    "if maxvalue != 0:\n",
    "    ax.set_ylim(-maxvalue*0, maxvalue * 1.4)\n",
    "\n",
    "textstr = 'Noisemodel is Paulierrors of each two-qubits gate.\\nIt is symmetrical for all qubits. Chances are for all:\\n2 qubit gates ' + twoqubit_error_string# + '\\n1 qubit gates ' + singlequbit_error_string\n",
    "\n",
    "# Customize the textbox position and appearance\n",
    "props = dict(boxstyle='round', facecolor='lightblue', alpha=0)\n",
    "#props = dict()\n",
    "\n",
    "# Place the textbox in the top-left corner inside the plot (adjust x and y as needed)\n",
    "ax.text(0.01, 0.99, textstr, transform=ax.transAxes, fontsize=10,\n",
    "        verticalalignment='top', horizontalalignment='left', bbox=props, family='monospace')\n",
    "\n",
    "#Do the boxes and qubits indexes\n",
    "def get_indexes(string):\n",
    "    indexes = []\n",
    "    for i, f in enumerate(string):\n",
    "        if f != \"I\":\n",
    "            indexes.append(len(string)- i-1)\n",
    "    ret = []\n",
    "    for i in reversed(indexes):\n",
    "        ret.append(i)\n",
    "    return ret\n",
    "\n",
    "indexes = [get_indexes(str(i)) for i in groups]\n",
    "\n",
    "from matplotlib.patches import Rectangle\n",
    "boxes = []\n",
    "texts = []\n",
    "i = 0\n",
    "for j in range(5):\n",
    "    texts.append(indexes[i])\n",
    "    array = [i, i+1, i+2]\n",
    "    i+=3\n",
    "    boxes.append(array)\n",
    "\n",
    "for j in range(4):\n",
    "    texts.append(indexes[i])\n",
    "    array = []\n",
    "    for __ in range(9):\n",
    "        array.append(i)\n",
    "        i+=1\n",
    "    boxes.append(array)\n",
    "    #texts.append(\"[\" + str(j)+ \", \" + str(j+1) + \"]\")\n",
    "for group, text in zip(boxes, texts):\n",
    "    rect_1 = Rectangle((min(group) - 0.5, -maxvalue*0), width=len(group), height=maxvalue*1.2, \n",
    "                    edgecolor='black', linewidth=1, facecolor='none')\n",
    "    ax.add_patch(rect_1)\n",
    "    ax.text(sum(group)/len(group), maxvalue*1.15, text, fontsize=10, ha='center')\n",
    "\n",
    "#rect = Rectangle((-50, 0), width=10000, height=0, edgecolor='black', linewidth=1, facecolor='none')\n",
    "#ax.add_patch(rect)\n",
    "\n",
    "# Display the plot\n",
    "plt.tight_layout()\n",
    "#plt.show()\n",
    "if coe:\n",
    "    ax.set_title('Real Coefficients vs Measured')\n",
    "    ax.set_ylabel('Coefficient')\n",
    "    plt.savefig(\"Coefficient\", bbox_inches='tight')\n",
    "else:\n",
    "    ax.set_title('Real Infidelity vs Measured')\n",
    "    ax.set_ylabel('Infidelity')\n",
    "    plt.savefig(\"Infidelity\", bbox_inches='tight')"
   ]
  },
  {
   "cell_type": "code",
   "execution_count": 104,
   "metadata": {},
   "outputs": [
    {
     "name": "stdout",
     "output_type": "stream",
     "text": [
      "              \n",
      "q_4 -> 0 ─────\n",
      "              \n",
      "q_0 -> 1 ──■──\n",
      "         ┌─┴─┐\n",
      "q_1 -> 2 ┤ X ├\n",
      "         └───┘\n",
      "q_2 -> 3 ──■──\n",
      "         ┌─┴─┐\n",
      "q_3 -> 4 ┤ X ├\n",
      "         └───┘\n"
     ]
    }
   ],
   "source": [
    "print(circuit)"
   ]
  }
 ],
 "metadata": {
  "kernelspec": {
   "display_name": ".venv",
   "language": "python",
   "name": "python3"
  },
  "language_info": {
   "codemirror_mode": {
    "name": "ipython",
    "version": 3
   },
   "file_extension": ".py",
   "mimetype": "text/x-python",
   "name": "python",
   "nbconvert_exporter": "python",
   "pygments_lexer": "ipython3",
   "version": "3.11.9"
  }
 },
 "nbformat": 4,
 "nbformat_minor": 2
}
