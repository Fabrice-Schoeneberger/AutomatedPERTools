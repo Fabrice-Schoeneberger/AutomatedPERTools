{
 "cells": [
  {
   "cell_type": "markdown",
   "metadata": {},
   "source": [
    "# Tomography tutorial notebook\n",
    "This tutorial shows a complete procedure of a Pauli-Noise-Tomography with a sparse Pauli noise model. As this tutorial covers more the \"how\", than the \"why\", it is recommended to first read the accompanying pdf.\n",
    "\n",
    "In detail, this tutorial will show the complete procedure:\n",
    "\n",
    "0. Initializing the environment and choosing a noise model\n",
    "1. Determining the measurement bases\n",
    "2. Calculating the Pauli terms\n",
    "3. Building the M-Matrices\n",
    "4. Create the twirled Circuits for measurement, for all circuit depths\n",
    "5. Preparing for measurement results\n",
    "6. Processing measurement results\n",
    "7. Determining the noise model coefficients\n",
    "\n",
    "Whenever possible, refrences as to where in the main program in \"pauli_lindblad_per\" is performed, are added"
   ]
  },
  {
   "cell_type": "markdown",
   "metadata": {},
   "source": [
    "### Disclaimer:\n",
    "The language used here is qiskit, which has the little quirk, that paulis are written **backwards**.\n",
    "A Pauli IXZ here means that qubit 0 has the Pauli Z, qubit 1 the Pauli X, and qubit 2 the Pauli I!"
   ]
  },
  {
   "cell_type": "code",
   "execution_count": 848,
   "metadata": {},
   "outputs": [],
   "source": [
    "#Here all the needed imports are done. Nothing more\n",
    "from qiskit.providers.fake_provider import GenericBackendV2\n",
    "from qiskit.quantum_info import Pauli, pauli_basis\n",
    "from qiskit_aer.noise import NoiseModel, pauli_error\n",
    "from itertools import product, permutations, cycle\n",
    "from random import random, choices\n",
    "from qiskit import QuantumCircuit, transpile\n",
    "import numpy as np\n",
    "from scipy.optimize import curve_fit, nnls\n",
    "from matplotlib import pyplot as plt"
   ]
  },
  {
   "cell_type": "markdown",
   "metadata": {},
   "source": [
    "## Initializing the Environment and Selecting a Noise Model\n",
    "\n",
    "Prior to execution, the backend must be established. If a real backend should be used, it would be implemented at this point instead. \n",
    "Here, the flexible virtual backend \"GenericBackendV2\" is utilized, allowing for the customization of the total qubit count and the topography in the form of a coupling map. For this tutorial, a 2-qubit backend with a linear topography is chosen. Experimentation with various parameters within this notebook is encouraged to gain a deeper understanding."
   ]
  },
  {
   "cell_type": "code",
   "execution_count": 849,
   "metadata": {},
   "outputs": [],
   "source": [
    "#The number of qubits in our system is set\n",
    "num_qubits = 2\n",
    "#With that number a coupling map is created. It can be choosen to be whatever desired. \n",
    "#Right now is does a linear coupling map with connections forwards [0,1](first bracket) and backwards [1,0](last bracket). \n",
    "#The implementation of the linear coupling here is flexable to work with any qubit count\n",
    "coupling_map = [[i,i+1] for i in range(num_qubits-1)]+[[i+1,i] for i in range(num_qubits-1)] \n",
    "#This is then used to create the backend\n",
    "backend = GenericBackendV2(num_qubits=num_qubits, coupling_map=coupling_map)"
   ]
  },
  {
   "cell_type": "markdown",
   "metadata": {},
   "source": [
    "Since circuits are run on a simulated backend, the underlying noise model can be chosen. Noise models in Qiskit are applied at the backend.run(...) stage and must be prepared beforehand, by selecting the type of error and the relevant parameters. Here, a simple Pauli error noise model is created, where the Pauli errors and their occurrence probabilities are selected. The error is chosen to be very simple but can be made as complicated as desired. The error can be randomized for each run. Since only a CX gate is tomographed, single-qubit errors have no effect. However, if a single-qubit gate is to be tomographed, the single-qubit code at the bottom can be uncommented."
   ]
  },
  {
   "cell_type": "code",
   "execution_count": 850,
   "metadata": {},
   "outputs": [
    {
     "name": "stdout",
     "output_type": "stream",
     "text": [
      "QuantumError on 2 qubits. Noise circuits:\n",
      "  P(0) = 0.05, Circuit = \n",
      "     ┌────────────┐\n",
      "q_0: ┤0           ├\n",
      "     │  Pauli(YX) │\n",
      "q_1: ┤1           ├\n",
      "     └────────────┘\n",
      "  P(1) = 0.95, Circuit = \n",
      "     ┌────────────┐\n",
      "q_0: ┤0           ├\n",
      "     │  Pauli(II) │\n",
      "q_1: ┤1           ├\n",
      "     └────────────┘\n"
     ]
    }
   ],
   "source": [
    "if True: # When set to 'True', a preset noisemodel will be choosen. When set to 'False', the noise model will be randomized on every run\n",
    "\t# The kind of Pauli error is choosen\n",
    "\ttwoqubit_errorops = [Pauli('YX')] \n",
    "\t# The respective chance for the Pauli errors is choosen. The two lists need to be equal in length\n",
    "\ttwoqubit_errorprobs = [0.05] \n",
    "\n",
    "\t# This is the same for single qubit gate errors\n",
    "\tsinglequbit_errorops = [Pauli('Y'), Pauli('Z'), Pauli('X')] \n",
    "\tsinglequbit_errorprobs = [0.0018781587123864844, 0.00037277073796095685, 0.0015945514328675244]\n",
    "else:\n",
    "\t# A random number of errors is choosen\n",
    "\tnum = choices([3,4,5,6,7,8])[0]\n",
    "\t# Random Paulis are choosen. The random paulis can be duplicate and be the identity, so don't wonder when you get less the choosen number errors\n",
    "\ttwoqubit_errorops = choices(pauli_basis(2), k=num)\n",
    "\t# Assign random probabilities\n",
    "\ttwoqubit_errorprobs = [random()*.1/num for op in twoqubit_errorops] \n",
    "\n",
    "\t# This is the same for single qubit gate errors\n",
    "\tnum = choices([3,4,5,6,7,8])[0]\n",
    "\tsinglequbit_errorops = choices(pauli_basis(1), k=num)\n",
    "\tsinglequbit_errorprobs = [random()*.1/num for op in singlequbit_errorops]\n",
    "# Create *normalized* error model.\n",
    "twoqubit_error_template = [(op, p) for op,p in zip(twoqubit_errorops, twoqubit_errorprobs)]+[(Pauli(\"II\"), 1-sum(twoqubit_errorprobs))]\n",
    "twoqubit_error = pauli_error(twoqubit_error_template)\n",
    "singlequbit_error_template = [(op, p) for op,p in zip(singlequbit_errorops, singlequbit_errorprobs)]+[(Pauli(\"I\"), 1-sum(singlequbit_errorprobs))]\n",
    "singlequbit_error = pauli_error(singlequbit_error_template)\n",
    "\n",
    "noise_model = NoiseModel()\n",
    "#add error model to two-qubit gates.\n",
    "noise_model.add_all_qubit_quantum_error(twoqubit_error, ['cx','cz'])\n",
    "#add error model to single-qubit gates. Comment the next line in if single qubit errors are wanted!\n",
    "#noise_model.add_all_qubit_quantum_error(singlequbit_error, ['id','rz','sx'])\n",
    "print(twoqubit_error)"
   ]
  },
  {
   "cell_type": "markdown",
   "metadata": {},
   "source": [
    "Here, the layer of the circuit to be tomographed is set. In the main program, this is automatically determined based on the entered circuit in \"pauli_lindblad_per/framework/percircuit _circuit_to_benchmark_layers\". However, in this context, it is set manually.\n",
    "\n",
    "By default, a 2-qubit circuit with the CX gate on qubits 0 and 1 is used. This configuration can be altered as desired."
   ]
  },
  {
   "cell_type": "code",
   "execution_count": 851,
   "metadata": {},
   "outputs": [
    {
     "data": {
      "text/plain": [
       "<qiskit.circuit.instructionset.InstructionSet at 0x19d2abf0d60>"
      ]
     },
     "execution_count": 851,
     "metadata": {},
     "output_type": "execute_result"
    }
   ],
   "source": [
    "layer = QuantumCircuit(num_qubits)\n",
    "layer.cx(0,1)"
   ]
  },
  {
   "cell_type": "markdown",
   "metadata": {},
   "source": [
    "## Determining the measurement bases\n",
    "\n",
    "The following cell determines the nine Pauli bases used to make measurements simultaneously. It uses the coupling map from `backend` in conjuction with the procedure described in Figure S3 of the paper \"Probabilistic error cancellation with sparse pauli-lindblad models on noisy quantum processors\" by van den Berg. The output is an array of nine Pauli operators.\n",
    "\n",
    "In the main code this happens is \"pauli_lindblad_per/tomography/processorspec.py\""
   ]
  },
  {
   "cell_type": "code",
   "execution_count": 852,
   "metadata": {},
   "outputs": [
    {
     "name": "stdout",
     "output_type": "stream",
     "text": [
      "Pauli basis: ['XX', 'YX', 'ZX', 'XY', 'YY', 'ZY', 'XZ', 'YZ', 'ZZ']\n"
     ]
    }
   ],
   "source": [
    "NUM_BASES = 9\n",
    "        \n",
    "bases = [['I']*num_qubits for i in range(NUM_BASES)]\n",
    "\n",
    "#To accommodate a more complex backend topography, where single qubits can have three or more predecessors, the main code determines which qubits are actually utilized by the layer. \n",
    "#This list is then used as the variable in the subgraph function to exclude qubits as predecessors, in the hopes that it the limit of three predecessors is not exceeded that way.\n",
    "#For a linear topography, it is safe to just pass all qubits\n",
    "connectivity = backend.coupling_map.graph.subgraph([i for i in range(num_qubits)])\n",
    "\n",
    "for vertex in range(num_qubits):\n",
    "    #copied from Fig. S3 in van den Berg\n",
    "    orderings = {\"XXXYYYZZZ\":\"XYZXYZXYZ\",\n",
    "                        \"XXXYYZZZY\":\"XYZXYZXYZ\",\n",
    "                        \"XXYYYZZZX\":\"XYZXYZXYZ\",\n",
    "                        \"XXZYYZXYZ\":\"XYZXZYZYX\",\n",
    "                        \"XYZXYZXYZ\":\"XYZZXYYZX\"}\n",
    "    \n",
    "    children = connectivity.neighbors(vertex)\n",
    "    predecessors = [c for c in children if c < vertex]\n",
    "\n",
    "    match len(predecessors):\n",
    "        #trivial if no predecessors\n",
    "        case 0:\n",
    "            cycp = cycle(\"XYZ\")\n",
    "            for i,_ in enumerate(bases):\n",
    "                bases[i][vertex] = next(cycp)\n",
    "        #Choose p1:\"XXXYYYZZZ\" and p2:\"XYZXYZXYZ\" if one predecessor\n",
    "        case 1:\n",
    "            pred, = predecessors\n",
    "            #store permutation of indices so that predecessor has X,X,X,Y,Y,Y,Z,Z,Z\n",
    "            _,bases = list(zip(*sorted(zip([p[pred] for p in bases], bases))))\n",
    "            cycp = cycle(\"XYZ\")\n",
    "            for i,_ in enumerate(bases):\n",
    "                bases[i][vertex] = next(cycp)\n",
    "        case 2:\n",
    "            pred0,pred1 = predecessors\n",
    "            _,bases = list(zip(*sorted(zip([p[pred0] for p in bases], bases))))\n",
    "            #list out string with permuted values of predecessor 2\n",
    "            substr = [p[pred0] for p in bases]\n",
    "            #match predecessor two with a permutation of example_orderings\n",
    "            reordering = \"\"\n",
    "            for perm in permutations(\"XYZ\"):\n",
    "                substr = \"\".join([\"XYZ\"[perm.index(p)] for p in substr])\n",
    "                if substr in orderings:\n",
    "                    current = orderings[substr] \n",
    "                    for i,p in enumerate(current):\n",
    "                        bases[i][vertex] = p\n",
    "                    break\n",
    "        case _: #processor needs to have connectivity so that there are <= 2 predecessors\n",
    "            raise Exception(\"Three or more predecessors encountered\")\n",
    "\n",
    "bases = [Pauli(\"\".join(string[::-1])) for string in bases] #Paulis in qiskit are written backwards, to the order of the bases has to be reversed\n",
    "print(\"Pauli basis:\", [\"\".join(b.to_label()) for b in bases])"
   ]
  },
  {
   "cell_type": "markdown",
   "metadata": {},
   "source": [
    "## Calculating the Pauli terms\n",
    "\n",
    "In order to calculate the Pauli terms all the two and one weight paulis are crafted witht the the backend edge list.\n",
    "\n",
    "This also happens in \"pauli_lindblad_per/tomography/processorspec.py\""
   ]
  },
  {
   "cell_type": "code",
   "execution_count": 853,
   "metadata": {},
   "outputs": [
    {
     "name": "stdout",
     "output_type": "stream",
     "text": [
      "Model terms: ['IX', 'IY', 'IZ', 'XI', 'XX', 'XY', 'XZ', 'YI', 'YX', 'YY', 'YZ', 'ZI', 'ZX', 'ZY', 'ZZ']\n"
     ]
    }
   ],
   "source": [
    "model_terms = set()\n",
    "identity = [\"I\"]*num_qubits\n",
    "\n",
    "trimmed_edge_list = [connection for connection in connectivity.edge_list()]\n",
    "#get all weight-two Paulis on with support on neighboring qubits\n",
    "for q1,q2 in trimmed_edge_list:\n",
    "\tfor p1, p2 in product(\"IXYZ\", repeat=2):\n",
    "\t\tpauli = identity.copy()\n",
    "\t\tpauli[q1] = p1\n",
    "\t\tpauli[q2] = p2\n",
    "\t\tmodel_terms.add(\"\".join(reversed(pauli)))\n",
    "\n",
    "node_indices = [indice for indice in connectivity.node_indices()]\n",
    "\n",
    "#get all weight-one Paulis. This will only ever add paulis, if the topography includes isolated qubits\n",
    "for q in node_indices: \n",
    "\tfor p in \"IXYZ\":\n",
    "\t\tpauli = identity.copy()\n",
    "\t\tpauli[q] = p \n",
    "\t\tmodel_terms.add(\"\".join(reversed(pauli)))\n",
    "\n",
    "model_terms.remove(\"\".join(identity))\n",
    "\n",
    "model_terms = [Pauli(p) for p in sorted(model_terms)]\n",
    "print(\"Model terms:\", [m.to_label() for m in model_terms])"
   ]
  },
  {
   "cell_type": "markdown",
   "metadata": {},
   "source": [
    "## Building the M-Matrices\n",
    "In order to compare the measured fidelities in the next part with the ideal ones, the M-Matrices  are needed for the equation $f = \\exp(-(M_1+M_2)\\lambda)$ with the choosen noise model coefficients $\\lambda$, which is why they are already calculated here.\n",
    "\n",
    "But to do that, a few extras need to be implemented:\n",
    "1. The simulator refuses to simulate Pauli instructions that include a global phase, even though there is no clear reason for this. The `nophase` method is used to remove the phase from an operator. The `conjugate` method returns the conjugation of an Pauli operator by the layer."
   ]
  },
  {
   "cell_type": "code",
   "execution_count": 854,
   "metadata": {},
   "outputs": [],
   "source": [
    "#remove the phase from a Pauli\n",
    "def nophase(pauli):\n",
    "    return Pauli((pauli.z, pauli.x))\n",
    "\n",
    "def conjugate(pauli):\n",
    "    return nophase(pauli.evolve(layer))"
   ]
  },
  {
   "cell_type": "markdown",
   "metadata": {},
   "source": [
    "2. Because of the conjugation with the layer, many pauli bases only appear in pairs, which thus requires pair breaking measurements, like the addition of the Matrix $M_2$. To perform these, the paulis that require pair breaking need to be recorded."
   ]
  },
  {
   "cell_type": "code",
   "execution_count": 855,
   "metadata": {},
   "outputs": [
    {
     "name": "stdout",
     "output_type": "stream",
     "text": [
      "bases for singles:  [Pauli('IY'), Pauli('ZI'), Pauli('ZX'), Pauli('XX'), Pauli('YI'), Pauli('ZY')]\n"
     ]
    }
   ],
   "source": [
    "def weight(pauli):\n",
    "    return len([p for p in pauli if not p==Pauli(\"I\")])\n",
    "\n",
    "#return True if Paulis differ by \"I\"s only\n",
    "def disjoint(pauli1, pauli2):\n",
    "    return all([p1==p2 or (p1 == Pauli(\"I\") or p2 == Pauli(\"I\")) for p1,p2 in zip(pauli1, pauli2)])\n",
    "\n",
    "#return True if pauli requires a degeracy lifting measurement. This is the case, when both the pauli, and the pair, which has to be a different pauli, appear the list of model terms.\n",
    "def requires_single(pauli):\n",
    "    pair = conjugate(pauli)\n",
    "    return (pauli in model_terms and pair in model_terms) and pauli != pair\n",
    "\n",
    "#find disjoint operators that can be measured simultaneously to find six bases\n",
    "pairs = set([frozenset([p,conjugate(p)]) for p in model_terms if requires_single(p)])\n",
    "single_bases = []\n",
    "for p1,p2 in pairs:\n",
    "    for i,pauli in enumerate(single_bases):\n",
    "        if disjoint(pauli, p1) and disjoint(pauli, p2):\n",
    "            single_bases[i] = nophase(pauli.compose(p2)) \n",
    "            break\n",
    "    else:\n",
    "        single_bases.append(p2)\n",
    "\n",
    "print(\"bases for singles: \",single_bases)"
   ]
  },
  {
   "cell_type": "markdown",
   "metadata": {},
   "source": [
    "Now the Matrices M_1 and M_2 can be constructed and the ideal fidelities calculated"
   ]
  },
  {
   "cell_type": "code",
   "execution_count": 856,
   "metadata": {},
   "outputs": [
    {
     "data": {
      "text/plain": [
       "Text(0, 0.5, '10 x (1-f)')"
      ]
     },
     "execution_count": 856,
     "metadata": {},
     "output_type": "execute_result"
    },
    {
     "data": {
      "image/png": "[encoded data removed]",
      "text/plain": [
       "<Figure size 640x480 with 1 Axes>"
      ]
     },
     "metadata": {},
     "output_type": "display_data"
    }
   ],
   "source": [
    "twoqubit_error_template_dic = {op: p for (op,p) in twoqubit_error_template} # Transform template into dictonary for easier readout\n",
    "ideal_coeffients = [twoqubit_error_template_dic.get(term, 0) for term in model_terms] # get ideal coeffients in the same order as the model terms\n",
    "\n",
    "# Calculate the Matrices M1 and M2\n",
    "sprod = lambda a,b: int(a.anticommutes(b)) # This is the anticommutator\n",
    "M1 = [[sprod(a,b) for a in model_terms] for b in model_terms]\n",
    "conjugate_single_basis = [conjugate(pauli) for pauli in single_bases]\n",
    "model_terms_pair = [conjugate(pauli) if (pauli) in conjugate_single_basis else pauli for pauli in model_terms] # Exchange one instance each of a pair-affected fidelity with it's pair\n",
    "M2 = [[sprod(a,b) for a in model_terms] for b in model_terms_pair]\n",
    "\n",
    "# Calculate the ideal fidelities\n",
    "ideal_fidelities = np.exp(-np.matmul(np.add(M1,M2),ideal_coeffients))\n",
    "#ideal_fidelities_dic = {term: fidelity for (term, fidelity) in zip(model_terms, ideal_fidelities)}\n",
    "#ideal_fidelities_dic[Pauli('II')] = 1\n",
    "\n",
    "for term, fidelity in zip(model_terms, ideal_fidelities):\n",
    "\tplt.bar(term.to_label(), 10*(1-fidelity).real, color=\"tab:blue\")\n",
    "\n",
    "plt.title(\"Ideal Pauli Fidelitites\")\n",
    "plt.xlabel(\"Pauli\")\n",
    "plt.ylabel(\"10 x (1-f)\")"
   ]
  },
  {
   "cell_type": "code",
   "execution_count": 883,
   "metadata": {},
   "outputs": [
    {
     "data": {
      "text/plain": [
       "Text(0, 0.5, '10 x (1-f)')"
      ]
     },
     "execution_count": 883,
     "metadata": {},
     "output_type": "execute_result"
    },
    {
     "data": {
      "image/png": "[encoded data removed]",
      "text/plain": [
       "<Figure size 640x480 with 1 Axes>"
      ]
     },
     "metadata": {},
     "output_type": "display_data"
    }
   ],
   "source": [
    "from qiskit.quantum_info import Pauli, pauli_basis, SuperOp, PTM, Operator\n",
    "real_errors = {}\n",
    "transfer_matrix = PTM(twoqubit_error.to_quantumchannel()).data #Find out more about this\n",
    "for i,pauli in enumerate(pauli_basis(2)):\n",
    "    real_errors[pauli] = transfer_matrix[i][i]\n",
    "    plt.bar(pauli.to_label(), 10*(1-transfer_matrix[i][i]).real, color=\"tab:blue\")\n",
    "ideal_fidelities_dic = real_errors\n",
    "\n",
    "plt.title(\"Ideal Pauli Fidelitites\")\n",
    "plt.xlabel(\"Pauli\")\n",
    "plt.ylabel(\"10 x (1-f)\")"
   ]
  },
  {
   "cell_type": "markdown",
   "metadata": {},
   "source": [
    "## Create the twirled Circuits for measurement, for all circuit depths\n",
    "The following method performs the following function:\n",
    "* Create new empty circuit\n",
    "* Change basis of new circuit according to passed prep basis\n",
    "* Repeat n-times, as per passed value:\n",
    "\t* Generate a random pauli, apply it to the circuit\n",
    "\t* Apply the layer gate\n",
    "* Invert the pauli frame\n",
    "* Change basis into the passed measurement basis.\n",
    "\n",
    "The method takes as input the preparation and measurement bases (which can be different for the single measurements), the number of repetitions of the noisy layer\n",
    "\n",
    "If the circuits are to be run on real hardware or more accuratly simulated backends, the transpile function should be commented it. The function changes the circuit, by breaking gates down into hardware native gate and optimizes the circuit. For the tutorial, this is not needed."
   ]
  },
  {
   "cell_type": "code",
   "execution_count": 860,
   "metadata": {},
   "outputs": [],
   "source": [
    "def instance( \n",
    "\tprep_basis : Pauli, \n",
    "\tmeas_basis : Pauli, \n",
    "\tnoise_repetitions : int):\n",
    "\n",
    "\tcirc = QuantumCircuit(num_qubits) #storing the final circuit\n",
    "\n",
    "\t#get preparation operators from desired basis \n",
    "\tdef prep(basis, qubit, qc):\n",
    "\t\tif basis.equiv(Pauli(\"X\")):\n",
    "\t\t\tqc.h(qubit) \n",
    "\t\telif basis.equiv(Pauli(\"Y\")):\n",
    "\t\t\tqc.h(qubit)\n",
    "\t\t\tqc.s(qubit)\n",
    "\n",
    "\t#apply operators to a quantum circuit to measure in desired pauli basis\n",
    "\tdef meas(basis, qubit, qc):\n",
    "\t\tif basis.equiv(Pauli(\"X\")):\n",
    "\t\t\tqc.h(qubit)\n",
    "\t\telif basis.equiv(Pauli(\"Y\")):\n",
    "\t\t\tqc.sdg(qubit)\n",
    "\t\t\tqc.h(qubit)\n",
    "\n",
    "\n",
    "\tpauli_frame = Pauli(\"I\"*num_qubits)\n",
    "\n",
    "\t#apply the prep and twirling operators to the circuit\n",
    "\tfor q,b in enumerate(prep_basis):\n",
    "\t\tprep(b,q,circ)\n",
    "\n",
    "\tcirc.barrier()\n",
    "\n",
    "\t#apply repetitions of noise, including basis-change gates when needed\n",
    "\tfor i in range(noise_repetitions):\n",
    "\n",
    "\t\ttwirl = Pauli(\"\".join(choices(\"IXYZ\", k=num_qubits)))\n",
    "\t\tpauli_frame = pauli_frame.compose(twirl)\n",
    "\t\tpauli_frame = conjugate(pauli_frame)\n",
    "\n",
    "\t\tfor i,p in enumerate(twirl):\n",
    "\t\t\tcirc.append(p, [i])\n",
    "\n",
    "\t\tcirc = circ.compose(layer)\n",
    "\t\tcirc.barrier()\n",
    "\n",
    "\t#choose string of bit flips for readout twirling\n",
    "\trostring = \"\".join(choices(['I','X'], k=num_qubits))\n",
    "\tfor i,p in enumerate(pauli_frame):\n",
    "\t\tcirc.append(p, [i])\n",
    "\tcirc.barrier()\n",
    "\tfor q,(b,r) in enumerate(zip(meas_basis, rostring)):\n",
    "\t\tmeas(b, q, circ)\n",
    "\t\tif r == \"X\":\n",
    "\t\t\tcirc.x(q)\n",
    "\n",
    "\tcirc.measure_all()\n",
    "\n",
    "\t#circ = transpile(circuit, backend) # Comment this in, if run on real hardware\n",
    "\n",
    "\tcirc.metadata = {\n",
    "\t\t\"prep_basis\":prep_basis,\n",
    "\t\t\t\"meas_basis\":meas_basis, \n",
    "\t\t\t\"depth\":noise_repetitions, \n",
    "\t\t\t\"rostring\":rostring[::-1],\n",
    "\t\t\t}\n",
    "\n",
    "\treturn circ"
   ]
  },
  {
   "cell_type": "code",
   "execution_count": 861,
   "metadata": {},
   "outputs": [
    {
     "data": {
      "text/html": [
       "<pre style=\"word-wrap: normal;white-space: pre;background: #fff0;line-height: 1.1;font-family: &quot;Courier New&quot;,Courier,monospace\">        ┌───┐┌───┐ ░ ┌───┐      ░ ┌───┐      ░ ┌───┐ ░ ┌─────┐┌───┐┌───┐ ░ ┌─┐»\n",
       "   q_0: ┤ H ├┤ S ├─░─┤ I ├──■───░─┤ Y ├──■───░─┤ Y ├─░─┤ Sdg ├┤ H ├┤ X ├─░─┤M├»\n",
       "        ├───┤└───┘ ░ ├───┤┌─┴─┐ ░ ├───┤┌─┴─┐ ░ ├───┤ ░ └┬───┬┘├───┤└───┘ ░ └╥┘»\n",
       "   q_1: ┤ H ├──────░─┤ Z ├┤ X ├─░─┤ I ├┤ X ├─░─┤ Y ├─░──┤ H ├─┤ X ├──────░──╫─»\n",
       "        └───┘      ░ └───┘└───┘ ░ └───┘└───┘ ░ └───┘ ░  └───┘ └───┘      ░  ║ »\n",
       "meas: 2/════════════════════════════════════════════════════════════════════╩═»\n",
       "                                                                            0 »\n",
       "«           \n",
       "«   q_0: ───\n",
       "«        ┌─┐\n",
       "«   q_1: ┤M├\n",
       "«        └╥┘\n",
       "«meas: 2/═╩═\n",
       "«         1 </pre>"
      ],
      "text/plain": [
       "        ┌───┐┌───┐ ░ ┌───┐      ░ ┌───┐      ░ ┌───┐ ░ ┌─────┐┌───┐┌───┐ ░ ┌─┐»\n",
       "   q_0: ┤ H ├┤ S ├─░─┤ I ├──■───░─┤ Y ├──■───░─┤ Y ├─░─┤ Sdg ├┤ H ├┤ X ├─░─┤M├»\n",
       "        ├───┤└───┘ ░ ├───┤┌─┴─┐ ░ ├───┤┌─┴─┐ ░ ├───┤ ░ └┬───┬┘├───┤└───┘ ░ └╥┘»\n",
       "   q_1: ┤ H ├──────░─┤ Z ├┤ X ├─░─┤ I ├┤ X ├─░─┤ Y ├─░──┤ H ├─┤ X ├──────░──╫─»\n",
       "        └───┘      ░ └───┘└───┘ ░ └───┘└───┘ ░ └───┘ ░  └───┘ └───┘      ░  ║ »\n",
       "meas: 2/════════════════════════════════════════════════════════════════════╩═»\n",
       "                                                                            0 »\n",
       "«           \n",
       "«   q_0: ───\n",
       "«        ┌─┐\n",
       "«   q_1: ┤M├\n",
       "«        └╥┘\n",
       "«meas: 2/═╩═\n",
       "«         1 "
      ]
     },
     "execution_count": 861,
     "metadata": {},
     "output_type": "execute_result"
    }
   ],
   "source": [
    "# A circuit made above might look this:\n",
    "instance(Pauli(\"XY\"), Pauli(\"XY\"),2).draw()"
   ]
  },
  {
   "cell_type": "markdown",
   "metadata": {},
   "source": [
    "## Preparing for measurement results\n",
    "### Simplified Case\n",
    "To gain a clearer understanding of the full procedure, we first consider a simplified case: a single Pauli measurement. The example illustrates the process of obtaining the corresponding fidelity pair.\n",
    "\n",
    "First, to analyze the data, a method for extracting the expectation value from the measured `Counts` object is required. The following method is used to parse such a `Counts` object. The readout result is flipped by the readout twirling, the specific choice of which is recovered from the circuit metadata. Then the overlap with the Pauli being measured in the computational basis is computed."
   ]
  },
  {
   "cell_type": "code",
   "execution_count": 862,
   "metadata": {},
   "outputs": [],
   "source": [
    "def get_expectation(pauli, **metadata):\n",
    "        estimator = 0\n",
    "        counts = metadata['counts']\n",
    "        rostring = metadata['rostring']\n",
    "        #compute locations of non-idetity terms (reversed indexing)\n",
    "        pz = list(reversed([{Pauli(\"I\"):'0'}.get(p,'1') for p in pauli]))\n",
    "        #compute estimator\n",
    "        for key in counts.keys():\n",
    "            #untwirl the readout\n",
    "            ro_untwirled = [{'0':'1','1':'0'}[bit] if flip==\"X\" else bit for bit,flip in zip(key,rostring)]\n",
    "            #compute the overlap in the computational basis\n",
    "            sgn = sum([{('1','1'):1}.get((pauli_bit, key_bit), 0) for pauli_bit, key_bit in zip(pz, ro_untwirled)])\n",
    "            #update estimator\n",
    "            estimator += (-1)**sgn*counts[key]\n",
    "        return estimator/sum(counts.values())"
   ]
  },
  {
   "cell_type": "markdown",
   "metadata": {},
   "source": [
    "This code block generates `samples` instances at each depth level for the given Pauli operator"
   ]
  },
  {
   "cell_type": "code",
   "execution_count": 863,
   "metadata": {},
   "outputs": [
    {
     "name": "stdout",
     "output_type": "stream",
     "text": [
      "depth: 32 samples: 32\r"
     ]
    }
   ],
   "source": [
    "depths = [0,2,4,8,16,32] #levels of noise repetition\n",
    "results = [] #The list where the results will we saved in\n",
    "samples = 32 #number of samples to take from twirl\n",
    "shots = 1024 #How many times a single circuit is run\n",
    "pauli = Pauli(\"YY\") #pauli pair to measure\n",
    "for d in depths:\n",
    "    result = 0\n",
    "    for t in range(samples):\n",
    "        circ = instance(pauli, pauli,d) #generate instance\n",
    "        #the circ generation here could be improved, by pass by value\n",
    "        counts = backend.run(circ, shots = shots, noise_model = noise_model).result().get_counts() #get counts\n",
    "        result += get_expectation(pauli, counts = counts, rostring = circ.metadata['rostring']) #compute expectation\n",
    "        print(\"depth:\", d,\"samples:\",t+1, end='\\r')\n",
    "    results.append(result/samples) #Average over samples and save to list"
   ]
  },
  {
   "cell_type": "code",
   "execution_count": 864,
   "metadata": {},
   "outputs": [
    {
     "name": "stdout",
     "output_type": "stream",
     "text": [
      "measured pair: 0.9001163021159788 ideal pair: 0.8999999999999999\n"
     ]
    }
   ],
   "source": [
    "expfit = lambda x,a,b: a*np.exp(-b*x) #Define the fitfunction\n",
    "popt, pcov = curve_fit(expfit, depths, results, p0=[.9,.01]) #Fit it to the data. a= popt[0], b = popt[1]\n",
    "print(\"measured pair:\",np.exp(-popt[1]), \"ideal pair:\", np.sqrt(ideal_fidelities_dic[pauli]*ideal_fidelities_dic[conjugate(pauli)]).real)"
   ]
  },
  {
   "cell_type": "code",
   "execution_count": 865,
   "metadata": {},
   "outputs": [
    {
     "name": "stdout",
     "output_type": "stream",
     "text": [
      "(0.8999999999999999+0j)\n",
      "(0.8999999999999999+0j)\n"
     ]
    }
   ],
   "source": [
    "print(ideal_fidelities_dic[pauli])\n",
    "print(ideal_fidelities_dic[conjugate(pauli)])"
   ]
  },
  {
   "cell_type": "code",
   "execution_count": 866,
   "metadata": {},
   "outputs": [
    {
     "data": {
      "text/plain": [
       "Text(0.5, 0, 'Noise repetitions')"
      ]
     },
     "execution_count": 866,
     "metadata": {},
     "output_type": "execute_result"
    },
    {
     "data": {
      "image/png": "[encoded data removed]",
      "text/plain": [
       "<Figure size 640x480 with 1 Axes>"
      ]
     },
     "metadata": {},
     "output_type": "display_data"
    }
   ],
   "source": [
    "xrange = np.linspace(0,np.max(depths),100)\n",
    "plt.plot(xrange,[expfit(x,*popt) for x in xrange])\n",
    "plt.plot(depths,results, \"X\")\n",
    "plt.title(\"Fidelity of \"+pauli.to_label()+\",\"+conjugate(pauli).to_label()+ \" pair\")\n",
    "plt.ylabel(\"Fidelity\")\n",
    "plt.xlabel(\"Noise repetitions\")"
   ]
  },
  {
   "cell_type": "markdown",
   "metadata": {},
   "source": [
    "### Full Procedure\n",
    "The full procedure is divided into distinct stages for circuit generation, execution, and expectation value extraction. This segmentation is made to utilize a feature in Qiskit that allows an entire array of circuits to be submitted to the backend simultaneously, rather than feeding them one by one. This approach improves efficiency by reducing the total usage time of real quantum hardware, as the backend can process multiple circuits more efficently. Additionally, it minimizes queuing time, as the circuits are executed in a single batch rather than requiring multiple submissions. Further details on this feature can be found on the official IBM website.\n",
    "\n",
    "#### Generate circuits\n",
    "The first cell generates the required number of samples at varying depths using the nine pauli bases and the single degeneracy-lifting measurements in the six bases computed earlier."
   ]
  },
  {
   "cell_type": "code",
   "execution_count": 867,
   "metadata": {},
   "outputs": [
    {
     "name": "stdout",
     "output_type": "stream",
     "text": [
      "2652 / 2652\r"
     ]
    }
   ],
   "source": [
    "circuits = [] #Where the circuits are being stored\n",
    "depths = [2,4,8,16]\n",
    "samples = 32\n",
    "single_samples = 250\n",
    "total = len(bases)*samples*len(depths)+len(single_bases)*single_samples #This is just for the \"progress bar\" below\n",
    "\n",
    "j=0 #This is also for the progress bar\n",
    "for basis, d in product(bases, depths): #For every combination of basis and depths\n",
    "    for i in range(samples): #Create 'samples' samples\n",
    "        circ = instance(basis, basis, d)\n",
    "        circ.metadata[\"type\"] = \"double\" #Remember if it was a double or single\n",
    "        circuits.append(circ)\n",
    "\n",
    "        j+=1 \t\t\t\t\t\t\t#Progress bar\n",
    "        print(j,\"/\",total, end='\\r') \t#Progress bar\n",
    "\n",
    "for basis, s in product(single_bases, range(single_samples)):\n",
    "    #Start in the pair basis, measure in main basis to obtain correct fidelity. \n",
    "    #Reason: In the model the error acts after the ideal gate, so the gate will change basis to main basis on which the error is then applied\n",
    "    circ = instance(conjugate(basis),basis,1) \n",
    "    circ.metadata[\"type\"] = \"single\" #Remember if it was a double or single\n",
    "    circuits.append(circ)\n",
    "\n",
    "    j+=1 \t\t\t\t\t\t\t#Progress bar\n",
    "    print(j,\"/\",total, end='\\r') \t#Progress bar"
   ]
  },
  {
   "cell_type": "markdown",
   "metadata": {},
   "source": [
    "#### Get results\n",
    "Once the circuits are generated, they can be submitted as an array in no particular order directly to the processor"
   ]
  },
  {
   "cell_type": "code",
   "execution_count": 868,
   "metadata": {},
   "outputs": [],
   "source": [
    "results = backend.run(circuits, shots=1024, noise_model = noise_model).result().get_counts()"
   ]
  },
  {
   "cell_type": "markdown",
   "metadata": {},
   "source": [
    "#### Analysis\n",
    "The cells below show the anlysis of the data obtained from a run of the procedure.\n",
    "\n",
    "The `sim_meas` method below determines how many model terms can be measured simultaneously given a basis."
   ]
  },
  {
   "cell_type": "code",
   "execution_count": 869,
   "metadata": {},
   "outputs": [],
   "source": [
    "#Shows whether two pauli operators can be measured simultaneously\n",
    "def simultaneous(pauli1, pauli2):\n",
    "    return all([p1==p2 or p2 == Pauli(\"I\") for p1,p2 in zip(pauli1, pauli2)])\n",
    "\n",
    "#Gives a list of all terms in the model that can be measured simultaneously with pauli\n",
    "def sim_meas(pauli):\n",
    "    return [term for term in model_terms if simultaneous(pauli, term)]\n",
    "\n",
    "#Gives a list of all terms, in the sparse model or not, that can be measured simultaneously\n",
    "#This is used to overdeteremine the model, but since it grows as 2^n, this method can always be\n",
    "#replaced with sim_meas\n",
    "def all_sim_meas(pauli):\n",
    "    return [Pauli(\"\".join(p)) for p in product(*zip(pauli.to_label(), \"I\"*num_qubits))]\n",
    "#all_sim_meas = sim_meas"
   ]
  },
  {
   "cell_type": "markdown",
   "metadata": {},
   "source": [
    "Sort the run data into singles and doubles measurements, because each require slightly different analysis procedures."
   ]
  },
  {
   "cell_type": "code",
   "execution_count": 870,
   "metadata": {},
   "outputs": [],
   "source": [
    "#Sort into single and double measurements\n",
    "for res,circ in zip(results, circuits):\n",
    "    circ.metadata[\"counts\"] = res\n",
    "\n",
    "singles = []\n",
    "doubles = []\n",
    "for circ in circuits:\n",
    "    datum = circ.metadata\n",
    "    type = datum[\"type\"]\n",
    "    datum.pop(\"type\")\n",
    "    if type == \"single\":\n",
    "        singles.append(datum)\n",
    "    elif type == \"double\":\n",
    "        doubles.append(datum)"
   ]
  },
  {
   "cell_type": "code",
   "execution_count": 871,
   "metadata": {},
   "outputs": [],
   "source": [
    "#reorder by measurement basis\n",
    "basis_dict = {}\n",
    "#improve execution time by storing runs of all_sim_meas for each basis\n",
    "sim_measurements = {}\n",
    "for datum in doubles:\n",
    "    #get run data\n",
    "    basis = datum['prep_basis']\n",
    "    depth = datum['depth']\n",
    "    #find simultaneous measurements\n",
    "    if not basis in sim_measurements:\n",
    "        sim_measurements[basis] = all_sim_meas(basis)\n",
    "    #aggregate expectation value data for each simultaneous measurement\n",
    "    for pauli in sim_measurements[basis]:\n",
    "        expectation = get_expectation(pauli, **datum)\n",
    "        #set up dictionary\n",
    "        if not pauli in basis_dict:\n",
    "            basis_dict[pauli] = {\"expectation\":[0 for d in depths], \"total\":[0 for d in depths]}\n",
    "        #add expectation value to result at depth\n",
    "        basis_dict[pauli][\"expectation\"][depths.index(depth)] += expectation\n",
    "        basis_dict[pauli][\"total\"][depths.index(depth)] += 1"
   ]
  },
  {
   "cell_type": "markdown",
   "metadata": {},
   "source": [
    "Use curve-fits to determine all fidelity pairs and extract SPAM coefficients from the intercepts of the fits."
   ]
  },
  {
   "cell_type": "code",
   "execution_count": 872,
   "metadata": {},
   "outputs": [],
   "source": [
    "expfit = lambda x,a,b : a*np.exp(x*-b)\n",
    "#for each of the simultaneous measurements\n",
    "for key in basis_dict.keys(): #key is here the same as pauli in block above\n",
    "    for i,d in enumerate(depths):\n",
    "        #divide by total\n",
    "        basis_dict[key][\"expectation\"][i] /= basis_dict[key][\"total\"][i]\n",
    "    #try finding exponential fit, default to ideal if no fit found\n",
    "    try:\n",
    "        popt, pcov = curve_fit(expfit, depths, basis_dict[key][\"expectation\"], p0=[.9,.01])\n",
    "    except:\n",
    "        popt = 1,0\n",
    "\n",
    "    #store fidelity and SPAM coefficients\n",
    "    basis_dict[key][\"fidelity\"] = expfit(1,1,popt[1]) # could put this line in the if below because singles don't use this ever\n",
    "    basis_dict[key][\"SPAM\"] = popt[0] #find out more about this\n",
    "\n",
    "    #record whether measurement appears as a pair or as a single fidelity\n",
    "    if key != conjugate(key): #Same as is_single\n",
    "        basis_dict[key][\"type\"] = \"pair\" #denote if the value is \"sqrt(f^dagger*f)\"\n",
    "    else:\n",
    "        basis_dict[key][\"type\"] = \"single\" #of if it is just f"
   ]
  },
  {
   "cell_type": "markdown",
   "metadata": {},
   "source": [
    "Aggregate the results of the simultanous single measurements to lift the degeneracy in the model"
   ]
  },
  {
   "cell_type": "code",
   "execution_count": 873,
   "metadata": {},
   "outputs": [],
   "source": [
    "singles_dict = {} #store results of single measurements\n",
    "sim_measurements = {}\n",
    "for datum in singles:\n",
    "    meas_basis = datum['meas_basis']\n",
    "    prep_basis = datum['prep_basis']\n",
    "    #find terms that can be measured simultaneously\n",
    "    if not meas_basis in sim_measurements:\n",
    "        sim_measurements[meas_basis] = []\n",
    "        for term in model_terms:\n",
    "            if simultaneous(meas_basis, term) and simultaneous(prep_basis, conjugate(term)) and requires_single(term):\n",
    "                sim_measurements[meas_basis].append(term)\n",
    "    #aggregate data together\n",
    "    for meas in sim_measurements[meas_basis]:\n",
    "        if meas not in singles_dict:\n",
    "            singles_dict[meas] = 0\n",
    "        expectation = get_expectation(meas, **datum)\n",
    "        #the measurement basis SPAM coefficients are closer because the readout noise, combined\n",
    "        #with the noise from the last layer, is greater than the state preparation noise\n",
    "        fidelity = np.min([1.0,np.abs(expectation)/basis_dict[meas][\"SPAM\"]])\n",
    "        singles_dict[meas] += fidelity/single_samples\n",
    "\n",
    "#add singles data to basis_dict\n",
    "for key in singles_dict.keys():\n",
    "    basis_dict[key]['fidelity'] = singles_dict[key]\n",
    "    basis_dict[key]['type'] = \"single\""
   ]
  },
  {
   "cell_type": "markdown",
   "metadata": {},
   "source": [
    "## Results"
   ]
  },
  {
   "cell_type": "code",
   "execution_count": 874,
   "metadata": {},
   "outputs": [],
   "source": [
    "#graph a subset of the measured expectation values and plot fits\n",
    "def graph(*paulis):\n",
    "    colcy = cycle([\"tab:blue\", \"tab:orange\", \"tab:green\", \"tab:red\", \"tab:purple\", \"tab:cyan\", \"tab:brown\", \"tab:pink\", \"tab:gray\", \"tab:olive\"])\n",
    "    for p in paulis:\n",
    "        c = next(colcy)\n",
    "        data = basis_dict[p]['expectation']\n",
    "        popt, pcov = curve_fit(expfit, depths, data, p0=[.9,.01])\n",
    "        xrange = np.linspace(0,np.max(depths))\n",
    "        plt.plot(xrange, [expfit(x, *popt) for x in xrange], color=c)\n",
    "        plt.plot(depths, data, color = c, marker=\"o\", linestyle = 'None')\n",
    "    plt.title(\"Expectation vs Depth\")\n",
    "    plt.xlabel(\"Depth\")\n",
    "    plt.ylabel(\"Fidelity\")\n",
    "\n",
    "#display the measured fidelities plotted against the ideal fidelitites\n",
    "def display(*paulis):\n",
    "    ax = np.arange(len(paulis))\n",
    "    fidelities = []\n",
    "    fidelities_calculated = []\n",
    "    for p in paulis:\n",
    "        fid = basis_dict[p]['fidelity']\n",
    "        if(basis_dict[p]['type'] == 'pair'):\n",
    "            pair = conjugate(p)\n",
    "            fid = fid**2/basis_dict[pair]['fidelity']\n",
    "        fidelities.append(fid)\n",
    "        fidelities_calculated.append(ideal_fidelities_dic[p])\n",
    "    plt.bar(ax+.2, [10*(1-f) for f in fidelities], .4,color='tab:blue')\n",
    "    plt.bar(ax-.2, [10*(1-f) for f in fidelities_calculated],.4, color='tab:green')\n",
    "    plt.xticks(ax, paulis)\n",
    "    plt.title(\"Measured vs Actual Fidelitites\")\n",
    "    plt.xlabel(\"Term\")\n",
    "    plt.ylabel(\"10 x (1-f)\")\n",
    "    plt.legend([\"Measured\", \"Ideal\"])"
   ]
  },
  {
   "cell_type": "code",
   "execution_count": 875,
   "metadata": {},
   "outputs": [
    {
     "data": {
      "image/png": "[encoded data removed]",
      "text/plain": [
       "<Figure size 640x480 with 1 Axes>"
      ]
     },
     "metadata": {},
     "output_type": "display_data"
    }
   ],
   "source": [
    "graph(*model_terms)\n"
   ]
  },
  {
   "cell_type": "code",
   "execution_count": 876,
   "metadata": {},
   "outputs": [
    {
     "data": {
      "text/plain": [
       "{Pauli('II'): np.complex128(1+0j),\n",
       " Pauli('IX'): np.complex128(1+0j),\n",
       " Pauli('IY'): np.complex128(0.8999999999999999+0j),\n",
       " Pauli('IZ'): np.complex128(0.8999999999999999+0j),\n",
       " Pauli('XI'): np.complex128(0.8999999999999999+0j),\n",
       " Pauli('XX'): np.complex128(0.8999999999999999+0j),\n",
       " Pauli('XY'): np.complex128(1+0j),\n",
       " Pauli('XZ'): np.complex128(1+0j),\n",
       " Pauli('YI'): np.complex128(1+0j),\n",
       " Pauli('YX'): np.complex128(1+0j),\n",
       " Pauli('YY'): np.complex128(0.8999999999999999+0j),\n",
       " Pauli('YZ'): np.complex128(0.8999999999999999+0j),\n",
       " Pauli('ZI'): np.complex128(0.8999999999999999+0j),\n",
       " Pauli('ZX'): np.complex128(0.8999999999999999+0j),\n",
       " Pauli('ZY'): np.complex128(1+0j),\n",
       " Pauli('ZZ'): np.complex128(1+0j)}"
      ]
     },
     "execution_count": 876,
     "metadata": {},
     "output_type": "execute_result"
    }
   ],
   "source": [
    "ideal_fidelities_dic"
   ]
  },
  {
   "cell_type": "code",
   "execution_count": 877,
   "metadata": {},
   "outputs": [
    {
     "name": "stderr",
     "output_type": "stream",
     "text": [
      "e:\\OneDrive\\Dokumente\\Uni_kram\\Masterarbeit\\AutomatedPERTools\\.venv2\\lib\\site-packages\\matplotlib\\cbook.py:1762: ComplexWarning: Casting complex values to real discards the imaginary part\n",
      "  return math.isfinite(val)\n",
      "e:\\OneDrive\\Dokumente\\Uni_kram\\Masterarbeit\\AutomatedPERTools\\.venv2\\lib\\site-packages\\matplotlib\\transforms.py:767: ComplexWarning: Casting complex values to real discards the imaginary part\n",
      "  points = np.asarray(points, float)\n",
      "e:\\OneDrive\\Dokumente\\Uni_kram\\Masterarbeit\\AutomatedPERTools\\.venv2\\lib\\site-packages\\matplotlib\\transforms.py:767: ComplexWarning: Casting complex values to real discards the imaginary part\n",
      "  points = np.asarray(points, float)\n"
     ]
    },
    {
     "data": {
      "image/png": "[encoded data removed]",
      "text/plain": [
       "<Figure size 640x480 with 1 Axes>"
      ]
     },
     "metadata": {},
     "output_type": "display_data"
    }
   ],
   "source": [
    "display(*model_terms)"
   ]
  },
  {
   "cell_type": "markdown",
   "metadata": {},
   "source": [
    "### Learn model terms\n",
    "The lists $F_1$ and $F_2$ can be constructed in the following way: First, $F_1$ is chosen to be $F$, the set of sparse model terms. The list $F_2$ is chosen to be the same as $F_1$ if the single fidelity is known, and changes to the conjugate fidelity if a pair is known."
   ]
  },
  {
   "cell_type": "code",
   "execution_count": 878,
   "metadata": {},
   "outputs": [],
   "source": [
    "f1 = []\n",
    "f2 = []\n",
    "fidelities = []\n",
    "for key in model_terms:\n",
    "    f1.append(key)\n",
    "    fidelities.append(basis_dict[key]['fidelity'])\n",
    "    if basis_dict[key][\"type\"] == \"pair\":\n",
    "        pair = conjugate(key)\n",
    "        f2.append(pair)\n",
    "    else: #here is single\n",
    "        f2.append(key)"
   ]
  },
  {
   "cell_type": "markdown",
   "metadata": {},
   "source": [
    "Construct the matrices $M_1$ and $M_2$"
   ]
  },
  {
   "cell_type": "code",
   "execution_count": 879,
   "metadata": {},
   "outputs": [],
   "source": [
    "#sprod = lambda a,b: int(a.anticommutes(b))\n",
    "#M1 = [[sprod(a,b) for a in model_terms] for b in f1]\n",
    "#M2 = [[sprod(a,b) for a in model_terms] for b in f2]"
   ]
  },
  {
   "cell_type": "markdown",
   "metadata": {},
   "source": [
    "The matrix should be full rank"
   ]
  },
  {
   "cell_type": "code",
   "execution_count": 880,
   "metadata": {},
   "outputs": [
    {
     "data": {
      "text/plain": [
       "np.True_"
      ]
     },
     "execution_count": 880,
     "metadata": {},
     "output_type": "execute_result"
    }
   ],
   "source": [
    "np.linalg.matrix_rank(np.add(M1,M2)) == len(model_terms)"
   ]
  },
  {
   "cell_type": "markdown",
   "metadata": {},
   "source": [
    "Since the vector of fidelitites $\\vec f$ is either $f_a$ or $\\sqrt{f_a'f_a}$, the equation for calculating the model terms is\n",
    "$$\n",
    "(M_1+M_2)\\vec \\lambda+\\log(\\vec f) = 0\n",
    "$$\n",
    "The equation for calculating the model terms using single fidelities is the same as the original:\n",
    "$$\n",
    "M\\vec \\lambda + \\frac{1}{2}\\log(\\vec f) = 0\n",
    "$$"
   ]
  },
  {
   "cell_type": "code",
   "execution_count": 881,
   "metadata": {},
   "outputs": [],
   "source": [
    "coeffs,rnorm = nnls(np.add(M1,M2), -np.log([f.real for f in fidelities]))\n",
    "real_coeffs, real_rnorm = nnls(M1, -.5*np.log([ideal_fidelities_dic[term].real for term in f1]))"
   ]
  },
  {
   "cell_type": "markdown",
   "metadata": {},
   "source": [
    "One thing to note is that the graph in van den Berg et Al. doesn't plot the actual coefficients vs ideal coefficients, but simply the goodness of fit using nnls"
   ]
  },
  {
   "cell_type": "code",
   "execution_count": 882,
   "metadata": {},
   "outputs": [
    {
     "data": {
      "text/plain": [
       "Text(0, 0.5, 'Coefficient')"
      ]
     },
     "execution_count": 882,
     "metadata": {},
     "output_type": "execute_result"
    },
    {
     "data": {
      "image/png": "[encoded data removed]",
      "text/plain": [
       "<Figure size 640x480 with 1 Axes>"
      ]
     },
     "metadata": {},
     "output_type": "display_data"
    }
   ],
   "source": [
    "ax = np.arange(len(model_terms))\n",
    "plt.bar(ax+.2, coeffs, .4, color='tab:blue')\n",
    "plt.bar(ax-.2, real_coeffs, .4, color='tab:green')\n",
    "plt.xticks(ax, model_terms)\n",
    "plt.title(\"Computed vs Measured Model Terms\")\n",
    "plt.xlabel(\"Term\")\n",
    "plt.ylabel(\"Coefficient\")"
   ]
  }
 ],
 "metadata": {
  "kernelspec": {
   "display_name": ".venv2",
   "language": "python",
   "name": "python3"
  },
  "language_info": {
   "codemirror_mode": {
    "name": "ipython",
    "version": 3
   },
   "file_extension": ".py",
   "mimetype": "text/x-python",
   "name": "python",
   "nbconvert_exporter": "python",
   "pygments_lexer": "ipython3",
   "version": "3.10.10"
  }
 },
 "nbformat": 4,
 "nbformat_minor": 2
}
