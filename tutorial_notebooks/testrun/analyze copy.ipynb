{
 "cells": [
  {
   "cell_type": "code",
   "execution_count": 26,
   "metadata": {},
   "outputs": [],
   "source": [
    "from qiskit import QuantumCircuit, Aer, transpile\n",
    "from matplotlib import pyplot as plt\n",
    "import os\n",
    "import sys\n",
    "import numpy as np\n",
    "import argparse\n",
    "import pickle\n",
    "from sys import platform\n",
    "\n",
    "folder = os.getcwd()\n",
    "while not folder.endswith(\"AutomatedPERTools\"):\n",
    "    folder = os.path.dirname(folder)\n",
    "sys.path.append(os.path.join(folder, \"pauli_lindblad_per\"))\n",
    "\n",
    "from tomography.experiment import SparsePauliTomographyExperiment as tomography\n",
    "from primitives.pauli import QiskitPauli\n",
    "\n",
    "plt.style.use(\"ggplot\")"
   ]
  },
  {
   "cell_type": "code",
   "execution_count": 32,
   "metadata": {},
   "outputs": [],
   "source": [
    "#path = \"tutorial_notebooks/testrun/testrun/False_False_256_4000_100_1024_FakeVigoV2_False_False_True_{1, 2, 3, 4}_[2, 4, 8, 16, 32, 64]/experiment.pickle\".split(\"/\")\n",
    "path = \"experiment.pickle\".split(\"/\")\n",
    "final_folder = folder\n",
    "for p in path:\n",
    "    final_folder = os.path.join(final_folder, p)\n",
    "with open(final_folder, 'rb') as file:\n",
    "    experiment = pickle.load(file)"
   ]
  },
  {
   "cell_type": "code",
   "execution_count": 34,
   "metadata": {},
   "outputs": [
    {
     "ename": "AttributeError",
     "evalue": "'TermData' object has no attribute 'fidelity'",
     "output_type": "error",
     "traceback": [
      "\u001b[1;31m---------------------------------------------------------------------------\u001b[0m",
      "\u001b[1;31mAttributeError\u001b[0m                            Traceback (most recent call last)",
      "Cell \u001b[1;32mIn[34], line 2\u001b[0m\n\u001b[0;32m      1\u001b[0m layer \u001b[38;5;241m=\u001b[39m experiment\u001b[38;5;241m.\u001b[39manalysis\u001b[38;5;241m.\u001b[39mget_layer_data(\u001b[38;5;241m0\u001b[39m)\n\u001b[1;32m----> 2\u001b[0m \u001b[43mlayer\u001b[49m\u001b[38;5;241;43m.\u001b[39;49m\u001b[43mplot_infidelitites\u001b[49m\u001b[43m(\u001b[49m\u001b[43m(\u001b[49m\u001b[38;5;241;43m2\u001b[39;49m\u001b[43m,\u001b[49m\u001b[43m)\u001b[49m\u001b[43m,\u001b[49m\u001b[43m(\u001b[49m\u001b[38;5;241;43m3\u001b[39;49m\u001b[43m,\u001b[49m\u001b[43m)\u001b[49m\u001b[43m,\u001b[49m\u001b[43m(\u001b[49m\u001b[38;5;241;43m2\u001b[39;49m\u001b[43m,\u001b[49m\u001b[38;5;241;43m3\u001b[39;49m\u001b[43m)\u001b[49m\u001b[43m)\u001b[49m\n",
      "File \u001b[1;32me:\\OneDrive\\Dokumente\\Uni_kram\\Masterarbeit\\AutomatedPERTools\\pauli_lindblad_per\\tomography\\layernoisedata.py:202\u001b[0m, in \u001b[0;36mLayerNoiseData.plot_infidelitites\u001b[1;34m(self, *links)\u001b[0m\n\u001b[0;32m    200\u001b[0m \u001b[38;5;28;01mfor\u001b[39;00m group \u001b[38;5;129;01min\u001b[39;00m groups:\n\u001b[0;32m    201\u001b[0m     c \u001b[38;5;241m=\u001b[39m \u001b[38;5;28mnext\u001b[39m(colcy)\n\u001b[1;32m--> 202\u001b[0m     infidelities \u001b[38;5;241m=\u001b[39m [\u001b[38;5;241m1\u001b[39m\u001b[38;5;241m-\u001b[39m\u001b[38;5;28mself\u001b[39m\u001b[38;5;241m.\u001b[39m_term_data[term]\u001b[38;5;241m.\u001b[39mfidelity \u001b[38;5;28;01mfor\u001b[39;00m term \u001b[38;5;129;01min\u001b[39;00m group]\n\u001b[0;32m    203\u001b[0m     ax\u001b[38;5;241m.\u001b[39mbar([term\u001b[38;5;241m.\u001b[39mto_label() \u001b[38;5;28;01mfor\u001b[39;00m term \u001b[38;5;129;01min\u001b[39;00m group], infidelities, color\u001b[38;5;241m=\u001b[39mc)\n\u001b[0;32m    204\u001b[0m \u001b[38;5;28;01mreturn\u001b[39;00m ax\n",
      "File \u001b[1;32me:\\OneDrive\\Dokumente\\Uni_kram\\Masterarbeit\\AutomatedPERTools\\pauli_lindblad_per\\tomography\\layernoisedata.py:202\u001b[0m, in \u001b[0;36m<listcomp>\u001b[1;34m(.0)\u001b[0m\n\u001b[0;32m    200\u001b[0m \u001b[38;5;28;01mfor\u001b[39;00m group \u001b[38;5;129;01min\u001b[39;00m groups:\n\u001b[0;32m    201\u001b[0m     c \u001b[38;5;241m=\u001b[39m \u001b[38;5;28mnext\u001b[39m(colcy)\n\u001b[1;32m--> 202\u001b[0m     infidelities \u001b[38;5;241m=\u001b[39m [\u001b[38;5;241m1\u001b[39m\u001b[38;5;241m-\u001b[39m\u001b[38;5;28;43mself\u001b[39;49m\u001b[38;5;241;43m.\u001b[39;49m\u001b[43m_term_data\u001b[49m\u001b[43m[\u001b[49m\u001b[43mterm\u001b[49m\u001b[43m]\u001b[49m\u001b[38;5;241;43m.\u001b[39;49m\u001b[43mfidelity\u001b[49m \u001b[38;5;28;01mfor\u001b[39;00m term \u001b[38;5;129;01min\u001b[39;00m group]\n\u001b[0;32m    203\u001b[0m     ax\u001b[38;5;241m.\u001b[39mbar([term\u001b[38;5;241m.\u001b[39mto_label() \u001b[38;5;28;01mfor\u001b[39;00m term \u001b[38;5;129;01min\u001b[39;00m group], infidelities, color\u001b[38;5;241m=\u001b[39mc)\n\u001b[0;32m    204\u001b[0m \u001b[38;5;28;01mreturn\u001b[39;00m ax\n",
      "\u001b[1;31mAttributeError\u001b[0m: 'TermData' object has no attribute 'fidelity'"
     ]
    },
    {
     "data": {
      "image/png": "[encoded data removed]",
      "text/plain": [
       "<Figure size 640x480 with 1 Axes>"
      ]
     },
     "metadata": {},
     "output_type": "display_data"
    }
   ],
   "source": [
    "layer = experiment.analysis.get_layer_data(0)\n",
    "layer.plot_infidelitites((2,),(3,),(2,3))"
   ]
  }
 ],
 "metadata": {
  "kernelspec": {
   "display_name": ".venv",
   "language": "python",
   "name": "python3"
  },
  "language_info": {
   "codemirror_mode": {
    "name": "ipython",
    "version": 3
   },
   "file_extension": ".py",
   "mimetype": "text/x-python",
   "name": "python",
   "nbconvert_exporter": "python",
   "pygments_lexer": "ipython3",
   "version": "3.10.10"
  }
 },
 "nbformat": 4,
 "nbformat_minor": 2
}
