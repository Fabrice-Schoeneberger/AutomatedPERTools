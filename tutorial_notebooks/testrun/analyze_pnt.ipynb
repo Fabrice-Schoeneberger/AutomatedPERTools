{
 "cells": [
  {
   "cell_type": "code",
   "execution_count": 132,
   "metadata": {},
   "outputs": [],
   "source": [
    "import matplotlib.pyplot as plt\n",
    "from matplotlib import pyplot as plt\n",
    "import os\n",
    "import sys\n",
    "import numpy as np\n",
    "from qiskit.quantum_info import pauli_basis, PTM\n",
    "\n",
    "home_folder = os.getcwd()\n",
    "while not home_folder.endswith(\"AutomatedPERTools\"):\n",
    "    home_folder = os.path.dirname(home_folder)\n",
    "sys.path.append(os.path.join(home_folder, \"pauli_lindblad_per\"))\n",
    "import pickle"
   ]
  },
  {
   "cell_type": "code",
   "execution_count": 133,
   "metadata": {},
   "outputs": [],
   "source": [
    "def decipher_name(namebase):\n",
    "    i = 0\n",
    "    dic = dict()\n",
    "    split_namebase = namebase.split(\"_\")\n",
    "    #parser.add_argument('--plusone', '-p', help='Takes Neighboring qubits into account', default=False, action='store_true')\n",
    "    #i, dic[\"tomography_connections\"] = i+1, (split_namebase[i] == \"True\")\n",
    "    #parser.add_argument('--sum', '-s', help='Same as -p and turns sumation on over neighboring qubits', default=False, action='store_true')\n",
    "    i, dic[\"sum_over_lambda\"] = i+1, (split_namebase[i] == \"True\")\n",
    "    if dic[\"sum_over_lambda\"]:\n",
    "        dic[\"tomography_connections\"] = True\n",
    "    #parser.add_argument('--pntsamples', type=int, help='How many samples in PNT? Default: 16', default=16)\n",
    "    i, dic[\"pntsamples\"] = i+1, int(split_namebase[i])\n",
    "    #parser.add_argument('--pntsinglesamples', type=int, help='How many single samples in PNT? Default: 100', default=100)\n",
    "    i, dic[\"pntsinglesamples\"] = i+1, int(split_namebase[i])\n",
    "    #parser.add_argument('--persamples', type=int, help='How many samples in PER? Default: 100', default=100)\n",
    "    i, dic[\"persamples\"] = i+1, int(split_namebase[i])\n",
    "    #parser.add_argument('--shots', type=int, help='How many shots? Default: 1000', default=1000)\n",
    "    i, dic[\"shots\"] = i+1, int(split_namebase[i])\n",
    "    #parser.add_argument('--backend', type=str, help='Which backend to use? Default: FakeVigoV2', default=\"FakeVigoV2\")\n",
    "    import qiskit.providers.fake_provider as fake_provider\n",
    "    backend = fake_provider.FakeVigoV2()\n",
    "    if split_namebase[i] != \"FakeVigoV2\":\n",
    "        method = getattr(fake_provider, split_namebase[6])\n",
    "        backend = method()\n",
    "    dic[\"backend\"] = backend\n",
    "    i+=1\n",
    "\n",
    "    #parser.add_argument('--cross', '-c', help='Simulates Cross Talk Noise', default=False, action='store_true')\n",
    "    i, dic[\"do_cross_talk_noise\"] = i+1, (split_namebase[i] == \"True\")\n",
    "    #parser.add_argument('--allqubits', '-a', help='runs over all qubits in the tomography', default=False, action='store_true')\n",
    "    #i, dic[\"allqubits\"] = i+1, (split_namebase[i] == \"True\")\n",
    "    #parser.add_argument('--onlyTomography', help='Only does the tomography and then ends the program', default=False, action='store_true')\n",
    "    i, dic[\"onlyTomography\"] = i+1, (split_namebase[i] == \"True\")\n",
    "\n",
    "    #parser.add_argument('--setqubits', type=int, nargs='+', help='Which qubits to use?: Default: 0123 and transpile')\n",
    "    import ast\n",
    "    i, dic[\"qubits\"]= i+1, ast.literal_eval(split_namebase[i])\n",
    "    if dic[\"qubits\"] !=  [0,1,2,3]:\n",
    "        dic[\"num_qubits\"] = backend.num_qubits    \n",
    "    else:\n",
    "        dic[\"num_qubits\"] = len(dic[\"qubits\"])\n",
    "    #if split_namebase[7] == '[0,1,2,3]' and split_namebase[8] == 'and' and split_namebase[9] == 'transpile':\n",
    "    return dic"
   ]
  },
  {
   "cell_type": "code",
   "execution_count": 134,
   "metadata": {},
   "outputs": [
    {
     "name": "stdout",
     "output_type": "stream",
     "text": [
      "False_256_4000_100_1024_FakeVigoV2_False_True_{1, 2, 3, 4}_[2, 4, 8, 16, 32, 64]\n"
     ]
    }
   ],
   "source": [
    "# Determine Folders\n",
    "main_folder_path = \"tutorial_notebooks/testrun/server_run_collection\".split('/')\n",
    "main_folder = \"\"\n",
    "for segment in main_folder_path:\n",
    "    main_folder = os.path.join(main_folder, segment)\n",
    "folders = [f for f in os.listdir(os.path.join(home_folder, main_folder)) if os.path.isdir(os.path.join(os.path.join(home_folder, main_folder), f))]\n",
    "filtered_folders = [f for f in folders if \"FakeVigoV2\" in f \n",
    "                    and not decipher_name(f)[\"do_cross_talk_noise\"] \n",
    "                    and decipher_name(f)[\"pntsamples\"]== 256]\n",
    "for folder in filtered_folders:\n",
    "    print(folder)"
   ]
  },
  {
   "cell_type": "code",
   "execution_count": 135,
   "metadata": {},
   "outputs": [
    {
     "name": "stdout",
     "output_type": "stream",
     "text": [
      "e:\\OneDrive\\Dokumente\\Uni_kram\\Masterarbeit\\AutomatedPERTools\\tutorial_notebooks\\testrun\\server_run_collection\\False_256_4000_100_1024_FakeVigoV2_False_True_{1, 2, 3, 4}_[2, 4, 8, 16, 32, 64]\\coeffs.pickle\n"
     ]
    }
   ],
   "source": [
    "# Load Data\n",
    "coeffs_datas = []\n",
    "infidelities_datas = []\n",
    "for folder in filtered_folders:\n",
    "    print(os.path.join(os.path.join(os.path.join(home_folder, main_folder),folder), \"coeffs.pickle\"))\n",
    "    with open(os.path.join(os.path.join(os.path.join(home_folder, main_folder),folder), \"coeffs.pickle\"), \"rb\") as f:\n",
    "        coeffs = pickle.load(f)\n",
    "    coeffs_datas.append(coeffs)\n",
    "    with open(os.path.join(os.path.join(os.path.join(home_folder, main_folder),folder), \"infidelities.pickle\"), \"rb\") as f:\n",
    "        infidelities = pickle.load(f)\n",
    "        \"\"\" \n",
    "        print(infidelities)\n",
    "        inf2 = []\n",
    "    for inf in infidelities:\n",
    "        tempdic = {}\n",
    "        for temp2 in inf:\n",
    "            for i in temp2:\n",
    "                print(i)\n",
    "                tempdic[i] = temp2[i]\n",
    "        inf2.append(tempdic)\n",
    "    print(coeffs)\n",
    "    print(inf2)\n",
    "    infidelities = inf2\n",
    "    with open(os.path.join(os.path.join(os.path.join(home_folder, main_folder),folder), \"infidelities.pickle\"), \"wb\") as f:\n",
    "        pickle.dump(infidelities, f) \"\"\"\n",
    "    infidelities_datas.append(infidelities)"
   ]
  },
  {
   "cell_type": "code",
   "execution_count": 136,
   "metadata": {},
   "outputs": [],
   "source": [
    "with open(os.path.join(os.path.join(os.path.join(home_folder, main_folder),filtered_folders[0]), \"noise_model.pickle\"), \"rb\") as f:\n",
    "    (noise_model, twoqubit_error_template, singlequbit_error_template) = pickle.load(f)\n",
    "from TrotterExample import get_noise_model, make_initial_Circuit\n",
    "#(noise_model, twoqubit_error_template, singlequbit_error_template) = get_noise_model()\n",
    "dic = decipher_name(filtered_folders[0])\n",
    "backend = dic[\"backend\"]\n",
    "circuit = make_initial_Circuit(list(dic[\"qubits\"]), dic[\"num_qubits\"], backend, 2)[0]"
   ]
  },
  {
   "cell_type": "code",
   "execution_count": 137,
   "metadata": {},
   "outputs": [],
   "source": [
    "def get_index(qc, inst, i=None):\n",
    "    if i:\n",
    "        qubit = inst.qubits[i]\n",
    "        index = -1\n",
    "        for register in qc.qregs:  # Assuming you're using `QuantumCircuit`\n",
    "            if qubit in register:\n",
    "                index = register.index(qubit)\n",
    "                break\n",
    "        return index\n",
    "    else:\n",
    "        qubits = inst.qubits\n",
    "        indexes = []\n",
    "        for qubit in qubits:\n",
    "            index = -1\n",
    "            for register in qc.qregs:  # Assuming you're using `QuantumCircuit`\n",
    "                if qubit in register:\n",
    "                    index = register.index(qubit)\n",
    "                    break\n",
    "            indexes.append(index)\n",
    "        return indexes"
   ]
  },
  {
   "cell_type": "code",
   "execution_count": 138,
   "metadata": {},
   "outputs": [],
   "source": [
    "from TrotterExample import circuit_to_layers\n",
    "from primitives.circuit import QiskitCircuit\n",
    "\n",
    "layers = circuit_to_layers(QiskitCircuit(circuit))"
   ]
  },
  {
   "cell_type": "code",
   "execution_count": 139,
   "metadata": {},
   "outputs": [],
   "source": [
    "def get_error_for_circuit(circuit, twoqubit_error_template, singlequbit_error_template, backend):\n",
    "    from qiskit.quantum_info import Pauli\n",
    "    def mul_Pauli(pauli1, pauli2):\n",
    "        result = pauli1.compose(pauli2)\n",
    "        nophase = Pauli((result.z, result.x))\n",
    "        return nophase\n",
    "\n",
    "    num_qubits = backend.num_qubits\n",
    "    identity_string = 'I'*num_qubits\n",
    "    error_state = {Pauli(identity_string): 1}\n",
    "    for inst in circuit:\n",
    "        temp_error_state = {}\n",
    "        indexes = get_index(circuit, inst)\n",
    "        if len(indexes) == 1:\n",
    "            index = indexes[0]\n",
    "            for (op, p) in singlequbit_error_template:\n",
    "                op = Pauli(\"\".join(reversed(identity_string[:index] + str(op)+ identity_string[index+1:])))\n",
    "                for og_op in error_state:\n",
    "                    og_p = error_state[og_op]\n",
    "                    new_op = mul_Pauli(op, og_op)\n",
    "                    temp_error_state[new_op] = temp_error_state.get(new_op, 0) + p*og_p\n",
    "        elif len(indexes) == 2:\n",
    "            #print(inst)\n",
    "            for (op, p) in twoqubit_error_template:\n",
    "                temp_string = (identity_string[:indexes[0]] + \"\".join(reversed(str(op)))[0]+ identity_string[indexes[0]+1:])\n",
    "                op = Pauli(\"\".join(reversed(temp_string[:indexes[1]] + \"\".join(reversed(str(op)))[1]+ temp_string[indexes[1]+1:])))\n",
    "                for og_op in error_state:\n",
    "                    og_p = error_state[og_op]\n",
    "                    new_op = mul_Pauli(op, og_op)\n",
    "                    temp_error_state[new_op] = temp_error_state.get(new_op, 0) + p*og_p\n",
    "        else:\n",
    "            if inst.operation.name == 'barrier':\n",
    "                continue\n",
    "            raise Exception(\"Too many qubits\")\n",
    "        error_state = temp_error_state\n",
    "    return [(op, error_state[op]) for op in error_state]"
   ]
  },
  {
   "cell_type": "code",
   "execution_count": 140,
   "metadata": {},
   "outputs": [],
   "source": [
    "def model_terms(layer, *list):\n",
    "    return layer._model_terms(list)"
   ]
  },
  {
   "cell_type": "code",
   "execution_count": 141,
   "metadata": {},
   "outputs": [],
   "source": [
    "def splice_string(string, indexes):\n",
    "    for index in sorted(indexes):\n",
    "        index -= sorted(indexes).index(index)\n",
    "        string = string[:index]+string[index+1:]\n",
    "    return string"
   ]
  },
  {
   "cell_type": "code",
   "execution_count": 142,
   "metadata": {},
   "outputs": [
    {
     "data": {
      "text/plain": [
       "<qiskit.providers.fake_provider.backends.vigo.fake_vigo.FakeVigoV2 at 0x2551214c550>"
      ]
     },
     "execution_count": 142,
     "metadata": {},
     "output_type": "execute_result"
    }
   ],
   "source": [
    "from TrotterExample import make_initial_Circuit\n",
    "\n",
    "backend"
   ]
  },
  {
   "cell_type": "code",
   "execution_count": 143,
   "metadata": {},
   "outputs": [],
   "source": [
    "choosen_qubits = [3,4]\n",
    "layer_number = 0\n",
    "groups = []\n",
    "for qubit in choosen_qubits:\n",
    "    groups += [pauli for pauli in pauli_basis(backend.num_qubits) if str(pauli)[::-1][qubit] != 'I' and (splice_string(str(pauli)[::-1], [qubit]) == 'I'*(backend.num_qubits-1))]\n",
    "groups += [pauli for pauli in pauli_basis(backend.num_qubits) if str(pauli)[::-1][choosen_qubits[0]] != 'I' and str(pauli)[::-1][choosen_qubits[1]] != 'I' and (splice_string(str(pauli)[::-1], [choosen_qubits[0], choosen_qubits[1]]) == 'I'*(backend.num_qubits-2))]"
   ]
  },
  {
   "cell_type": "code",
   "execution_count": 144,
   "metadata": {},
   "outputs": [
    {
     "data": {
      "text/plain": [
       "[(Pauli('I'), 1)]"
      ]
     },
     "execution_count": 144,
     "metadata": {},
     "output_type": "execute_result"
    }
   ],
   "source": [
    "from qiskit.quantum_info import Pauli\n",
    "singlequbit_error_template = [(Pauli('I'), 1)]\n",
    "singlequbit_error_template"
   ]
  },
  {
   "cell_type": "code",
   "execution_count": 145,
   "metadata": {},
   "outputs": [],
   "source": [
    "from qiskit.providers.aer.noise import pauli_error\n",
    "true_error_template = {pauli: error for pauli, error in get_error_for_circuit(layers[layer_number].qc, twoqubit_error_template, singlequbit_error_template, backend)}"
   ]
  },
  {
   "cell_type": "code",
   "execution_count": 146,
   "metadata": {},
   "outputs": [],
   "source": [
    "true_error = pauli_error(get_error_for_circuit(layers[layer_number].qc, twoqubit_error_template, singlequbit_error_template, backend))"
   ]
  },
  {
   "cell_type": "code",
   "execution_count": 147,
   "metadata": {},
   "outputs": [
    {
     "name": "stdout",
     "output_type": "stream",
     "text": [
      "YZZYI 7.748753205669375e-05\n",
      "YZYII 2.9039301344000718e-05\n",
      "YZYYI 0.00016878691257540146\n",
      "YZYXI 0.00017183377941333783\n",
      "YZIII 0.008355552745362363\n",
      "IYZYI 2.9039301344000718e-05\n",
      "IYYII 1.0882796240441565e-05\n",
      "IYYYI 6.32547441776109e-05\n",
      "IYYXI 6.4396590896863e-05\n",
      "IYIII 0.0031313349080564733\n",
      "YYZYI 0.00016878691257540146\n",
      "YYYII 6.32547441776109e-05\n",
      "YYYYI 0.0003676594298537244\n",
      "YYYXI 0.000374296255584958\n",
      "YYIII 0.018200449973278035\n",
      "XYZYI 0.00017183377941333783\n",
      "XYYII 6.4396590896863e-05\n",
      "XYYYI 0.000374296255584958\n",
      "XYYXI 0.0003810528863645874\n",
      "XYIII 0.018528996461942126\n",
      "IIZYI 0.008355552745362363\n",
      "IIYII 0.0031313349080564733\n",
      "IIYYI 0.018200449973278035\n",
      "IIYXI 0.018528996461942126\n",
      "IIIII 0.9009870340102222\n"
     ]
    }
   ],
   "source": [
    "for key in true_error_template:\n",
    "    print(key, true_error_template[key])"
   ]
  },
  {
   "cell_type": "code",
   "execution_count": 148,
   "metadata": {},
   "outputs": [],
   "source": [
    "# Make error strings\n",
    "twoqubit_error_string = \"\"\n",
    "for temp in twoqubit_error_template:\n",
    "    twoqubit_error_string = twoqubit_error_string + str(temp[0])+\":\" +\"%.7s\"%temp[1]+\"   \"\n",
    "\n",
    "singlequbit_error_string = \"\"\n",
    "for temp in singlequbit_error_template:\n",
    "    singlequbit_error_string = singlequbit_error_string +\" \"+ str(temp[0])+\":\" +\"%.7s\"%temp[1]+\"   \""
   ]
  },
  {
   "cell_type": "code",
   "execution_count": 149,
   "metadata": {},
   "outputs": [],
   "source": [
    "# Make / load transfer matrix\n",
    "transfer_matrix = None\n",
    "for folder in filtered_folders:\n",
    "    if os.path.exists(os.path.join(os.path.join(os.path.join(home_folder, main_folder),folder), \"transfer_matrixes.pickle\")):\n",
    "        with open(os.path.join(os.path.join(os.path.join(home_folder, main_folder),folder), \"transfer_matrixes.pickle\"), \"rb\") as f:\n",
    "            transfer_matrixes = pickle.load(f)\n",
    "            transfer_matrix = transfer_matrixes[layer_number]\n",
    "\n",
    "if transfer_matrix is None:\n",
    "    for folder in filtered_folders:\n",
    "        if os.path.exists(os.path.join(os.path.join(os.path.join(home_folder, main_folder),folder), \"transfer_matrix.pickle\")):\n",
    "            with open(os.path.join(os.path.join(os.path.join(home_folder, main_folder),folder), \"transfer_matrix.pickle\"), \"rb\") as f:\n",
    "                (transfer_matrix, saved_layer_number) = pickle.load(f)\n",
    "                if saved_layer_number != layer_number:\n",
    "                    transfer_matrix = None\n",
    "                    \n",
    "if transfer_matrix is None:\n",
    "    transfer_matrix = PTM(true_error.to_quantumchannel()).data #Find out more about this\n",
    "    \n",
    "for folder in filtered_folders:\n",
    "    with open(os.path.join(os.path.join(os.path.join(home_folder, main_folder),folder), \"transfer_matrix.pickle\"), \"wb\") as f:\n",
    "        pickle.dump((transfer_matrix, layer_number), f)"
   ]
  },
  {
   "cell_type": "code",
   "execution_count": 150,
   "metadata": {},
   "outputs": [],
   "source": [
    "coe = True\n",
    "infidelities_list = []\n",
    "coeffs_list = []\n",
    "labels = []\n",
    "stack = {pauli: (1-transfer_matrix[i][i]).real for i,pauli in enumerate(pauli_basis(backend.num_qubits))}\n",
    "stack = [stack[pauli] for pauli in groups]\n",
    "infidelities_list.append(stack)\n",
    "coeffs_list.append([true_error_template.get(pauli, 0) for pauli in groups])\n",
    "labels.append(\"Real Error\")"
   ]
  },
  {
   "cell_type": "code",
   "execution_count": 151,
   "metadata": {},
   "outputs": [
    {
     "name": "stdout",
     "output_type": "stream",
     "text": [
      "2\n"
     ]
    },
    {
     "data": {
      "image/png": "[encoded data removed]",
      "text/plain": [
       "<Figure size 1000x600 with 1 Axes>"
      ]
     },
     "metadata": {},
     "output_type": "display_data"
    }
   ],
   "source": [
    "failed_folders = 0\n",
    "for array_of_coeffs, array_of_infidelities, folder in zip(coeffs_datas, infidelities_datas, filtered_folders):\n",
    "    coeffs = array_of_coeffs[layer_number]\n",
    "    infidelities = array_of_infidelities[layer_number]\n",
    "    try:\n",
    "        coeffs_list.append([coeffs[key] for key in groups])\n",
    "        infidelities_list.append([infidelities[key] for key in groups])\n",
    "    except Exception as e:\n",
    "        failed_folders += 1\n",
    "        print(e)\n",
    "        print(\"Failed Folders:\", failed_folders)\n",
    "        continue\n",
    "    cipher = decipher_name(folder)\n",
    "    labels.append(\"Measured\")\n",
    "    #print(\"tomography_connections\", cipher[\"tomography_connections\"])\n",
    "    #print(\"allqubits\", cipher[\"allqubits\"])\n",
    "\n",
    "\n",
    "#print([len(item) for item in infidelities_list])\n",
    "fig, ax = plt.subplots(figsize=(10, 6))\n",
    "x = np.arange(len(groups))  # Label locations\n",
    "width = 0.8 / (len(filtered_folders)+1-failed_folders)  # Width of the bars, adjusted for the number of datasets\n",
    "\n",
    "# Create the bar plot\n",
    "\n",
    "# Add labels, title, and custom x-axis tick labels\n",
    "ax.set_xlabel('Modelterm')\n",
    "ax.set_xticks(x)\n",
    "ax.set_xticklabels(groups, rotation=45, ha='right')\n",
    "\n",
    "# Plotting bars for each folder's data dynamically\n",
    "maxvalue = 0\n",
    "for i in range(len(filtered_folders)+1-failed_folders):\n",
    "    if coe:\n",
    "        ax.bar(x + (i - (len(filtered_folders)-failed_folders)/2) * width, coeffs_list[i], width, label=labels[i])\n",
    "        maxvalue = max([maxvalue, max(coeffs_list[i])])\n",
    "    else:\n",
    "        ax.bar(x + (i - (len(filtered_folders)-failed_folders)/2) * width, infidelities_list[i], width, label=labels[i])\n",
    "        maxvalue = max([maxvalue, max(infidelities_list[i])])\n",
    "print((len(filtered_folders)+1-failed_folders))\n",
    "# Add legend\n",
    "ax.legend()\n",
    "if maxvalue != 0:\n",
    "    ax.set_ylim(0, maxvalue * 1.2)\n",
    "\n",
    "textstr = 'Noisemodel is Paulierrors of each two-qubits gate.\\nIt is symmetrical for all qubits. Chances are for all:\\n2 qubit gates ' + twoqubit_error_string# + '\\n1 qubit gates ' + singlequbit_error_string\n",
    "\n",
    "# Customize the textbox position and appearance\n",
    "props = dict(boxstyle='round', facecolor='lightblue', alpha=0)\n",
    "#props = dict()\n",
    "\n",
    "# Place the textbox in the top-left corner inside the plot (adjust x and y as needed)\n",
    "ax.text(0.01, 0.99, textstr, transform=ax.transAxes, fontsize=10,\n",
    "        verticalalignment='top', horizontalalignment='left', bbox=props, family='monospace')\n",
    "\n",
    "# Display the plot\n",
    "plt.tight_layout()\n",
    "#plt.show()\n",
    "if coe:\n",
    "    ax.set_title('Real Coefficients vs Measured')\n",
    "    ax.set_ylabel('Coefficient')\n",
    "    plt.savefig(\"Coefficient\", bbox_inches='tight')\n",
    "else:\n",
    "    ax.set_title('Real Infidelity vs Measured')\n",
    "    ax.set_ylabel('Infidelity')\n",
    "    plt.savefig(\"Infidelity\", bbox_inches='tight')"
   ]
  }
 ],
 "metadata": {
  "kernelspec": {
   "display_name": ".venv",
   "language": "python",
   "name": "python3"
  },
  "language_info": {
   "codemirror_mode": {
    "name": "ipython",
    "version": 3
   },
   "file_extension": ".py",
   "mimetype": "text/x-python",
   "name": "python",
   "nbconvert_exporter": "python",
   "pygments_lexer": "ipython3",
   "version": "3.10.10"
  }
 },
 "nbformat": 4,
 "nbformat_minor": 2
}
