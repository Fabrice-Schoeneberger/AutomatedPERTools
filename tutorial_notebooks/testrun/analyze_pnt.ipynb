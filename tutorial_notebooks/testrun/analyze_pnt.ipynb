{
 "cells": [
  {
   "cell_type": "code",
   "execution_count": 379,
   "metadata": {},
   "outputs": [],
   "source": [
    "import matplotlib.pyplot as plt\n",
    "from matplotlib import pyplot as plt\n",
    "import os\n",
    "import sys\n",
    "import numpy as np\n",
    "from qiskit.quantum_info import pauli_basis, PTM\n",
    "\n",
    "home_folder = os.getcwd()\n",
    "while not home_folder.endswith(\"AutomatedPERTools\"):\n",
    "    home_folder = os.path.dirname(home_folder)\n",
    "sys.path.append(os.path.join(home_folder, \"pauli_lindblad_per\"))\n",
    "import pickle"
   ]
  },
  {
   "cell_type": "code",
   "execution_count": 380,
   "metadata": {},
   "outputs": [],
   "source": [
    "def decipher_name(namebase):\n",
    "    i = 0\n",
    "    dic = dict()\n",
    "    split_namebase = namebase.split(\"_\")\n",
    "    #parser.add_argument('--plusone', '-p', help='Takes Neighboring qubits into account', default=False, action='store_true')\n",
    "    #i, dic[\"tomography_connections\"] = i+1, (split_namebase[i] == \"True\")\n",
    "    #parser.add_argument('--sum', '-s', help='Same as -p and turns sumation on over neighboring qubits', default=False, action='store_true')\n",
    "    i, dic[\"sum_over_lambda\"] = i+1, (split_namebase[i] == \"True\")\n",
    "    if dic[\"sum_over_lambda\"]:\n",
    "        dic[\"tomography_connections\"] = True\n",
    "    #parser.add_argument('--pntsamples', type=int, help='How many samples in PNT? Default: 16', default=16)\n",
    "    i, dic[\"pntsamples\"] = i+1, int(split_namebase[i])\n",
    "    #parser.add_argument('--pntsinglesamples', type=int, help='How many single samples in PNT? Default: 100', default=100)\n",
    "    i, dic[\"pntsinglesamples\"] = i+1, int(split_namebase[i])\n",
    "    #parser.add_argument('--persamples', type=int, help='How many samples in PER? Default: 100', default=100)\n",
    "    i, dic[\"persamples\"] = i+1, int(split_namebase[i])\n",
    "    #parser.add_argument('--shots', type=int, help='How many shots? Default: 1000', default=1000)\n",
    "    i, dic[\"shots\"] = i+1, int(split_namebase[i])\n",
    "    #parser.add_argument('--backend', type=str, help='Which backend to use? Default: FakeVigoV2', default=\"FakeVigoV2\")\n",
    "    import qiskit.providers.fake_provider as fake_provider\n",
    "    backend = fake_provider.FakeVigoV2()\n",
    "    if split_namebase[i] != \"FakeVigoV2\":\n",
    "        method = getattr(fake_provider, split_namebase[i])\n",
    "        backend = method()\n",
    "    dic[\"backend\"] = backend\n",
    "    dic[\"backend_literal\"] = split_namebase[i]\n",
    "    i+=1\n",
    "\n",
    "    #parser.add_argument('--cross', '-c', help='Simulates Cross Talk Noise', default=False, action='store_true')\n",
    "    i, dic[\"do_cross_talk_noise\"] = i+1, (split_namebase[i] == \"True\")\n",
    "    #parser.add_argument('--allqubits', '-a', help='runs over all qubits in the tomography', default=False, action='store_true')\n",
    "    #i, dic[\"allqubits\"] = i+1, (split_namebase[i] == \"True\")\n",
    "    #parser.add_argument('--onlyTomography', help='Only does the tomography and then ends the program', default=False, action='store_true')\n",
    "    i, dic[\"onlyTomography\"] = i+1, (split_namebase[i] == \"True\")\n",
    "\n",
    "    #parser.add_argument('--setqubits', type=int, nargs='+', help='Which qubits to use?: Default: 0123 and transpile')\n",
    "    import ast\n",
    "    i, dic[\"qubits\"]= i+1, ast.literal_eval(split_namebase[i])\n",
    "    if dic[\"qubits\"] !=  [0,1,2,3]:\n",
    "        dic[\"num_qubits\"] = backend.num_qubits    \n",
    "    else:\n",
    "        dic[\"num_qubits\"] = len(dic[\"qubits\"])\n",
    "    #if split_namebase[7] == '[0,1,2,3]' and split_namebase[8] == 'and' and split_namebase[9] == 'transpile':\n",
    "    return dic"
   ]
  },
  {
   "cell_type": "code",
   "execution_count": 381,
   "metadata": {},
   "outputs": [
    {
     "name": "stdout",
     "output_type": "stream",
     "text": [
      "False_256_4000_100_1024_FakeCasablancaV2_False_True_{1, 3, 5, 6}_[2, 4, 8, 16, 32, 64]\n",
      "False_256_4000_100_1024_FakeMelbourneV2_False_True_{0, 1, 2, 3}_[2, 4, 8, 16, 32, 64]\n",
      "False_256_4000_100_1024_FakeVigoV2_False_True_{1, 2, 3, 4}_[2, 4, 8, 16, 32, 64]\n"
     ]
    }
   ],
   "source": [
    "# Determine Folders\n",
    "main_folder_path = \"tutorial_notebooks/testrun/server_run_collection\".split('/')\n",
    "main_folder = \"\"\n",
    "for segment in main_folder_path:\n",
    "    main_folder = os.path.join(main_folder, segment)\n",
    "folders = [f for f in os.listdir(os.path.join(home_folder, main_folder)) if os.path.isdir(os.path.join(os.path.join(home_folder, main_folder), f))]\n",
    "filtered_folders = [f for f in folders if not \"outputs\" in f \n",
    "                    and not decipher_name(f)[\"do_cross_talk_noise\"] \n",
    "                    and decipher_name(f)[\"pntsamples\"]== 256]\n",
    "for folder in filtered_folders:\n",
    "    print(folder)"
   ]
  },
  {
   "cell_type": "code",
   "execution_count": 382,
   "metadata": {},
   "outputs": [
    {
     "name": "stdout",
     "output_type": "stream",
     "text": [
      "e:\\OneDrive\\Dokumente\\Uni_kram\\Masterarbeit\\AutomatedPERTools\\tutorial_notebooks\\testrun\\server_run_collection\\False_256_4000_100_1024_FakeCasablancaV2_False_True_{1, 3, 5, 6}_[2, 4, 8, 16, 32, 64]\\coeffs.pickle\n",
      "e:\\OneDrive\\Dokumente\\Uni_kram\\Masterarbeit\\AutomatedPERTools\\tutorial_notebooks\\testrun\\server_run_collection\\False_256_4000_100_1024_FakeMelbourneV2_False_True_{0, 1, 2, 3}_[2, 4, 8, 16, 32, 64]\\coeffs.pickle\n",
      "e:\\OneDrive\\Dokumente\\Uni_kram\\Masterarbeit\\AutomatedPERTools\\tutorial_notebooks\\testrun\\server_run_collection\\False_256_4000_100_1024_FakeVigoV2_False_True_{1, 2, 3, 4}_[2, 4, 8, 16, 32, 64]\\coeffs.pickle\n"
     ]
    }
   ],
   "source": [
    "# Load Data\n",
    "coeffs_datas = []\n",
    "infidelities_datas = []\n",
    "for folder in filtered_folders:\n",
    "    print(os.path.join(os.path.join(os.path.join(home_folder, main_folder),folder), \"coeffs.pickle\"))\n",
    "    with open(os.path.join(os.path.join(os.path.join(home_folder, main_folder),folder), \"coeffs.pickle\"), \"rb\") as f:\n",
    "        coeffs = pickle.load(f)\n",
    "    coeffs_datas.append(coeffs)\n",
    "    with open(os.path.join(os.path.join(os.path.join(home_folder, main_folder),folder), \"infidelities.pickle\"), \"rb\") as f:\n",
    "        infidelities = pickle.load(f)\n",
    "        \"\"\" \n",
    "        print(infidelities)\n",
    "        inf2 = []\n",
    "    for inf in infidelities:\n",
    "        tempdic = {}\n",
    "        for temp2 in inf:\n",
    "            for i in temp2:\n",
    "                print(i)\n",
    "                tempdic[i] = temp2[i]\n",
    "        inf2.append(tempdic)\n",
    "    print(coeffs)\n",
    "    print(inf2)\n",
    "    infidelities = inf2\n",
    "    with open(os.path.join(os.path.join(os.path.join(home_folder, main_folder),folder), \"infidelities.pickle\"), \"wb\") as f:\n",
    "        pickle.dump(infidelities, f) \"\"\"\n",
    "    infidelities_datas.append(infidelities)"
   ]
  },
  {
   "cell_type": "code",
   "execution_count": 383,
   "metadata": {},
   "outputs": [],
   "source": [
    "with open(os.path.join(os.path.join(os.path.join(home_folder, main_folder),filtered_folders[2]), \"noise_model.pickle\"), \"rb\") as f:\n",
    "    (noise_model, twoqubit_error_template, singlequbit_error_template) = pickle.load(f)\n",
    "from TrotterExample import get_noise_model, make_initial_Circuit\n",
    "#(noise_model, twoqubit_error_template, singlequbit_error_template) = get_noise_model()\n",
    "dic = decipher_name(filtered_folders[0])\n",
    "backend = dic[\"backend\"]\n",
    "circuit = make_initial_Circuit(list([0,1,2,3]), 4, backend, 2)[0]"
   ]
  },
  {
   "cell_type": "code",
   "execution_count": 384,
   "metadata": {},
   "outputs": [],
   "source": [
    "def get_index(qc, inst, i=None):\n",
    "    if i:\n",
    "        qubit = inst.qubits[i]\n",
    "        index = -1\n",
    "        for register in qc.qregs:  # Assuming you're using `QuantumCircuit`\n",
    "            if qubit in register:\n",
    "                index = register.index(qubit)\n",
    "                break\n",
    "        return index\n",
    "    else:\n",
    "        qubits = inst.qubits\n",
    "        indexes = []\n",
    "        for qubit in qubits:\n",
    "            index = -1\n",
    "            for register in qc.qregs:  # Assuming you're using `QuantumCircuit`\n",
    "                if qubit in register:\n",
    "                    index = register.index(qubit)\n",
    "                    break\n",
    "            indexes.append(index)\n",
    "        return indexes"
   ]
  },
  {
   "cell_type": "code",
   "execution_count": 385,
   "metadata": {},
   "outputs": [],
   "source": [
    "from TrotterExample import circuit_to_layers\n",
    "from primitives.circuit import QiskitCircuit\n",
    "\n",
    "layers = circuit_to_layers(QiskitCircuit(circuit))"
   ]
  },
  {
   "cell_type": "code",
   "execution_count": 386,
   "metadata": {},
   "outputs": [],
   "source": [
    "def get_error_for_circuit(circuit, twoqubit_error_template, singlequbit_error_template, backend):\n",
    "    from qiskit.quantum_info import Pauli\n",
    "    def mul_Pauli(pauli1, pauli2):\n",
    "        result = pauli1.compose(pauli2)\n",
    "        nophase = Pauli((result.z, result.x))\n",
    "        return nophase\n",
    "\n",
    "    num_qubits = backend.num_qubits\n",
    "    identity_string = 'I'*num_qubits\n",
    "    error_state = {Pauli(identity_string): 1}\n",
    "    for inst in circuit:\n",
    "        temp_error_state = {}\n",
    "        indexes = get_index(circuit, inst)\n",
    "        if len(indexes) == 1:\n",
    "            index = indexes[0]\n",
    "            for (op, p) in singlequbit_error_template:\n",
    "                op = Pauli(\"\".join(reversed(identity_string[:index] + str(op)+ identity_string[index+1:])))\n",
    "                for og_op in error_state:\n",
    "                    og_p = error_state[og_op]\n",
    "                    new_op = mul_Pauli(op, og_op)\n",
    "                    temp_error_state[new_op] = temp_error_state.get(new_op, 0) + p*og_p\n",
    "        elif len(indexes) == 2:\n",
    "            #print(inst)\n",
    "            for (op, p) in twoqubit_error_template:\n",
    "                temp_string = (identity_string[:indexes[0]] + \"\".join(reversed(str(op)))[0]+ identity_string[indexes[0]+1:])\n",
    "                op = Pauli(\"\".join(reversed(temp_string[:indexes[1]] + \"\".join(reversed(str(op)))[1]+ temp_string[indexes[1]+1:])))\n",
    "                for og_op in error_state:\n",
    "                    og_p = error_state[og_op]\n",
    "                    new_op = mul_Pauli(op, og_op)\n",
    "                    temp_error_state[new_op] = temp_error_state.get(new_op, 0) + p*og_p\n",
    "        else:\n",
    "            if inst.operation.name == 'barrier':\n",
    "                continue\n",
    "            raise Exception(\"Too many qubits\")\n",
    "        error_state = temp_error_state\n",
    "    return [(op, error_state[op]) for op in error_state]"
   ]
  },
  {
   "cell_type": "code",
   "execution_count": 387,
   "metadata": {},
   "outputs": [],
   "source": [
    "def model_terms(layer, *list):\n",
    "    return layer._model_terms(list)"
   ]
  },
  {
   "cell_type": "code",
   "execution_count": 388,
   "metadata": {},
   "outputs": [],
   "source": [
    "def splice_string(string, indexes):\n",
    "    for index in sorted(indexes):\n",
    "        index -= sorted(indexes).index(index)\n",
    "        string = string[:index]+string[index+1:]\n",
    "    return string"
   ]
  },
  {
   "cell_type": "code",
   "execution_count": 389,
   "metadata": {},
   "outputs": [
    {
     "name": "stdout",
     "output_type": "stream",
     "text": [
      "[Pauli('IIIX'), Pauli('IIIY'), Pauli('IIIZ'), Pauli('IIXI'), Pauli('IIYI'), Pauli('IIZI'), Pauli('IIXX'), Pauli('IIXY'), Pauli('IIXZ'), Pauli('IIYX'), Pauli('IIYY'), Pauli('IIYZ'), Pauli('IIZX'), Pauli('IIZY'), Pauli('IIZZ')]\n"
     ]
    }
   ],
   "source": [
    "choosen_qubits = [0,1]\n",
    "layer_number = 0\n",
    "groups = []\n",
    "used_qubits = 4\n",
    "for qubit in choosen_qubits:\n",
    "    groups += [pauli for pauli in pauli_basis(used_qubits) if str(pauli)[::-1][qubit] != 'I' and (splice_string(str(pauli)[::-1], [qubit]) == 'I'*(used_qubits-1))]\n",
    "groups += [pauli for pauli in pauli_basis(used_qubits) if str(pauli)[::-1][choosen_qubits[0]] != 'I' and str(pauli)[::-1][choosen_qubits[1]] != 'I' and (splice_string(str(pauli)[::-1], [choosen_qubits[0], choosen_qubits[1]]) == 'I'*(used_qubits-2))]\n",
    "print(groups)"
   ]
  },
  {
   "cell_type": "code",
   "execution_count": 390,
   "metadata": {},
   "outputs": [
    {
     "data": {
      "text/plain": [
       "[(Pauli('I'), 1)]"
      ]
     },
     "execution_count": 390,
     "metadata": {},
     "output_type": "execute_result"
    }
   ],
   "source": [
    "from qiskit.quantum_info import Pauli\n",
    "singlequbit_error_template = [(Pauli('I'), 1)]\n",
    "singlequbit_error_template"
   ]
  },
  {
   "cell_type": "code",
   "execution_count": 391,
   "metadata": {},
   "outputs": [
    {
     "name": "stdout",
     "output_type": "stream",
     "text": [
      "                                                                               »\n",
      "ancilla_0 -> 0 ────────────────────────────────────────────────────────────────»\n",
      "               ┌─────────┐┌────┐┌──────────────────────┐┌────┐┌──────────┐     »\n",
      "      q_0 -> 1 ┤ Rz(π/2) ├┤ √X ├┤ Rz(3.94159265358979) ├┤ √X ├┤ Rz(5π/2) ├──■──»\n",
      "               └─────────┘└────┘└──────────────────────┘└────┘└──────────┘  │  »\n",
      "ancilla_1 -> 2 ─────────────────────────────────────────────────────────────┼──»\n",
      "               ┌─────────┐┌────┐┌──────────────────────┐┌────┐┌──────────┐┌─┴─┐»\n",
      "      q_1 -> 3 ┤ Rz(π/2) ├┤ √X ├┤ Rz(3.94159265358979) ├┤ √X ├┤ Rz(5π/2) ├┤ X ├»\n",
      "               └─────────┘└────┘└──────────────────────┘└────┘└──────────┘└───┘»\n",
      "ancilla_2 -> 4 ────────────────────────────────────────────────────────────────»\n",
      "               ┌─────────┐┌────┐┌──────────────────────┐┌────┐┌──────────┐     »\n",
      "      q_2 -> 5 ┤ Rz(π/2) ├┤ √X ├┤ Rz(3.94159265358979) ├┤ √X ├┤ Rz(5π/2) ├──■──»\n",
      "               ├─────────┤├────┤├──────────────────────┤├────┤├──────────┤┌─┴─┐»\n",
      "      q_3 -> 6 ┤ Rz(π/2) ├┤ √X ├┤ Rz(3.94159265358979) ├┤ √X ├┤ Rz(5π/2) ├┤ X ├»\n",
      "               └─────────┘└────┘└──────────────────────┘└────┘└──────────┘└───┘»\n",
      "«                                                         \n",
      "«ancilla_0 -> 0 ──────────────────────────────────────────\n",
      "«                                                       ░ \n",
      "«      q_0 -> 1 ──────────────■─────────────────────────░─\n",
      "«                             │                         ░ \n",
      "«ancilla_1 -> 2 ──────────────┼───────────────────────────\n",
      "«               ┌──────────┐┌─┴─┐                       ░ \n",
      "«      q_1 -> 3 ┤ Rz(0.12) ├┤ X ├──■────────────────■───░─\n",
      "«               └──────────┘└───┘  │                │   ░ \n",
      "«ancilla_2 -> 4 ───────────────────┼────────────────┼─────\n",
      "«                                ┌─┴─┐┌──────────┐┌─┴─┐ ░ \n",
      "«      q_2 -> 5 ──────────────■──┤ X ├┤ Rz(0.12) ├┤ X ├─░─\n",
      "«               ┌──────────┐┌─┴─┐└───┘└──────────┘└───┘ ░ \n",
      "«      q_3 -> 6 ┤ Rz(0.12) ├┤ X ├───────────────────────░─\n",
      "«               └──────────┘└───┘                       ░ \n"
     ]
    }
   ],
   "source": [
    "print(circuit)\n"
   ]
  },
  {
   "cell_type": "code",
   "execution_count": 392,
   "metadata": {},
   "outputs": [],
   "source": [
    "def swap_first_two_chars(s):\n",
    "    # If the string has less than 2 characters, return the string as it is\n",
    "    if len(s) < 2:\n",
    "        return s\n",
    "    # Swap the first two characters\n",
    "    return s[1] + s[0] + s[2:]"
   ]
  },
  {
   "cell_type": "code",
   "execution_count": 393,
   "metadata": {},
   "outputs": [
    {
     "name": "stdout",
     "output_type": "stream",
     "text": [
      "{'ZYYZ': 7.748753205669375e-05, 'ZYIY': 2.9039301344000718e-05, 'ZYYY': 0.00016878691257540146, 'ZYXY': 0.00017183377941333783, 'ZYII': 0.008355552745362363, 'YIYZ': 2.9039301344000718e-05, 'YIIY': 1.0882796240441565e-05, 'YIYY': 6.32547441776109e-05, 'YIXY': 6.4396590896863e-05, 'YIII': 0.0031313349080564733, 'YYYZ': 0.00016878691257540146, 'YYIY': 6.32547441776109e-05, 'YYYY': 0.0003676594298537244, 'YYXY': 0.000374296255584958, 'YYII': 0.018200449973278035, 'YXYZ': 0.00017183377941333783, 'YXIY': 6.4396590896863e-05, 'YXYY': 0.000374296255584958, 'YXXY': 0.0003810528863645874, 'YXII': 0.018528996461942126, 'IIYZ': 0.008355552745362363, 'IIIY': 0.0031313349080564733, 'IIYY': 0.018200449973278035, 'IIXY': 0.018528996461942126, 'IIII': 0.9009870340102222}\n"
     ]
    }
   ],
   "source": [
    "true_error_template = {pauli: error for pauli, error in get_error_for_circuit(layers[layer_number].qc, twoqubit_error_template, singlequbit_error_template, backend)}\n",
    "true_error_template = {swap_first_two_chars(\"\".join(reversed(splice_string(\"\".join(reversed(str(key))), [i for i in range(len(str(key))) if not i in [1,3,5,6]])))):true_error_template[key] for key in true_error_template}\n",
    "print(true_error_template)"
   ]
  },
  {
   "cell_type": "code",
   "execution_count": 394,
   "metadata": {},
   "outputs": [
    {
     "name": "stdout",
     "output_type": "stream",
     "text": [
      "                                                                               »\n",
      "ancilla_0 -> 0 ────────────────────────────────────────────────────────────────»\n",
      "               ┌─────────┐┌────┐┌──────────────────────┐┌────┐┌──────────┐┌───┐»\n",
      "      q_1 -> 1 ┤ Rz(π/2) ├┤ √X ├┤ Rz(3.94159265358979) ├┤ √X ├┤ Rz(5π/2) ├┤ X ├»\n",
      "               ├─────────┤├────┤├──────────────────────┤├────┤├──────────┤└─┬─┘»\n",
      "      q_0 -> 2 ┤ Rz(π/2) ├┤ √X ├┤ Rz(3.94159265358979) ├┤ √X ├┤ Rz(5π/2) ├──■──»\n",
      "               ├─────────┤├────┤├──────────────────────┤├────┤├──────────┤     »\n",
      "      q_2 -> 3 ┤ Rz(π/2) ├┤ √X ├┤ Rz(3.94159265358979) ├┤ √X ├┤ Rz(5π/2) ├──■──»\n",
      "               ├─────────┤├────┤├──────────────────────┤├────┤├──────────┤┌─┴─┐»\n",
      "      q_3 -> 4 ┤ Rz(π/2) ├┤ √X ├┤ Rz(3.94159265358979) ├┤ √X ├┤ Rz(5π/2) ├┤ X ├»\n",
      "               └─────────┘└────┘└──────────────────────┘└────┘└──────────┘└───┘»\n",
      "«                                                         \n",
      "«ancilla_0 -> 0 ──────────────────────────────────────────\n",
      "«               ┌──────────┐┌───┐                       ░ \n",
      "«      q_1 -> 1 ┤ Rz(0.12) ├┤ X ├──■────────────────■───░─\n",
      "«               └──────────┘└─┬─┘  │                │   ░ \n",
      "«      q_0 -> 2 ──────────────■────┼────────────────┼───░─\n",
      "«                                ┌─┴─┐┌──────────┐┌─┴─┐ ░ \n",
      "«      q_2 -> 3 ──────────────■──┤ X ├┤ Rz(0.12) ├┤ X ├─░─\n",
      "«               ┌──────────┐┌─┴─┐└───┘└──────────┘└───┘ ░ \n",
      "«      q_3 -> 4 ┤ Rz(0.12) ├┤ X ├───────────────────────░─\n",
      "«               └──────────┘└───┘                       ░ \n"
     ]
    }
   ],
   "source": [
    "import qiskit.providers.fake_provider as fake_provider\n",
    "backend = fake_provider.FakeVigoV2()\n",
    "circuit = make_initial_Circuit([0,1,2,3], 4, backend, 2)[0]\n",
    "print(circuit)"
   ]
  },
  {
   "cell_type": "code",
   "execution_count": 395,
   "metadata": {},
   "outputs": [
    {
     "name": "stdout",
     "output_type": "stream",
     "text": [
      "{'YZZY': 7.748753205669375e-05, 'YZYI': 2.9039301344000718e-05, 'YZYY': 0.00016878691257540146, 'YZYX': 0.00017183377941333783, 'YZII': 0.008355552745362363, 'IYZY': 2.9039301344000718e-05, 'IYYI': 1.0882796240441565e-05, 'IYYY': 6.32547441776109e-05, 'IYYX': 6.4396590896863e-05, 'IYII': 0.0031313349080564733, 'YYZY': 0.00016878691257540146, 'YYYI': 6.32547441776109e-05, 'YYYY': 0.0003676594298537244, 'YYYX': 0.000374296255584958, 'YYII': 0.018200449973278035, 'XYZY': 0.00017183377941333783, 'XYYI': 6.4396590896863e-05, 'XYYY': 0.000374296255584958, 'XYYX': 0.0003810528863645874, 'XYII': 0.018528996461942126, 'IIZY': 0.008355552745362363, 'IIYI': 0.0031313349080564733, 'IIYY': 0.018200449973278035, 'IIYX': 0.018528996461942126, 'IIII': 0.9009870340102222}\n"
     ]
    }
   ],
   "source": [
    "from qiskit.providers.aer.noise import pauli_error\n",
    "import qiskit.providers.fake_provider as fake_provider\n",
    "backend = fake_provider.FakeVigoV2()\n",
    "layers = circuit_to_layers(QiskitCircuit(make_initial_Circuit([0,1,2,3], 4, backend, 2)[0]))\n",
    "true_error_template = {pauli: error for pauli, error in get_error_for_circuit(layers[layer_number].qc, twoqubit_error_template, singlequbit_error_template, backend)}\n",
    "true_error_template = {\"\".join(reversed(splice_string(\"\".join(reversed(str(key))), [i for i in range(len(str(key))) if not i in [1,2,3,4]]))):true_error_template[key] for key in true_error_template}\n",
    "print(true_error_template)"
   ]
  },
  {
   "cell_type": "code",
   "execution_count": 396,
   "metadata": {},
   "outputs": [],
   "source": [
    "true_error = pauli_error(get_error_for_circuit(layers[layer_number].qc, twoqubit_error_template, singlequbit_error_template, backend))"
   ]
  },
  {
   "cell_type": "code",
   "execution_count": 397,
   "metadata": {},
   "outputs": [],
   "source": [
    "# Make error strings\n",
    "twoqubit_error_string = \"\"\n",
    "for temp in twoqubit_error_template:\n",
    "    twoqubit_error_string = twoqubit_error_string + str(temp[0])+\":\" +\"%.7s\"%temp[1]+\"   \"\n",
    "\n",
    "singlequbit_error_string = \"\"\n",
    "for temp in singlequbit_error_template:\n",
    "    singlequbit_error_string = singlequbit_error_string +\" \"+ str(temp[0])+\":\" +\"%.7s\"%temp[1]+\"   \""
   ]
  },
  {
   "cell_type": "code",
   "execution_count": 398,
   "metadata": {},
   "outputs": [],
   "source": [
    "# Make / load transfer matrix\n",
    "transfer_matrix = None\n",
    "for folder in filtered_folders:\n",
    "    if os.path.exists(os.path.join(os.path.join(os.path.join(home_folder, main_folder),folder), \"transfer_matrixes.pickle\")):\n",
    "        with open(os.path.join(os.path.join(os.path.join(home_folder, main_folder),folder), \"transfer_matrixes.pickle\"), \"rb\") as f:\n",
    "            transfer_matrixes = pickle.load(f)\n",
    "            transfer_matrix = transfer_matrixes[layer_number]\n",
    "\n",
    "if transfer_matrix is None:\n",
    "    for folder in filtered_folders:\n",
    "        if os.path.exists(os.path.join(os.path.join(os.path.join(home_folder, main_folder),folder), \"transfer_matrix.pickle\")):\n",
    "            with open(os.path.join(os.path.join(os.path.join(home_folder, main_folder),folder), \"transfer_matrix.pickle\"), \"rb\") as f:\n",
    "                (transfer_matrix, saved_layer_number) = pickle.load(f)\n",
    "                if saved_layer_number != layer_number:\n",
    "                    transfer_matrix = None\n",
    "                    \n",
    "if transfer_matrix is None:\n",
    "    pass\n",
    "    #transfer_matrix = PTM(true_error.to_quantumchannel()).data #Find out more about this\n",
    "    \n",
    "for folder in filtered_folders:\n",
    "    pass\n",
    "    #with open(os.path.join(os.path.join(os.path.join(home_folder, main_folder),folder), \"transfer_matrix.pickle\"), \"wb\") as f:\n",
    "    #    pickle.dump((transfer_matrix, layer_number), f)"
   ]
  },
  {
   "cell_type": "code",
   "execution_count": 399,
   "metadata": {},
   "outputs": [],
   "source": [
    "coe = True\n",
    "infidelities_list = []\n",
    "coeffs_list = []\n",
    "labels = []\n",
    "#stack = {pauli: (1-transfer_matrix[i][i]).real for i,pauli in enumerate(pauli_basis(backend.num_qubits))}\n",
    "#stack = [stack[pauli] for pauli in groups]\n",
    "#infidelities_list.append(stack)\n",
    "coeffs_list.append([true_error_template.get(str(pauli), 0) for pauli in groups])\n",
    "labels.append(\"Real Error\")"
   ]
  },
  {
   "cell_type": "code",
   "execution_count": 400,
   "metadata": {},
   "outputs": [
    {
     "name": "stdout",
     "output_type": "stream",
     "text": [
      "ehllo\n"
     ]
    }
   ],
   "source": [
    "def swap_first_two_chars(s):\n",
    "    # If the string has less than 2 characters, return the string as it is\n",
    "    if len(s) < 2:\n",
    "        return s\n",
    "    # Swap the first two characters\n",
    "    return s[1] + s[0] + s[2:]\n",
    "\n",
    "\n",
    "print(swap_first_two_chars(\"hello\"))"
   ]
  },
  {
   "cell_type": "code",
   "execution_count": 401,
   "metadata": {},
   "outputs": [
    {
     "name": "stdout",
     "output_type": "stream",
     "text": [
      "{1, 3, 5, 6}\n",
      "{XXIIIII: 0.0, IIIIIZI: 5.2376679611153217e-05, ZZIIIII: 0.0, IIIZIYI: 0.0, IYIIIII: 0.0, IIIXIZI: 0.0, IZIIIII: 0.0, ZXIIIII: 0.0, ZYIIIII: 0.0, IZIXIII: 0.0, IZIZIII: 0.0, IIIYIZI: 0.0, XIIIIII: 0.0, YZIIIII: 0.0, XZIIIII: 0.0, IIIXIYI: 0.0, IIIIIYI: 3.3446123721844195e-06, IXIIIII: 0.0, YIIIIII: 0.0, IIIYIXI: 0.0, XYIIIII: 0.0, IIIXIII: 0.0, IIIZIXI: 0.0, IIIZIZI: 0.0, ZIIIIII: 0.0, IYIXIII: 0.0, YYIIIII: 0.0, IIIZIII: 0.0, IIIYIYI: 0.0, IYIZIII: 0.009030151827598537, IIIIIXI: 0.0, IXIZIII: 0.0, IIIXIXI: 0.0, IIIYIII: 0.00348520883801825, IXIYIII: 0.02037186081391298, IYIYIII: 0.019895640785319364, IZIYIII: 0.0, YXIIIII: 0.0, IXIXIII: 0.0}\n",
      "{'XXII': 0.0, 'IIIZ': 5.2376679611153217e-05, 'ZZII': 0.0, 'IIZY': 0.0, 'YIII': 0.0, 'IIXZ': 0.0, 'ZIII': 0.0, 'XZII': 0.0, 'YZII': 0.0, 'ZIXI': 0.0, 'ZIZI': 0.0, 'IIYZ': 0.0, 'IXII': 0.0, 'ZYII': 0.0, 'ZXII': 0.0, 'IIXY': 0.0, 'IIIY': 3.3446123721844195e-06, 'XIII': 0.0, 'IYII': 0.0, 'IIYX': 0.0, 'YXII': 0.0, 'IIXI': 0.0, 'IIZX': 0.0, 'IIZZ': 0.0, 'IZII': 0.0, 'YIXI': 0.0, 'YYII': 0.0, 'IIZI': 0.0, 'IIYY': 0.0, 'YIZI': 0.009030151827598537, 'IIIX': 0.0, 'XIZI': 0.0, 'IIXX': 0.0, 'IIYI': 0.00348520883801825, 'XIYI': 0.02037186081391298, 'YIYI': 0.019895640785319364, 'ZIYI': 0.0, 'XYII': 0.0, 'XIXI': 0.0}\n",
      "{0, 1, 2, 3}\n",
      "{IIIIIIIIIIIXXII: 0.0, IIIIIIIIIIIIXII: 0.0, IIIIIIIIIIIZZII: 2.7880660950546912e-05, IIIIIIIIIIIXZII: 0.0, IIIIIIIIIIIIZYI: 0.0, IIIIIIIIIIIIIZI: 0.0, IIIIIIIIIIIIIXX: 0.0, IIIIIIIIIIIIYII: 0.0028246311280233825, IIIIIIIIIIIYXII: 0.0, IIIIIIIIIIIZXII: 0.0, IIIIIIIIIIIIZII: 0.0, IIIIIIIIIIIIIXZ: 0.0, IIIIIIIIIIIIIYX: 0.0, IIIIIIIIIIIZIII: 0.0, IIIIIIIIIIIXIII: 0.0, IIIIIIIIIIIIIXI: 0.0, IIIIIIIIIIIIZXI: 0.0, IIIIIIIIIIIIXXI: 0.0, IIIIIIIIIIIIIYI: 0.0001141888434721446, IIIIIIIIIIIXYII: 0.021036520874521365, IIIIIIIIIIIIYXI: 0.0, IIIIIIIIIIIIIZZ: 0.0, IIIIIIIIIIIYIII: 3.690926871216019e-05, IIIIIIIIIIIIIIZ: 0.0, IIIIIIIIIIIIZZI: 0.0, IIIIIIIIIIIZYII: 0.0, IIIIIIIIIIIIYZI: 0.0, IIIIIIIIIIIIIYZ: 0.008984839246708428, IIIIIIIIIIIIIXY: 0.020246024492455623, IIIIIIIIIIIIXYI: 0.0, IIIIIIIIIIIIXZI: 0.0, IIIIIIIIIIIIIIY: 0.0034555295357302624, IIIIIIIIIIIIIYY: 0.019709615431938412, IIIIIIIIIIIYYII: 0.0200578591492743, IIIIIIIIIIIIIIX: 0.0, IIIIIIIIIIIIIZX: 0.0, IIIIIIIIIIIIYYI: 0.0, IIIIIIIIIIIIIZY: 0.0, IIIIIIIIIIIYZII: 0.008706863539878262}\n",
      "{'XXII': 0.0, 'IXII': 0.0, 'ZZII': 2.7880660950546912e-05, 'XZII': 0.0, 'IZYI': 0.0, 'IIZI': 0.0, 'IIXX': 0.0, 'IYII': 0.0028246311280233825, 'YXII': 0.0, 'ZXII': 0.0, 'IZII': 0.0, 'IIXZ': 0.0, 'IIYX': 0.0, 'ZIII': 0.0, 'XIII': 0.0, 'IIXI': 0.0, 'IZXI': 0.0, 'IXXI': 0.0, 'IIYI': 0.0001141888434721446, 'XYII': 0.021036520874521365, 'IYXI': 0.0, 'IIZZ': 0.0, 'YIII': 3.690926871216019e-05, 'IIIZ': 0.0, 'IZZI': 0.0, 'ZYII': 0.0, 'IYZI': 0.0, 'IIYZ': 0.008984839246708428, 'IIXY': 0.020246024492455623, 'IXYI': 0.0, 'IXZI': 0.0, 'IIIY': 0.0034555295357302624, 'IIYY': 0.019709615431938412, 'YYII': 0.0200578591492743, 'IIIX': 0.0, 'IIZX': 0.0, 'IYYI': 0.0, 'IIZY': 0.0, 'YZII': 0.008706863539878262}\n",
      "{1, 2, 3, 4}\n",
      "{IIZXI: 0.0, YXIII: 0.0, ZXIII: 0.0, IZIYI: 0.0, IZIZI: 0.0, XXIII: 0.0, IXIZI: 0.0, IIZYI: 0.009043863845044981, XZIII: 0.0, IIIYI: 5.3355612653233754e-05, IIXII: 0.0, IIXXI: 0.0, IYIXI: 0.0, IXIXI: 0.0, IXIYI: 0.0, YIIII: 0.0, IIYZI: 1.4451078511546756e-05, XYIII: 0.02042430305446664, IIZZI: 0.0, IIXYI: 0.0, YYIII: 0.02000937706121704, XIIII: 0.0, IIYII: 0.003165233348759449, IIIXI: 0.0, IXIII: 0.0, IZIII: 0.0, IIYXI: 0.02045202867575199, ZZIII: 0.0, ZIIII: 0.0, IIXZI: 0.0, IZIXI: 0.0, IIIZI: 0.0, IYIZI: 0.0, IIYYI: 0.019848253057419475, ZYIII: 0.0, IIZII: 0.0, YZIII: 0.00899610080868197, IYIYI: 0.0, IYIII: 0.003312412757600215}\n",
      "{'IIZX': 0.0, 'YXII': 0.0, 'ZXII': 0.0, 'IZIY': 0.0, 'IZIZ': 0.0, 'XXII': 0.0, 'IXIZ': 0.0, 'IIZY': 0.009043863845044981, 'XZII': 0.0, 'IIIY': 5.3355612653233754e-05, 'IIXI': 0.0, 'IIXX': 0.0, 'IYIX': 0.0, 'IXIX': 0.0, 'IXIY': 0.0, 'YIII': 0.0, 'IIYZ': 1.4451078511546756e-05, 'XYII': 0.02042430305446664, 'IIZZ': 0.0, 'IIXY': 0.0, 'YYII': 0.02000937706121704, 'XIII': 0.0, 'IIYI': 0.003165233348759449, 'IIIX': 0.0, 'IXII': 0.0, 'IZII': 0.0, 'IIYX': 0.02045202867575199, 'ZZII': 0.0, 'ZIII': 0.0, 'IIXZ': 0.0, 'IZIX': 0.0, 'IIIZ': 0.0, 'IYIZ': 0.0, 'IIYY': 0.019848253057419475, 'ZYII': 0.0, 'IIZI': 0.0, 'YZII': 0.00899610080868197, 'IYIY': 0.0, 'IYII': 0.003312412757600215}\n"
     ]
    }
   ],
   "source": [
    "for array_of_coeffs, array_of_infidelities, folder in zip(coeffs_datas, infidelities_datas, filtered_folders):\n",
    "    coeffs = array_of_coeffs[layer_number]\n",
    "    cipher = decipher_name(folder)\n",
    "    print(decipher_name(folder)[\"qubits\"])\n",
    "    print(coeffs)\n",
    "    if cipher[\"backend_literal\"] == \"FakeCasablancaV2\":\n",
    "        print({swap_first_two_chars(\"\".join(reversed(splice_string(\"\".join(reversed(str(key))), [i for i in range(len(str(key))) if not i in decipher_name(folder)[\"qubits\"]])))):coeffs[key] for key in coeffs})\n",
    "    else: \n",
    "        print({(\"\".join(reversed(splice_string(\"\".join(reversed(str(key))), [i for i in range(len(str(key))) if not i in decipher_name(folder)[\"qubits\"]])))):coeffs[key] for key in coeffs})"
   ]
  },
  {
   "cell_type": "code",
   "execution_count": 402,
   "metadata": {},
   "outputs": [
    {
     "name": "stdout",
     "output_type": "stream",
     "text": [
      "IXIYIII 0.02037186081391298\n",
      "hello\n",
      "[0.0, 3.3446123721844195e-06, 5.2376679611153217e-05, 0.0, 0.00348520883801825, 0.0, 0.0, 0.0, 0.0, 0.0, 0.0, 0.0, 0.0, 0.0, 0.0]\n",
      "IIIIIIIIIIIXYII 0.021036520874521365\n",
      "IIIIIIIIIIIIIXY 0.020246024492455623\n",
      "IIIIIIIIIIIYYII 0.0200578591492743\n",
      "[0.0, 0.0034555295357302624, 0.0, 0.0, 0.0001141888434721446, 0.0, 0.0, 0.020246024492455623, 0.0, 0.0, 0.019709615431938412, 0.008984839246708428, 0.0, 0.0, 0.0]\n",
      "XYIII 0.02042430305446664\n",
      "IIYXI 0.02045202867575199\n",
      "[0.0, 5.3355612653233754e-05, 0.0, 0.0, 0.003165233348759449, 0.0, 0.0, 0.0, 0.0, 0.02045202867575199, 0.019848253057419475, 1.4451078511546756e-05, 0.0, 0.009043863845044981, 0.0]\n",
      "4\n"
     ]
    },
    {
     "data": {
      "image/png": "[encoded data removed]",
      "text/plain": [
       "<Figure size 1000x600 with 1 Axes>"
      ]
     },
     "metadata": {},
     "output_type": "display_data"
    }
   ],
   "source": [
    "failed_folders = 0\n",
    "for array_of_coeffs, array_of_infidelities, folder in zip(coeffs_datas, infidelities_datas, filtered_folders):\n",
    "    cipher = decipher_name(folder)\n",
    "    coeffs = array_of_coeffs[layer_number]\n",
    "    infidelities = array_of_infidelities[layer_number]\n",
    "    for key in coeffs:\n",
    "        if coeffs[key] <0.022036520874521365 and coeffs[key] > 0.020036520874521365:\n",
    "            print(key, coeffs[key])\n",
    "    if cipher[\"backend_literal\"] == \"FakeCasablancaV2\":\n",
    "        print(\"hello\")\n",
    "        coeffs = {swap_first_two_chars(\"\".join(reversed(splice_string(\"\".join(reversed(str(key))), [i for i in range(len(str(key))) if not i in decipher_name(folder)[\"qubits\"]])))):coeffs[key] for key in coeffs}\n",
    "        infidelities = {swap_first_two_chars(\"\".join(reversed(splice_string(\"\".join(reversed(str(key))), [i for i in range(len(str(key))) if not i in decipher_name(folder)[\"qubits\"]])))):infidelities[key] for key in infidelities}\n",
    "    else:\n",
    "        coeffs = {\"\".join(reversed(splice_string(\"\".join(reversed(str(key))), [i for i in range(len(str(key))) if not i in decipher_name(folder)[\"qubits\"]]))):coeffs[key] for key in coeffs}\n",
    "        infidelities = {\"\".join(reversed(splice_string(\"\".join(reversed(str(key))), [i for i in range(len(str(key))) if not i in decipher_name(folder)[\"qubits\"]]))):infidelities[key] for key in infidelities}\n",
    "    try:\n",
    "        coeffs_list.append([coeffs[str(key)] for key in groups])\n",
    "        print([coeffs[str(key)] for key in groups])\n",
    "        infidelities_list.append([infidelities[str(key)] for key in groups])\n",
    "    except Exception as e:\n",
    "        failed_folders += 1\n",
    "        print(e)\n",
    "        print(\"Failed Folders:\", failed_folders)\n",
    "        continue\n",
    "    labels.append(cipher[\"backend_literal\"])\n",
    "    #print(\"tomography_connections\", cipher[\"tomography_connections\"])\n",
    "    #print(\"allqubits\", cipher[\"allqubits\"])\n",
    "\n",
    "\n",
    "#print([len(item) for item in infidelities_list])\n",
    "fig, ax = plt.subplots(figsize=(10, 6))\n",
    "x = np.arange(len(groups))  # Label locations\n",
    "width = 0.8 / (len(filtered_folders)+1-failed_folders)  # Width of the bars, adjusted for the number of datasets\n",
    "\n",
    "# Create the bar plot\n",
    "\n",
    "# Add labels, title, and custom x-axis tick labels\n",
    "ax.set_xlabel('Modelterm')\n",
    "ax.set_xticks(x)\n",
    "ax.set_xticklabels(groups, rotation=45, ha='right')\n",
    "\n",
    "# Plotting bars for each folder's data dynamically\n",
    "maxvalue = 0\n",
    "for i in range(len(filtered_folders)+1-failed_folders):\n",
    "    if coe:\n",
    "        ax.bar(x + (i - (len(filtered_folders)-failed_folders)/2) * width, coeffs_list[i], width, label=labels[i])\n",
    "        maxvalue = max([maxvalue, max(coeffs_list[i])])\n",
    "    else:\n",
    "        ax.bar(x + (i - (len(filtered_folders)-failed_folders)/2) * width, infidelities_list[i], width, label=labels[i])\n",
    "        maxvalue = max([maxvalue, max(infidelities_list[i])])\n",
    "print((len(filtered_folders)+1-failed_folders))\n",
    "# Add legend\n",
    "ax.legend()\n",
    "if maxvalue != 0:\n",
    "    ax.set_ylim(0, maxvalue * 1.2)\n",
    "\n",
    "textstr = 'Noisemodel is Paulierrors of each two-qubits gate.\\nIt is symmetrical for all qubits. Chances are for all:\\n2 qubit gates ' + twoqubit_error_string# + '\\n1 qubit gates ' + singlequbit_error_string\n",
    "\n",
    "# Customize the textbox position and appearance\n",
    "props = dict(boxstyle='round', facecolor='lightblue', alpha=0)\n",
    "#props = dict()\n",
    "\n",
    "# Place the textbox in the top-left corner inside the plot (adjust x and y as needed)\n",
    "ax.text(0.01, 0.99, textstr, transform=ax.transAxes, fontsize=10,\n",
    "        verticalalignment='top', horizontalalignment='left', bbox=props, family='monospace')\n",
    "\n",
    "# Display the plot\n",
    "plt.tight_layout()\n",
    "#plt.show()\n",
    "if coe:\n",
    "    ax.set_title('Real Coefficients vs Measured')\n",
    "    ax.set_ylabel('Coefficient')\n",
    "    plt.savefig(\"Coefficient\", bbox_inches='tight')\n",
    "else:\n",
    "    ax.set_title('Real Infidelity vs Measured')\n",
    "    ax.set_ylabel('Infidelity')\n",
    "    plt.savefig(\"Infidelity\", bbox_inches='tight')"
   ]
  }
 ],
 "metadata": {
  "kernelspec": {
   "display_name": ".venv",
   "language": "python",
   "name": "python3"
  },
  "language_info": {
   "codemirror_mode": {
    "name": "ipython",
    "version": 3
   },
   "file_extension": ".py",
   "mimetype": "text/x-python",
   "name": "python",
   "nbconvert_exporter": "python",
   "pygments_lexer": "ipython3",
   "version": "3.10.10"
  }
 },
 "nbformat": 4,
 "nbformat_minor": 2
}
