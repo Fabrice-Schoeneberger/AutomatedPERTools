{
 "cells": [
  {
   "cell_type": "code",
   "execution_count": 1,
   "metadata": {},
   "outputs": [],
   "source": [
    "import matplotlib.pyplot as plt\n",
    "import qiskit\n",
    "from qiskit import QuantumCircuit, Aer, transpile\n",
    "from matplotlib import pyplot as plt\n",
    "import os\n",
    "import sys\n",
    "import numpy as np\n",
    "import json\n",
    "import time\n",
    "\n",
    "home_folder = os.getcwd()\n",
    "while not home_folder.endswith(\"AutomatedPERTools\"):\n",
    "    home_folder = os.path.dirname(home_folder)\n",
    "sys.path.append(os.path.join(home_folder, \"pauli_lindblad_per\"))\n",
    "\n",
    "from tomography.experiment import SparsePauliTomographyExperiment as tomography\n",
    "from primitives.pauli import QiskitPauli\n",
    "import pickle"
   ]
  },
  {
   "cell_type": "code",
   "execution_count": 2,
   "metadata": {},
   "outputs": [],
   "source": [
    "def decipher_name(namebase):\n",
    "    dic = dict()\n",
    "    split_namebase = namebase.split(\"_\")\n",
    "    for i,j in enumerate(split_namebase):\n",
    "        #print(i, j)\n",
    "        pass\n",
    "    #parser.add_argument('--plusone', '-p', help='Takes Neighboring qubits into account', default=False, action='store_true')\n",
    "    dic[\"tomography_connections\"] = (split_namebase[0] == \"True\")\n",
    "    #parser.add_argument('--sum', '-s', help='Same as -p and turns sumation on over neighboring qubits', default=False, action='store_true')\n",
    "    dic[\"sum_over_lambda\"] = (split_namebase[1] == \"True\")\n",
    "    if dic[\"sum_over_lambda\"]:\n",
    "        dic[\"tomography_connections\"] = True\n",
    "    #parser.add_argument('--pntsamples', type=int, help='How many samples in PNT? Default: 16', default=16)\n",
    "    dic[\"pntsamples\"] = int(split_namebase[2])\n",
    "    #parser.add_argument('--pntsinglesamples', type=int, help='How many single samples in PNT? Default: 100', default=100)\n",
    "    dic[\"pntsinglesamples\"] = int(split_namebase[3])\n",
    "    #parser.add_argument('--persamples', type=int, help='How many samples in PER? Default: 100', default=100)\n",
    "    dic[\"persamples\"] = int(split_namebase[4])\n",
    "    #parser.add_argument('--shots', type=int, help='How many shots? Default: 1000', default=1000)\n",
    "    dic[\"shots\"] = int(split_namebase[5])\n",
    "    #parser.add_argument('--backend', type=str, help='Which backend to use? Default: FakeVigoV2', default=\"FakeVigoV2\")\n",
    "    dic[\"backend\"] = split_namebase[6]\n",
    "    import qiskit.providers.fake_provider as fake_provider\n",
    "    backend = fake_provider.FakeVigoV2()\n",
    "    if split_namebase[6] != \"FakeVigoV2\":\n",
    "        method = getattr(fake_provider, split_namebase[6])\n",
    "        backend = method()\n",
    "\n",
    "    #parser.add_argument('--cross', '-c', help='Simulates Cross Talk Noise', default=False, action='store_true')\n",
    "    dic[\"do_cross_talk_noise\"] = (split_namebase[7] == \"True\")\n",
    "    #parser.add_argument('--allqubits', '-a', help='runs over all qubits in the tomography', default=False, action='store_true')\n",
    "    dic[\"allqubits\"] = (split_namebase[8] == \"True\")\n",
    "    #parser.add_argument('--onlyTomography', help='Only does the tomography and then ends the program', default=False, action='store_true')\n",
    "    dic[\"onlyTomography\"] = (split_namebase[9] == \"True\")\n",
    "\n",
    "    #parser.add_argument('--setqubits', type=int, nargs='+', help='Which qubits to use?: Default: 0123 and transpile')\n",
    "    import ast\n",
    "    dic[\"qubits\"]= ast.literal_eval(split_namebase[10])\n",
    "    dic[\"num_qubits\"] = len(dic[\"qubits\"])\n",
    "    #if split_namebase[7] == '[0,1,2,3]' and split_namebase[8] == 'and' and split_namebase[9] == 'transpile':\n",
    "    return dic"
   ]
  },
  {
   "cell_type": "code",
   "execution_count": 3,
   "metadata": {},
   "outputs": [
    {
     "name": "stdout",
     "output_type": "stream",
     "text": [
      "['False_False_64_1000_100_1024_FakeVigoV2_False_False_True_{1, 2, 3, 4}', 'True_False_64_1000_100_1024_FakeVigoV2_False_False_True_{1, 2, 3, 4}', 'False_False_64_1000_100_1024_FakeVigoV2_False_True_True_{1, 2, 3, 4}']\n"
     ]
    }
   ],
   "source": [
    "main_folder = \"tutorial_notebooks/testrun/testrun\"\n",
    "folders = [f for f in os.listdir(os.path.join(home_folder, main_folder)) if os.path.isdir(os.path.join(os.path.join(home_folder, main_folder), f))]\n",
    "filtered_folders = [f for f in folders if \"FakeVigoV2\" in f and not decipher_name(f)[\"do_cross_talk_noise\"]]\n",
    "print(filtered_folders)"
   ]
  },
  {
   "cell_type": "code",
   "execution_count": 5,
   "metadata": {},
   "outputs": [
    {
     "name": "stdout",
     "output_type": "stream",
     "text": [
      "False_False_64_1000_100_1024_FakeVigoV2_False_False_True_{1, 2, 3, 4} is noisedataframe\n",
      "True_False_64_1000_100_1024_FakeVigoV2_False_False_True_{1, 2, 3, 4} is noisedataframe\n",
      "False_False_64_1000_100_1024_FakeVigoV2_False_True_True_{1, 2, 3, 4} is noisedataframe\n"
     ]
    }
   ],
   "source": [
    "filtered_folders2 = os.path.join(os.path.join(home_folder, main_folder),folders[1])\n",
    "for folder in filtered_folders:\n",
    "    try:\n",
    "        with open(os.path.join(os.path.join(home_folder, main_folder),folder) + \"/noisedataframe.pickle\", \"rb\") as f:\n",
    "            noisedataframe = pickle.load(f)\n",
    "        for key in noisedataframe.noisemodels:\n",
    "            local_keys = [i for i,j in noisedataframe.noisemodels[key].coeffs]\n",
    "        print(folder, \"is noisedataframe\")\n",
    "    except:\n",
    "        try:\n",
    "            with open(os.path.join(os.path.join(home_folder, main_folder),folder) + \"/experiment.pickle\", \"rb\") as f:\n",
    "                experiment = pickle.load(f)\n",
    "            with open(os.path.join(os.path.join(home_folder, main_folder),folder) + \"/noisedataframe.pickle\", \"wb\") as f:\n",
    "                pickle.dump(experiment.analyze(), f)\n",
    "            print(folder, \" done\")\n",
    "        except:\n",
    "            print(\"not there\")"
   ]
  },
  {
   "cell_type": "code",
   "execution_count": 25,
   "metadata": {},
   "outputs": [],
   "source": [
    "experiments= []\n",
    "for folder in filtered_folders:\n",
    "    try:\n",
    "        with open(os.path.join(os.path.join(home_folder, main_folder),folder) + \"/experiment.pickle\", \"rb\") as f:\n",
    "            experiment = pickle.load(f)\n",
    "            experiments.append(experiment)\n",
    "    except:\n",
    "        print(\"ups\")"
   ]
  },
  {
   "cell_type": "code",
   "execution_count": 35,
   "metadata": {},
   "outputs": [],
   "source": [
    "def model_terms(layer, *list):\n",
    "    return layer._model_terms(list)"
   ]
  },
  {
   "cell_type": "code",
   "execution_count": 54,
   "metadata": {},
   "outputs": [
    {
     "name": "stdout",
     "output_type": "stream",
     "text": [
      "tomography_connections False\n",
      "allqubits False\n",
      "[IXIII, IYIII, IZIII, XIIII, ZIIII, YIIII, ZXIII, XYIII, ZYIII, YZIII, XXIII, XZIII, YXIII, ZZIII, YYIII]\n",
      "[0.011614030087351956, 0.013628895287768006, 0.009481757081804987, 0.0007972486489902231, 0.00042299929902001043, 0.0005188525237003194, 0.012336683801288384, 0.014793164960969496, 0.014132531824152306, 0.01345818981117397, 0.012267807677865394, 0.01277698195701582, 0.011872561770569612, 0.01333359373821763, 0.014723687382736217]\n",
      "tomography_connections True\n",
      "allqubits False\n",
      "[IZIII, IXIII, IYIII, YIIII, XIIII, ZIIII, XZIII, YXIII, YYIII, ZYIII, XYIII, YZIII, ZXIII, ZZIII, XXIII]\n",
      "[0.017364969372337558, 0.011569924039556811, 0.010221155600825593, 0.0008226308540106864, 0.0009053799170530841, 0.0004393104861634134, 0.013363077127024892, 0.012953457185375883, 0.014727459383509833, 0.013694012369389386, 0.014905532475206873, 0.012450244967071145, 0.011833916833512315, 0.012477397023961778, 0.01243806813721815]\n",
      "tomography_connections False\n",
      "allqubits True\n",
      "[IYIII, IXIII, IZIII, ZIIII, YIIII, XIIII, ZYIII, XYIII, YZIII, ZXIII, YXIII, ZZIII, XXIII, XZIII, YYIII]\n",
      "[0.016557102170781213, 0.011754322026377606, 0.009207729491989891, 0.00045867529602972024, 0.0008077740611154294, 0.0004380525928535661, 0.013977957327695356, 0.013711872229067779, 0.012864394531274526, 0.011797799224302574, 0.013160168568266961, 0.013695171647849946, 0.01228228376273044, 0.012992323970116626, 0.014535478607072605]\n"
     ]
    },
    {
     "data": {
      "image/png": "[encoded data removed]",
      "text/plain": [
       "<Figure size 1000x600 with 1 Axes>"
      ]
     },
     "metadata": {},
     "output_type": "display_data"
    }
   ],
   "source": [
    "infidelities_list = []\n",
    "coeffs_list = []\n",
    "labels = []\n",
    "coe = True\n",
    "for experiment, folder in zip(experiments, filtered_folders):\n",
    "    cipher = decipher_name(folder)\n",
    "    if cipher[\"tomography_connections\"]:\n",
    "        labels.append(\"With neighbors\")\n",
    "    elif cipher[\"allqubits\"]:\n",
    "        labels.append(\"All qubits\")\n",
    "    else:\n",
    "        labels.append(\"Only used\")\n",
    "    print(\"tomography_connections\", cipher[\"tomography_connections\"])\n",
    "    print(\"allqubits\", cipher[\"allqubits\"])\n",
    "\n",
    "    layer = experiment.analysis.get_layer_data(0)\n",
    "    groups = [term for lis in model_terms(layer, (3,),(4,),(3,4)) for term in lis]\n",
    "    print(groups)\n",
    "    coeffs_dict = dict(layer.noisemodel.coeffs)\n",
    "    coeffs = [coeffs_dict[term] for term in groups]\n",
    "    coeffs_list.append(coeffs)\n",
    "    infidelities = [1-layer._term_data[term].fidelity for term in groups]\n",
    "    infidelities_list.append(infidelities)\n",
    "    print(infidelities)\n",
    "\n",
    "# Create the bar plot\n",
    "x = np.arange(len(groups))  # Label locations\n",
    "width = 0.8 / len(filtered_folders)  # Width of the bars, adjusted for the number of datasets\n",
    "\n",
    "fig, ax = plt.subplots(figsize=(10, 6))\n",
    "\n",
    "# Plotting bars for each folder's data dynamically\n",
    "for i in range(len(filtered_folders)):\n",
    "    if coe:\n",
    "        ax.bar(x + (i - len(filtered_folders)/2) * width, coeffs_list[i], width, label=labels[i])\n",
    "    else:\n",
    "        ax.bar(x + (i - len(filtered_folders)/2) * width, infidelities_list[i], width, label=labels[i])\n",
    "\n",
    "# Add labels, title, and custom x-axis tick labels\n",
    "ax.set_xlabel('Modelterm')\n",
    "ax.set_title('Bar Plot of Values from 3 Folders')\n",
    "ax.set_xticks(x)\n",
    "ax.set_xticklabels(groups, rotation=45, ha='right')\n",
    "\n",
    "# Add legend\n",
    "ax.legend()\n",
    "\n",
    "# Display the plot\n",
    "plt.tight_layout()\n",
    "#plt.show()\n",
    "if coe:\n",
    "    ax.set_ylabel('Coefficient')\n",
    "    plt.savefig(\"Coefficient\")\n",
    "else:\n",
    "    ax.set_ylabel('Infidelity')\n",
    "    plt.savefig(\"Infidelity\")"
   ]
  }
 ],
 "metadata": {
  "kernelspec": {
   "display_name": ".venv",
   "language": "python",
   "name": "python3"
  },
  "language_info": {
   "codemirror_mode": {
    "name": "ipython",
    "version": 3
   },
   "file_extension": ".py",
   "mimetype": "text/x-python",
   "name": "python",
   "nbconvert_exporter": "python",
   "pygments_lexer": "ipython3",
   "version": "3.11.9"
  }
 },
 "nbformat": 4,
 "nbformat_minor": 2
}
