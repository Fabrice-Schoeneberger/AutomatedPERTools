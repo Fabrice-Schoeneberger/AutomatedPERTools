{
 "cells": [
  {
   "cell_type": "code",
   "execution_count": 247,
   "metadata": {},
   "outputs": [
    {
     "name": "stdout",
     "output_type": "stream",
     "text": [
      "e:\\OneDrive\\Dokumente\\Uni_kram\\Masterarbeit\\AutomatedPERTools\n"
     ]
    }
   ],
   "source": [
    "import matplotlib.pyplot as plt\n",
    "from matplotlib import pyplot as plt\n",
    "import os\n",
    "import sys\n",
    "import numpy as np\n",
    "from qiskit.quantum_info import pauli_basis, PTM\n",
    "\n",
    "home_folder = os.getcwd()\n",
    "is_pyquil = \"pyquil_program\" in home_folder\n",
    "if is_pyquil and \"AutomatedPERTools\" in home_folder:\n",
    "\traise Exception(\"Both folders?\")\n",
    "i = 0\n",
    "while not \"pauli_lindblad_per\" in os.listdir(home_folder):\n",
    "\thome_folder = os.path.dirname(home_folder)\n",
    "\ti+=1\n",
    "\tif i == 50:\n",
    "\t\traise Exception(\"pauli_lindblad_per not found. Please make sure it is in this or a parent folder\")\n",
    "sys.path.append(os.path.join(home_folder, \"pauli_lindblad_per\"))\n",
    "import pickle\n",
    "\n",
    "print(home_folder)"
   ]
  },
  {
   "cell_type": "code",
   "execution_count": 248,
   "metadata": {},
   "outputs": [],
   "source": [
    "def decipher_name(namebase):\n",
    "    i = 0\n",
    "    dic = dict()\n",
    "    split_namebase = namebase.split(\"_\")\n",
    "    #parser.add_argument('--plusone', '-p', help='Takes Neighboring qubits into account', default=False, action='store_true')\n",
    "    #i, dic[\"tomography_connections\"] = i+1, (split_namebase[i] == \"True\")\n",
    "    #parser.add_argument('--sum', '-s', help='Same as -p and turns sumation on over neighboring qubits', default=False, action='store_true')\n",
    "    i, dic[\"sum_over_lambda\"] = i+1, (split_namebase[i] == \"True\")\n",
    "    #if dic[\"sum_over_lambda\"]:\n",
    "        #dic[\"tomography_connections\"] = True\n",
    "    #parser.add_argument('--pntsamples', type=int, help='How many samples in PNT? Default: 16', default=16)\n",
    "    i, dic[\"pntsamples\"] = i+1, int(split_namebase[i])\n",
    "    #parser.add_argument('--pntsinglesamples', type=int, help='How many single samples in PNT? Default: 100', default=100)\n",
    "    i, dic[\"pntsinglesamples\"] = i+1, int(split_namebase[i])\n",
    "    #parser.add_argument('--persamples', type=int, help='How many samples in PER? Default: 100', default=100)\n",
    "    i, dic[\"persamples\"] = i+1, int(split_namebase[i])\n",
    "    #parser.add_argument('--shots', type=int, help='How many shots? Default: 1000', default=1000)\n",
    "    i, dic[\"shots\"] = i+1, int(split_namebase[i])\n",
    "    #parser.add_argument('--backend', type=str, help='Which backend to use? Default: FakeVigoV2', default=\"FakeVigoV2\")\n",
    "    from qiskit.providers.fake_provider import GenericBackendV2\n",
    "    i, num = i+1, int(split_namebase[i])\n",
    "    coupling_map = [[i,i+1] for i in range(num-1)]+[[i+1,i] for i in range(num-1)]\n",
    "    backend = GenericBackendV2(num_qubits=num, coupling_map=coupling_map)\n",
    "    dic[\"backend\"] = backend\n",
    "    dic[\"num_qubits\"] = num\n",
    "\n",
    "    #parser.add_argument('--cross', '-c', help='Simulates Cross Talk Noise', default=False, action='store_true')\n",
    "    i, dic[\"do_cross_talk_noise\"] = i+1, (split_namebase[i] == \"True\")\n",
    "    #parser.add_argument('--allqubits', '-a', help='runs over all qubits in the tomography', default=False, action='store_true')\n",
    "    #i, dic[\"allqubits\"] = i+1, (split_namebase[i] == \"True\")\n",
    "    #parser.add_argument('--onlyTomography', help='Only does the tomography and then ends the program', default=False, action='store_true')\n",
    "    i, dic[\"onlyTomography\"] = i+1, (split_namebase[i] == \"True\")\n",
    "\n",
    "    #parser.add_argument('--setqubits', type=int, nargs='+', help='Which qubits to use?: Default: 0123 and transpile')\n",
    "    import ast\n",
    "    i, dic[\"qubits\"]= i+1, ast.literal_eval(split_namebase[i])\n",
    "    if dic[\"qubits\"] !=  [0,1,2,3]:\n",
    "        dic[\"num_qubits\"] = backend.num_qubits    \n",
    "    else:\n",
    "        dic[\"num_qubits\"] = len(dic[\"qubits\"])\n",
    "    #if split_namebase[7] == '[0,1,2,3]' and split_namebase[8] == 'and' and split_namebase[9] == 'transpile':\n",
    "    i, dic[\"depths\"]= i+1, ast.literal_eval(split_namebase[i])\n",
    "    return dic"
   ]
  },
  {
   "cell_type": "code",
   "execution_count": 249,
   "metadata": {},
   "outputs": [
    {
     "name": "stdout",
     "output_type": "stream",
     "text": [
      "False_16_100_100_1024_5_False_True_{1, 2}_[2, 4, 8, 16]_circuits_make_initial_Circuit_test_False__generic_backend_5\n"
     ]
    }
   ],
   "source": [
    "# Determine Folders\n",
    "main_folder_path = \"tutorial_notebooks/testrun/server_run_collection\".split('/')\n",
    "main_folder = \"\"\n",
    "for segment in main_folder_path:\n",
    "    main_folder = os.path.join(main_folder, segment)\n",
    "folders = [f for f in os.listdir(os.path.join(home_folder, main_folder)) if os.path.isdir(os.path.join(os.path.join(home_folder, main_folder), f))]\n",
    "filtered_folders = [f for f in folders if \"False_16_100_100_1024_5_False_True_{1, 2}_[2, 4, 8, 16]_circuits_make_initial_Circuit_test_False__generic_backend_5\" in f]\n",
    "#filtered_folders = [f for f in folders if decipher_name(f)[\"num_qubits\"] == 4 and decipher_name(f)[\"depths\"] == [2,4,8,16] and decipher_name(f)[\"pntsinglesamples\"] == 100]\n",
    "#filtered_folders = [f for f in folders if decipher_name(f)[\"num_qubits\"] == 4 and decipher_name(f)[\"depths\"] == [2,4,8,16,32] and decipher_name(f)[\"pntsinglesamples\"] == 1000]\n",
    "#filtered_folders = [f for f in folders if decipher_name(f)[\"num_qubits\"] == 4 and decipher_name(f)[\"pntsamples\"] == 16 and decipher_name(f)[\"pntsinglesamples\"] == 100]\n",
    "#filtered_folders = [f for f in folders if decipher_name(f)[\"num_qubits\"] == 4 and decipher_name(f)[\"pntsamples\"] == 64 and decipher_name(f)[\"pntsinglesamples\"] == 1000]\n",
    "#filtered_folders = [f for f in folders if decipher_name(f)[\"num_qubits\"] == 4 and decipher_name(f)[\"depths\"] == [2,4,8,16] and decipher_name(f)[\"pntsamples\"] == 16]\n",
    "#filtered_folders = [f for f in folders if decipher_name(f)[\"num_qubits\"] == 4 and decipher_name(f)[\"depths\"] == [2,4,8,16,32] and decipher_name(f)[\"pntsamples\"] == 64]\n",
    "                    #decipher_name(f)[\"pntsamples\"] == 64 and \n",
    "                    #\"False_16_100_100_1024_3_False_True_{0, 1}_[2, 4, 8, 16]__CNOT_LAYER1\" in f]\n",
    "#filtered_folders = sorted(filtered_folders, key=lambda item: decipher_name(item)[\"pntsinglesamples\"])\n",
    "filtered_folders = sorted(filtered_folders, key=lambda item: decipher_name(item)[\"pntsamples\"])\n",
    "for folder in filtered_folders:\n",
    "    print(folder)"
   ]
  },
  {
   "cell_type": "code",
   "execution_count": 250,
   "metadata": {},
   "outputs": [
    {
     "name": "stdout",
     "output_type": "stream",
     "text": [
      "e:\\OneDrive\\Dokumente\\Uni_kram\\Masterarbeit\\AutomatedPERTools\\tutorial_notebooks\\testrun\\server_run_collection\\False_16_100_100_1024_5_False_True_{1, 2}_[2, 4, 8, 16]_circuits_make_initial_Circuit_test_False__generic_backend_5\\coeffs.pickle\n"
     ]
    }
   ],
   "source": [
    "# Load Data\n",
    "coeffs_datas = []\n",
    "infidelities_datas = []\n",
    "for folder in filtered_folders:\n",
    "    print(os.path.join(os.path.join(os.path.join(home_folder, main_folder),folder), \"coeffs.pickle\"))\n",
    "    with open(os.path.join(os.path.join(os.path.join(home_folder, main_folder),folder), \"circuits.pickle\"), \"rb\") as f:\n",
    "        circuits = pickle.load(f)\n",
    "    with open(os.path.join(os.path.join(os.path.join(home_folder, main_folder),folder), \"coeffs.pickle\"), \"rb\") as f:\n",
    "        coeffs = pickle.load(f)\n",
    "    coeffs_datas.append(coeffs)\n",
    "    with open(os.path.join(os.path.join(os.path.join(home_folder, main_folder),folder), \"infidelities.pickle\"), \"rb\") as f:\n",
    "        infidelities = pickle.load(f)\n",
    "        \"\"\" \n",
    "        print(infidelities)\n",
    "        inf2 = []\n",
    "    for inf in infidelities:\n",
    "        tempdic = {}\n",
    "        for temp2 in inf:\n",
    "            for i in temp2:\n",
    "                print(i)\n",
    "                tempdic[i] = temp2[i]\n",
    "        inf2.append(tempdic)\n",
    "    print(coeffs)\n",
    "    print(inf2)\n",
    "    infidelities = inf2\n",
    "    with open(os.path.join(os.path.join(os.path.join(home_folder, main_folder),folder), \"infidelities.pickle\"), \"wb\") as f:\n",
    "        pickle.dump(infidelities, f) \"\"\"\n",
    "    infidelities_datas.append(infidelities)"
   ]
  },
  {
   "cell_type": "code",
   "execution_count": 251,
   "metadata": {},
   "outputs": [],
   "source": [
    "def make_initial_Circuit(qubits, num_qubits, backend, n):\n",
    "    from qiskit import transpile, QuantumCircuit\n",
    "    def trotterLayer(h,J,dt,n):\n",
    "        trotterLayer = QuantumCircuit(num_qubits)\n",
    "        trotterLayer.rx(dt*4*h, qubits)\n",
    "        trotterLayer.cx(*zip(*[(qubits[2*i], qubits[2*i+1]) for i in range(n)]))\n",
    "        trotterLayer.rz(-4*J*dt, [qubits[2*i+1] for i in range(n)])\n",
    "        trotterLayer.cx(*zip(*[(qubits[2*i], qubits[2*i+1]) for i in range(n)]))\n",
    "        trotterLayer.cx(*zip(*[(qubits[2*i+1], qubits[2*i+2]) for i in range(n-1)]))\n",
    "        trotterLayer.rz(-4*J*dt, [qubits[2*i+2] for i in range(n-1)])\n",
    "        trotterLayer.cx(*zip(*[(qubits[2*i+1], qubits[2*i+2]) for i in range(n-1)]))\n",
    "        return trotterLayer\n",
    "\n",
    "    h = 1\n",
    "    J = -.15\n",
    "    dt = .2\n",
    "\n",
    "    def maketrotterCircuit(s):\n",
    "        tL = trotterLayer(h, J, dt, n)\n",
    "        trotterCircuit = QuantumCircuit(num_qubits)\n",
    "        for i in range(s):\n",
    "            trotterCircuit = trotterCircuit.compose(tL)\n",
    "            trotterCircuit.barrier()\n",
    "\n",
    "        transpiled = transpile(trotterCircuit, backend)\n",
    "        return transpiled\n",
    "\n",
    "    return [maketrotterCircuit(i) for i in range(1,15)]"
   ]
  },
  {
   "cell_type": "code",
   "execution_count": 252,
   "metadata": {},
   "outputs": [],
   "source": [
    "def get_backend(num_qubits):\n",
    "    from qiskit.providers.fake_provider import GenericBackendV2\n",
    "    num = num_qubits\n",
    "    coupling_map = [[i,i+1] for i in range(num-1)]+[[i+1,i] for i in range(num-1)]\n",
    "    backend = GenericBackendV2(num_qubits=num, coupling_map=coupling_map)\n",
    "    return backend"
   ]
  },
  {
   "cell_type": "code",
   "execution_count": 253,
   "metadata": {},
   "outputs": [
    {
     "name": "stdout",
     "output_type": "stream",
     "text": [
      "               ░ ┌───┐ ░      \n",
      "q_0 -> 0 ──────░─┤ X ├─░───■──\n",
      "               ░ └─┬─┘ ░ ┌─┴─┐\n",
      "q_1 -> 1 ──■───░───■───░─┤ X ├\n",
      "         ┌─┴─┐ ░       ░ └───┘\n",
      "q_2 -> 2 ┤ X ├─░───────░───■──\n",
      "         └───┘ ░       ░ ┌─┴─┐\n",
      "q_3 -> 3 ──────░───■───░─┤ X ├\n",
      "               ░ ┌─┴─┐ ░ └───┘\n",
      "q_4 -> 4 ──────░─┤ X ├─░───■──\n",
      "               ░ └───┘ ░ ┌─┴─┐\n",
      "q_5 -> 5 ──────░───────░─┤ X ├\n",
      "               ░       ░ ├───┤\n",
      "q_6 -> 6 ──────░───────░─┤ X ├\n",
      "               ░       ░ └─┬─┘\n",
      "q_7 -> 7 ──────░───────░───■──\n",
      "               ░       ░      \n"
     ]
    }
   ],
   "source": [
    "def make_initial_Circuit2(backend):\n",
    "    from qiskit import transpile, QuantumCircuit\n",
    "    circuit = QuantumCircuit(8)\n",
    "    circuit.cx(1,2)\n",
    "    circuit.barrier()\n",
    "    circuit.cx(1,0)\n",
    "    circuit.cx(3,4)\n",
    "    circuit.barrier()\n",
    "    circuit.cx(0,1)\n",
    "    circuit.cx(2,3)\n",
    "    circuit.cx(4,5)\n",
    "    circuit.cx(7,6)\n",
    "    return [transpile(circuit, backend)]\n",
    "backend = get_backend(8)\n",
    "print(make_initial_Circuit2(backend)[0])"
   ]
  },
  {
   "cell_type": "code",
   "execution_count": 254,
   "metadata": {},
   "outputs": [
    {
     "name": "stdout",
     "output_type": "stream",
     "text": [
      "              \n",
      "q_0 -> 0 ─────\n",
      "              \n",
      "q_1 -> 1 ──■──\n",
      "         ┌─┴─┐\n",
      "q_2 -> 2 ┤ X ├\n",
      "         └───┘\n",
      "q_3 -> 3 ─────\n",
      "              \n",
      "q_4 -> 4 ─────\n",
      "              \n"
     ]
    }
   ],
   "source": [
    "with open(os.path.join(os.path.join(os.path.join(home_folder, main_folder),filtered_folders[0]), \"noise_model.pickle\"), \"rb\") as f:\n",
    "    (noise_model, twoqubit_error_template, singlequbit_error_template) = pickle.load(f)\n",
    "#from TrotterExample import get_noise_model, make_initial_Circuit\n",
    "#(noise_model, twoqubit_error_template, singlequbit_error_template) = get_noise_model()\n",
    "dic = decipher_name(filtered_folders[0])\n",
    "backend = dic[\"backend\"]\n",
    "layer_number = 0\n",
    "circuit = circuits[layer_number]\n",
    "#if \"CNOT\" in filtered_folders[0]:\n",
    "#    circuit = make_initial_Circuit2(backend)[0]\n",
    "#else:\n",
    "#    circuit = make_initial_Circuit(list(dic[\"qubits\"]), backend.num_qubits, backend, 2)[0]\n",
    "sys.path.append(os.path.join(os.path.join(home_folder, \"tutorial_notebooks\"),\"testrun\"))\n",
    "from TrotterExample import circuit_to_layers\n",
    "from primitives.circuit import QiskitCircuit\n",
    "\n",
    "layers = circuit_to_layers(QiskitCircuit(circuit))\n",
    "circuit = layers[layer_number].qc\n",
    "print(circuit)"
   ]
  },
  {
   "cell_type": "code",
   "execution_count": 255,
   "metadata": {},
   "outputs": [],
   "source": [
    "def get_index(qc, inst, i=None):\n",
    "    if i:\n",
    "        qubit = inst.qubits[i]\n",
    "        index = -1\n",
    "        for register in qc.qregs:  # Assuming you're using `QuantumCircuit`\n",
    "            if qubit in register:\n",
    "                index = register.index(qubit)\n",
    "                break\n",
    "        return index\n",
    "    else:\n",
    "        qubits = inst.qubits\n",
    "        indexes = []\n",
    "        for qubit in qubits:\n",
    "            index = -1\n",
    "            for register in qc.qregs:  # Assuming you're using `QuantumCircuit`\n",
    "                if qubit in register:\n",
    "                    index = register.index(qubit)\n",
    "                    break\n",
    "            indexes.append(index)\n",
    "        return indexes"
   ]
  },
  {
   "cell_type": "code",
   "execution_count": 256,
   "metadata": {},
   "outputs": [
    {
     "name": "stdout",
     "output_type": "stream",
     "text": [
      "              \n",
      "q_0 -> 0 ─────\n",
      "              \n",
      "q_1 -> 1 ──■──\n",
      "         ┌─┴─┐\n",
      "q_2 -> 2 ┤ X ├\n",
      "         └───┘\n",
      "q_3 -> 3 ─────\n",
      "              \n",
      "q_4 -> 4 ─────\n",
      "              \n"
     ]
    }
   ],
   "source": [
    "print(layers[0].qc)"
   ]
  },
  {
   "cell_type": "code",
   "execution_count": 257,
   "metadata": {},
   "outputs": [],
   "source": [
    "def get_error_for_circuit(circuit, twoqubit_error_template, singlequbit_error_template, num_qubits, used_qubits):\n",
    "    from qiskit.quantum_info import Pauli\n",
    "    def mul_Pauli(pauli1, pauli2):\n",
    "        result = pauli1.compose(pauli2)\n",
    "        nophase = Pauli((result.z, result.x))\n",
    "        return nophase\n",
    "    redirect = {}\n",
    "    for i, qubit in enumerate(used_qubits):\n",
    "        redirect[qubit] = i\n",
    "    identity_string = 'I'*num_qubits\n",
    "    error_state = {Pauli(identity_string): 1}\n",
    "    for inst in circuit:\n",
    "        temp_error_state = {}\n",
    "        indexes = [redirect[i] for i in get_index(circuit, inst)]\n",
    "        if inst.operation.name == \"cx\":\n",
    "            for og_op in error_state:\n",
    "                op = og_op\n",
    "                if og_op[indexes[0]] == 'X' or og_op[indexes[0]] == 'Y':\n",
    "                    temp_op = Pauli(\"\".join(reversed(identity_string[:indexes[1]] + 'X' + identity_string[indexes[1]+1:])))\n",
    "                    op = mul_Pauli(temp_op, op)\n",
    "                if og_op[indexes[1]] == 'Z' or og_op[indexes[1]] == 'Y':\n",
    "                    temp_op = Pauli(\"\".join(reversed(identity_string[:indexes[0]] + 'Z' + identity_string[indexes[0]+1:])))\n",
    "                    op = mul_Pauli(temp_op, op)\n",
    "                temp_error_state[op] = error_state[og_op]\n",
    "            error_state = temp_error_state\n",
    "            temp_error_state = {}\n",
    "        if len(indexes) == 1:\n",
    "            index = indexes[0]\n",
    "            for (op, p) in singlequbit_error_template:\n",
    "                op = Pauli(\"\".join(reversed(identity_string[:index] + str(op)+ identity_string[index+1:])))\n",
    "                for og_op in error_state:\n",
    "                    og_p = error_state[og_op]\n",
    "                    new_op = mul_Pauli(op, og_op)\n",
    "                    temp_error_state[new_op] = temp_error_state.get(new_op, 0) + p*og_p\n",
    "        elif len(indexes) == 2:\n",
    "            for (op, p) in twoqubit_error_template:\n",
    "                if is_pyquil:\n",
    "                    op = \"\".join(reversed(op))\n",
    "                temp_string = (identity_string[:indexes[0]] + \"\".join(reversed(str(op)))[0]+ identity_string[indexes[0]+1:])\n",
    "                op = Pauli(\"\".join(reversed(temp_string[:indexes[1]] + \"\".join(reversed(str(op)))[1]+ temp_string[indexes[1]+1:])))\n",
    "                for og_op in error_state:\n",
    "                    og_p = error_state[og_op]\n",
    "                    new_op = mul_Pauli(op, og_op)\n",
    "                    temp_error_state[new_op] = temp_error_state.get(new_op, 0) + p*og_p\n",
    "        else:\n",
    "            if inst.operation.name == 'barrier':\n",
    "                continue\n",
    "            raise Exception(\"Too many qubits\")\n",
    "        error_state = temp_error_state\n",
    "    return [(op, error_state[op]) for op in error_state]"
   ]
  },
  {
   "cell_type": "code",
   "execution_count": 258,
   "metadata": {},
   "outputs": [],
   "source": [
    "def model_terms(layer, *list):\n",
    "    return layer._model_terms(list)"
   ]
  },
  {
   "cell_type": "code",
   "execution_count": 259,
   "metadata": {},
   "outputs": [],
   "source": [
    "def splice_string(string, indexes):\n",
    "    for index in sorted(indexes):\n",
    "        index -= sorted(indexes).index(index)\n",
    "        string = string[:index]+string[index+1:]\n",
    "    return string"
   ]
  },
  {
   "cell_type": "code",
   "execution_count": 260,
   "metadata": {},
   "outputs": [
    {
     "name": "stdout",
     "output_type": "stream",
     "text": [
      "{1, 2}\n"
     ]
    }
   ],
   "source": [
    "used_qubits = set()\n",
    "for inst in circuit: #look at the commands\n",
    "    for j in range(len(inst.qubits)): #record which qubits they use\n",
    "        try:\n",
    "            for i in get_index(circuit, inst, i=j):\n",
    "                used_qubits.add(i)\n",
    "        except:\n",
    "            used_qubits.add(get_index(circuit, inst, i=j)) #and save those\n",
    "print(used_qubits)"
   ]
  },
  {
   "cell_type": "code",
   "execution_count": 261,
   "metadata": {},
   "outputs": [
    {
     "name": "stdout",
     "output_type": "stream",
     "text": [
      "1 0\n",
      "2 1\n",
      "3 2\n",
      "4 3\n",
      "[Pauli('IIIIX'), Pauli('IIIIY'), Pauli('IIIIZ'), Pauli('IIIXI'), Pauli('IIIYI'), Pauli('IIIZI'), Pauli('IIXII'), Pauli('IIYII'), Pauli('IIZII'), Pauli('IXIII'), Pauli('IYIII'), Pauli('IZIII'), Pauli('XIIII'), Pauli('YIIII'), Pauli('ZIIII'), Pauli('IIIXX'), Pauli('IIIXY'), Pauli('IIIXZ'), Pauli('IIIYX'), Pauli('IIIYY'), Pauli('IIIYZ'), Pauli('IIIZX'), Pauli('IIIZY'), Pauli('IIIZZ'), Pauli('IIXXI'), Pauli('IIXYI'), Pauli('IIXZI'), Pauli('IIYXI'), Pauli('IIYYI'), Pauli('IIYZI'), Pauli('IIZXI'), Pauli('IIZYI'), Pauli('IIZZI'), Pauli('IXXII'), Pauli('IXYII'), Pauli('IXZII'), Pauli('IYXII'), Pauli('IYYII'), Pauli('IYZII'), Pauli('IZXII'), Pauli('IZYII'), Pauli('IZZII'), Pauli('XXIII'), Pauli('XYIII'), Pauli('XZIII'), Pauli('YXIII'), Pauli('YYIII'), Pauli('YZIII'), Pauli('ZXIII'), Pauli('ZYIII'), Pauli('ZZIII')]\n",
      "[Pauli('IX'), Pauli('IY'), Pauli('IZ'), Pauli('XI'), Pauli('YI'), Pauli('ZI'), Pauli('XX'), Pauli('XY'), Pauli('XZ'), Pauli('YX'), Pauli('YY'), Pauli('YZ'), Pauli('ZX'), Pauli('ZY'), Pauli('ZZ')]\n"
     ]
    }
   ],
   "source": [
    "choosen_qubits = [i for i in range(decipher_name(filtered_folders[0])[\"num_qubits\"])]\n",
    "num_used_qubits = len(used_qubits)\n",
    "num_qubits = len(choosen_qubits)\n",
    "choosen_used_qubits = [i for i in range(num_used_qubits)]\n",
    "groups = []\n",
    "used_groups = []\n",
    "for qubit in choosen_qubits:\n",
    "    groups += [pauli for pauli in pauli_basis(num_qubits) if str(pauli)[::-1][qubit] != 'I' and (splice_string(str(pauli)[::-1], [qubit]) == 'I'*(num_qubits-1))]\n",
    "for qubit in choosen_used_qubits:\n",
    "    used_groups += [pauli for pauli in pauli_basis(num_used_qubits) if str(pauli)[::-1][qubit] != 'I' and (splice_string(str(pauli)[::-1], [qubit]) == 'I'*(num_used_qubits-1))]\n",
    "for qubit1, qubit2 in [i for i in backend.coupling_map]:\n",
    "    if qubit1 > qubit2:\n",
    "        print(qubit1, qubit2)\n",
    "        groups += [pauli for pauli in pauli_basis(num_qubits) if str(pauli)[::-1][choosen_qubits[qubit1]] != 'I' and str(pauli)[::-1][choosen_qubits[qubit2]] != 'I' and (splice_string(str(pauli)[::-1], [choosen_qubits[qubit1], choosen_qubits[qubit2]]) == 'I'*(num_qubits-2))]\n",
    "        if qubit1 in choosen_used_qubits and qubit2 in choosen_used_qubits:\n",
    "            used_groups += [pauli for pauli in pauli_basis(num_used_qubits) if str(pauli)[::-1][choosen_qubits[qubit1]] != 'I' and str(pauli)[::-1][choosen_qubits[qubit2]] != 'I' and (splice_string(str(pauli)[::-1], [choosen_qubits[qubit1], choosen_qubits[qubit2]]) == 'I'*(num_used_qubits-2))]\n",
    "print(groups)\n",
    "print(used_groups)"
   ]
  },
  {
   "cell_type": "code",
   "execution_count": 262,
   "metadata": {},
   "outputs": [
    {
     "data": {
      "text/plain": [
       "[(Pauli('I'), 1)]"
      ]
     },
     "execution_count": 262,
     "metadata": {},
     "output_type": "execute_result"
    }
   ],
   "source": [
    "from qiskit.quantum_info import Pauli\n",
    "singlequbit_error_template = [(Pauli('I'), 1)]\n",
    "singlequbit_error_template"
   ]
  },
  {
   "cell_type": "code",
   "execution_count": 263,
   "metadata": {},
   "outputs": [],
   "source": [
    "def swap_first_two_chars(s):\n",
    "    # If the string has less than 2 characters, return the string as it is\n",
    "    if len(s) < 2:\n",
    "        return s\n",
    "    # Swap the first two characters\n",
    "    return s[1] + s[0] + s[2:]"
   ]
  },
  {
   "cell_type": "code",
   "execution_count": 264,
   "metadata": {},
   "outputs": [
    {
     "name": "stdout",
     "output_type": "stream",
     "text": [
      "{'IY': 0.05, 'II': 0.95}\n"
     ]
    }
   ],
   "source": [
    "true_error_template = {pauli: error for pauli, error in get_error_for_circuit(layers[0].qc, twoqubit_error_template, singlequbit_error_template, num_used_qubits, used_qubits)}\n",
    "#true_error_template = {swap_first_two_chars(\"\".join(reversed(splice_string(\"\".join(reversed(str(key))), [i for i in range(len(str(key))) if not i in [1,3,5,6]])))):true_error_template[key] for key in true_error_template}\n",
    "true_error_template = {str(key):true_error_template[key] for key in true_error_template}\n",
    "print(true_error_template)"
   ]
  },
  {
   "cell_type": "code",
   "execution_count": 265,
   "metadata": {},
   "outputs": [
    {
     "name": "stdout",
     "output_type": "stream",
     "text": [
      "QuantumError on 5 qubits. Noise circuits:\n",
      "  P(0) = 0.05, Circuit = \n",
      "     ┌───────────────┐\n",
      "q_0: ┤0              ├\n",
      "     │               │\n",
      "q_1: ┤1              ├\n",
      "     │               │\n",
      "q_2: ┤2 Pauli(IIIYI) ├\n",
      "     │               │\n",
      "q_3: ┤3              ├\n",
      "     │               │\n",
      "q_4: ┤4              ├\n",
      "     └───────────────┘\n",
      "  P(1) = 0.95, Circuit = \n",
      "     ┌───────────────┐\n",
      "q_0: ┤0              ├\n",
      "     │               │\n",
      "q_1: ┤1              ├\n",
      "     │               │\n",
      "q_2: ┤2 Pauli(IIIII) ├\n",
      "     │               │\n",
      "q_3: ┤3              ├\n",
      "     │               │\n",
      "q_4: ┤4              ├\n",
      "     └───────────────┘\n"
     ]
    }
   ],
   "source": [
    "from qiskit_aer.noise import (NoiseModel, QuantumError, ReadoutError, pauli_error, depolarizing_error, thermal_relaxation_error)\n",
    "true_error = pauli_error(get_error_for_circuit(circuit, twoqubit_error_template, singlequbit_error_template, num_qubits, choosen_qubits))\n",
    "#true_error = pauli_error(get_error_for_circuit(circuit, twoqubit_error_template, singlequbit_error_template, num_used_qubits, used_qubits))\n",
    "print(true_error)"
   ]
  },
  {
   "cell_type": "code",
   "execution_count": 266,
   "metadata": {},
   "outputs": [],
   "source": [
    "def swap_last_two_chars(s):\n",
    "    # If the string has less than 2 characters, return the string as it is\n",
    "    if len(s) < 2:\n",
    "        return s\n",
    "    # Swap the last two characters\n",
    "    return s[:-2] + s[-1] + s[-2]\n",
    "\n",
    "def swap_non_I_chars(s):\n",
    "    # Find the two non-'I' characters\n",
    "    non_I_chars = [char for char in s if char != 'I']\n",
    "    \n",
    "    # If there are exactly two non-'I' characters, swap them\n",
    "    if len(non_I_chars) == 2:\n",
    "        # Perform the swap\n",
    "        s = s.replace(non_I_chars[0], '*').replace(non_I_chars[1], non_I_chars[0]).replace('*', non_I_chars[1])\n",
    "    \n",
    "    return s"
   ]
  },
  {
   "cell_type": "code",
   "execution_count": 267,
   "metadata": {},
   "outputs": [
    {
     "name": "stdout",
     "output_type": "stream",
     "text": [
      "YI:0.05   II:0.95   \n"
     ]
    }
   ],
   "source": [
    "# Make error strings\n",
    "twoqubit_error_string = \"\"\n",
    "for temp in twoqubit_error_template:\n",
    "    twoqubit_error_string = twoqubit_error_string + str(temp[0])[1]+str(temp[0])[0]+\":\" +\"%.7s\"%temp[1]+\"   \"\n",
    "\n",
    "singlequbit_error_string = \"\"\n",
    "for temp in singlequbit_error_template:\n",
    "    singlequbit_error_string = singlequbit_error_string +\" \"+ str(temp[0])+\":\" +\"%.7s\"%temp[1]+\"   \"\n",
    "print(twoqubit_error_string)"
   ]
  },
  {
   "cell_type": "code",
   "execution_count": 268,
   "metadata": {},
   "outputs": [
    {
     "name": "stdout",
     "output_type": "stream",
     "text": [
      "Make new Matrix\n"
     ]
    }
   ],
   "source": [
    "# Make / load transfer matrix\n",
    "transfer_matrix = None\n",
    "for folder in filtered_folders:\n",
    "    if os.path.exists(os.path.join(os.path.join(os.path.join(home_folder, main_folder),folder), \"transfer_matrixes.pickle\")):\n",
    "        with open(os.path.join(os.path.join(os.path.join(home_folder, main_folder),folder), \"transfer_matrixes.pickle\"), \"rb\") as f:\n",
    "            transfer_matrixes = pickle.load(f)\n",
    "            transfer_matrix = transfer_matrixes[layer_number]\n",
    "\n",
    "if transfer_matrix is None:\n",
    "    for folder in filtered_folders:\n",
    "        if os.path.exists(os.path.join(os.path.join(os.path.join(home_folder, main_folder),folder), \"transfer_matrix.pickle\")):\n",
    "            with open(os.path.join(os.path.join(os.path.join(home_folder, main_folder),folder), \"transfer_matrix.pickle\"), \"rb\") as f:\n",
    "                (transfer_matrix, saved_layer_number) = pickle.load(f)\n",
    "                if saved_layer_number != layer_number:\n",
    "                    transfer_matrix = None\n",
    "                    \n",
    "#if transfer_matrix is None:\n",
    "pass\n",
    "print(\"Make new Matrix\")\n",
    "transfer_matrix = PTM(true_error.to_quantumchannel()).data #Find out more about this\n",
    "    \n",
    "for folder in filtered_folders:\n",
    "    pass\n",
    "    #with open(os.path.join(os.path.join(os.path.join(home_folder, main_folder),folder), \"transfer_matrix.pickle\"), \"wb\") as f:\n",
    "    #    pickle.dump((transfer_matrix, layer_number), f)"
   ]
  },
  {
   "cell_type": "code",
   "execution_count": 269,
   "metadata": {},
   "outputs": [],
   "source": [
    "def used_qubits_to_all_qubits(pauli_string):\n",
    "    pauli_string = \"\".join(reversed(pauli_string))\n",
    "    index = 0\n",
    "    ret = \"\"\n",
    "    for qubit in choosen_qubits:\n",
    "        if qubit in used_qubits:\n",
    "            ret += pauli_string[index]\n",
    "            index += 1\n",
    "        else:\n",
    "            ret += \"I\"\n",
    "    return \"\".join(reversed(ret))"
   ]
  },
  {
   "cell_type": "code",
   "execution_count": 270,
   "metadata": {},
   "outputs": [
    {
     "name": "stdout",
     "output_type": "stream",
     "text": [
      "{'IIIYI': 0.05, 'IIIII': 0.95}\n"
     ]
    }
   ],
   "source": [
    "true_error_template = {used_qubits_to_all_qubits(key): true_error_template[key] for key in true_error_template}\n",
    "print(true_error_template)"
   ]
  },
  {
   "cell_type": "code",
   "execution_count": 271,
   "metadata": {},
   "outputs": [
    {
     "name": "stdout",
     "output_type": "stream",
     "text": [
      "{Pauli('IIIIX'): np.float64(0.0), Pauli('IIIIY'): np.float64(0.0), Pauli('IIIIZ'): np.float64(0.0), Pauli('IIIXI'): np.float64(0.09999999999999987), Pauli('IIIYI'): np.float64(0.0), Pauli('IIIZI'): np.float64(0.09999999999999987), Pauli('IIXII'): np.float64(0.0), Pauli('IIYII'): np.float64(0.0), Pauli('IIZII'): np.float64(0.0), Pauli('IXIII'): np.float64(0.0), Pauli('IYIII'): np.float64(0.0), Pauli('IZIII'): np.float64(0.0), Pauli('XIIII'): np.float64(0.0), Pauli('YIIII'): np.float64(0.0), Pauli('ZIIII'): np.float64(0.0), Pauli('IIIXX'): np.float64(0.09999999999999987), Pauli('IIIXY'): np.float64(0.09999999999999987), Pauli('IIIXZ'): np.float64(0.09999999999999987), Pauli('IIIYX'): np.float64(0.0), Pauli('IIIYY'): np.float64(0.0), Pauli('IIIYZ'): np.float64(0.0), Pauli('IIIZX'): np.float64(0.09999999999999987), Pauli('IIIZY'): np.float64(0.09999999999999987), Pauli('IIIZZ'): np.float64(0.09999999999999987), Pauli('IIXXI'): np.float64(0.09999999999999987), Pauli('IIXYI'): np.float64(0.0), Pauli('IIXZI'): np.float64(0.09999999999999987), Pauli('IIYXI'): np.float64(0.09999999999999987), Pauli('IIYYI'): np.float64(0.0), Pauli('IIYZI'): np.float64(0.09999999999999987), Pauli('IIZXI'): np.float64(0.09999999999999987), Pauli('IIZYI'): np.float64(0.0), Pauli('IIZZI'): np.float64(0.09999999999999987), Pauli('IXXII'): np.float64(0.0), Pauli('IXYII'): np.float64(0.0), Pauli('IXZII'): np.float64(0.0), Pauli('IYXII'): np.float64(0.0), Pauli('IYYII'): np.float64(0.0), Pauli('IYZII'): np.float64(0.0), Pauli('IZXII'): np.float64(0.0), Pauli('IZYII'): np.float64(0.0), Pauli('IZZII'): np.float64(0.0), Pauli('XXIII'): np.float64(0.0), Pauli('XYIII'): np.float64(0.0), Pauli('XZIII'): np.float64(0.0), Pauli('YXIII'): np.float64(0.0), Pauli('YYIII'): np.float64(0.0), Pauli('YZIII'): np.float64(0.0), Pauli('ZXIII'): np.float64(0.0), Pauli('ZYIII'): np.float64(0.0), Pauli('ZZIII'): np.float64(0.0)}\n"
     ]
    }
   ],
   "source": [
    "infidelities_list = []\n",
    "coeffs_list = []\n",
    "labels = []\n",
    "if not transfer_matrix is None:\n",
    "    #stack = {used_qubits_to_all_qubits(str(pauli)): (1-transfer_matrix[i][i]).real for i,pauli in enumerate(pauli_basis(num_used_qubits))}\n",
    "    stack = {(str(pauli)): (1-transfer_matrix[i][i]).real for i,pauli in enumerate(pauli_basis(num_qubits))}\n",
    "    print({pauli: stack.get((str(pauli)),0) for pauli in groups})\n",
    "    stack = [stack.get(swap_non_I_chars(str(pauli)),0) for pauli in groups]\n",
    "    infidelities_list.append(stack)\n",
    "coeffs_list.append([true_error_template.get(swap_non_I_chars(str(pauli)), 0) for pauli in groups])\n",
    "labels.append(\"Real Error\")"
   ]
  },
  {
   "cell_type": "code",
   "execution_count": 272,
   "metadata": {},
   "outputs": [
    {
     "name": "stdout",
     "output_type": "stream",
     "text": [
      "{Pauli('IIIIX'): np.float64(1.0910049839107927e-06), Pauli('IIIIY'): np.float64(1.0910049839107927e-06), Pauli('IIIIZ'): np.float64(1.0910049839107927e-06), Pauli('IIIXI'): np.float64(0.097933094499013), Pauli('IIIYI'): np.float64(2.5158183838080994e-05), Pauli('IIIZI'): np.float64(0.09980135695635683), Pauli('IIXII'): np.float64(1.0910049839107927e-06), Pauli('IIYII'): np.float64(0.0021974578162050618), Pauli('IIZII'): np.float64(-0.006839029270255814), Pauli('IXIII'): np.float64(1.0910049839107927e-06), Pauli('IYIII'): np.float64(1.0910049839107927e-06), Pauli('IZIII'): np.float64(1.0910049839107927e-06), Pauli('XIIII'): np.float64(1.0910049839107927e-06), Pauli('YIIII'): np.float64(1.0910049839107927e-06), Pauli('ZIIII'): np.float64(1.0910049839107927e-06), Pauli('IIIXX'): np.float64(0.10117903791177674), Pauli('IIIXY'): np.float64(0.09922692853346182), Pauli('IIIXZ'): np.float64(0.09472652040556451), Pauli('IIIYX'): np.float64(1.0910049839107927e-06), Pauli('IIIYY'): np.float64(1.0910049839107927e-06), Pauli('IIIYZ'): np.float64(1.0910049839107927e-06), Pauli('IIIZX'): np.float64(0.0997275760225067), Pauli('IIIZY'): np.float64(0.09820126266928475), Pauli('IIIZZ'): np.float64(0.10066637225147856), Pauli('IIXXI'): np.float64(0.09943359374601568), Pauli('IIXYI'): np.float64(-2.297675311391245e-05), Pauli('IIXZI'): np.float64(0.0997275760225067), Pauli('IIYXI'): np.float64(0.10286502150271626), Pauli('IIYYI'): np.float64(0.0062659849793884614), Pauli('IIYZI'): np.float64(0.0979360933337814), Pauli('IIZXI'): np.float64(0.0942806515339023), Pauli('IIZYI'): np.float64(-0.006777080891697818), Pauli('IIZZI'): np.float64(0.10369085964832803), Pauli('IXXII'): np.float64(1.0910049839107927e-06), Pauli('IXYII'): np.float64(0.05216873914806919), Pauli('IXZII'): np.float64(0.04851906538073736), Pauli('IYXII'): np.float64(1.0910049839107927e-06), Pauli('IYYII'): np.float64(0.051293446510952134), Pauli('IYZII'): np.float64(0.05008404033117342), Pauli('IZXII'): np.float64(1.0910049839107927e-06), Pauli('IZYII'): np.float64(0.05008895993459894), Pauli('IZZII'): np.float64(0.05122151536318753), Pauli('XXIII'): np.float64(1.0910049839107927e-06), Pauli('XYIII'): np.float64(1.0910049839107927e-06), Pauli('XZIII'): np.float64(1.0910049839107927e-06), Pauli('YXIII'): np.float64(1.0910049839107927e-06), Pauli('YYIII'): np.float64(1.0910049839107927e-06), Pauli('YZIII'): np.float64(1.0910049839107927e-06), Pauli('ZXIII'): np.float64(1.0910049839107927e-06), Pauli('ZYIII'): np.float64(1.0910049839107927e-06), Pauli('ZZIII'): np.float64(1.0910049839107927e-06)}\n"
     ]
    }
   ],
   "source": [
    "failed_folders = 0\n",
    "for array_of_coeffs, array_of_infidelities, folder in zip(coeffs_datas, infidelities_datas, filtered_folders):\n",
    "    cipher = decipher_name(folder)\n",
    "    coeffs = array_of_coeffs[layer_number]\n",
    "    infidelities = array_of_infidelities[layer_number]\n",
    "    coeffs = {str(key):coeffs[key] for key in coeffs}\n",
    "    infidelities = {str(key):infidelities[key] for key in infidelities}\n",
    "    try:\n",
    "        coeffs_list.append([coeffs.get(swap_non_I_chars(str(key)),0) for key in groups])\n",
    "        infidelities_list.append([infidelities.get(swap_non_I_chars(str(key)),0) for key in groups])\n",
    "        print({key: infidelities.get(str(key),0) for key in groups})\n",
    "    except Exception as e:\n",
    "        failed_folders += 1\n",
    "        print(e)\n",
    "        print(\"Failed Folders:\", failed_folders)\n",
    "        continue\n",
    "    labels.append(str(cipher[\"num_qubits\"])+ \" Qubit backend\")\n",
    "    #print(\"tomography_connections\", cipher[\"tomography_connections\"])\n",
    "    #print(\"allqubits\", cipher[\"allqubits\"])\n"
   ]
  },
  {
   "cell_type": "code",
   "execution_count": 273,
   "metadata": {},
   "outputs": [],
   "source": [
    "def plot_data(coe):\n",
    "    #print([len(item) for item in infidelities_list])\n",
    "    if coe:\n",
    "        number_of_bars = len(coeffs_list)\n",
    "    else:\n",
    "        number_of_bars = len(infidelities_list)\n",
    "    fig, ax = plt.subplots(figsize=(16, 6))\n",
    "    x = np.arange(len(groups))  # Label locations\n",
    "    width = 0.9 / number_of_bars  # Width of the bars, adjusted for the number of datasets\n",
    "\n",
    "    colors = ['#1f77b4', '#ff7f0e', '#2ca02c', '#d62728', '#9467bd', '#8c564b', '#e377c2', '#7f7f7f', '#bcbd22', '#17becf']\n",
    "    # Create the bar plot\n",
    "\n",
    "    # Add labels, title, and custom x-axis tick labels\n",
    "    ax.set_xlabel('Modelterm')\n",
    "    ax.set_xticks(x)\n",
    "    ax.set_xticklabels([str(f).replace('I', '') for f in groups], rotation=0)\n",
    "\n",
    "    # Plotting bars for each folder's data dynamically\n",
    "    maxvalue = 0\n",
    "    for i in range(number_of_bars):\n",
    "        if coe:\n",
    "            ax.bar(x + (i-(number_of_bars-1)/2) * width, coeffs_list[i], width, label=labels[i], color=colors[i])\n",
    "            maxvalue = max([maxvalue, max(coeffs_list[i])])\n",
    "        else:\n",
    "            ax.bar(x + (i-(number_of_bars-1)/2) * width, infidelities_list[i], width, label=labels[i+int(transfer_matrix is None)], color=colors[i+int(transfer_matrix is None)])\n",
    "            maxvalue = max([maxvalue, max(infidelities_list[i])])\n",
    "    print(number_of_bars)\n",
    "    # Add legend\n",
    "    ax.legend()\n",
    "    if maxvalue != 0:\n",
    "        ax.set_ylim(-maxvalue*0, maxvalue * 1.4)\n",
    "\n",
    "    textstr = 'Noisemodel is Paulierrors of each two-qubits gate.\\nIt is symmetrical for all qubits. Chances are for all:\\n2 qubit gates ' + twoqubit_error_string# + '\\n1 qubit gates ' + singlequbit_error_string\n",
    "\n",
    "    # Customize the textbox position and appearance\n",
    "    props = dict(boxstyle='round', facecolor='lightblue', alpha=0)\n",
    "    #props = dict()\n",
    "\n",
    "    # Place the textbox in the top-left corner inside the plot (adjust x and y as needed)\n",
    "    ax.text(0.01, 0.99, textstr, transform=ax.transAxes, fontsize=10,\n",
    "            verticalalignment='top', horizontalalignment='left', bbox=props, family='monospace')\n",
    "\n",
    "    #Do the boxes and qubits indexes\n",
    "    def get_indexes(string):\n",
    "        indexes = []\n",
    "        for i, f in enumerate(string):\n",
    "            if f != \"I\":\n",
    "                indexes.append(len(string)- i-1)\n",
    "        ret = []\n",
    "        for i in reversed(indexes):\n",
    "            ret.append(i)\n",
    "        return ret\n",
    "\n",
    "    indexes = [get_indexes(str(i)) for i in groups]\n",
    "\n",
    "    from matplotlib.patches import Rectangle\n",
    "    boxes = []\n",
    "    texts = []\n",
    "    i = 0\n",
    "    for j in range(decipher_name(filtered_folders[0])[\"num_qubits\"]):\n",
    "        texts.append(indexes[i])\n",
    "        array = [i, i+1, i+2]\n",
    "        i+=3\n",
    "        boxes.append(array)\n",
    "\n",
    "    for j in range(decipher_name(filtered_folders[0])[\"num_qubits\"]-1):\n",
    "        texts.append(indexes[i])\n",
    "        array = []\n",
    "        for __ in range(9):\n",
    "            array.append(i)\n",
    "            i+=1\n",
    "        boxes.append(array)\n",
    "        #texts.append(\"[\" + str(j)+ \", \" + str(j+1) + \"]\")\n",
    "    for group, text in zip(boxes, texts):\n",
    "        rect_1 = Rectangle((min(group) - 0.5, -maxvalue*0), width=len(group), height=maxvalue*1.2, \n",
    "                        edgecolor='black', linewidth=1, facecolor='none')\n",
    "        ax.add_patch(rect_1)\n",
    "        ax.text(sum(group)/len(group), maxvalue*1.15, text, fontsize=10, ha='center')\n",
    "\n",
    "    #rect = Rectangle((-50, 0), width=10000, height=0, edgecolor='black', linewidth=1, facecolor='none')\n",
    "    #ax.add_patch(rect)\n",
    "\n",
    "    # Display the plot\n",
    "    plt.tight_layout()\n",
    "    #plt.show()\n",
    "    if coe:\n",
    "        ax.set_title('Real Coefficients vs Measured')\n",
    "        ax.set_ylabel('Coefficient')\n",
    "        for folder in filtered_folders:\n",
    "            plt.savefig(\"server_run_collection/\" + folder + \"/Coefficient\", bbox_inches='tight')\n",
    "    else:\n",
    "        ax.set_title('Real Infidelity vs Measured')\n",
    "        ax.set_ylabel('Infidelity')\n",
    "        for folder in filtered_folders:\n",
    "            plt.savefig(\"server_run_collection/\" + folder + \"/Infidelity\", bbox_inches='tight')"
   ]
  },
  {
   "cell_type": "code",
   "execution_count": 274,
   "metadata": {},
   "outputs": [
    {
     "name": "stdout",
     "output_type": "stream",
     "text": [
      "2\n"
     ]
    },
    {
     "data": {
      "image/png": "[encoded data removed]",
      "text/plain": [
       "<Figure size 1600x600 with 1 Axes>"
      ]
     },
     "metadata": {},
     "output_type": "display_data"
    }
   ],
   "source": [
    "plot_data(True)"
   ]
  },
  {
   "cell_type": "code",
   "execution_count": 275,
   "metadata": {},
   "outputs": [
    {
     "name": "stdout",
     "output_type": "stream",
     "text": [
      "2\n"
     ]
    },
    {
     "data": {
      "image/png": "[encoded data removed]",
      "text/plain": [
       "<Figure size 1600x600 with 1 Axes>"
      ]
     },
     "metadata": {},
     "output_type": "display_data"
    }
   ],
   "source": [
    "plot_data(False)"
   ]
  },
  {
   "cell_type": "code",
   "execution_count": 276,
   "metadata": {},
   "outputs": [
    {
     "data": {
      "text/plain": [
       "['IXYIIIYYIIIZYIIIXZIIIYZIIIZZII']"
      ]
     },
     "execution_count": 276,
     "metadata": {},
     "output_type": "execute_result"
    }
   ],
   "source": [
    "[\"IXYII\"\n",
    "\"IYYII\"\n",
    "\"IZYII\"\n",
    "\"IXZII\"\n",
    "\"IYZII\"\n",
    "\"IZZII\"]"
   ]
  },
  {
   "cell_type": "code",
   "execution_count": 277,
   "metadata": {},
   "outputs": [
    {
     "name": "stdout",
     "output_type": "stream",
     "text": [
      "[np.float64(0.011291822201111471)]\n",
      "[np.float64(0.0)]\n"
     ]
    }
   ],
   "source": [
    "coeffs_evaluation = []\n",
    "coeffs_evaluation_list = []\n",
    "coeffs_evaluation_err = []\n",
    "\n",
    "number_of_same_runs = 1\n",
    "counter = 0\n",
    "for j in range(len(coeffs_list)-1):\n",
    "    if counter==0:\n",
    "        coeffs_evaluation_list.append([])\n",
    "    total = 0\n",
    "    j+=1\n",
    "    for i in range(len(coeffs_list[0])):\n",
    "        total += np.abs(coeffs_list[0][i] - coeffs_list[j][i])\n",
    "    coeffs_evaluation_list[-1].append(total)\n",
    "    counter += 1\n",
    "    if counter == number_of_same_runs:\n",
    "        coeffs_evaluation.append(sum(coeffs_evaluation_list[-1])/number_of_same_runs)\n",
    "        coeffs_evaluation_err.append(np.std(coeffs_evaluation_list[-1]))\n",
    "        counter = 0\n",
    "print(coeffs_evaluation)\n",
    "print(coeffs_evaluation_err)"
   ]
  },
  {
   "cell_type": "code",
   "execution_count": 278,
   "metadata": {},
   "outputs": [
    {
     "name": "stdout",
     "output_type": "stream",
     "text": [
      "[np.float64(0.3529373672797206)]\n",
      "[np.float64(0.0)]\n"
     ]
    }
   ],
   "source": [
    "infidelities_evaluation = []\n",
    "infidelities_evaluation_list = []\n",
    "infidelities_evaluation_err = []\n",
    "\n",
    "counter = 0\n",
    "for j in range(len(infidelities_list)-1):\n",
    "    if counter==0:\n",
    "        infidelities_evaluation_list.append([])\n",
    "    total = 0\n",
    "    j+=1\n",
    "    for i in range(len(infidelities_list[0])):\n",
    "        total += np.abs(infidelities_list[0][i] - infidelities_list[j][i])\n",
    "    infidelities_evaluation_list[-1].append(total)\n",
    "    counter += 1\n",
    "    if counter == number_of_same_runs:\n",
    "        infidelities_evaluation.append(sum(infidelities_evaluation_list[-1])/number_of_same_runs)\n",
    "        infidelities_evaluation_err.append(np.std(infidelities_evaluation_list[-1]))\n",
    "        counter = 0\n",
    "print(infidelities_evaluation)\n",
    "print(infidelities_evaluation_err)"
   ]
  },
  {
   "cell_type": "code",
   "execution_count": 279,
   "metadata": {},
   "outputs": [
    {
     "data": {
      "image/png": "[encoded data removed]",
      "text/plain": [
       "<Figure size 800x500 with 2 Axes>"
      ]
     },
     "metadata": {},
     "output_type": "display_data"
    }
   ],
   "source": [
    "import matplotlib.pyplot as plt\n",
    "\n",
    "# X-Achse Werte für beide Datasets (Index jedes Punktes)\n",
    "x_values = range(1, len(coeffs_evaluation) + 1)\n",
    "\n",
    "# Plotten der Daten mit separaten Y-Achsen\n",
    "fig, ax1 = plt.subplots(figsize=(8, 5))\n",
    "\n",
    "# Plot für Dataset 1 auf der linken Y-Achse\n",
    "#line1 = ax1.plot(x_values, coeffs_evaluation, marker='o', color='b', label='Coeffs')\n",
    "text1 = \"Coeffs\"\n",
    "line1 = ax1.errorbar(x_values, coeffs_evaluation, coeffs_evaluation_err, marker='o', color='b', label=text1)\n",
    "ax1.set_xlabel(\"Data Point Index\")\n",
    "ax1.set_ylabel(\"Coeffs\", color='b')\n",
    "ax1.tick_params(axis='y', labelcolor='b')\n",
    "\n",
    "# Erstellen der zweiten Y-Achse für Dataset 2 auf der rechten Seite\n",
    "ax2 = ax1.twinx()\n",
    "text2 = \"Infidelities\"\n",
    "#line2 = ax2.plot(x_values, infidelities_evaluation, marker='o', color='r', label='Infidelities')\n",
    "line2 = ax2.errorbar(x_values, infidelities_evaluation, infidelities_evaluation_err, marker='o', color='r', label=text2)\n",
    "ax2.set_ylabel(\"Infidelities\", color='r')\n",
    "ax2.tick_params(axis='y', labelcolor='r')\n",
    "\n",
    "# Hinzufügen der Legende\n",
    "#lines = line1 + line2\n",
    "#labels = [text1, text2]\n",
    "#ax1.legend(lines, labels, loc='upper left')\n",
    "ax1.legend(loc='upper left')\n",
    "ax2.legend(loc='upper right')\n",
    "\n",
    "# Titel und Raster\n",
    "plt.title(\"Comparison of Two Datasets with Dual Y-Axes (Unscaled Data)\")\n",
    "fig.tight_layout()\n",
    "plt.grid(True)\n",
    "plt.show()\n"
   ]
  },
  {
   "cell_type": "code",
   "execution_count": 280,
   "metadata": {},
   "outputs": [
    {
     "name": "stdout",
     "output_type": "stream",
     "text": [
      "              \n",
      "q_0 -> 0 ─────\n",
      "              \n",
      "q_1 -> 1 ──■──\n",
      "         ┌─┴─┐\n",
      "q_2 -> 2 ┤ X ├\n",
      "         └───┘\n",
      "q_3 -> 3 ─────\n",
      "              \n",
      "q_4 -> 4 ─────\n",
      "              \n"
     ]
    }
   ],
   "source": [
    "print(circuit)"
   ]
  },
  {
   "cell_type": "code",
   "execution_count": 281,
   "metadata": {},
   "outputs": [
    {
     "name": "stdout",
     "output_type": "stream",
     "text": [
      "[np.float64(0.0), np.float64(0.0), np.float64(0.0), np.float64(0.09999999999999987), np.float64(0.0), np.float64(0.09999999999999987), np.float64(0.0), np.float64(0.0), np.float64(0.0), np.float64(0.0), np.float64(0.0), np.float64(0.0), np.float64(0.0), np.float64(0.0), np.float64(0.0), np.float64(0.09999999999999987), np.float64(0.0), np.float64(0.09999999999999987), np.float64(0.09999999999999987), np.float64(0.0), np.float64(0.09999999999999987), np.float64(0.09999999999999987), np.float64(0.0), np.float64(0.09999999999999987), np.float64(0.09999999999999987), np.float64(0.09999999999999987), np.float64(0.09999999999999987), np.float64(0.0), np.float64(0.0), np.float64(0.0), np.float64(0.09999999999999987), np.float64(0.09999999999999987), np.float64(0.09999999999999987), np.float64(0.0), np.float64(0.0), np.float64(0.0), np.float64(0.0), np.float64(0.0), np.float64(0.0), np.float64(0.0), np.float64(0.0), np.float64(0.0), np.float64(0.0), np.float64(0.0), np.float64(0.0), np.float64(0.0), np.float64(0.0), np.float64(0.0), np.float64(0.0), np.float64(0.0), np.float64(0.0)]\n",
      "[np.float64(1.0910049839107927e-06), np.float64(1.0910049839107927e-06), np.float64(1.0910049839107927e-06), np.float64(0.097933094499013), np.float64(2.5158183838080994e-05), np.float64(0.09980135695635683), np.float64(1.0910049839107927e-06), np.float64(0.0021974578162050618), np.float64(-0.006839029270255814), np.float64(1.0910049839107927e-06), np.float64(1.0910049839107927e-06), np.float64(1.0910049839107927e-06), np.float64(1.0910049839107927e-06), np.float64(1.0910049839107927e-06), np.float64(1.0910049839107927e-06), np.float64(0.10117903791177674), np.float64(1.0910049839107927e-06), np.float64(0.0997275760225067), np.float64(0.09922692853346182), np.float64(1.0910049839107927e-06), np.float64(0.09820126266928475), np.float64(0.09472652040556451), np.float64(1.0910049839107927e-06), np.float64(0.10066637225147856), np.float64(0.09943359374601568), np.float64(0.10286502150271626), np.float64(0.0942806515339023), np.float64(-2.297675311391245e-05), np.float64(0.0062659849793884614), np.float64(-0.006777080891697818), np.float64(0.0997275760225067), np.float64(0.0979360933337814), np.float64(0.10369085964832803), np.float64(1.0910049839107927e-06), np.float64(1.0910049839107927e-06), np.float64(1.0910049839107927e-06), np.float64(0.05216873914806919), np.float64(0.051293446510952134), np.float64(0.05008895993459894), np.float64(0.04851906538073736), np.float64(0.05008404033117342), np.float64(0.05122151536318753), np.float64(1.0910049839107927e-06), np.float64(1.0910049839107927e-06), np.float64(1.0910049839107927e-06), np.float64(1.0910049839107927e-06), np.float64(1.0910049839107927e-06), np.float64(1.0910049839107927e-06), np.float64(1.0910049839107927e-06), np.float64(1.0910049839107927e-06), np.float64(1.0910049839107927e-06)]\n"
     ]
    }
   ],
   "source": [
    "for list in infidelities_list:\n",
    "\tprint(list)"
   ]
  }
 ],
 "metadata": {
  "kernelspec": {
   "display_name": ".venv2",
   "language": "python",
   "name": "python3"
  },
  "language_info": {
   "codemirror_mode": {
    "name": "ipython",
    "version": 3
   },
   "file_extension": ".py",
   "mimetype": "text/x-python",
   "name": "python",
   "nbconvert_exporter": "python",
   "pygments_lexer": "ipython3",
   "version": "3.10.10"
  }
 },
 "nbformat": 4,
 "nbformat_minor": 2
}
