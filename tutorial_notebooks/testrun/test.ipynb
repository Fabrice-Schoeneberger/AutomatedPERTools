{
 "cells": [
  {
   "cell_type": "code",
   "execution_count": 36,
   "metadata": {},
   "outputs": [],
   "source": [
    "#Qiskit imports\n",
    "from qiskit import QuantumCircuit, transpile\n",
    "from qiskit.quantum_info import Pauli, pauli_basis, SuperOp, PTM, Operator\n",
    "from qiskit.providers.aer.noise import NoiseModel, pauli_error\n",
    "from qiskit.providers.fake_provider import FakeVigoV2\n",
    "from qiskit.providers.aer import Aer, AerSimulator\n",
    "from random import random\n",
    "\n",
    "#python imports\n",
    "from random import choice, choices\n",
    "from itertools import product, permutations, cycle\n",
    "from scipy.optimize import curve_fit, nnls\n",
    "from matplotlib import pyplot as plt\n",
    "import numpy as np\n",
    "\n",
    "plt.style.use(\"ggplot\")"
   ]
  },
  {
   "cell_type": "code",
   "execution_count": 38,
   "metadata": {},
   "outputs": [
    {
     "name": "stdout",
     "output_type": "stream",
     "text": [
      "{'00000': 975, '00011': 35, '00001': 4, '00010': 10}\n",
      "NoiseModel:\n",
      "  Basis gates: ['cx', 'cz', 'id', 'rz', 'sx']\n",
      "  Instructions with noise: ['cx', 'cz']\n",
      "  All-qubits errors: ['cx', 'cz']\n"
     ]
    }
   ],
   "source": [
    "from TrotterExample import get_noise_model, executor\n",
    "import qiskit.providers.fake_provider as fake_provider # FakeMelbourneV2, FakeCasablancaV2, FakeVigoV2, FakeLagosV2, FakeGuadalupeV2, FakeGuadalupe, FakeGeneva\n",
    "\n",
    "prog = QuantumCircuit(5)\n",
    "prog.cnot(0,1)\n",
    "prog.measure_all()\n",
    "backend = fake_provider.FakeVigoV2()\n",
    "#backend = Aer.get_backend('qasm_simulator')\n",
    "(noise_model, twoqubit_error_template, singlequbit_error_template) = get_noise_model()\n",
    "#noise_model = NoiseModel()\n",
    "counts = executor([prog], backend, 1024, noise_model=noise_model)\n",
    "print(counts)\n",
    "print(noise_model)"
   ]
  }
 ],
 "metadata": {
  "kernelspec": {
   "display_name": ".venv",
   "language": "python",
   "name": "python3"
  },
  "language_info": {
   "codemirror_mode": {
    "name": "ipython",
    "version": 3
   },
   "file_extension": ".py",
   "mimetype": "text/x-python",
   "name": "python",
   "nbconvert_exporter": "python",
   "pygments_lexer": "ipython3",
   "version": "3.10.10"
  }
 },
 "nbformat": 4,
 "nbformat_minor": 2
}
