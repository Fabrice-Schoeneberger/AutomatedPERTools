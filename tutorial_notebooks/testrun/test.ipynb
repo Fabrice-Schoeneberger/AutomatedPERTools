{
 "cells": [
  {
   "cell_type": "code",
   "execution_count": 36,
   "metadata": {},
   "outputs": [],
   "source": [
    "#Qiskit imports\n",
    "from qiskit import QuantumCircuit, transpile\n",
    "from qiskit.providers.fake_provider import GenericBackendV2\n",
    "from qiskit_aer import AerSimulator\n",
    "from qiskit.quantum_info import Pauli, pauli_basis, SuperOp, PTM, Operator\n",
    "#from qiskit.providers.aer.noise import NoiseModel, pauli_error\n",
    "#from qiskit.providers.fake_provider import FakeVigoV2\n",
    "#from qiskit.providers.aer import Aer, AerSimulator\n",
    "from random import random\n",
    "\n",
    "#python imports\n",
    "from random import choice, choices\n",
    "from itertools import product, permutations, cycle\n",
    "from scipy.optimize import curve_fit, nnls\n",
    "from matplotlib import pyplot as plt\n",
    "import numpy as np\n",
    "\n",
    "plt.style.use(\"ggplot\")"
   ]
  },
  {
   "cell_type": "code",
   "execution_count": 37,
   "metadata": {},
   "outputs": [],
   "source": [
    "def get_noise_model():\n",
    "    from random import random, choices\n",
    "    from qiskit_aer.noise import (NoiseModel, QuantumError, ReadoutError, pauli_error, depolarizing_error, thermal_relaxation_error)\n",
    "    from qiskit.quantum_info import Pauli, pauli_basis\n",
    "    #from qiskit.providers.aer.noise import NoiseModel, pauli_error\n",
    "    twoqubit_errorops = [Pauli('IX')]\n",
    "    twoqubit_errorprobs = [0.25]\n",
    "    #create normalized error model\n",
    "    twoqubit_error_template = [(op, p) for op,p in zip(twoqubit_errorops, twoqubit_errorprobs)]+[(Pauli(\"II\"), 1-sum(twoqubit_errorprobs))]\n",
    "    twoqubit_error = pauli_error(twoqubit_error_template)\n",
    "    noise_model = NoiseModel()\n",
    "    #add error model to two-qubit gates.\n",
    "    noise_model.add_all_qubit_quantum_error(twoqubit_error, ['cx','cz'])\n",
    "    return (noise_model, twoqubit_error_template, [])"
   ]
  },
  {
   "cell_type": "code",
   "execution_count": 38,
   "metadata": {},
   "outputs": [
    {
     "name": "stdout",
     "output_type": "stream",
     "text": [
      "{'11': 247, '01': 256, '00': 241, '10': 280}\n",
      "NoiseModel:\n",
      "  Basis gates: ['cx', 'cz', 'id', 'rz', 'sx']\n",
      "  Instructions with noise: ['cz', 'cx']\n",
      "  All-qubits errors: ['cx', 'cz']\n"
     ]
    }
   ],
   "source": [
    "def add_CNOT(prog, num):\n",
    "    for _ in range(num):\n",
    "        prog.cx(0,1)\n",
    "    return prog\n",
    "\n",
    "prog = QuantumCircuit(2)\n",
    "prog = add_CNOT(prog, 16)\n",
    "\n",
    "prog.measure_all()\n",
    "backend = GenericBackendV2(num_qubits=5, coupling_map=[(3, 4), (4, 3), (3, 1), (1, 3), (1, 2), (2, 1), (0, 1), (1, 0)])\n",
    "backend = AerSimulator()\n",
    "(noise_model, twoqubit_error_template, singlequbit_error_template) = get_noise_model()\n",
    "#noise_model = NoiseModel()\n",
    "counts = backend.run([prog], shots=1024, noise_model = noise_model).result().get_counts()\n",
    "print(counts)\n",
    "print(noise_model)"
   ]
  },
  {
   "cell_type": "code",
   "execution_count": 1,
   "metadata": {},
   "outputs": [
    {
     "ename": "NameError",
     "evalue": "name 'IXZ' is not defined",
     "output_type": "error",
     "traceback": [
      "\u001b[0;31m---------------------------------------------------------------------------\u001b[0m",
      "\u001b[0;31mNameError\u001b[0m                                 Traceback (most recent call last)",
      "Cell \u001b[0;32mIn[1], line 1\u001b[0m\n\u001b[0;32m----> 1\u001b[0m [\u001b[43mIXZ\u001b[49m, IYI, XII, IYY, ZII, YII, IZZ, IYX, ZYI, IZI, YZI, ZXI, IYZ, ZZI, IIY, IZX, IXX, YXI, IIZ, IZY, IXY, YYI, XXI, XYI, IXI, IIX, XZI]\n",
      "\u001b[0;31mNameError\u001b[0m: name 'IXZ' is not defined"
     ]
    }
   ],
   "source": [
    "len([\"IXZ\", \"IYI\", \"XII\", \"IYY\", \"ZII\", \"YII\", \"IZZ\", \"IYX\", \"ZYI\", \"IZI\", \"YZI\", \"ZXI\", \"IYZ\", \"ZZI\", \"IIY\", \"IZX\", \"IXX\", \"YXI\", \"IIZ\", \"IZY\", \"IXY\", \"YYI\", \"XXI\", \"XYI\", \"IXI\", \"IIX\", \"XZI\"])\n",
    "[\"ZI\", \"XZ\", \"YY\", \"ZX\", \"XX\", \"IY\", \"YI\", \"IX\", \"YX\", \"XY\", \"YZ\", \"IZ\", \"XI\", \"ZY\", \"ZZ\"]"
   ]
  }
 ],
 "metadata": {
  "kernelspec": {
   "display_name": ".venv",
   "language": "python",
   "name": "python3"
  },
  "language_info": {
   "codemirror_mode": {
    "name": "ipython",
    "version": 3
   },
   "file_extension": ".py",
   "mimetype": "text/x-python",
   "name": "python",
   "nbconvert_exporter": "python",
   "pygments_lexer": "ipython3",
   "version": "3.10.10"
  }
 },
 "nbformat": 4,
 "nbformat_minor": 2
}
