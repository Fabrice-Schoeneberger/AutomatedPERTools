{
 "cells": [
  {
   "cell_type": "code",
   "execution_count": 27,
   "metadata": {},
   "outputs": [],
   "source": [
    "#Qiskit imports\n",
    "from qiskit import QuantumCircuit, transpile\n",
    "from qiskit.quantum_info import Pauli, pauli_basis, SuperOp, PTM, Operator\n",
    "from qiskit.providers.aer.noise import NoiseModel, pauli_error\n",
    "from qiskit.providers.fake_provider import FakeVigoV2\n",
    "from qiskit.providers.aer import Aer, AerSimulator\n",
    "from random import random\n",
    "\n",
    "#python imports\n",
    "from random import choice, choices\n",
    "from itertools import product, permutations, cycle\n",
    "from scipy.optimize import curve_fit, nnls\n",
    "from matplotlib import pyplot as plt\n",
    "import numpy as np\n",
    "\n",
    "plt.style.use(\"ggplot\")"
   ]
  },
  {
   "cell_type": "code",
   "execution_count": 28,
   "metadata": {},
   "outputs": [],
   "source": [
    "def get_noise_model():\n",
    "    from random import random, choices\n",
    "    from qiskit.providers.aer.noise import NoiseModel, pauli_error\n",
    "    from qiskit.quantum_info import Pauli, pauli_basis\n",
    "    twoqubit_errorops = [Pauli('IX')]\n",
    "    twoqubit_errorprobs = [0.05]\n",
    "    #create normalized error model\n",
    "    twoqubit_error_template = [(op, p) for op,p in zip(twoqubit_errorops, twoqubit_errorprobs)]+[(Pauli(\"II\"), 1-sum(twoqubit_errorprobs))]\n",
    "    twoqubit_error = pauli_error(twoqubit_error_template)\n",
    "    noise_model = NoiseModel()\n",
    "    #add error model to two-qubit gates.\n",
    "    noise_model.add_all_qubit_quantum_error(twoqubit_error, ['cx','cz'])\n",
    "    return (noise_model, twoqubit_error_template, [])"
   ]
  },
  {
   "cell_type": "code",
   "execution_count": 33,
   "metadata": {},
   "outputs": [
    {
     "name": "stdout",
     "output_type": "stream",
     "text": [
      "{'11': 220, '00': 533, '10': 65, '01': 206}\n",
      "NoiseModel:\n",
      "  Basis gates: ['cx', 'cz', 'id', 'rz', 'sx']\n",
      "  Instructions with noise: ['cz', 'cx']\n",
      "  All-qubits errors: ['cx', 'cz']\n"
     ]
    }
   ],
   "source": [
    "from TrotterExample import executor\n",
    "import qiskit.providers.fake_provider as fake_provider # FakeMelbourneV2, FakeCasablancaV2, FakeVigoV2, FakeLagosV2, FakeGuadalupeV2, FakeGuadalupe, FakeGeneva\n",
    "\n",
    "def add_CNOT(prog, num):\n",
    "    for _ in range(num):\n",
    "        prog.cnot(0,1)\n",
    "    return prog\n",
    "\n",
    "prog = QuantumCircuit(2)\n",
    "prog = add_CNOT(prog, 16)\n",
    "\n",
    "prog.measure_all()\n",
    "backend = Aer.get_backend('qasm_simulator')\n",
    "(noise_model, twoqubit_error_template, singlequbit_error_template) = get_noise_model()\n",
    "#noise_model = NoiseModel()\n",
    "counts = executor([prog], backend, 1024, noise_model=noise_model)\n",
    "print(counts)\n",
    "print(noise_model)"
   ]
  }
 ],
 "metadata": {
  "kernelspec": {
   "display_name": ".venv",
   "language": "python",
   "name": "python3"
  },
  "language_info": {
   "codemirror_mode": {
    "name": "ipython",
    "version": 3
   },
   "file_extension": ".py",
   "mimetype": "text/x-python",
   "name": "python",
   "nbconvert_exporter": "python",
   "pygments_lexer": "ipython3",
   "version": "3.11.9"
  }
 },
 "nbformat": 4,
 "nbformat_minor": 2
}
