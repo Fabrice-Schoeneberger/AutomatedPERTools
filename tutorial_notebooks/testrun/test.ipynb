{
 "cells": [
  {
   "cell_type": "code",
   "execution_count": 10,
   "metadata": {},
   "outputs": [
    {
     "name": "stdout",
     "output_type": "stream",
     "text": [
      "        ┌───┐ ░ ┌─┐   \n",
      "   q_0: ┤ H ├─░─┤M├───\n",
      "        └───┘ ░ └╥┘┌─┐\n",
      "   q_1: ──────░──╫─┤M├\n",
      "              ░  ║ └╥┘\n",
      "meas: 2/═════════╩══╩═\n",
      "                 0  1 \n",
      "ibm_brisbane\n"
     ]
    },
    {
     "ename": "KeyError",
     "evalue": "'simulator'",
     "output_type": "error",
     "traceback": [
      "\u001b[1;31m---------------------------------------------------------------------------\u001b[0m",
      "\u001b[1;31mKeyError\u001b[0m                                  Traceback (most recent call last)",
      "Cell \u001b[1;32mIn[10], line 32\u001b[0m\n\u001b[0;32m     29\u001b[0m     \u001b[38;5;28;01melse\u001b[39;00m:\n\u001b[0;32m     30\u001b[0m         \u001b[38;5;28;01mraise\u001b[39;00m \u001b[38;5;167;01mAttributeError\u001b[39;00m(\u001b[38;5;124m\"\u001b[39m\u001b[38;5;124mBackend type is not recognized\u001b[39m\u001b[38;5;124m\"\u001b[39m)\n\u001b[1;32m---> 32\u001b[0m \u001b[38;5;28;01mif\u001b[39;00m \u001b[43mis_simulator\u001b[49m\u001b[43m(\u001b[49m\u001b[43mbackend\u001b[49m\u001b[43m)\u001b[49m:\n\u001b[0;32m     33\u001b[0m     \u001b[38;5;28mprint\u001b[39m(\u001b[38;5;124m\"\u001b[39m\u001b[38;5;124mThis is a simulated backend.\u001b[39m\u001b[38;5;124m\"\u001b[39m)\n\u001b[0;32m     34\u001b[0m \u001b[38;5;28;01melse\u001b[39;00m:\n",
      "Cell \u001b[1;32mIn[10], line 28\u001b[0m, in \u001b[0;36mis_simulator\u001b[1;34m(backend)\u001b[0m\n\u001b[0;32m     26\u001b[0m \u001b[38;5;66;03m# For BackendV2:\u001b[39;00m\n\u001b[0;32m     27\u001b[0m \u001b[38;5;28;01melif\u001b[39;00m \u001b[38;5;28mhasattr\u001b[39m(backend, \u001b[38;5;124m'\u001b[39m\u001b[38;5;124moptions\u001b[39m\u001b[38;5;124m'\u001b[39m):\n\u001b[1;32m---> 28\u001b[0m     \u001b[38;5;28;01mreturn\u001b[39;00m \u001b[43mbackend\u001b[49m\u001b[38;5;241;43m.\u001b[39;49m\u001b[43moptions\u001b[49m\u001b[43m[\u001b[49m\u001b[38;5;124;43m'\u001b[39;49m\u001b[38;5;124;43msimulator\u001b[39;49m\u001b[38;5;124;43m'\u001b[39;49m\u001b[43m]\u001b[49m\n\u001b[0;32m     29\u001b[0m \u001b[38;5;28;01melse\u001b[39;00m:\n\u001b[0;32m     30\u001b[0m     \u001b[38;5;28;01mraise\u001b[39;00m \u001b[38;5;167;01mAttributeError\u001b[39;00m(\u001b[38;5;124m\"\u001b[39m\u001b[38;5;124mBackend type is not recognized\u001b[39m\u001b[38;5;124m\"\u001b[39m)\n",
      "File \u001b[1;32me:\\OneDrive\\Dokumente\\Uni_kram\\Masterarbeit\\AutomatedPERTools\\.venv2\\lib\\site-packages\\qiskit\\providers\\options.py:106\u001b[0m, in \u001b[0;36mOptions.__getitem__\u001b[1;34m(self, key)\u001b[0m\n\u001b[0;32m    105\u001b[0m \u001b[38;5;28;01mdef\u001b[39;00m \u001b[38;5;21m__getitem__\u001b[39m(\u001b[38;5;28mself\u001b[39m, key):\n\u001b[1;32m--> 106\u001b[0m     \u001b[38;5;28;01mreturn\u001b[39;00m \u001b[38;5;28;43mself\u001b[39;49m\u001b[38;5;241;43m.\u001b[39;49m\u001b[43m_fields\u001b[49m\u001b[43m[\u001b[49m\u001b[43mkey\u001b[49m\u001b[43m]\u001b[49m\n",
      "\u001b[1;31mKeyError\u001b[0m: 'simulator'"
     ]
    }
   ],
   "source": [
    "from qiskit_ibm_runtime import QiskitRuntimeService\n",
    "service = QiskitRuntimeService()#.save_account(channel=\"ibm_quantum\", token=\"...\")\n",
    "\n",
    "from qiskit import QuantumCircuit\n",
    "\n",
    "qc = QuantumCircuit(2)\n",
    "qc.h(0)\n",
    "qc.measure_all()\n",
    "print(qc.draw())\n",
    "\n",
    "backend = service.least_busy(operational=True, simulator=False, min_num_qubits=1)\n",
    "print(backend.name)\n",
    "\n",
    "from qiskit import transpile\n",
    "qc_transpiled = transpile(qc, backend, optimization_level=2)\n",
    "\n",
    "from qiskit.providers.fake_provider import GenericBackendV2\n",
    "num = 5\n",
    "coupling_map = [[i,i+1] for i in range(num-1)]+[[i+1,i] for i in range(num-1)]\n",
    "backend = GenericBackendV2(num_qubits=num, coupling_map=coupling_map)\n",
    "\n",
    "def is_simulator(backend):\n",
    "    # For BackendV1:\n",
    "    if hasattr(backend, 'configuration'):\n",
    "        return backend.configuration().simulator\n",
    "    # For BackendV2:\n",
    "    elif hasattr(backend, 'options'):\n",
    "        return backend.options['simulator']\n",
    "    else:\n",
    "        raise AttributeError(\"Backend type is not recognized\")\n",
    "\n",
    "if is_simulator(backend):\n",
    "    print(\"This is a simulated backend.\")\n",
    "else:\n",
    "    print(\"This is a real quantum hardware backend.\")\n"
   ]
  },
  {
   "cell_type": "code",
   "execution_count": 24,
   "metadata": {},
   "outputs": [
    {
     "name": "stdout",
     "output_type": "stream",
     "text": [
      "generic_backend_5q\n",
      "['__abstractmethods__', '__class__', '__delattr__', '__dict__', '__dir__', '__doc__', '__eq__', '__format__', '__ge__', '__getattribute__', '__gt__', '__hash__', '__init__', '__init_subclass__', '__le__', '__lt__', '__module__', '__ne__', '__new__', '__reduce__', '__reduce_ex__', '__repr__', '__setattr__', '__sizeof__', '__slots__', '__str__', '__subclasshook__', '__weakref__', '_abc_impl', '_add_noisy_instruction_to_target', '_basis_gates', '_build_default_channels', '_build_generic_target', '_calibrate_instructions', '_control_flow', '_coupling_map', '_default_options', '_dtm', '_generate_calibration_defaults', '_get_calibration_sequence', '_get_noise_defaults', '_noise_info', '_num_qubits', '_options', '_provider', '_rng', '_setup_sim', '_sim', '_supported_gates', '_target', 'acquire_channel', 'backend_version', 'channels_map', 'control_channel', 'coupling_map', 'description', 'drive_channel', 'dt', 'dtm', 'instruction_durations', 'instruction_schedule_map', 'instructions', 'max_circuits', 'meas_map', 'measure_channel', 'name', 'num_qubits', 'online_date', 'operation_names', 'operations', 'options', 'provider', 'qubit_properties', 'run', 'set_options', 'target', 'version']\n",
      "<class 'qiskit.providers.fake_provider.generic_backend_v2.GenericBackendV2'>\n",
      "<class 'qiskit.providers.fake_provider.generic_backend_v2.GenericBackendV2'>\n"
     ]
    }
   ],
   "source": [
    "print(backend.name)\n",
    "print(dir(backend))\n",
    "print(backend.__class__)\n",
    "print(GenericBackendV2)"
   ]
  },
  {
   "cell_type": "code",
   "execution_count": 22,
   "metadata": {},
   "outputs": [
    {
     "data": {
      "text/plain": [
       "{'01': 512, '00': 499, '11': 7, '10': 6}"
      ]
     },
     "execution_count": 22,
     "metadata": {},
     "output_type": "execute_result"
    }
   ],
   "source": [
    "qc_job.result()[0].data.meas.get_counts()"
   ]
  },
  {
   "cell_type": "code",
   "execution_count": null,
   "metadata": {},
   "outputs": [
    {
     "data": {
      "image/png": "[encoded data removed]",
      "text/plain": [
       "<Figure size 640x480 with 1 Axes>"
      ]
     },
     "execution_count": 5,
     "metadata": {},
     "output_type": "execute_result"
    }
   ],
   "source": [
    "\n",
    "from qiskit_ibm_runtime import SamplerV2 as Sampler\n",
    "sampler = Sampler(mode=backend)\n",
    "#qc_job = sampler.run([qc_transpiled], shots=1024)\n",
    "\n",
    "from qiskit.visualization import plot_histogram\n",
    "plot_histogram(qc_job.result()[0].data.meas.get_counts())\n"
   ]
  }
 ],
 "metadata": {
  "kernelspec": {
   "display_name": ".venv2",
   "language": "python",
   "name": "python3"
  },
  "language_info": {
   "codemirror_mode": {
    "name": "ipython",
    "version": 3
   },
   "file_extension": ".py",
   "mimetype": "text/x-python",
   "name": "python",
   "nbconvert_exporter": "python",
   "pygments_lexer": "ipython3",
   "version": "3.10.10"
  }
 },
 "nbformat": 4,
 "nbformat_minor": 2
}
