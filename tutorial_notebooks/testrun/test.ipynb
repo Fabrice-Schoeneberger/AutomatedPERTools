{
 "cells": [
  {
   "cell_type": "code",
   "execution_count": 13,
   "metadata": {},
   "outputs": [],
   "source": [
    "#Qiskit imports\n",
    "from qiskit import QuantumCircuit, transpile\n",
    "from qiskit.quantum_info import Pauli, pauli_basis, SuperOp, PTM, Operator\n",
    "from qiskit.providers.aer.noise import NoiseModel, pauli_error\n",
    "from qiskit.providers.fake_provider import FakeVigoV2\n",
    "from qiskit.providers.aer import Aer, AerSimulator\n",
    "from random import random\n",
    "\n",
    "#python imports\n",
    "from random import choice, choices\n",
    "from itertools import product, permutations, cycle\n",
    "from scipy.optimize import curve_fit, nnls\n",
    "from matplotlib import pyplot as plt\n",
    "import numpy as np\n",
    "\n",
    "plt.style.use(\"ggplot\")"
   ]
  },
  {
   "cell_type": "code",
   "execution_count": 14,
   "metadata": {},
   "outputs": [],
   "source": [
    "def get_noise_model():\n",
    "    from random import random, choices\n",
    "    from qiskit.providers.aer.noise import NoiseModel, pauli_error\n",
    "    from qiskit.quantum_info import Pauli, pauli_basis\n",
    "    twoqubit_errorops = [Pauli('II')]\n",
    "    twoqubit_errorprobs = [0.25]\n",
    "    #create normalized error model\n",
    "    twoqubit_error_template = [(op, p) for op,p in zip(twoqubit_errorops, twoqubit_errorprobs)]+[(Pauli(\"II\"), 1-sum(twoqubit_errorprobs))]\n",
    "    twoqubit_error = pauli_error(twoqubit_error_template)\n",
    "    noise_model = NoiseModel()\n",
    "    #add error model to two-qubit gates.\n",
    "    #noise_model.add_all_qubit_quantum_error(singlequbit_error, ['id','rz','sx'])\n",
    "    noise_model.add_all_qubit_quantum_error(twoqubit_error, ['cx','cz'])\n",
    "    return (noise_model, twoqubit_error_template, [])"
   ]
  },
  {
   "cell_type": "code",
   "execution_count": 31,
   "metadata": {},
   "outputs": [
    {
     "name": "stdout",
     "output_type": "stream",
     "text": [
      "{'11': 531, '00': 493}\n",
      "NoiseModel: Ideal\n"
     ]
    }
   ],
   "source": [
    "from TrotterExample import executor\n",
    "import qiskit.providers.fake_provider as fake_provider # FakeMelbourneV2, FakeCasablancaV2, FakeVigoV2, FakeLagosV2, FakeGuadalupeV2, FakeGuadalupe, FakeGeneva\n",
    "\n",
    "prog = QuantumCircuit(2)\n",
    "prog.z(1)\n",
    "prog.cnot(0,1)\n",
    "prog.h(0)\n",
    "prog.cnot(0,1)\n",
    "\n",
    "prog.measure_all()\n",
    "backend = fake_provider.FakeVigoV2()\n",
    "#backend = Aer.get_backend('qasm_simulator')\n",
    "(noise_model, twoqubit_error_template, singlequbit_error_template) = get_noise_model()\n",
    "#noise_model = NoiseModel()\n",
    "counts = executor([prog], backend, 1024, noise_model=noise_model)\n",
    "print(counts)\n",
    "print(noise_model)"
   ]
  }
 ],
 "metadata": {
  "kernelspec": {
   "display_name": ".venv",
   "language": "python",
   "name": "python3"
  },
  "language_info": {
   "codemirror_mode": {
    "name": "ipython",
    "version": 3
   },
   "file_extension": ".py",
   "mimetype": "text/x-python",
   "name": "python",
   "nbconvert_exporter": "python",
   "pygments_lexer": "ipython3",
   "version": "3.10.10"
  }
 },
 "nbformat": 4,
 "nbformat_minor": 2
}
