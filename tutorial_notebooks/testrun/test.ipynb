{
 "cells": [
  {
   "cell_type": "code",
   "execution_count": 41,
   "metadata": {},
   "outputs": [],
   "source": [
    "#Qiskit imports\n",
    "from qiskit import QuantumCircuit, transpile\n",
    "from qiskit.providers.fake_provider import GenericBackendV2\n",
    "from qiskit_aer import AerSimulator\n",
    "from qiskit.quantum_info import Pauli, pauli_basis, SuperOp, PTM, Operator\n",
    "#from qiskit.providers.aer.noise import NoiseModel, pauli_error\n",
    "#from qiskit.providers.fake_provider import FakeVigoV2\n",
    "#from qiskit.providers.aer import Aer, AerSimulator\n",
    "from random import random\n",
    "\n",
    "#python imports\n",
    "from random import choice, choices\n",
    "from itertools import product, permutations, cycle\n",
    "from scipy.optimize import curve_fit, nnls\n",
    "from matplotlib import pyplot as plt\n",
    "import numpy as np\n",
    "\n",
    "plt.style.use(\"ggplot\")"
   ]
  },
  {
   "cell_type": "code",
   "execution_count": 42,
   "metadata": {},
   "outputs": [],
   "source": [
    "def get_noise_model():\n",
    "    from random import random, choices\n",
    "    from qiskit_aer.noise import (NoiseModel, QuantumError, ReadoutError, pauli_error, depolarizing_error, thermal_relaxation_error)\n",
    "    from qiskit.quantum_info import Pauli, pauli_basis\n",
    "    #from qiskit.providers.aer.noise import NoiseModel, pauli_error\n",
    "    twoqubit_errorops = [Pauli('XI')]\n",
    "    twoqubit_errorprobs = [0.05]\n",
    "    #create normalized error model\n",
    "    twoqubit_error_template = [(op, p) for op,p in zip(twoqubit_errorops, twoqubit_errorprobs)]+[(Pauli(\"II\"), 1-sum(twoqubit_errorprobs))]\n",
    "    twoqubit_error = pauli_error(twoqubit_error_template)\n",
    "    noise_model = NoiseModel()\n",
    "    #add error model to two-qubit gates.\n",
    "    noise_model.add_all_qubit_quantum_error(twoqubit_error, ['cx','cz'])\n",
    "    return (noise_model, twoqubit_error_template, [])"
   ]
  },
  {
   "cell_type": "code",
   "execution_count": 43,
   "metadata": {},
   "outputs": [
    {
     "name": "stdout",
     "output_type": "stream",
     "text": [
      "{'11': 923, '01': 101}\n",
      "        ┌───┐┌───┐     ┌───┐     ┌───┐ ┌───┐            ░ ┌─┐   \n",
      "   q_0: ┤ H ├┤ Y ├──■──┤ Y ├──■──┤ H ├─┤ X ├────────────░─┤M├───\n",
      "        ├───┤├───┤┌─┴─┐└───┘┌─┴─┐├───┤┌┴───┴┐┌───┐┌───┐ ░ └╥┘┌─┐\n",
      "   q_1: ┤ H ├┤ S ├┤ X ├─────┤ X ├┤ X ├┤ Sdg ├┤ H ├┤ X ├─░──╫─┤M├\n",
      "        └───┘└───┘└───┘     └───┘└───┘└─────┘└───┘└───┘ ░  ║ └╥┘\n",
      "meas: 2/═══════════════════════════════════════════════════╩══╩═\n",
      "                                                           0  1 \n"
     ]
    }
   ],
   "source": [
    "def add_CNOT(prog, num):\n",
    "    for _ in range(num):\n",
    "        prog.cx(0,1)\n",
    "    return prog\n",
    "\n",
    "['H 0', 'H 1', 'S 1', 'Z 0', 'CNOT 0 1', 'Z 0', 'S_DAGGER 0', 'H 0', 'X 0', 'MEASURE 0 ro[0]', 'MEASURE 1 ro[1]']\n",
    "{(0, 1): 470, (1, 0): 507, (0, 0): 24, (1, 1): 23}\n",
    "['H 0', 'H 1', 'S 1', 'Y 0', 'CNOT 0 1', 'Y 0', 'CNOT 0 1', 'X 1', 'S_DAGGER 1', 'H 1', 'H 0', 'X 0', 'X 1', 'MEASURE 0 ro[0]', 'MEASURE 1 ro[1]']\n",
    "{'11': 925, '01': 99}\n",
    "\n",
    "prog = QuantumCircuit(2)\n",
    "prog.h(0)\n",
    "prog.h(1)\n",
    "prog.s(1)\n",
    "prog.y(0)\n",
    "prog.cx(0,1)\n",
    "prog.y(0)\n",
    "prog.cx(0,1)\n",
    "prog.x(1)\n",
    "\n",
    "prog2 = QuantumCircuit(2)\n",
    "prog2.s(1)\n",
    "prog2 = prog2.inverse()\n",
    "prog = prog.compose(prog2)\n",
    "prog.h(1)\n",
    "prog.h(0)\n",
    "prog.x(0)\n",
    "prog.x(1)\n",
    "prog.measure_all\n",
    "\n",
    "prog.measure_all()\n",
    "backend = GenericBackendV2(num_qubits=5, coupling_map=[(3, 4), (4, 3), (3, 1), (1, 3), (1, 2), (2, 1), (0, 1), (1, 0)])\n",
    "backend = AerSimulator()\n",
    "(noise_model, twoqubit_error_template, singlequbit_error_template) = get_noise_model()\n",
    "#noise_model = NoiseModel()\n",
    "counts = backend.run([prog], shots=1024, noise_model = noise_model).result().get_counts()\n",
    "print(counts)\n",
    "print(prog)"
   ]
  },
  {
   "cell_type": "code",
   "execution_count": 44,
   "metadata": {},
   "outputs": [
    {
     "data": {
      "text/plain": [
       "['ZI',\n",
       " 'XZ',\n",
       " 'YY',\n",
       " 'ZX',\n",
       " 'XX',\n",
       " 'IY',\n",
       " 'YI',\n",
       " 'IX',\n",
       " 'YX',\n",
       " 'XY',\n",
       " 'YZ',\n",
       " 'IZ',\n",
       " 'XI',\n",
       " 'ZY',\n",
       " 'ZZ']"
      ]
     },
     "execution_count": 44,
     "metadata": {},
     "output_type": "execute_result"
    },
    {
     "ename": "",
     "evalue": "",
     "output_type": "error",
     "traceback": [
      "\u001b[1;31mThe Kernel crashed while executing code in the current cell or a previous cell. \n",
      "\u001b[1;31mPlease review the code in the cell(s) to identify a possible cause of the failure. \n",
      "\u001b[1;31mClick <a href='https://aka.ms/vscodeJupyterKernelCrash'>here</a> for more info. \n",
      "\u001b[1;31mView Jupyter <a href='command:jupyter.viewOutput'>log</a> for further details."
     ]
    }
   ],
   "source": [
    "len([\"IXZ\", \"IYI\", \"XII\", \"IYY\", \"ZII\", \"YII\", \"IZZ\", \"IYX\", \"ZYI\", \"IZI\", \"YZI\", \"ZXI\", \"IYZ\", \"ZZI\", \"IIY\", \"IZX\", \"IXX\", \"YXI\", \"IIZ\", \"IZY\", \"IXY\", \"YYI\", \"XXI\", \"XYI\", \"IXI\", \"IIX\", \"XZI\"])\n",
    "[\"ZI\", \"XZ\", \"YY\", \"ZX\", \"XX\", \"IY\", \"YI\", \"IX\", \"YX\", \"XY\", \"YZ\", \"IZ\", \"XI\", \"ZY\", \"ZZ\"]"
   ]
  },
  {
   "cell_type": "code",
   "execution_count": 1,
   "metadata": {},
   "outputs": [
    {
     "name": "stdout",
     "output_type": "stream",
     "text": [
      "[[5, 6, 7], [6, 7, 8], [7, 8, 9], [8, 9, 10], [9, 10, 11]]\n"
     ]
    }
   ],
   "source": [
    "a = [1,2,3]\n",
    "b = [4,5,6,7,8]\n",
    "ab = [[i+j for i in a] for j in b]\n",
    "print(ab)"
   ]
  }
 ],
 "metadata": {
  "kernelspec": {
   "display_name": ".venv2",
   "language": "python",
   "name": "python3"
  },
  "language_info": {
   "codemirror_mode": {
    "name": "ipython",
    "version": 3
   },
   "file_extension": ".py",
   "mimetype": "text/x-python",
   "name": "python",
   "nbconvert_exporter": "python",
   "pygments_lexer": "ipython3",
   "version": "3.10.10"
  }
 },
 "nbformat": 4,
 "nbformat_minor": 2
}
